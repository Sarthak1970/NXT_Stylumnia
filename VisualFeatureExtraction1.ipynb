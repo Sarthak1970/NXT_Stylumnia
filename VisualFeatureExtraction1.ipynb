{
  "nbformat": 4,
  "nbformat_minor": 0,
  "metadata": {
    "colab": {
      "provenance": [],
      "gpuType": "V28"
    },
    "kernelspec": {
      "name": "python3",
      "display_name": "Python 3"
    },
    "language_info": {
      "name": "python"
    },
    "accelerator": "TPU"
  },
  "cells": [
    {
      "cell_type": "code",
      "execution_count": 2,
      "metadata": {
        "id": "gUeLHjuPslIk",
        "colab": {
          "base_uri": "https://localhost:8080/"
        },
        "outputId": "927ecb81-128a-48fa-804b-00ce5b4ff6cd"
      },
      "outputs": [
        {
          "output_type": "stream",
          "name": "stdout",
          "text": [
            "Mounted at /content/drive\n"
          ]
        }
      ],
      "source": [
        "from google.colab import drive\n",
        "drive.mount('/content/drive')"
      ]
    },
    {
      "cell_type": "code",
      "source": [
        "import pandas as pd\n",
        "df=pd.read_csv('/content/drive/MyDrive/feature_extracted_data.csv')"
      ],
      "metadata": {
        "id": "R8opba7OBtcI"
      },
      "execution_count": 3,
      "outputs": []
    },
    {
      "cell_type": "code",
      "source": [
        "df.head()"
      ],
      "metadata": {
        "colab": {
          "base_uri": "https://localhost:8080/",
          "height": 608
        },
        "id": "UpQsHpUdBvAy",
        "outputId": "6fb650d7-23c1-436f-a24f-e9fb21bb05ed"
      },
      "execution_count": 4,
      "outputs": [
        {
          "output_type": "execute_result",
          "data": {
            "text/plain": [
              "   Unnamed: 0                                        description  category_id  \\\n",
              "0           0  name stylish womens crepe wine color ethnic mo...           63   \n",
              "1           1  name woman printed viscose rayon anarkali kurt...           63   \n",
              "2           2  name new simple collection embroidered neck co...           63   \n",
              "3           3  name rash womens cotton green kurti fabric cot...           63   \n",
              "4           4  name woman woolen top pattern printed size un ...           63   \n",
              "\n",
              "                                          product_id  \\\n",
              "0  67366e67e01d2ca19fda979eb97c478ccd8c048df8ab42...   \n",
              "1  f9e6dc103f1c7d214abad01dd96ac7f5311bc6644242e6...   \n",
              "2  f0502b447d051f264ca0f2c57a16f5f6344e5544ead2e0...   \n",
              "3  88fa39611a66b15e05b8d38f44544c276e0a572c888b74...   \n",
              "4  6330d6991ec9b5d1fde92c0d363c2f38678ef4bc9f24bd...   \n",
              "\n",
              "                                             pdp_url    brand  \\\n",
              "0  https://www.meesho.com/stylish-womens-crepe-wi...  Generic   \n",
              "1  https://www.meesho.com/women-printed-viscose-r...  Generic   \n",
              "2  https://www.meesho.com/new-simple-collection-e...  Generic   \n",
              "3  https://www.meesho.com/rash-womens-cotton-gree...  Generic   \n",
              "4   https://www.meesho.com/women-woolen-top/p/7kk14r  Generic   \n",
              "\n",
              "                                       feature_image  department_id   mrp  \\\n",
              "0  https://images.meesho.com/images/products/2809...              2   999   \n",
              "1  https://images.meesho.com/images/products/1595...              2   799   \n",
              "2  https://images.meesho.com/images/products/4539...              2   599   \n",
              "3  https://images.meesho.com/images/products/4573...              2   799   \n",
              "4  https://images.meesho.com/images/products/4577...              2  1000   \n",
              "\n",
              "                                        product_name  \\\n",
              "0  stylish womens crepe wine color ethnic motif p...   \n",
              "1         woman printed viscose rayon anarkali kurti   \n",
              "2  new simple collection embroidered neck cotton ...   \n",
              "3                     rash womens cotton green kurti   \n",
              "4                                   woman woolen top   \n",
              "\n",
              "                                    feature_image_s3  channel_id  \\\n",
              "0  https://assets.stylumia.com/originals/2024/11/...         401   \n",
              "1  https://assets.stylumia.com/originals/2024/11/...         401   \n",
              "2  https://assets.stylumia.com/originals/2024/11/...         401   \n",
              "3  https://assets.stylumia.com/originals/2024/11/...         401   \n",
              "4  https://assets.stylumia.com/originals/2024/11/...         401   \n",
              "\n",
              "                                    style_attributes category_name  \\\n",
              "0            {'Supplier Information': 'SHYAMAL TEX'}        Kurtis   \n",
              "1            {'Supplier Information': 'KF Khushees'}        Kurtis   \n",
              "2           {'Supplier Information': 'Panchkudi@28'}        Kurtis   \n",
              "3  {'Supplier Information': 'JMJ ENTERPRISES JAIP...        Kurtis   \n",
              "4      {'Supplier Information': 'S.W.A.S..CREATION'}        Kurtis   \n",
              "\n",
              "  Retailer_name                                distilbert_features  \n",
              "0     Meesho IN  [-0.2062634825706482, -0.28366509079933167, -0...  \n",
              "1     Meesho IN  [-0.10604754090309143, -0.364780068397522, -0....  \n",
              "2     Meesho IN  [-0.23753990232944489, -0.2974393367767334, -0...  \n",
              "3     Meesho IN  [-0.12778538465499878, -0.43310534954071045, -...  \n",
              "4     Meesho IN  [-0.22102829813957214, -0.20607741177082062, -...  "
            ],
            "text/html": [
              "\n",
              "  <div id=\"df-11d6a95c-1ff3-40d1-a0f6-ac8456d2fc23\" class=\"colab-df-container\">\n",
              "    <div>\n",
              "<style scoped>\n",
              "    .dataframe tbody tr th:only-of-type {\n",
              "        vertical-align: middle;\n",
              "    }\n",
              "\n",
              "    .dataframe tbody tr th {\n",
              "        vertical-align: top;\n",
              "    }\n",
              "\n",
              "    .dataframe thead th {\n",
              "        text-align: right;\n",
              "    }\n",
              "</style>\n",
              "<table border=\"1\" class=\"dataframe\">\n",
              "  <thead>\n",
              "    <tr style=\"text-align: right;\">\n",
              "      <th></th>\n",
              "      <th>Unnamed: 0</th>\n",
              "      <th>description</th>\n",
              "      <th>category_id</th>\n",
              "      <th>product_id</th>\n",
              "      <th>pdp_url</th>\n",
              "      <th>brand</th>\n",
              "      <th>feature_image</th>\n",
              "      <th>department_id</th>\n",
              "      <th>mrp</th>\n",
              "      <th>product_name</th>\n",
              "      <th>feature_image_s3</th>\n",
              "      <th>channel_id</th>\n",
              "      <th>style_attributes</th>\n",
              "      <th>category_name</th>\n",
              "      <th>Retailer_name</th>\n",
              "      <th>distilbert_features</th>\n",
              "    </tr>\n",
              "  </thead>\n",
              "  <tbody>\n",
              "    <tr>\n",
              "      <th>0</th>\n",
              "      <td>0</td>\n",
              "      <td>name stylish womens crepe wine color ethnic mo...</td>\n",
              "      <td>63</td>\n",
              "      <td>67366e67e01d2ca19fda979eb97c478ccd8c048df8ab42...</td>\n",
              "      <td>https://www.meesho.com/stylish-womens-crepe-wi...</td>\n",
              "      <td>Generic</td>\n",
              "      <td>https://images.meesho.com/images/products/2809...</td>\n",
              "      <td>2</td>\n",
              "      <td>999</td>\n",
              "      <td>stylish womens crepe wine color ethnic motif p...</td>\n",
              "      <td>https://assets.stylumia.com/originals/2024/11/...</td>\n",
              "      <td>401</td>\n",
              "      <td>{'Supplier Information': 'SHYAMAL TEX'}</td>\n",
              "      <td>Kurtis</td>\n",
              "      <td>Meesho IN</td>\n",
              "      <td>[-0.2062634825706482, -0.28366509079933167, -0...</td>\n",
              "    </tr>\n",
              "    <tr>\n",
              "      <th>1</th>\n",
              "      <td>1</td>\n",
              "      <td>name woman printed viscose rayon anarkali kurt...</td>\n",
              "      <td>63</td>\n",
              "      <td>f9e6dc103f1c7d214abad01dd96ac7f5311bc6644242e6...</td>\n",
              "      <td>https://www.meesho.com/women-printed-viscose-r...</td>\n",
              "      <td>Generic</td>\n",
              "      <td>https://images.meesho.com/images/products/1595...</td>\n",
              "      <td>2</td>\n",
              "      <td>799</td>\n",
              "      <td>woman printed viscose rayon anarkali kurti</td>\n",
              "      <td>https://assets.stylumia.com/originals/2024/11/...</td>\n",
              "      <td>401</td>\n",
              "      <td>{'Supplier Information': 'KF Khushees'}</td>\n",
              "      <td>Kurtis</td>\n",
              "      <td>Meesho IN</td>\n",
              "      <td>[-0.10604754090309143, -0.364780068397522, -0....</td>\n",
              "    </tr>\n",
              "    <tr>\n",
              "      <th>2</th>\n",
              "      <td>2</td>\n",
              "      <td>name new simple collection embroidered neck co...</td>\n",
              "      <td>63</td>\n",
              "      <td>f0502b447d051f264ca0f2c57a16f5f6344e5544ead2e0...</td>\n",
              "      <td>https://www.meesho.com/new-simple-collection-e...</td>\n",
              "      <td>Generic</td>\n",
              "      <td>https://images.meesho.com/images/products/4539...</td>\n",
              "      <td>2</td>\n",
              "      <td>599</td>\n",
              "      <td>new simple collection embroidered neck cotton ...</td>\n",
              "      <td>https://assets.stylumia.com/originals/2024/11/...</td>\n",
              "      <td>401</td>\n",
              "      <td>{'Supplier Information': 'Panchkudi@28'}</td>\n",
              "      <td>Kurtis</td>\n",
              "      <td>Meesho IN</td>\n",
              "      <td>[-0.23753990232944489, -0.2974393367767334, -0...</td>\n",
              "    </tr>\n",
              "    <tr>\n",
              "      <th>3</th>\n",
              "      <td>3</td>\n",
              "      <td>name rash womens cotton green kurti fabric cot...</td>\n",
              "      <td>63</td>\n",
              "      <td>88fa39611a66b15e05b8d38f44544c276e0a572c888b74...</td>\n",
              "      <td>https://www.meesho.com/rash-womens-cotton-gree...</td>\n",
              "      <td>Generic</td>\n",
              "      <td>https://images.meesho.com/images/products/4573...</td>\n",
              "      <td>2</td>\n",
              "      <td>799</td>\n",
              "      <td>rash womens cotton green kurti</td>\n",
              "      <td>https://assets.stylumia.com/originals/2024/11/...</td>\n",
              "      <td>401</td>\n",
              "      <td>{'Supplier Information': 'JMJ ENTERPRISES JAIP...</td>\n",
              "      <td>Kurtis</td>\n",
              "      <td>Meesho IN</td>\n",
              "      <td>[-0.12778538465499878, -0.43310534954071045, -...</td>\n",
              "    </tr>\n",
              "    <tr>\n",
              "      <th>4</th>\n",
              "      <td>4</td>\n",
              "      <td>name woman woolen top pattern printed size un ...</td>\n",
              "      <td>63</td>\n",
              "      <td>6330d6991ec9b5d1fde92c0d363c2f38678ef4bc9f24bd...</td>\n",
              "      <td>https://www.meesho.com/women-woolen-top/p/7kk14r</td>\n",
              "      <td>Generic</td>\n",
              "      <td>https://images.meesho.com/images/products/4577...</td>\n",
              "      <td>2</td>\n",
              "      <td>1000</td>\n",
              "      <td>woman woolen top</td>\n",
              "      <td>https://assets.stylumia.com/originals/2024/11/...</td>\n",
              "      <td>401</td>\n",
              "      <td>{'Supplier Information': 'S.W.A.S..CREATION'}</td>\n",
              "      <td>Kurtis</td>\n",
              "      <td>Meesho IN</td>\n",
              "      <td>[-0.22102829813957214, -0.20607741177082062, -...</td>\n",
              "    </tr>\n",
              "  </tbody>\n",
              "</table>\n",
              "</div>\n",
              "    <div class=\"colab-df-buttons\">\n",
              "\n",
              "  <div class=\"colab-df-container\">\n",
              "    <button class=\"colab-df-convert\" onclick=\"convertToInteractive('df-11d6a95c-1ff3-40d1-a0f6-ac8456d2fc23')\"\n",
              "            title=\"Convert this dataframe to an interactive table.\"\n",
              "            style=\"display:none;\">\n",
              "\n",
              "  <svg xmlns=\"http://www.w3.org/2000/svg\" height=\"24px\" viewBox=\"0 -960 960 960\">\n",
              "    <path d=\"M120-120v-720h720v720H120Zm60-500h600v-160H180v160Zm220 220h160v-160H400v160Zm0 220h160v-160H400v160ZM180-400h160v-160H180v160Zm440 0h160v-160H620v160ZM180-180h160v-160H180v160Zm440 0h160v-160H620v160Z\"/>\n",
              "  </svg>\n",
              "    </button>\n",
              "\n",
              "  <style>\n",
              "    .colab-df-container {\n",
              "      display:flex;\n",
              "      gap: 12px;\n",
              "    }\n",
              "\n",
              "    .colab-df-convert {\n",
              "      background-color: #E8F0FE;\n",
              "      border: none;\n",
              "      border-radius: 50%;\n",
              "      cursor: pointer;\n",
              "      display: none;\n",
              "      fill: #1967D2;\n",
              "      height: 32px;\n",
              "      padding: 0 0 0 0;\n",
              "      width: 32px;\n",
              "    }\n",
              "\n",
              "    .colab-df-convert:hover {\n",
              "      background-color: #E2EBFA;\n",
              "      box-shadow: 0px 1px 2px rgba(60, 64, 67, 0.3), 0px 1px 3px 1px rgba(60, 64, 67, 0.15);\n",
              "      fill: #174EA6;\n",
              "    }\n",
              "\n",
              "    .colab-df-buttons div {\n",
              "      margin-bottom: 4px;\n",
              "    }\n",
              "\n",
              "    [theme=dark] .colab-df-convert {\n",
              "      background-color: #3B4455;\n",
              "      fill: #D2E3FC;\n",
              "    }\n",
              "\n",
              "    [theme=dark] .colab-df-convert:hover {\n",
              "      background-color: #434B5C;\n",
              "      box-shadow: 0px 1px 3px 1px rgba(0, 0, 0, 0.15);\n",
              "      filter: drop-shadow(0px 1px 2px rgba(0, 0, 0, 0.3));\n",
              "      fill: #FFFFFF;\n",
              "    }\n",
              "  </style>\n",
              "\n",
              "    <script>\n",
              "      const buttonEl =\n",
              "        document.querySelector('#df-11d6a95c-1ff3-40d1-a0f6-ac8456d2fc23 button.colab-df-convert');\n",
              "      buttonEl.style.display =\n",
              "        google.colab.kernel.accessAllowed ? 'block' : 'none';\n",
              "\n",
              "      async function convertToInteractive(key) {\n",
              "        const element = document.querySelector('#df-11d6a95c-1ff3-40d1-a0f6-ac8456d2fc23');\n",
              "        const dataTable =\n",
              "          await google.colab.kernel.invokeFunction('convertToInteractive',\n",
              "                                                    [key], {});\n",
              "        if (!dataTable) return;\n",
              "\n",
              "        const docLinkHtml = 'Like what you see? Visit the ' +\n",
              "          '<a target=\"_blank\" href=https://colab.research.google.com/notebooks/data_table.ipynb>data table notebook</a>'\n",
              "          + ' to learn more about interactive tables.';\n",
              "        element.innerHTML = '';\n",
              "        dataTable['output_type'] = 'display_data';\n",
              "        await google.colab.output.renderOutput(dataTable, element);\n",
              "        const docLink = document.createElement('div');\n",
              "        docLink.innerHTML = docLinkHtml;\n",
              "        element.appendChild(docLink);\n",
              "      }\n",
              "    </script>\n",
              "  </div>\n",
              "\n",
              "\n",
              "<div id=\"df-18a5cc1c-810c-48a2-82a2-0f3644f8a532\">\n",
              "  <button class=\"colab-df-quickchart\" onclick=\"quickchart('df-18a5cc1c-810c-48a2-82a2-0f3644f8a532')\"\n",
              "            title=\"Suggest charts\"\n",
              "            style=\"display:none;\">\n",
              "\n",
              "<svg xmlns=\"http://www.w3.org/2000/svg\" height=\"24px\"viewBox=\"0 0 24 24\"\n",
              "     width=\"24px\">\n",
              "    <g>\n",
              "        <path d=\"M19 3H5c-1.1 0-2 .9-2 2v14c0 1.1.9 2 2 2h14c1.1 0 2-.9 2-2V5c0-1.1-.9-2-2-2zM9 17H7v-7h2v7zm4 0h-2V7h2v10zm4 0h-2v-4h2v4z\"/>\n",
              "    </g>\n",
              "</svg>\n",
              "  </button>\n",
              "\n",
              "<style>\n",
              "  .colab-df-quickchart {\n",
              "      --bg-color: #E8F0FE;\n",
              "      --fill-color: #1967D2;\n",
              "      --hover-bg-color: #E2EBFA;\n",
              "      --hover-fill-color: #174EA6;\n",
              "      --disabled-fill-color: #AAA;\n",
              "      --disabled-bg-color: #DDD;\n",
              "  }\n",
              "\n",
              "  [theme=dark] .colab-df-quickchart {\n",
              "      --bg-color: #3B4455;\n",
              "      --fill-color: #D2E3FC;\n",
              "      --hover-bg-color: #434B5C;\n",
              "      --hover-fill-color: #FFFFFF;\n",
              "      --disabled-bg-color: #3B4455;\n",
              "      --disabled-fill-color: #666;\n",
              "  }\n",
              "\n",
              "  .colab-df-quickchart {\n",
              "    background-color: var(--bg-color);\n",
              "    border: none;\n",
              "    border-radius: 50%;\n",
              "    cursor: pointer;\n",
              "    display: none;\n",
              "    fill: var(--fill-color);\n",
              "    height: 32px;\n",
              "    padding: 0;\n",
              "    width: 32px;\n",
              "  }\n",
              "\n",
              "  .colab-df-quickchart:hover {\n",
              "    background-color: var(--hover-bg-color);\n",
              "    box-shadow: 0 1px 2px rgba(60, 64, 67, 0.3), 0 1px 3px 1px rgba(60, 64, 67, 0.15);\n",
              "    fill: var(--button-hover-fill-color);\n",
              "  }\n",
              "\n",
              "  .colab-df-quickchart-complete:disabled,\n",
              "  .colab-df-quickchart-complete:disabled:hover {\n",
              "    background-color: var(--disabled-bg-color);\n",
              "    fill: var(--disabled-fill-color);\n",
              "    box-shadow: none;\n",
              "  }\n",
              "\n",
              "  .colab-df-spinner {\n",
              "    border: 2px solid var(--fill-color);\n",
              "    border-color: transparent;\n",
              "    border-bottom-color: var(--fill-color);\n",
              "    animation:\n",
              "      spin 1s steps(1) infinite;\n",
              "  }\n",
              "\n",
              "  @keyframes spin {\n",
              "    0% {\n",
              "      border-color: transparent;\n",
              "      border-bottom-color: var(--fill-color);\n",
              "      border-left-color: var(--fill-color);\n",
              "    }\n",
              "    20% {\n",
              "      border-color: transparent;\n",
              "      border-left-color: var(--fill-color);\n",
              "      border-top-color: var(--fill-color);\n",
              "    }\n",
              "    30% {\n",
              "      border-color: transparent;\n",
              "      border-left-color: var(--fill-color);\n",
              "      border-top-color: var(--fill-color);\n",
              "      border-right-color: var(--fill-color);\n",
              "    }\n",
              "    40% {\n",
              "      border-color: transparent;\n",
              "      border-right-color: var(--fill-color);\n",
              "      border-top-color: var(--fill-color);\n",
              "    }\n",
              "    60% {\n",
              "      border-color: transparent;\n",
              "      border-right-color: var(--fill-color);\n",
              "    }\n",
              "    80% {\n",
              "      border-color: transparent;\n",
              "      border-right-color: var(--fill-color);\n",
              "      border-bottom-color: var(--fill-color);\n",
              "    }\n",
              "    90% {\n",
              "      border-color: transparent;\n",
              "      border-bottom-color: var(--fill-color);\n",
              "    }\n",
              "  }\n",
              "</style>\n",
              "\n",
              "  <script>\n",
              "    async function quickchart(key) {\n",
              "      const quickchartButtonEl =\n",
              "        document.querySelector('#' + key + ' button');\n",
              "      quickchartButtonEl.disabled = true;  // To prevent multiple clicks.\n",
              "      quickchartButtonEl.classList.add('colab-df-spinner');\n",
              "      try {\n",
              "        const charts = await google.colab.kernel.invokeFunction(\n",
              "            'suggestCharts', [key], {});\n",
              "      } catch (error) {\n",
              "        console.error('Error during call to suggestCharts:', error);\n",
              "      }\n",
              "      quickchartButtonEl.classList.remove('colab-df-spinner');\n",
              "      quickchartButtonEl.classList.add('colab-df-quickchart-complete');\n",
              "    }\n",
              "    (() => {\n",
              "      let quickchartButtonEl =\n",
              "        document.querySelector('#df-18a5cc1c-810c-48a2-82a2-0f3644f8a532 button');\n",
              "      quickchartButtonEl.style.display =\n",
              "        google.colab.kernel.accessAllowed ? 'block' : 'none';\n",
              "    })();\n",
              "  </script>\n",
              "</div>\n",
              "\n",
              "    </div>\n",
              "  </div>\n"
            ],
            "application/vnd.google.colaboratory.intrinsic+json": {
              "type": "dataframe",
              "variable_name": "df",
              "summary": "{\n  \"name\": \"df\",\n  \"rows\": 84952,\n  \"fields\": [\n    {\n      \"column\": \"Unnamed: 0\",\n      \"properties\": {\n        \"dtype\": \"number\",\n        \"std\": 24523,\n        \"min\": 0,\n        \"max\": 84951,\n        \"num_unique_values\": 84952,\n        \"samples\": [\n          29993,\n          52739,\n          69659\n        ],\n        \"semantic_type\": \"\",\n        \"description\": \"\"\n      }\n    },\n    {\n      \"column\": \"description\",\n      \"properties\": {\n        \"dtype\": \"string\",\n        \"num_unique_values\": 77714,\n        \"samples\": [\n          \"790% cotton 180% polyester 30% viscose composition black color sz2407109795046570 goodssn denim material natural waist line straight leg pocket raw hem ripped zipper washed detail regular fit machine wash dry clean care instruction short length casual style nonstretch fabric unlined body\",\n          \"experience epitome timeless elegance exquisite wristwatch crafted meticulous attention detail rose goldtoned case mesh bracelet exude refined charm complement ensemble striking black dial feature bold arabic numeral luminous hand ensuring effortless timetelling glance timepiece merely accessory statement impeccable style sophistication designed withstand rigour daily wear watch testament enduring quality elevate look embrace essence timeless sophistication captivating wristwatch calendar 4 november 2024 date first available 242 part number rose gold band colour watch included component b0dlwvfchf asin black dial colour 4 x 1 x 26 cm 300 g product dimension mesh band special feature womens department analog limited retailrist manufacturer rose gold case material quartz movement product sold amazon please review manufacturer website warranty information product sold another party please contact seller directly warranty information product may also able find warranty information manufacturer website warranty mt242 item model number mt242 model number wristwatch generic name retailrist packer generic brand round case shape metal band material magnetic clasp clasp 40 x 10 x 260 millimeter item dimension lxwxh india country origin 300 g item weight stylish design elegant timepiece feature sleek rose goldtone case stylish mesh bracelet perfect occasion clear visibility watch boast black dial large easytoread arabic numeral contrasting white hand optimal visibility durable construction crafted highquality material watch built withstand daily wear tear adjustable fit mesh bracelet easily adjusted fit wrist size ensuring comfortable secure fit water resistance waterresistant design watch withstand splash brief immersion water making suitable everyday wear\",\n          \"100% polyester composition long sleeve sleeve length shirt collar neckline navywhite color regular sleeve sm2408203528258520 goodssn fabric material shirt button front detail regular fit dry clean hand wash care instruction length plain striped work style nonstretch fabric single breasted placket semisheer sheer\"\n        ],\n        \"semantic_type\": \"\",\n        \"description\": \"\"\n      }\n    },\n    {\n      \"column\": \"category_id\",\n      \"properties\": {\n        \"dtype\": \"number\",\n        \"std\": 31,\n        \"min\": 30,\n        \"max\": 122,\n        \"num_unique_values\": 10,\n        \"samples\": [\n          120,\n          30,\n          88\n        ],\n        \"semantic_type\": \"\",\n        \"description\": \"\"\n      }\n    },\n    {\n      \"column\": \"product_id\",\n      \"properties\": {\n        \"dtype\": \"string\",\n        \"num_unique_values\": 80516,\n        \"samples\": [\n          \"6f2555f03bfeef84fca1fa5b19b7dd5d95e3e0c88f6bc435974638c1dd7d2b10\",\n          \"2199c4ce344d9ce5ffc46fae4e100a4e300c211b5d970b8d91885e27a57e26f2\",\n          \"0d48b82f4249ac64f19a2a941272f3ea8a1e2bcca18169138fa4966cef31ecc5\"\n        ],\n        \"semantic_type\": \"\",\n        \"description\": \"\"\n      }\n    },\n    {\n      \"column\": \"pdp_url\",\n      \"properties\": {\n        \"dtype\": \"string\",\n        \"num_unique_values\": 80433,\n        \"samples\": [\n          \"https://www.amazon.in/Mont-Neo-Womens-Stainless-9008T-M3314/dp/B0DGQQJH1C/ref=sr_1_12234?dib=eyJ2IjoiMSJ9.VBFloNP6ZkCko6CZLdxlA2JeKV0D9eZ2_LqCZJXEJTgzQB6AI3BRneSnTZa_i7bafGetTI6P31AF04wjJGF_HFpMEgGxYiCEENSyYFnPauIqLdv5j7oL0K0viv2rmmZAM07GnWPGZK9aJCQBCP_wNGSnyX5DgtxeN1x72krywh8WJgQcKdEJq1lg-DEdoUI6Z5prdhjJoXdB54lKGZVnS4SVQLw8Rxruij5zzZjcf1X2-qcPfTgrlHb7rPePcfli2UEMa1l_udcj5OBl4JljVVxDJUkggR8AGqyXS_rRlXs.5tbfHv8aHnnIbFWPHHvs-pi2zG1BBHqIEeMGZmWRDCg&dib_tag=se&qid=1732281943&rnid=2563505031&s=watch&sr=1-12234\",\n          \"https://www.meesho.com/blue-gown-new/p/7868z6\",\n          \"https://us.shein.com/SHEIN-Frenchy-Women-Thread-Embroidery-Heart-Print-Casual-Daily-Wear-Short-Sleeve-T-Shirt-Summer-T-Shirt-Women-T-Shirts-Tea-Party-Attire-Embroidered-Top-T-Shirt-Summer-Tops-p-40103623-cat-1738.html\"\n        ],\n        \"semantic_type\": \"\",\n        \"description\": \"\"\n      }\n    },\n    {\n      \"column\": \"brand\",\n      \"properties\": {\n        \"dtype\": \"category\",\n        \"num_unique_values\": 1501,\n        \"samples\": [\n          \"NYALKARAN_ENTERPRISE\",\n          \"Vlone\",\n          \"Ekana Label\"\n        ],\n        \"semantic_type\": \"\",\n        \"description\": \"\"\n      }\n    },\n    {\n      \"column\": \"feature_image\",\n      \"properties\": {\n        \"dtype\": \"string\",\n        \"num_unique_values\": 78961,\n        \"samples\": [\n          \"http://assets.myntassets.com/assets/images/30988442/2024/9/18/06bf21f0-7fb8-41c2-b1b6-e0053d4b1cc71726659555199-SKAN-LIFESTYLE-Men-Colourblocked-Sneakers-4741726659555011-1.jpg\",\n          \"https://img.ltwebstatic.com/images3_pi/2024/04/29/db/17143725731437a747c519c009cd05beb23eb5fa03.jpg\",\n          \"https://api.cq6bn590y3-fabindiao1-p1-public.model-t.cc.commerce.ondemand.com/medias/20193293-01.jpg?context=bWFzdGVyfGltYWdlc3wyMjI2NTR8aW1hZ2UvanBlZ3xhR1ZrTDJoaE1pODJPREU0TlRnMk5qY3pNVFUxTUM4eU1ERTVNekk1TTE4d01TNXFjR2N8MzZjM2MyNGM0ZTA3YzcwNTYzMzczNTYwM2I0ODcyMGQzYTlkNmNlY2RmYzhhM2I3YzUwYzcyZmNjNmQxZTExYQ\"\n        ],\n        \"semantic_type\": \"\",\n        \"description\": \"\"\n      }\n    },\n    {\n      \"column\": \"department_id\",\n      \"properties\": {\n        \"dtype\": \"number\",\n        \"std\": 0,\n        \"min\": 1,\n        \"max\": 5,\n        \"num_unique_values\": 4,\n        \"samples\": [\n          1,\n          5,\n          2\n        ],\n        \"semantic_type\": \"\",\n        \"description\": \"\"\n      }\n    },\n    {\n      \"column\": \"mrp\",\n      \"properties\": {\n        \"dtype\": \"number\",\n        \"std\": 9040,\n        \"min\": 50,\n        \"max\": 338851,\n        \"num_unique_values\": 7587,\n        \"samples\": [\n          2083,\n          1555,\n          4263\n        ],\n        \"semantic_type\": \"\",\n        \"description\": \"\"\n      }\n    },\n    {\n      \"column\": \"product_name\",\n      \"properties\": {\n        \"dtype\": \"string\",\n        \"num_unique_values\": 62578,\n        \"samples\": [\n          \"purple banarasi woven tassel saree unstitched blouse\",\n          \"manfinity homme men button pocket patched shirt\",\n          \"shein sxy solid color halter neck sexy sleeveless denim dress summer\"\n        ],\n        \"semantic_type\": \"\",\n        \"description\": \"\"\n      }\n    },\n    {\n      \"column\": \"feature_image_s3\",\n      \"properties\": {\n        \"dtype\": \"string\",\n        \"num_unique_values\": 78970,\n        \"samples\": [\n          \"https://assets.stylumia.com/originals/2024/10/67/a1554fe128c90cf963910a98e2ddcaf5579397f26777518b44dbc03916a1b46c.jpg\",\n          \"https://assets.stylumia.com/originals/2024/10/49/085e9df2094799cddb449fcdd2bb8a4ad2018362509f1b0fd1a505490b6a320b.jpg\",\n          \"https://assets.stylumia.com/originals/2024/11/67/6b4c770329f69f04429fedcf6cb3e8785dac7333316785c79b4ff8ce3a15f258.jpg\"\n        ],\n        \"semantic_type\": \"\",\n        \"description\": \"\"\n      }\n    },\n    {\n      \"column\": \"channel_id\",\n      \"properties\": {\n        \"dtype\": \"number\",\n        \"std\": 148,\n        \"min\": 8,\n        \"max\": 401,\n        \"num_unique_values\": 11,\n        \"samples\": [\n          161,\n          401,\n          67\n        ],\n        \"semantic_type\": \"\",\n        \"description\": \"\"\n      }\n    },\n    {\n      \"column\": \"style_attributes\",\n      \"properties\": {\n        \"dtype\": \"string\",\n        \"num_unique_values\": 65591,\n        \"samples\": [\n          \"{'Supplier Information': 'Shyama Fashion'}\",\n          \"{'Supplier Information': 'ASHIQ GARMENTS'}\",\n          \"{'Supplier Information': 'MERUNA TEXTILE'}\"\n        ],\n        \"semantic_type\": \"\",\n        \"description\": \"\"\n      }\n    },\n    {\n      \"column\": \"category_name\",\n      \"properties\": {\n        \"dtype\": \"category\",\n        \"num_unique_values\": 10,\n        \"samples\": [\n          \"Watches\",\n          \"Dresses\",\n          \"Sarees\"\n        ],\n        \"semantic_type\": \"\",\n        \"description\": \"\"\n      }\n    },\n    {\n      \"column\": \"Retailer_name\",\n      \"properties\": {\n        \"dtype\": \"category\",\n        \"num_unique_values\": 11,\n        \"samples\": [\n          \"H&M US\",\n          \"Meesho IN\",\n          \"Amazon IN\"\n        ],\n        \"semantic_type\": \"\",\n        \"description\": \"\"\n      }\n    },\n    {\n      \"column\": \"distilbert_features\",\n      \"properties\": {\n        \"dtype\": \"string\",\n        \"num_unique_values\": 77679,\n        \"samples\": [\n          \"[-0.04513378441333771, -0.4621993899345398, -0.07531435787677765, -0.004398355260491371, 0.11291269958019257, 0.022634433582425117, 0.06654529273509979, 0.05081340670585632, -0.1273680031299591, -0.28876793384552, -0.021996069699525833, 0.08373088389635086, 0.12118866294622421, 0.18829096853733063, -0.2609691023826599, 0.2702306807041168, -0.09782268851995468, 0.21609410643577576, 0.2587445378303528, 0.1823767125606537, 0.1620531678199768, -0.6176218390464783, 0.10022389888763428, -0.0998140424489975, 0.11487779021263123, -0.0419277548789978, 0.042576245963573456, -0.1564999669790268, 0.17986100912094116, 0.19574597477912903, 0.18128278851509094, 0.13736973702907562, 0.20381011068820953, -0.5080346465110779, 0.3423551917076111, -0.1826389729976654, 0.37885797023773193, -0.17672087252140045, -0.01092592254281044, 0.03315812349319458, -0.04548625275492668, 0.20401659607887268, 0.346280574798584, -0.2423582673072815, 0.21657995879650116, -0.1702965795993805, -2.6153197288513184, 0.17464867234230042, -0.36977946758270264, -0.3077455461025238, 0.1213485449552536, -0.287661075592041, -0.2528342604637146, 0.13044366240501404, 0.288906991481781, 0.3879189193248749, 0.11328278481960297, 0.3149091303348541, -0.054229702800512314, -0.14660945534706116, 0.07727350294589996, -0.06658254563808441, -0.1592731922864914, 0.03613455966114998, -0.007582457736134529, 0.16479109227657318, -0.24880170822143555, 0.16037212312221527, -0.526521623134613, 0.49386176466941833, -0.22164632380008698, 0.06193976104259491, 0.2846786379814148, -0.23559965193271637, 0.1529494971036911, -0.13825806975364685, 0.007219881750643253, 0.07256203889846802, 0.09000276029109955, 0.04535307735204697, 0.09068088233470917, 0.28505393862724304, 0.23739093542099, 0.1725785732269287, -0.05385682359337807, 0.46601787209510803, -0.11829647421836853, 0.09579344838857651, 0.4794800579547882, 0.48210057616233826, 0.05269623175263405, 0.16227871179580688, 0.35957199335098267, 0.2803579568862915, 0.22497856616973877, -0.391997754573822, -0.2347693294286728, 0.0767718032002449, 0.5125133991241455, 0.032173097133636475, 0.06440751254558563, 0.07077711820602417, 0.1893082559108734, -0.2990982234477997, 0.09991387277841568, -0.036061760038137436, -0.18998339772224426, -0.05097206309437752, 0.13716870546340942, -1.53097665309906, 0.32337358593940735, 0.265251487493515, -0.07448158413171768, -0.3651442527770996, -0.37802669405937195, 0.14629241824150085, 0.29689398407936096, 0.36272531747817993, 0.09515911340713501, 0.35100626945495605, -0.239312082529068, 0.32891029119491577, 0.025745809078216553, -0.04973025619983673, -0.02113763429224491, 0.4064983129501343, -0.127130925655365, 0.22252467274665833, 0.4460643529891968, 0.23924338817596436, 0.035477496683597565, 0.369219571352005, -0.44551143050193787, 0.0515829436480999, -0.04842205345630646, 0.3093145191669464, 0.19655688107013702, 0.11771422624588013, 0.09171910583972931, -0.07863856852054596, -0.38589373230934143, -0.0677579715847969, -1.9093308448791504, -0.013880761340260506, 0.4126952290534973, -0.10663915425539017, 0.04987993463873863, 0.35699695348739624, -0.3551902770996094, 0.09872681647539139, 0.14201587438583374, -0.2613745927810669, -0.05116521939635277, -0.006599042564630508, -0.16250647604465485, 0.036489762365818024, -0.11714663356542587, -0.2519625425338745, 0.05154148489236832, -0.02164195105433464, -0.006359122693538666, 0.20949913561344147, -0.1403859704732895, 0.0872090756893158, 0.05171028897166252, 0.12170398235321045, 0.09088046848773956, -0.014295767992734909, -0.12327927350997925, 0.0607827790081501, 0.14134222269058228, 0.05140348896384239, 0.25160089135169983, -0.08060694485902786, 0.3246329128742218, 0.12286242842674255, -0.17635729908943176, 0.3412790894508362, -0.0714922621846199, -0.1495043784379959, -0.5500030517578125, 0.49675869941711426, 0.2064627856016159, 0.06059935316443443, -0.01349702849984169, 0.009245626628398895, 0.3601553738117218, 0.07057710736989975, -0.01912299543619156, 0.035315945744514465, -0.10096332430839539, -0.15910294651985168, 0.00709080696105957, 0.13311667740345, 0.2674747407436371, 0.29012569785118103, 0.017014969140291214, -0.06739991903305054, -0.04722550883889198, 0.10620950162410736, -0.028468089178204536, -0.04270133748650551, 0.022695641964673996, -0.09783165156841278, -0.4175405204296112, 2.7005820274353027, 0.30741363763809204, -0.003571748733520508, 0.4105759859085083, 0.216066375374794, 0.2757178246974945, -0.14099346101284027, -0.05014536529779434, -0.10376983135938644, 0.24109475314617157, -0.026615256443619728, 0.40694060921669006, -0.15867102146148682, 0.23559805750846863, -0.04827788472175598, 0.26596423983573914, -0.09126920998096466, -0.0356106273829937, 0.23344464600086212, -0.2988136410713196, 0.3166772127151489, -0.052116069942712784, -0.2007577270269394, -0.027408983558416367, -0.825050413608551, 0.22203873097896576, -0.3882967233657837, -0.16634714603424072, 0.130985289812088, -0.27116310596466064, -0.07912025600671768, 0.15662363171577454, -0.08461321890354156, 0.22979894280433655, -0.13243861496448517, 0.0472053661942482, -0.01454965677112341, 0.12340929359197617, -0.15046587586402893, -0.3896164894104004, 0.0227523110806942, 0.2072218954563141, -0.0178539976477623, 0.13103124499320984, -0.22392503917217255, 0.20580092072486877, 0.047072410583496094, 0.10749652981758118, -0.10143107175827026, -0.04745206609368324, 0.1806628704071045, 0.21626988053321838, 0.04041646048426628, -0.0752238929271698, -0.11961138248443604, -0.14309939742088318, -0.05801796913146973, 0.24278861284255981, -0.03599163889884949, -0.5237124562263489, -0.04650375247001648, -0.04655645787715912, 0.04195258021354675, 0.07487395405769348, -0.16554784774780273, -0.024669896811246872, 0.1551983654499054, -0.6444007158279419, -2.1469860076904297, -0.03127624839544296, -0.14663267135620117, 0.37379342317581177, 0.03047776035964489, 0.11713892221450806, -0.018280766904354095, 0.1696595400571823, 0.265208899974823, 0.41024482250213623, 0.18700772523880005, 0.05829620361328125, -0.013527043163776398, -0.029963921755552292, -0.0856960117816925, 0.18971669673919678, -0.06146056950092316, -0.06434168666601181, 0.21311825513839722, -0.15624600648880005, 0.018802635371685028, 0.12186484038829803, -0.13901199400424957, 0.0888940840959549, -0.051943883299827576, 0.10468984395265579, -0.4561922550201416, -0.17122198641300201, 0.05038147419691086, 0.176283061504364, -0.06464485079050064, -0.14825306832790375, 0.08664896339178085, -0.09778878837823868, -0.42414069175720215, -4.278989315032959, 0.15747542679309845, -0.12521260976791382, -0.13138426840305328, -0.025123093277215958, -0.27270156145095825, 0.4226885735988617, -0.056799281388521194, -0.046279020607471466, 0.005872086621820927, 0.03187532722949982, 0.1640990972518921, 0.14655467867851257, -0.0027121722232550383, 0.11345966160297394, 0.5281820893287659, 0.3222354054450989, -0.10455475747585297, 0.25138333439826965, 0.11149768531322479, 0.05978677421808243, 0.004718463867902756, 0.06112342327833176, 0.025637419894337654, -0.051389776170253754, 0.14336101710796356, -0.5804442763328552, 0.10349868983030319, 0.02660559117794037, -0.36869391798973083, -0.02001439779996872, -0.4124966263771057, -0.12315969169139862, 0.16625654697418213, -0.11454658210277557, -0.38637298345565796, 0.04006664454936981, 0.16903945803642273, 0.3195609450340271, 0.09437699615955353, 0.044697266072034836, 0.5132293701171875, -0.02762574702501297, 0.18377685546875, 0.6077601909637451, 0.1439610719680786, 0.42430150508880615, -0.2661847770214081, -0.022948764264583588, 0.09989705681800842, -0.024308595806360245, -0.3413544297218323, 0.8998313546180725, -0.320967435836792, 0.12891100347042084, 0.055855199694633484, 0.3026556372642517, 0.18375229835510254, -0.1254398375749588, -0.02396714687347412, 0.21192382276058197, -0.24953202903270721, -0.08263720571994781, -0.23474660515785217, -0.026423431932926178, -0.3197295367717743, 0.12790443003177643, -0.37064245343208313, 0.040706731379032135, 0.14606600999832153, -0.1106746718287468, 0.11419674754142761, 0.15029093623161316, -0.8795153498649597, 0.042406126856803894, -0.22293534874916077, 0.15685054659843445, -0.07283028960227966, 0.13852599263191223, 0.17713594436645508, -0.40187156200408936, -0.065154530107975, -0.035956010222435, 0.5448347926139832, -0.44349801540374756, 0.2533295452594757, 0.04383242130279541, -0.017642101272940636, -0.46427926421165466, 0.2921347916126251, 0.10152306407690048, 0.41031014919281006, -0.12545333802700043, -0.31969398260116577, 0.002735789865255356, -0.1412072479724884, 0.2907184064388275, -0.5979984998703003, 0.09501005709171295, -0.41163012385368347, 0.014596618711948395, -0.18443173170089722, -0.12486372888088226, -0.5659090280532837, -0.08354336768388748, -0.08675005286931992, -0.3925318419933319, 0.2135748714208603, 0.3574323058128357, -0.024932928383350372, 0.25984498858451843, -0.2064628303050995, 0.001447331509552896, -0.04952116310596466, 0.5842368602752686, -0.03364775702357292, -0.28997090458869934, 0.032396864145994186, 0.06101355701684952, 0.009565621614456177, 0.38728123903274536, 0.19406147301197052, -0.04295231029391289, -0.0503976009786129, -0.22128185629844666, 0.0313347764313221, 0.02607399970293045, -0.24108032882213593, -0.39227738976478577, 0.058086272329092026, 0.05735641345381737, -0.19564126431941986, -0.34765657782554626, -0.3752690553665161, -0.06442916393280029, -0.07875914126634598, -0.2584173381328583, 0.007752946577966213, 0.22965802252292633, -0.2014162242412567, 0.2679149806499481, 0.11235658824443817, -0.12872205674648285, 0.1712093949317932, 0.14642663300037384, 0.6061320304870605, -0.00544893741607666, -0.007608480751514435, -0.08831141889095306, 0.26799410581588745, 0.06706532835960388, -0.2966043949127197, -0.14075016975402832, -0.37003257870674133, 0.02036897838115692, -0.039193786680698395, 0.05305676907300949, 0.16939285397529602, -0.13395380973815918, -0.33390718698501587, 0.269395649433136, 0.08128274232149124, -1.5619325637817383, 0.4302031993865967, -0.005857594311237335, 0.021908864378929138, -0.08142875134944916, -0.2949948310852051, -0.21966604888439178, 0.15976950526237488, 0.2108704298734665, -0.027990221977233887, -0.16619747877120972, -0.3944999873638153, 0.270195335149765, 0.3417105972766876, 0.2390170842409134, -0.16496174037456512, -0.2737717032432556, 0.08730750530958176, 0.11746218055486679, -0.23984295129776, -0.2367512285709381, 0.4455276131629944, 0.010413600131869316, -0.11711816489696503, -0.06487478315830231, -0.06077162176370621, -0.20910723507404327, 0.39445191621780396, 0.09065273404121399, 0.13099165260791779, 0.11417447775602341, -0.2484426498413086, -0.43872082233428955, -0.17645397782325745, 0.21535223722457886, 0.520875096321106, 0.04899061098694801, 0.04046265035867691, 0.0038446560502052307, 0.4420911371707916, -0.2901259660720825, 0.27457189559936523, 0.09225201606750488, 0.09015105664730072, 0.3159481883049011, 0.10682442039251328, -0.47024694085121155, 0.09705796837806702, 0.1083870604634285, -0.16337817907333374, 0.31825414299964905, -0.15419124066829681, -0.25240299105644226, -0.31692418456077576, -0.40240463614463806, 0.02599862590432167, -0.02250894159078598, 0.017107952386140823, -0.005183029919862747, -0.17727434635162354, 0.2338024377822876, 0.07537777721881866, -0.07664092630147934, 0.3633330464363098, -0.009412778541445732, -0.5601722598075867, 0.22987744212150574, 0.26389530301094055, 0.022029507905244827, -0.11913704872131348, 0.20825469493865967, -0.050204649567604065, -0.2860698401927948, 0.3119521141052246, -0.4803958833217621, 0.06070759892463684, 0.3658323884010315, 0.033250562846660614, -0.08177819103002548, -0.22708278894424438, -0.26065415143966675, -0.4550153613090515, -0.5909832119941711, 0.2546263039112091, -0.1330074667930603, -0.04381691664457321, -0.03823108226060867, 0.2836507260799408, 0.18560558557510376, -0.0825362280011177, -0.0954410508275032, -0.5066028833389282, 0.05334995687007904, 0.3861491084098816, 0.1073814257979393, -0.04668131098151207, -0.19335125386714935, 0.3676157593727112, -0.137132465839386, 0.2672440707683563, -0.34865903854370117, 0.06424306333065033, 0.020011138170957565, 0.2284458875656128, 0.1395852416753769, 0.09667769074440002, -0.041450124233961105, -0.01636892557144165, -0.1517390012741089, 0.29169756174087524, 0.0994570255279541, -0.19792482256889343, 0.0005544945597648621, 0.21304729580879211, -0.1762743890285492, -0.33556708693504333, -0.005697481334209442, 0.048318296670913696, 1.12321937084198, -0.07993438839912415, 0.21705076098442078, 0.20544040203094482, 0.3455408811569214, 0.2163582444190979, 0.07009267807006836, -0.13584983348846436, -0.4880748689174652, 0.41704654693603516, 0.26814156770706177, -0.11667047441005707, -0.19345958530902863, -0.07081947475671768, -0.003937862813472748, 0.31342583894729614, -0.07989613711833954, -0.19793866574764252, -0.2740986943244934, 0.12661778926849365, -0.20450016856193542, 0.12107478082180023, 0.25161558389663696, 0.1667662262916565, 0.15354281663894653, 0.018723169341683388, 0.28103068470954895, -0.3031769394874573, 0.032891977578401566, 0.30032262206077576, 0.05639156326651573, 0.11705705523490906, 0.25341805815696716, 0.32300499081611633, 0.0036379098892211914, -0.04922427982091904, 0.08468957990407944, -0.15856678783893585, -0.08166924864053726, 0.03955570235848427, 0.35854044556617737, -0.3177284598350525, 0.3084666132926941, -0.16801799833774567, -0.17218929529190063, 0.5569910407066345, -0.25936707854270935, -0.3739912807941437, 0.24190931022167206, 0.1195572018623352, 0.1959453523159027, -0.08489445596933365, -0.12139669805765152, -0.12484891712665558, -0.18535485863685608, 0.2721248269081116, -0.10492917150259018, -0.2067161351442337, -0.23871970176696777, 0.6411707401275635, 0.02883659303188324, 0.4215901494026184, 0.5046678781509399, -0.2583591639995575, 0.1746007353067398, 0.08884616196155548, -0.3426530659198761, 0.14392709732055664, 0.195007786154747, -0.3102572560310364, -0.011029860004782677, -0.18375414609909058, 0.2146659642457962, 0.1291431188583374, 0.13009248673915863, 0.10106925666332245, 0.4189932644367218, -0.09940334409475327, -0.27328991889953613, -1.456071138381958, 0.11940425634384155, -0.055618349462747574, -0.05656875669956207, -0.04748610034584999, 0.09362351149320602, 0.12523840367794037, -0.15889720618724823, -0.12416352331638336, -0.2651498019695282, 0.42350760102272034, 0.03424865007400513, 0.4441205561161041, -0.03372596576809883, 0.16670173406600952, -0.034364841878414154, 0.006138073280453682, -0.16573689877986908, -0.05939925089478493, -0.057425547391176224, 0.30201256275177, 0.23074378073215485, -0.1480061560869217, -0.28476908802986145, -0.4267643690109253, 0.050770122557878494, -0.028108395636081696, -0.29245197772979736, 0.36704543232917786, 0.06166844069957733, 0.0002525895833969116, 0.07190771400928497, -0.32943910360336304, -0.043490953743457794, 0.09725367277860641, -0.21719606220722198, 0.013186141848564148, -0.040341850370168686, -0.08328884094953537, 0.07182542979717255, -0.22907136380672455, 0.19283799827098846, 0.21839535236358643, 0.18054692447185516, -0.18560214340686798, 0.14686839282512665, 0.2451276332139969, -0.1646817922592163, 0.5573250651359558, -0.23246602714061737, 0.04729504883289337, -0.15481853485107422, 0.0824444442987442, 0.22152653336524963, 0.02617918699979782, 0.0861920416355133, 0.05190057307481766, 0.08384237438440323, -0.1871161162853241, -0.4584976136684418, -0.3177146315574646, 0.03524693846702576, -0.13446375727653503, 0.018610406666994095, 0.3383942246437073, 0.05324217304587364, -0.1897462010383606, 0.08114638924598694, 0.08595961332321167, -0.1021641194820404, 0.06405016779899597, -0.33779993653297424, 0.29193946719169617, 0.02260531857609749, 0.1409662961959839, -0.048501912504434586, 0.2925646901130676, 0.2566854953765869, 0.07864242047071457, 0.34124499559402466, 0.19100970029830933, -0.011831860989332199, -0.3124169111251831, -0.1398490071296692, 0.36617493629455566, -4.30649995803833, -0.06433051079511642, -0.25367921590805054, -0.07415234297513962, -0.21645799279212952, -0.4133889675140381, 0.14133068919181824, -0.586254358291626, 0.1658836305141449, -0.14847692847251892, 0.222141832113266, -0.013950306922197342, -0.1864762008190155, 0.008173598907887936, -0.07344318926334381, 0.1603330373764038]\",\n          \"[-0.31278711557388306, 0.01579093374311924, 0.01371176540851593, -0.1585787683725357, 0.01479663047939539, -0.1166604608297348, 0.3958740830421448, -0.1482897251844406, -0.18313804268836975, -0.3598311245441437, -0.0035277381539344788, -0.1651722639799118, 0.19965007901191711, 0.3476302921772003, -0.2470366358757019, 0.3044680655002594, -0.06184899061918259, 0.2897127866744995, 0.20342309772968292, 0.06956765055656433, 0.2415374219417572, -0.42017415165901184, 0.38748008012771606, -0.03206709772348404, 0.06210169568657875, 0.1886853724718094, 0.11423470824956894, 0.0191228948533535, 0.022578880190849304, 0.32413533329963684, 0.0267665795981884, 0.17819705605506897, 0.03613834083080292, -0.41560983657836914, 0.015109721571207047, -0.1424686163663864, 0.3317529559135437, -0.17814165353775024, 0.11233903467655182, 0.17743638157844543, 0.04311468079686165, -0.032546963542699814, 0.4686405658721924, 0.01225348375737667, 0.048893123865127563, -0.19171763956546783, -3.463073968887329, -0.09861716628074646, -0.19705818593502045, -0.37634825706481934, 0.2313612550497055, -0.18518346548080444, -0.11596605181694031, 0.12086551636457443, 0.4124860167503357, 0.42317813634872437, -0.11782225966453552, 0.3621656000614166, -0.20248134434223175, -0.2839087247848511, 0.012613886967301369, 0.10306955873966217, -0.27239102125167847, -0.10688893496990204, -0.12112939357757568, 0.03292228654026985, -0.09286431968212128, 0.09745190292596817, -0.3859235644340515, 0.5251296162605286, -0.36178889870643616, -0.11100100725889206, 0.4042048454284668, 0.16896334290504456, 0.05923471599817276, -0.15372706949710846, -0.07937624305486679, 0.23598936200141907, 0.060840096324682236, -0.04963689669966698, 0.16459466516971588, 0.045480649918317795, 0.11200442910194397, -0.034356728196144104, -0.010063176974654198, 0.30391979217529297, -0.0809379294514656, -0.011589962989091873, 0.10433243960142136, 0.4065508246421814, 0.11597893387079239, -0.2786431610584259, 0.16145674884319305, 0.26358047127723694, -0.03871403634548187, -0.10271114110946655, -0.19626188278198242, 0.18038910627365112, 0.3230209946632385, 0.17444446682929993, 0.25719714164733887, 0.3207980990409851, 0.1443149745464325, -0.5425107479095459, 0.23806774616241455, 0.011530579999089241, -0.23383788764476776, -0.08364371955394745, 0.06691020727157593, -1.6431721448898315, 0.27886369824409485, 0.08467752486467361, -0.4270980656147003, -0.3924338221549988, 0.046538129448890686, 0.011251439340412617, 0.08592937141656876, 0.24216561019420624, -0.006746206432580948, 0.011818182654678822, 0.18479563295841217, 0.1345958113670349, -0.13285984098911285, -0.046974338591098785, -0.15846766531467438, 0.43058672547340393, -0.12166596949100494, -0.35665610432624817, 0.4749232530593872, 0.5449321269989014, 0.15622533857822418, 0.23601707816123962, -0.34852322936058044, 0.06523458659648895, -0.2631978988647461, 0.24231523275375366, 0.33308902382850647, -0.0019732005894184113, -0.03595789521932602, 0.1029287800192833, -0.23510926961898804, -0.323684960603714, -2.0020642280578613, 0.04665571451187134, 0.47286802530288696, 0.20483756065368652, 0.13464169204235077, 0.38771629333496094, -0.07834817469120026, -0.004864967428147793, 0.21710756421089172, -0.3561859428882599, -0.2663825452327728, -0.030093777924776077, -0.1921001374721527, 0.10574087500572205, -0.1785181313753128, -0.04436274245381355, 0.20369207859039307, -0.0674152597784996, -0.012887172400951385, 0.08209429681301117, -0.011368917301297188, 0.057964324951171875, -0.1374962031841278, 0.21580560505390167, 0.07613495737314224, 0.2228701263666153, -0.1667027622461319, -0.21746622025966644, -0.066502645611763, 0.42510849237442017, 0.569071888923645, -0.027668148279190063, 0.22468921542167664, 0.17200705409049988, -0.06986404955387115, 0.3229048550128937, -0.09150537103414536, -0.05813877284526825, -0.22367781400680542, 0.3560182750225067, -0.004580400884151459, 0.022856466472148895, 0.019986875355243683, 0.0684097409248352, 0.37109971046447754, -0.01904442347586155, -0.15126721560955048, -0.2344440370798111, -0.35182949900627136, -0.260322242975235, 0.2928697168827057, 0.06185135990381241, 0.5512711405754089, 0.3630762994289398, -0.027994727715849876, -0.009451225399971008, -0.06943273544311523, 0.05129436030983925, -0.1457986980676651, 0.03933237865567207, 0.10717973113059998, 0.24140779674053192, -0.4199683666229248, 2.6520204544067383, 0.15019124746322632, 0.030485279858112335, 0.4618588387966156, 0.15933707356452942, 0.09941847622394562, -0.20347270369529724, -0.053177058696746826, 0.08629589527845383, 0.02058832161128521, 0.08889845013618469, 0.13118407130241394, -0.1116083413362503, -0.05467156320810318, -0.07753445953130722, 0.1994243860244751, 0.15822458267211914, -0.21611014008522034, 0.2764803469181061, -0.2705872058868408, 0.16974252462387085, -0.17049852013587952, -0.3354682922363281, -0.03790488839149475, -1.1403087377548218, 0.23771370947360992, -0.2503437399864197, 0.07293463498353958, -0.12420620024204254, -0.3669910430908203, -0.08451427519321442, 0.04781961441040039, 0.03210645914077759, -0.014671962708234787, -0.1312694251537323, -0.19612285494804382, 0.09352871030569077, 0.06821239739656448, -0.14410518109798431, 0.08908884227275848, 0.1995829939842224, 0.14980590343475342, -0.3401646316051483, -0.07514990866184235, -0.15784896910190582, 0.3419414460659027, 0.45906054973602295, 0.1979762613773346, -0.17112098634243011, 0.3806815445423126, -0.08854041248559952, 0.19500882923603058, -0.02071666345000267, -0.1919870227575302, -0.3138837218284607, -0.23624102771282196, -0.22613438963890076, 0.30756860971450806, 0.0648287907242775, -0.37880250811576843, -0.19490328431129456, 0.2495163232088089, -0.1680508553981781, 0.013576553203165531, 0.03616098687052727, -0.1007879227399826, 0.24683906137943268, -0.6668533086776733, -1.801756739616394, 0.04922855272889137, -0.20713505148887634, 0.33468902111053467, -0.10821929574012756, 0.16076110303401947, -0.09235984086990356, 0.19969233870506287, 0.4207887053489685, 0.10445193201303482, 0.258024126291275, 0.14472129940986633, -0.06793297082185745, -0.06425319612026215, -0.48270970582962036, 0.38563480973243713, 0.2183704525232315, -0.24353045225143433, 0.07301092147827148, -0.347836434841156, -0.15746459364891052, 0.10606276988983154, -0.23137740790843964, -0.022586185485124588, 0.020496197044849396, -0.02268669754266739, -0.45301923155784607, -0.4935324788093567, 0.09909968823194504, 0.29874590039253235, 0.008521176874637604, 0.10702212154865265, 0.3594083786010742, -0.1825348287820816, -0.2852906882762909, -4.097314834594727, 0.07974229753017426, -0.004708770662546158, -0.560041606426239, -0.08164405822753906, 0.045412495732307434, 0.4149395227432251, 0.1630130261182785, -0.23651166260242462, -0.20579636096954346, 0.3960730731487274, 0.011438840068876743, 0.23160423338413239, 0.0888790562748909, 0.18072131276130676, 0.19114206731319427, 0.41956084966659546, 0.0584188736975193, 0.12489644438028336, 0.33928143978118896, -0.15369945764541626, -0.2728811204433441, 0.2558026909828186, -0.04315318167209625, 0.26178818941116333, -0.00497598759829998, -0.7352606058120728, -0.08761248737573624, 0.10833200067281723, -0.2876400351524353, -0.08528641611337662, -0.3831265866756439, -0.09854818880558014, 0.30245962738990784, -0.3451976776123047, -0.28291571140289307, 0.015479709953069687, 0.12068793922662735, 0.5901791453361511, -0.030359234660863876, 0.11184588074684143, 0.41846445202827454, 0.13388513028621674, 0.16630667448043823, 0.6739208698272705, -0.08003440499305725, 0.2959127426147461, 0.1319655478000641, -0.06425216048955917, 0.18740272521972656, -0.08667881786823273, -0.2568633556365967, 1.1058320999145508, -0.10201214998960495, 0.014533404260873795, -0.046061404049396515, 0.3583453893661499, 0.037597108632326126, -0.17190168797969818, 0.11591724306344986, 0.36988365650177, -0.3805004358291626, 0.11335091292858124, -0.029568050056695938, 0.05401469022035599, -0.3304876685142517, 0.4752153158187866, -0.05264405161142349, -0.441508412361145, 0.10771703720092773, -0.21658965945243835, 0.3655078411102295, -0.15142479538917542, -0.6415687799453735, 0.005644187331199646, -0.1963610053062439, 0.05500476062297821, 0.04593239724636078, 0.06589914858341217, 0.4220048785209656, -0.3508794903755188, -0.06264431774616241, -0.01354566216468811, 0.5094324946403503, -0.33184167742729187, 0.2179897278547287, -0.09527325630187988, -0.0674535408616066, -0.6549035906791687, -0.03824864327907562, -0.0961507111787796, 0.03522678464651108, 0.11824534088373184, -0.02439749613404274, 0.1243363618850708, -0.2110125720500946, 0.4686075448989868, -0.7109619379043579, 0.046321429312229156, -0.4779786169528961, -0.037669748067855835, -0.27263739705085754, 0.0034035183489322662, -0.06831515580415726, -0.15925219655036926, -0.30882528424263, -0.24216443300247192, 0.2049526423215866, 0.1812106966972351, 0.11995187401771545, -0.13743281364440918, 0.07654423266649246, -0.12820440530776978, 0.2972554564476013, 0.9403367042541504, -0.2748927175998688, -0.153377503156662, 0.2702167332172394, 0.12888522446155548, -0.0995197519659996, 0.18052121996879578, -0.0821768119931221, -0.11639848351478577, 0.16196531057357788, -0.3579956889152527, -0.038176193833351135, 0.058492351323366165, -0.11738140881061554, -0.3845900297164917, -0.10884474962949753, 0.14427286386489868, 0.09015694260597229, -0.40411415696144104, -0.25164949893951416, 0.07506219297647476, -0.15330733358860016, -0.15772032737731934, -0.05767522752285004, 0.15885084867477417, 0.00875367596745491, 0.4517466723918915, -0.037040986120700836, -0.3098289966583252, 0.017872393131256104, 0.1333513855934143, 0.4505314528942108, 0.1128494068980217, 0.09376589953899384, -0.1383301317691803, 0.19871193170547485, -0.3196026682853699, -0.24084866046905518, 0.011979727074503899, -0.49401044845581055, 0.27225321531295776, 0.30099809169769287, 0.0006786566227674484, 0.08269760012626648, -0.059459805488586426, -0.27461951971054077, 0.15795603394508362, 0.09108049422502518, -1.7488765716552734, 0.36344605684280396, 0.0018414966762065887, 0.2487594187259674, -0.27342867851257324, -0.2882896661758423, -0.06375817954540253, 0.26517266035079956, 0.3505312502384186, 0.142797589302063, 0.05769110471010208, -0.4170210659503937, 0.06451095640659332, 0.20977620780467987, -0.0692606270313263, -0.20579129457473755, -0.10779428482055664, 0.11492843925952911, 0.10583967715501785, -0.08927921205759048, -0.37810370326042175, 0.7085973620414734, -0.07781189680099487, 0.07349517941474915, 0.041043721139431, -0.07662582397460938, 0.09314397722482681, 0.3017733097076416, 0.07746348530054092, 0.3325408697128296, 0.11601368337869644, -0.32925963401794434, -0.1931183636188507, -0.17197996377944946, 0.5197121500968933, 0.2477594017982483, -0.06901818513870239, -0.14379368722438812, 0.18923397362232208, 0.2995428144931793, -0.2378787100315094, 0.5574371814727783, 0.47417551279067993, 0.07629653811454773, 0.5010225176811218, 0.12626636028289795, -0.41933557391166687, 0.048868730664253235, -0.05022869631648064, -0.1980627179145813, 0.24780502915382385, 0.12428910285234451, 0.07227003574371338, -0.3011774718761444, -0.18875250220298767, -0.09240731596946716, -0.29861190915107727, 0.1640586405992508, 0.11340455710887909, -0.12622442841529846, 0.34666240215301514, -0.29876047372817993, -0.02692337892949581, 0.23101843893527985, -0.02698141522705555, -0.4336041212081909, 0.0863371416926384, -0.01671173796057701, -0.1375284343957901, -0.10306854546070099, 0.33114513754844666, -0.29589247703552246, -0.45421984791755676, 0.371843159198761, -0.014801666140556335, -0.2885875701904297, 0.369651198387146, 0.17645996809005737, -0.01813873089849949, -0.37369439005851746, -0.029961075633764267, -0.683996856212616, -0.436897873878479, 0.20900262892246246, -0.11477718502283096, -0.020294250920414925, -0.04603835195302963, 0.18944858014583588, -0.021007943898439407, -0.1500420868396759, 0.026334229856729507, -0.5114580988883972, 0.011553818359971046, -0.013691075146198273, 0.1926720142364502, -0.016442932188510895, -0.21589022874832153, 0.03092009201645851, -0.2163240611553192, 0.2997351586818695, -0.18193718791007996, 0.14099907875061035, 0.24418751895427704, 0.2339058220386505, -0.047256432473659515, 0.07857047021389008, 0.21828511357307434, -0.13598306477069855, -0.00522078201174736, 0.13595980405807495, 0.10499545186758041, -0.4014381468296051, -0.0046174488961696625, 0.28276678919792175, 0.19821786880493164, -0.33482056856155396, 0.018538784235715866, 0.06304825097322464, 1.2131528854370117, 0.13837479054927826, 0.14413738250732422, 0.10791633278131485, 0.31765860319137573, 0.01226864755153656, -0.24133513867855072, -0.05560341104865074, -0.19031961262226105, 0.2811462879180908, -0.0811186358332634, -0.12236964702606201, -0.0878237783908844, 0.011251209303736687, 0.24679327011108398, 0.35646873712539673, -0.10099340975284576, -0.19239404797554016, -0.3840128183364868, 0.04844781756401062, -0.2390139400959015, 0.10639482736587524, 0.14335700869560242, -0.2396412491798401, -0.0019021406769752502, 0.09029976278543472, 0.13974042236804962, -0.22479122877120972, 0.1017286628484726, 0.10975494980812073, -0.14692717790603638, 0.2670398950576782, 0.5690760612487793, 0.24010883271694183, -0.11491717398166656, -0.22539401054382324, -0.10761512815952301, -0.1447717398405075, -0.05096515268087387, 0.22726063430309296, 0.12078645080327988, -0.14081577956676483, 0.5662609338760376, 0.09408631920814514, 0.09805887937545776, 0.44956809282302856, -0.019484270364046097, -0.49486789107322693, 0.2126842737197876, 0.48460355401039124, -0.10617886483669281, -0.0318831130862236, -0.19822105765342712, -0.1696484237909317, -0.1697026491165161, 0.0018108650110661983, -0.4599670469760895, -0.27752646803855896, -0.0749017521739006, 0.4430253207683563, -0.05568592995405197, 0.3570607602596283, 0.6451273560523987, -0.3231419622898102, 0.18213868141174316, 0.04549378156661987, -0.29662469029426575, 0.2817332446575165, 0.27402645349502563, -0.1785108596086502, 0.20988675951957703, 0.26547062397003174, 0.22735907137393951, 0.1757577657699585, 0.29630935192108154, 0.17241589725017548, 0.3975509703159332, 0.027910370379686356, 0.005048826336860657, -1.7374778985977173, 0.16144010424613953, 0.20760147273540497, 0.23750081658363342, 0.19520491361618042, 0.047984056174755096, 0.02548902854323387, -0.03039340116083622, -0.08771663904190063, -0.08983869850635529, 0.3903249204158783, 0.25429829955101013, 0.3121521770954132, -0.032697100192308426, -0.00583912618458271, 0.21639983355998993, 0.13050970435142517, -0.18006190657615662, -0.20371589064598083, 0.1786169707775116, 0.38284167647361755, 0.2737363874912262, -0.10459060966968536, -0.052460357546806335, -0.30874598026275635, 0.24661694467067719, 0.258362352848053, -0.14856989681720734, 0.3015984892845154, 0.3130010962486267, -0.07986648380756378, 0.1031721830368042, -0.026793554425239563, 0.08154464513063431, 0.172242671251297, -0.3090737462043762, -0.10280045121908188, -0.20347900688648224, -0.037597861140966415, 0.0863356664776802, -0.5218473076820374, 0.3307032287120819, -0.08723132312297821, 0.3430871367454529, -0.28515467047691345, 0.2336045205593109, 0.3403356075286865, -0.20269858837127686, 0.5241339802742004, -0.2713997960090637, 0.008716385811567307, -0.4488923251628876, 0.18987366557121277, 0.22121310234069824, -0.14571285247802734, -0.0740506649017334, -0.05037055164575577, -0.04583311453461647, 0.03053557127714157, -0.3419053554534912, -0.5266417264938354, 0.1262756586074829, 0.013987615704536438, 0.25397488474845886, 0.04985330253839493, -0.40862300992012024, -0.5627312660217285, 0.0738983154296875, -0.24608957767486572, -0.3162699341773987, -0.026118382811546326, -0.41795051097869873, -0.022769322618842125, 0.051815275102853775, 0.31934988498687744, -0.0346858985722065, 0.36243003606796265, 0.2748081386089325, 0.19601042568683624, 0.5598094463348389, -0.034160297363996506, -0.06405501067638397, -0.20202668011188507, -0.05279945209622383, 0.17437463998794556, -4.4545440673828125, -0.09913462400436401, -0.298943430185318, -0.03605866804718971, -0.10485976189374924, -0.25585830211639404, 0.05459346994757652, -0.4285169541835785, 0.07448361068964005, -0.04837002605199814, 0.14762043952941895, -0.273074746131897, -0.16159309446811676, -0.031002666801214218, 0.23819440603256226, -0.17540840804576874]\",\n          \"[-0.05185035988688469, -0.4638708531856537, -0.007215328514575958, -0.06746033579111099, 0.18211884796619415, -0.0035504288971424103, 0.0469149686396122, 0.06153493374586105, -0.15168380737304688, -0.30537083745002747, -0.05193457752466202, 0.04793413728475571, 0.09458217024803162, 0.2966405749320984, -0.23346984386444092, 0.23763155937194824, -0.088639996945858, 0.2769877314567566, 0.27728551626205444, 0.12203482538461685, 0.1648690402507782, -0.6937786936759949, 0.08610562235116959, 0.07783286273479462, 0.05071104317903519, -0.12824112176895142, 0.12469308823347092, -0.07373460382223129, 0.3754684329032898, 0.12362547963857651, 0.20780883729457855, 0.23331347107887268, 0.08817596733570099, -0.4757749140262604, 0.4323856234550476, -0.10188551247119904, 0.36689886450767517, -0.12305132299661636, -0.19990786910057068, 0.032821521162986755, -0.09750504791736603, 0.1638413369655609, 0.4869057834148407, -0.228445902466774, 0.12812864780426025, -0.11922038346529007, -2.698647975921631, 0.18776476383209229, -0.500767171382904, -0.3449224829673767, 0.09843604266643524, -0.27053841948509216, -0.1047004759311676, 0.13750094175338745, 0.4057730436325073, 0.5428693890571594, 0.09324443340301514, 0.27205193042755127, 0.0291338749229908, -0.06478499621152878, -0.07477238774299622, -0.02891167253255844, -0.22018428146839142, 0.06369000673294067, 0.030133772641420364, 0.24286195635795593, -0.31197091937065125, 0.11383537948131561, -0.3771745264530182, 0.6386303305625916, -0.1654500812292099, 0.016816850751638412, 0.32812628149986267, -0.014584511518478394, 0.13222722709178925, -0.12182694673538208, -0.0022718862164765596, -0.02321203239262104, 0.04463798925280571, 0.053569868206977844, 0.03701136261224747, 0.3885440230369568, 0.3231275677680969, 0.30704689025878906, 0.06432951241731644, 0.6066246628761292, -0.3115188777446747, 0.14569520950317383, 0.4259134829044342, 0.42104265093803406, 0.03445066511631012, 0.21570250391960144, 0.41511207818984985, 0.3265923857688904, 0.3171790540218353, -0.511797308921814, -0.13185328245162964, 0.06943090260028839, 0.6083245873451233, -8.395034819841385e-05, 0.1183665543794632, 0.14996403455734253, 0.1509324312210083, -0.29215842485427856, 0.17375147342681885, 0.0024328771978616714, -0.23578345775604248, -0.1414327472448349, 0.06697186827659607, -1.6327846050262451, 0.3375631868839264, 0.18596506118774414, -0.10712086409330368, -0.40465572476387024, -0.5577229261398315, 0.11920984089374542, 0.1050763949751854, 0.3982660472393036, 0.02520911768078804, 0.4080031216144562, -0.13780730962753296, 0.33665725588798523, 0.024366365745663643, 0.029367299750447273, -0.10527899116277695, 0.5332568883895874, -0.10641833394765854, 0.38633036613464355, 0.3710385859012604, 0.3649127781391144, 0.2292049527168274, 0.4034036695957184, -0.45060527324676514, -0.01448173075914383, -0.07728724926710129, 0.34897348284721375, 0.020521681755781174, 0.06639856100082397, 0.14864324033260345, -0.0994725450873375, -0.5065854787826538, -0.1937762200832367, -2.0406787395477295, 0.06243343651294708, 0.42580506205558777, -0.11250756680965424, 0.17831546068191528, 0.29273754358291626, -0.3811224699020386, -0.07180081307888031, 0.19453302025794983, -0.19216063618659973, -0.1600213348865509, -0.04402856528759003, -0.17405100166797638, 0.014461543411016464, -0.07646798342466354, -0.2190314680337906, 0.13005998730659485, 0.03473975881934166, -0.022811759263277054, 0.1905989646911621, -0.05834631621837616, -0.052947934716939926, 0.017906945198774338, 0.11334061622619629, 0.17281414568424225, 0.11370475590229034, -0.07549070566892624, 0.18123415112495422, 0.106629878282547, 0.03343358263373375, 0.3044539988040924, -0.15888282656669617, 0.3078242540359497, 0.1764593869447708, -0.16377264261245728, 0.34858283400535583, -0.0938563346862793, -0.21202436089515686, -0.5785102844238281, 0.5313444137573242, 0.20506837964057922, 0.19526506960391998, 0.07283231616020203, -0.0916166752576828, 0.3854934871196747, -0.013035854324698448, -0.033094972372055054, -0.034513942897319794, -0.13817791640758514, -0.1661737561225891, 0.014958556741476059, 0.01666097715497017, 0.2863975763320923, 0.26281502842903137, 0.10106179118156433, -0.11815956234931946, -0.07474758476018906, 0.21771305799484253, 0.014421327039599419, 0.06475065648555756, -0.19371388852596283, -0.1389807015657425, -0.2601063847541809, 2.923313856124878, 0.33034393191337585, -0.1081172451376915, 0.3934807777404785, 0.13147102296352386, 0.3637409210205078, -0.18557007610797882, -0.058329254388809204, -0.05727043375372887, 0.21298812329769135, -0.14341938495635986, 0.339539498090744, -0.0688592791557312, 0.2909121811389923, -0.14778132736682892, 0.4095139801502228, -0.09030836075544357, -0.09842969477176666, 0.3284074068069458, -0.33044683933258057, 0.2618773877620697, -0.06443655490875244, -0.2771398425102234, 0.0015621297061443329, -0.8100013136863708, 0.20445339381694794, -0.39675241708755493, -0.24567386507987976, 0.08650749921798706, -0.2854998707771301, -0.024857167154550552, 0.14835414290428162, -0.003168828785419464, 0.23617330193519592, -0.11556363105773926, 0.0670028105378151, 0.09123698621988297, 0.1610882431268692, -0.2699631452560425, -0.4091642498970032, 0.09079572558403015, 0.1561845988035202, -0.0696946382522583, 0.20130527019500732, -0.18221470713615417, 0.15557852387428284, -0.0955374464392662, 0.1300237476825714, -0.09240152686834335, -0.14549967646598816, 0.10633759945631027, 0.04983488842844963, 0.019333939999341965, -0.14106006920337677, -0.11039729416370392, -0.24904221296310425, -0.17503109574317932, 0.29705509543418884, -0.07847759872674942, -0.5967174768447876, -0.165380597114563, -0.019634976983070374, -0.09581182897090912, 0.11054056882858276, -0.08027562499046326, -0.009302910417318344, 0.04806135594844818, -0.544468879699707, -2.379051685333252, -0.00883239135146141, -0.21587441861629486, 0.4115350842475891, 0.15694522857666016, -0.01428784430027008, 0.018979772925376892, 0.1682528704404831, 0.25817322731018066, 0.46471965312957764, 0.1815442442893982, 0.007976138032972813, 0.07512082159519196, -0.09885597974061966, -0.07423064112663269, 0.12879127264022827, -0.041847001761198044, -0.03168904408812523, 0.22062093019485474, -0.31887659430503845, -0.02844284102320671, 0.0850040465593338, -0.10358171910047531, 0.07372565567493439, -0.16176840662956238, 0.1030709519982338, -0.5383533835411072, -0.2676149010658264, 0.10596515238285065, 0.0939558893442154, -0.10956170409917831, -0.2864968180656433, 0.13539113104343414, -0.1737324446439743, -0.5218953490257263, -3.979851484298706, 0.04764578491449356, -0.15285666286945343, -0.12042165547609329, 0.09517006576061249, -0.32800471782684326, 0.5143972039222717, -0.006701933220028877, -0.10614681243896484, 0.06065533310174942, 0.05339188128709793, 0.10267417132854462, 0.2066154181957245, 0.11260788887739182, 0.17957204580307007, 0.7074276804924011, 0.5161865949630737, -0.12374885380268097, 0.3045014441013336, 0.16686446964740753, 0.1595636010169983, 0.004754733294248581, -0.08400636166334152, -0.061212144792079926, -0.04057401046156883, 0.08636578172445297, -0.7513170838356018, 0.10845720022916794, -0.1129654124379158, -0.32753434777259827, -0.1512472927570343, -0.5670686960220337, -0.1619236022233963, 0.170472651720047, -0.11202985048294067, -0.3977718949317932, -0.11193318665027618, 0.22419926524162292, 0.27081578969955444, 0.1464451253414154, 0.11245326697826385, 0.6128333210945129, -0.0009087696671485901, 0.19726502895355225, 0.6252883672714233, 0.09002655744552612, 0.33574479818344116, -0.26173388957977295, -0.02035500481724739, 0.07786376774311066, -0.006135111674666405, -0.25522929430007935, 0.9684561491012573, -0.34019047021865845, -0.028282292187213898, 0.005952253006398678, 0.4170932173728943, 0.21199123561382294, -0.1744043529033661, 0.0985930934548378, 0.06602951139211655, -0.10856496542692184, -0.20957422256469727, -0.3109045624732971, -0.0670742467045784, -0.22099247574806213, 0.10547596216201782, -0.4998604953289032, -0.01924818381667137, -0.017113719135522842, -0.19477085769176483, 0.12552131712436676, 0.2530907690525055, -0.8843722939491272, -0.07508781552314758, -0.3276641368865967, 0.21457743644714355, -0.23970316350460052, 0.18183985352516174, 0.21384823322296143, -0.3567044138908386, -0.1690811961889267, -0.0518171489238739, 0.526232123374939, -0.3142756521701813, 0.29194971919059753, 0.01833638921380043, -0.14882001280784607, -0.49168503284454346, 0.14416511356830597, 0.11397521942853928, 0.34319502115249634, -0.1303478479385376, -0.26500675082206726, 0.014321988448500633, -0.12207827717065811, 0.30293819308280945, -0.639240562915802, 0.10183998197317123, -0.4904135763645172, -0.19759099185466766, -0.1928391456604004, -0.16292360424995422, -0.5869163274765015, -0.050132084637880325, -0.14316251873970032, -0.31235989928245544, 0.18846584856510162, 0.34882652759552, 0.10176397860050201, 0.3233306407928467, -0.1962575614452362, 0.07701638340950012, 0.07103437185287476, 0.6640300154685974, -0.018475456163287163, -0.32050633430480957, 0.16067224740982056, 0.056699275970458984, -0.0195777490735054, 0.4458869397640228, 0.16544285416603088, -0.02420707792043686, -0.047254323959350586, -0.2123958170413971, 0.01352204941213131, 0.037591975182294846, -0.16128166019916534, -0.5310633182525635, -0.045357514172792435, 0.10748495161533356, -0.136365607380867, -0.3585715591907501, -0.4608868956565857, -0.1549145132303238, -0.10944931209087372, -0.24958163499832153, 0.05465634539723396, 0.2667481005191803, -0.1673230677843094, 0.3807150721549988, 0.1507463902235031, -0.20635753870010376, 0.11610370129346848, 0.10911338776350021, 0.5957319736480713, 0.06282325088977814, 0.0034926384687423706, -0.09376056492328644, 0.20269499719142914, 0.12984132766723633, -0.2514692544937134, -0.2896501421928406, -0.34385043382644653, -0.061320412904024124, -0.2235972285270691, 0.17836841940879822, 0.2068806290626526, -0.0515717938542366, -0.43813180923461914, 0.2555670142173767, 0.2135881781578064, -1.6451581716537476, 0.47133877873420715, 0.019401662051677704, 0.06704021245241165, -0.07209838181734085, -0.2674352526664734, -0.2923029661178589, 0.23939573764801025, 0.34600400924682617, -0.01995006576180458, -0.28149518370628357, -0.3454287648200989, 0.4044233560562134, 0.35906317830085754, 0.24209845066070557, -0.14103607833385468, -0.2817712426185608, 0.05769536644220352, 0.12638916075229645, -0.24625271558761597, -0.34441277384757996, 0.4372585117816925, -0.027353433892130852, -0.1293332725763321, -0.030165305361151695, -0.11517192423343658, -0.1476985067129135, 0.29564976692199707, 0.22822044789791107, 0.1741006225347519, 0.13793769478797913, -0.23935750126838684, -0.41043147444725037, -0.19878455996513367, 0.3422609269618988, 0.4668010473251343, 0.059275683015584946, -0.08293294161558151, -0.011704104021191597, 0.5089926719665527, -0.4617540240287781, 0.3523750603199005, -0.010519076138734818, 0.07057327032089233, 0.25997477769851685, 0.18043625354766846, -0.46190640330314636, 0.1455284059047699, 0.09860504418611526, -0.10744564235210419, 0.34911176562309265, -0.11929358541965485, -0.4393681585788727, -0.17745862901210785, -0.38547638058662415, 0.1025180071592331, 0.12580177187919617, -0.06497032940387726, -0.02625688910484314, -0.290555477142334, 0.414776474237442, -0.003435622900724411, -0.24209921061992645, 0.3871777653694153, 0.10768182575702667, -0.6029309630393982, 0.07651929557323456, 0.26603439450263977, 0.05485574156045914, 0.009776024147868156, 0.22177666425704956, 0.061834950000047684, -0.28907105326652527, 0.3820118308067322, -0.5110951066017151, 0.02757118083536625, 0.43961262702941895, 0.04321349784731865, -0.108852818608284, -0.12477992475032806, -0.3396681547164917, -0.4592151641845703, -0.7102092504501343, 0.32457491755485535, -0.13251665234565735, -0.08698100596666336, -0.16344478726387024, 0.14974291622638702, 0.1909453272819519, -0.056088462471961975, -0.2325742095708847, -0.5488202571868896, 0.15160304307937622, 0.38912057876586914, 0.21693527698516846, -0.03596245497465134, -0.1817457675933838, 0.37301886081695557, -0.13853682577610016, 0.18341678380966187, -0.36834317445755005, 0.1776413917541504, 0.16150525212287903, 0.17260712385177612, 0.1437048763036728, 0.10188578069210052, 0.01075395941734314, -0.1152888685464859, -0.22709952294826508, 0.3538496792316437, 0.029450975358486176, -0.25745847821235657, 0.0918816328048706, 0.24891617894172668, -0.17789870500564575, -0.4129597246646881, 0.07743973284959793, 0.07164434343576431, 1.1524972915649414, -0.008614519611001015, 0.1278446614742279, 0.2079678773880005, 0.12681543827056885, 0.2554887533187866, 0.0635984018445015, -0.08863476663827896, -0.6705288290977478, 0.4856180250644684, 0.343332976102829, -0.06988115608692169, -0.2280854433774948, -0.024937434121966362, 0.017782174050807953, 0.3451727330684662, -0.15359210968017578, -0.27938196063041687, -0.12401750683784485, 0.08684137463569641, -0.2924344837665558, 0.24484848976135254, 0.189165398478508, 0.20094266533851624, 0.05876946449279785, -0.018703673034906387, 0.284368097782135, -0.21739551424980164, 0.18796630203723907, 0.25543367862701416, 0.06354615092277527, 0.06797096133232117, 0.3205847144126892, 0.2879432439804077, -0.07528315484523773, 0.002378419041633606, 0.0979657992720604, -0.2348402887582779, -0.06150439381599426, -0.02298806980252266, 0.3497035801410675, -0.3174719214439392, 0.34454235434532166, -0.2483971118927002, -0.22314918041229248, 0.7894228100776672, -0.400312602519989, -0.4294351637363434, 0.15028351545333862, 0.11822950839996338, 0.09896384924650192, -0.16180148720741272, -0.24992448091506958, 0.020605575293302536, -0.09239249676465988, 0.2775077223777771, -0.044480886310338974, -0.15393950045108795, -0.3415108025074005, 0.5913771390914917, 0.1627638339996338, 0.44861528277397156, 0.5966356992721558, -0.24312441051006317, 0.13056185841560364, 0.10506989806890488, -0.37220650911331177, 0.2340714931488037, 0.13638834655284882, -0.2458290308713913, -0.0009530652314424515, -0.16533735394477844, 0.4529688060283661, 0.0926215872168541, 0.03630683571100235, 0.14958316087722778, 0.5517187118530273, -0.1331253945827484, -0.2793537378311157, -1.575178861618042, 0.11699138581752777, -0.04496580362319946, 0.06462502479553223, 0.022535892203450203, 0.0979851707816124, 0.10896067321300507, -0.13659752905368805, -0.21005958318710327, -0.3158080577850342, 0.5006614923477173, 0.04887550324201584, 0.5037204623222351, -0.06182664632797241, 0.34088170528411865, -0.011500585824251175, 0.03343486785888672, -0.2967206537723541, 0.046435289084911346, -0.10167950391769409, 0.15527266263961792, 0.32449033856391907, -0.143466055393219, -0.3197191059589386, -0.3732339143753052, 0.053671132773160934, -0.17284344136714935, -0.315127968788147, 0.39009350538253784, 0.20097436010837555, -0.0016476325690746307, 0.03161168843507767, -0.2617449164390564, -0.12586736679077148, 0.18703532218933105, -0.27732208371162415, 0.09365890175104141, 0.06705601513385773, -0.10020878165960312, 0.09655871987342834, -0.23145903646945953, 0.26237422227859497, 0.22866791486740112, 0.2503398656845093, -0.1503571718931198, 0.14190427958965302, 0.23280678689479828, -0.20191188156604767, 0.6942052841186523, -0.3195512592792511, 0.10128597915172577, -0.15711621940135956, 0.07318319380283356, 0.2545228600502014, -0.11753903329372406, 0.10617825388908386, 0.10671823471784592, 0.03449481725692749, -0.13009920716285706, -0.43424299359321594, -0.30670732259750366, 0.005156762897968292, -0.12689384818077087, 0.09363308548927307, 0.33497753739356995, 0.142752006649971, -0.12660762667655945, 0.14956744015216827, 0.19321133196353912, 0.036601144820451736, 0.08648276329040527, -0.24283409118652344, 0.4369221329689026, 0.061762142926454544, 0.25960850715637207, -0.10505259037017822, 0.38978826999664307, 0.18675091862678528, 0.051656849682331085, 0.213729590177536, 0.15780290961265564, -0.014452346600592136, -0.29913416504859924, -0.0883510410785675, 0.35162684321403503, -4.774632453918457, -0.21817705035209656, -0.3199447691440582, -0.06894069910049438, -0.22282028198242188, -0.4329451620578766, 0.15207789838314056, -0.6200048923492432, 0.1066804751753807, -0.23097622394561768, 0.2531948387622833, -0.004236243665218353, -0.2090575098991394, 0.056325484067201614, -0.19671523571014404, 0.23848339915275574]\"\n        ],\n        \"semantic_type\": \"\",\n        \"description\": \"\"\n      }\n    }\n  ]\n}"
            }
          },
          "metadata": {},
          "execution_count": 4
        }
      ]
    },
    {
      "cell_type": "code",
      "source": [
        "df.drop(columns=['feature_image_s3'])"
      ],
      "metadata": {
        "colab": {
          "base_uri": "https://localhost:8080/",
          "height": 1000
        },
        "id": "iLU4vKuuBwRY",
        "outputId": "ad6db99b-3a22-4dc7-e41c-e260a4d35751"
      },
      "execution_count": 5,
      "outputs": [
        {
          "output_type": "execute_result",
          "data": {
            "text/plain": [
              "       Unnamed: 0                                        description  \\\n",
              "0               0  name stylish womens crepe wine color ethnic mo...   \n",
              "1               1  name woman printed viscose rayon anarkali kurt...   \n",
              "2               2  name new simple collection embroidered neck co...   \n",
              "3               3  name rash womens cotton green kurti fabric cot...   \n",
              "4               4  name woman woolen top pattern printed size un ...   \n",
              "...           ...                                                ...   \n",
              "84947       84947  100% polyester composition short sleeve sleeve...   \n",
              "84948       84948  shirt button front detail short sleeve sleeve ...   \n",
              "84949       84949  100% polyester composition long sleeve sleeve ...   \n",
              "84950       84950  shirt shirt collar neckline length sky blue co...   \n",
              "84951       84951  shirt short sleeve sleeve length collar neckli...   \n",
              "\n",
              "       category_id                                         product_id  \\\n",
              "0               63  67366e67e01d2ca19fda979eb97c478ccd8c048df8ab42...   \n",
              "1               63  f9e6dc103f1c7d214abad01dd96ac7f5311bc6644242e6...   \n",
              "2               63  f0502b447d051f264ca0f2c57a16f5f6344e5544ead2e0...   \n",
              "3               63  88fa39611a66b15e05b8d38f44544c276e0a572c888b74...   \n",
              "4               63  6330d6991ec9b5d1fde92c0d363c2f38678ef4bc9f24bd...   \n",
              "...            ...                                                ...   \n",
              "84947           91  0f2124eff0dc2620e97ac5d2bcbe1229dc454869871d13...   \n",
              "84948           91  20837c5a6979477e4c0e4d65abb3ff5aa9b4f5315ef8fc...   \n",
              "84949           91  cd96d929c418bcffd95cb1f4463c5bcb48b363004ad175...   \n",
              "84950           91  ab978c2529197a2edb303bc9112722db8c3fffbe3a91d5...   \n",
              "84951           91  a390b6998e5ff8baafe4e45cf4e5b45ba60a9343ca20a0...   \n",
              "\n",
              "                                                 pdp_url         brand  \\\n",
              "0      https://www.meesho.com/stylish-womens-crepe-wi...       Generic   \n",
              "1      https://www.meesho.com/women-printed-viscose-r...       Generic   \n",
              "2      https://www.meesho.com/new-simple-collection-e...       Generic   \n",
              "3      https://www.meesho.com/rash-womens-cotton-gree...       Generic   \n",
              "4       https://www.meesho.com/women-woolen-top/p/7kk14r       Generic   \n",
              "...                                                  ...           ...   \n",
              "84947  https://us.shein.com/Manfinity-Hypemode-Men-Dr...     Manfinity   \n",
              "84948  https://us.shein.com/Michael-Kors-Men-s-Slim-F...  MICHAEL KORS   \n",
              "84949  https://us.shein.com/Manfinity-Homme-Men-s-Sol...     Manfinity   \n",
              "84950  https://us.shein.com/Mango-MANGO-Men-s-Slim-Fi...         MANGO   \n",
              "84951  https://us.shein.com/Columbia-Columbia-Cool-Cr...      Columbia   \n",
              "\n",
              "                                           feature_image  department_id   mrp  \\\n",
              "0      https://images.meesho.com/images/products/2809...              2   999   \n",
              "1      https://images.meesho.com/images/products/1595...              2   799   \n",
              "2      https://images.meesho.com/images/products/4539...              2   599   \n",
              "3      https://images.meesho.com/images/products/4573...              2   799   \n",
              "4      https://images.meesho.com/images/products/4577...              2  1000   \n",
              "...                                                  ...            ...   ...   \n",
              "84947  https://img.ltwebstatic.com/images3_pi/2021/12...              1  1419   \n",
              "84948  https://img.ltwebstatic.com/images3_spmp/2024/...              1  9541   \n",
              "84949  https://img.ltwebstatic.com/images3_pi/2023/12...              1  1333   \n",
              "84950  https://img.ltwebstatic.com/images3_spmp/2024/...              1  5807   \n",
              "84951  https://img.ltwebstatic.com/images3_spmp/2024/...              1  5594   \n",
              "\n",
              "                                            product_name  channel_id  \\\n",
              "0      stylish womens crepe wine color ethnic motif p...         401   \n",
              "1             woman printed viscose rayon anarkali kurti         401   \n",
              "2      new simple collection embroidered neck cotton ...         401   \n",
              "3                         rash womens cotton green kurti         401   \n",
              "4                                       woman woolen top         401   \n",
              "...                                                  ...         ...   \n",
              "84947  manfinity hypemode men drawstring hooded shirt...          49   \n",
              "84948  michael kor men slim fit short sleeve button f...          49   \n",
              "84949  manfinity homme men solid color long sleeve shirt          49   \n",
              "84950        mango mango men slim fit cotton dress shirt          49   \n",
              "84951           columbia columbia cool creek plaid shirt          49   \n",
              "\n",
              "                                        style_attributes category_name  \\\n",
              "0                {'Supplier Information': 'SHYAMAL TEX'}        Kurtis   \n",
              "1                {'Supplier Information': 'KF Khushees'}        Kurtis   \n",
              "2               {'Supplier Information': 'Panchkudi@28'}        Kurtis   \n",
              "3      {'Supplier Information': 'JMJ ENTERPRISES JAIP...        Kurtis   \n",
              "4          {'Supplier Information': 'S.W.A.S..CREATION'}        Kurtis   \n",
              "...                                                  ...           ...   \n",
              "84947  {'Composition': '100% Polyester', 'Sleeve Leng...        Shirts   \n",
              "84948  {'Type': 'Shirt', 'Details': 'Button Front', '...        Shirts   \n",
              "84949  {'Composition': '100% Polyester', 'Sleeve Leng...        Shirts   \n",
              "84950  {'Type': 'Shirt', 'Neckline': 'Shirt Collar', ...        Shirts   \n",
              "84951  {'Type': 'Shirt', 'Sleeve Length': 'Short Slee...        Shirts   \n",
              "\n",
              "      Retailer_name                                distilbert_features  \n",
              "0         Meesho IN  [-0.2062634825706482, -0.28366509079933167, -0...  \n",
              "1         Meesho IN  [-0.10604754090309143, -0.364780068397522, -0....  \n",
              "2         Meesho IN  [-0.23753990232944489, -0.2974393367767334, -0...  \n",
              "3         Meesho IN  [-0.12778538465499878, -0.43310534954071045, -...  \n",
              "4         Meesho IN  [-0.22102829813957214, -0.20607741177082062, -...  \n",
              "...             ...                                                ...  \n",
              "84947      Shein US  [0.0706673115491867, -0.40828678011894226, -0....  \n",
              "84948      Shein US  [-0.08831173181533813, -0.5585682392120361, -0...  \n",
              "84949      Shein US  [-0.050016820430755615, -0.4062556028366089, -...  \n",
              "84950      Shein US  [-0.11353450268507004, -0.4449637234210968, -0...  \n",
              "84951      Shein US  [-0.056018684059381485, -0.44551143050193787, ...  \n",
              "\n",
              "[84952 rows x 15 columns]"
            ],
            "text/html": [
              "\n",
              "  <div id=\"df-5be2cebf-baa5-4ba1-b0eb-61517a3bcfc2\" class=\"colab-df-container\">\n",
              "    <div>\n",
              "<style scoped>\n",
              "    .dataframe tbody tr th:only-of-type {\n",
              "        vertical-align: middle;\n",
              "    }\n",
              "\n",
              "    .dataframe tbody tr th {\n",
              "        vertical-align: top;\n",
              "    }\n",
              "\n",
              "    .dataframe thead th {\n",
              "        text-align: right;\n",
              "    }\n",
              "</style>\n",
              "<table border=\"1\" class=\"dataframe\">\n",
              "  <thead>\n",
              "    <tr style=\"text-align: right;\">\n",
              "      <th></th>\n",
              "      <th>Unnamed: 0</th>\n",
              "      <th>description</th>\n",
              "      <th>category_id</th>\n",
              "      <th>product_id</th>\n",
              "      <th>pdp_url</th>\n",
              "      <th>brand</th>\n",
              "      <th>feature_image</th>\n",
              "      <th>department_id</th>\n",
              "      <th>mrp</th>\n",
              "      <th>product_name</th>\n",
              "      <th>channel_id</th>\n",
              "      <th>style_attributes</th>\n",
              "      <th>category_name</th>\n",
              "      <th>Retailer_name</th>\n",
              "      <th>distilbert_features</th>\n",
              "    </tr>\n",
              "  </thead>\n",
              "  <tbody>\n",
              "    <tr>\n",
              "      <th>0</th>\n",
              "      <td>0</td>\n",
              "      <td>name stylish womens crepe wine color ethnic mo...</td>\n",
              "      <td>63</td>\n",
              "      <td>67366e67e01d2ca19fda979eb97c478ccd8c048df8ab42...</td>\n",
              "      <td>https://www.meesho.com/stylish-womens-crepe-wi...</td>\n",
              "      <td>Generic</td>\n",
              "      <td>https://images.meesho.com/images/products/2809...</td>\n",
              "      <td>2</td>\n",
              "      <td>999</td>\n",
              "      <td>stylish womens crepe wine color ethnic motif p...</td>\n",
              "      <td>401</td>\n",
              "      <td>{'Supplier Information': 'SHYAMAL TEX'}</td>\n",
              "      <td>Kurtis</td>\n",
              "      <td>Meesho IN</td>\n",
              "      <td>[-0.2062634825706482, -0.28366509079933167, -0...</td>\n",
              "    </tr>\n",
              "    <tr>\n",
              "      <th>1</th>\n",
              "      <td>1</td>\n",
              "      <td>name woman printed viscose rayon anarkali kurt...</td>\n",
              "      <td>63</td>\n",
              "      <td>f9e6dc103f1c7d214abad01dd96ac7f5311bc6644242e6...</td>\n",
              "      <td>https://www.meesho.com/women-printed-viscose-r...</td>\n",
              "      <td>Generic</td>\n",
              "      <td>https://images.meesho.com/images/products/1595...</td>\n",
              "      <td>2</td>\n",
              "      <td>799</td>\n",
              "      <td>woman printed viscose rayon anarkali kurti</td>\n",
              "      <td>401</td>\n",
              "      <td>{'Supplier Information': 'KF Khushees'}</td>\n",
              "      <td>Kurtis</td>\n",
              "      <td>Meesho IN</td>\n",
              "      <td>[-0.10604754090309143, -0.364780068397522, -0....</td>\n",
              "    </tr>\n",
              "    <tr>\n",
              "      <th>2</th>\n",
              "      <td>2</td>\n",
              "      <td>name new simple collection embroidered neck co...</td>\n",
              "      <td>63</td>\n",
              "      <td>f0502b447d051f264ca0f2c57a16f5f6344e5544ead2e0...</td>\n",
              "      <td>https://www.meesho.com/new-simple-collection-e...</td>\n",
              "      <td>Generic</td>\n",
              "      <td>https://images.meesho.com/images/products/4539...</td>\n",
              "      <td>2</td>\n",
              "      <td>599</td>\n",
              "      <td>new simple collection embroidered neck cotton ...</td>\n",
              "      <td>401</td>\n",
              "      <td>{'Supplier Information': 'Panchkudi@28'}</td>\n",
              "      <td>Kurtis</td>\n",
              "      <td>Meesho IN</td>\n",
              "      <td>[-0.23753990232944489, -0.2974393367767334, -0...</td>\n",
              "    </tr>\n",
              "    <tr>\n",
              "      <th>3</th>\n",
              "      <td>3</td>\n",
              "      <td>name rash womens cotton green kurti fabric cot...</td>\n",
              "      <td>63</td>\n",
              "      <td>88fa39611a66b15e05b8d38f44544c276e0a572c888b74...</td>\n",
              "      <td>https://www.meesho.com/rash-womens-cotton-gree...</td>\n",
              "      <td>Generic</td>\n",
              "      <td>https://images.meesho.com/images/products/4573...</td>\n",
              "      <td>2</td>\n",
              "      <td>799</td>\n",
              "      <td>rash womens cotton green kurti</td>\n",
              "      <td>401</td>\n",
              "      <td>{'Supplier Information': 'JMJ ENTERPRISES JAIP...</td>\n",
              "      <td>Kurtis</td>\n",
              "      <td>Meesho IN</td>\n",
              "      <td>[-0.12778538465499878, -0.43310534954071045, -...</td>\n",
              "    </tr>\n",
              "    <tr>\n",
              "      <th>4</th>\n",
              "      <td>4</td>\n",
              "      <td>name woman woolen top pattern printed size un ...</td>\n",
              "      <td>63</td>\n",
              "      <td>6330d6991ec9b5d1fde92c0d363c2f38678ef4bc9f24bd...</td>\n",
              "      <td>https://www.meesho.com/women-woolen-top/p/7kk14r</td>\n",
              "      <td>Generic</td>\n",
              "      <td>https://images.meesho.com/images/products/4577...</td>\n",
              "      <td>2</td>\n",
              "      <td>1000</td>\n",
              "      <td>woman woolen top</td>\n",
              "      <td>401</td>\n",
              "      <td>{'Supplier Information': 'S.W.A.S..CREATION'}</td>\n",
              "      <td>Kurtis</td>\n",
              "      <td>Meesho IN</td>\n",
              "      <td>[-0.22102829813957214, -0.20607741177082062, -...</td>\n",
              "    </tr>\n",
              "    <tr>\n",
              "      <th>...</th>\n",
              "      <td>...</td>\n",
              "      <td>...</td>\n",
              "      <td>...</td>\n",
              "      <td>...</td>\n",
              "      <td>...</td>\n",
              "      <td>...</td>\n",
              "      <td>...</td>\n",
              "      <td>...</td>\n",
              "      <td>...</td>\n",
              "      <td>...</td>\n",
              "      <td>...</td>\n",
              "      <td>...</td>\n",
              "      <td>...</td>\n",
              "      <td>...</td>\n",
              "      <td>...</td>\n",
              "    </tr>\n",
              "    <tr>\n",
              "      <th>84947</th>\n",
              "      <td>84947</td>\n",
              "      <td>100% polyester composition short sleeve sleeve...</td>\n",
              "      <td>91</td>\n",
              "      <td>0f2124eff0dc2620e97ac5d2bcbe1229dc454869871d13...</td>\n",
              "      <td>https://us.shein.com/Manfinity-Hypemode-Men-Dr...</td>\n",
              "      <td>Manfinity</td>\n",
              "      <td>https://img.ltwebstatic.com/images3_pi/2021/12...</td>\n",
              "      <td>1</td>\n",
              "      <td>1419</td>\n",
              "      <td>manfinity hypemode men drawstring hooded shirt...</td>\n",
              "      <td>49</td>\n",
              "      <td>{'Composition': '100% Polyester', 'Sleeve Leng...</td>\n",
              "      <td>Shirts</td>\n",
              "      <td>Shein US</td>\n",
              "      <td>[0.0706673115491867, -0.40828678011894226, -0....</td>\n",
              "    </tr>\n",
              "    <tr>\n",
              "      <th>84948</th>\n",
              "      <td>84948</td>\n",
              "      <td>shirt button front detail short sleeve sleeve ...</td>\n",
              "      <td>91</td>\n",
              "      <td>20837c5a6979477e4c0e4d65abb3ff5aa9b4f5315ef8fc...</td>\n",
              "      <td>https://us.shein.com/Michael-Kors-Men-s-Slim-F...</td>\n",
              "      <td>MICHAEL KORS</td>\n",
              "      <td>https://img.ltwebstatic.com/images3_spmp/2024/...</td>\n",
              "      <td>1</td>\n",
              "      <td>9541</td>\n",
              "      <td>michael kor men slim fit short sleeve button f...</td>\n",
              "      <td>49</td>\n",
              "      <td>{'Type': 'Shirt', 'Details': 'Button Front', '...</td>\n",
              "      <td>Shirts</td>\n",
              "      <td>Shein US</td>\n",
              "      <td>[-0.08831173181533813, -0.5585682392120361, -0...</td>\n",
              "    </tr>\n",
              "    <tr>\n",
              "      <th>84949</th>\n",
              "      <td>84949</td>\n",
              "      <td>100% polyester composition long sleeve sleeve ...</td>\n",
              "      <td>91</td>\n",
              "      <td>cd96d929c418bcffd95cb1f4463c5bcb48b363004ad175...</td>\n",
              "      <td>https://us.shein.com/Manfinity-Homme-Men-s-Sol...</td>\n",
              "      <td>Manfinity</td>\n",
              "      <td>https://img.ltwebstatic.com/images3_pi/2023/12...</td>\n",
              "      <td>1</td>\n",
              "      <td>1333</td>\n",
              "      <td>manfinity homme men solid color long sleeve shirt</td>\n",
              "      <td>49</td>\n",
              "      <td>{'Composition': '100% Polyester', 'Sleeve Leng...</td>\n",
              "      <td>Shirts</td>\n",
              "      <td>Shein US</td>\n",
              "      <td>[-0.050016820430755615, -0.4062556028366089, -...</td>\n",
              "    </tr>\n",
              "    <tr>\n",
              "      <th>84950</th>\n",
              "      <td>84950</td>\n",
              "      <td>shirt shirt collar neckline length sky blue co...</td>\n",
              "      <td>91</td>\n",
              "      <td>ab978c2529197a2edb303bc9112722db8c3fffbe3a91d5...</td>\n",
              "      <td>https://us.shein.com/Mango-MANGO-Men-s-Slim-Fi...</td>\n",
              "      <td>MANGO</td>\n",
              "      <td>https://img.ltwebstatic.com/images3_spmp/2024/...</td>\n",
              "      <td>1</td>\n",
              "      <td>5807</td>\n",
              "      <td>mango mango men slim fit cotton dress shirt</td>\n",
              "      <td>49</td>\n",
              "      <td>{'Type': 'Shirt', 'Neckline': 'Shirt Collar', ...</td>\n",
              "      <td>Shirts</td>\n",
              "      <td>Shein US</td>\n",
              "      <td>[-0.11353450268507004, -0.4449637234210968, -0...</td>\n",
              "    </tr>\n",
              "    <tr>\n",
              "      <th>84951</th>\n",
              "      <td>84951</td>\n",
              "      <td>shirt short sleeve sleeve length collar neckli...</td>\n",
              "      <td>91</td>\n",
              "      <td>a390b6998e5ff8baafe4e45cf4e5b45ba60a9343ca20a0...</td>\n",
              "      <td>https://us.shein.com/Columbia-Columbia-Cool-Cr...</td>\n",
              "      <td>Columbia</td>\n",
              "      <td>https://img.ltwebstatic.com/images3_spmp/2024/...</td>\n",
              "      <td>1</td>\n",
              "      <td>5594</td>\n",
              "      <td>columbia columbia cool creek plaid shirt</td>\n",
              "      <td>49</td>\n",
              "      <td>{'Type': 'Shirt', 'Sleeve Length': 'Short Slee...</td>\n",
              "      <td>Shirts</td>\n",
              "      <td>Shein US</td>\n",
              "      <td>[-0.056018684059381485, -0.44551143050193787, ...</td>\n",
              "    </tr>\n",
              "  </tbody>\n",
              "</table>\n",
              "<p>84952 rows × 15 columns</p>\n",
              "</div>\n",
              "    <div class=\"colab-df-buttons\">\n",
              "\n",
              "  <div class=\"colab-df-container\">\n",
              "    <button class=\"colab-df-convert\" onclick=\"convertToInteractive('df-5be2cebf-baa5-4ba1-b0eb-61517a3bcfc2')\"\n",
              "            title=\"Convert this dataframe to an interactive table.\"\n",
              "            style=\"display:none;\">\n",
              "\n",
              "  <svg xmlns=\"http://www.w3.org/2000/svg\" height=\"24px\" viewBox=\"0 -960 960 960\">\n",
              "    <path d=\"M120-120v-720h720v720H120Zm60-500h600v-160H180v160Zm220 220h160v-160H400v160Zm0 220h160v-160H400v160ZM180-400h160v-160H180v160Zm440 0h160v-160H620v160ZM180-180h160v-160H180v160Zm440 0h160v-160H620v160Z\"/>\n",
              "  </svg>\n",
              "    </button>\n",
              "\n",
              "  <style>\n",
              "    .colab-df-container {\n",
              "      display:flex;\n",
              "      gap: 12px;\n",
              "    }\n",
              "\n",
              "    .colab-df-convert {\n",
              "      background-color: #E8F0FE;\n",
              "      border: none;\n",
              "      border-radius: 50%;\n",
              "      cursor: pointer;\n",
              "      display: none;\n",
              "      fill: #1967D2;\n",
              "      height: 32px;\n",
              "      padding: 0 0 0 0;\n",
              "      width: 32px;\n",
              "    }\n",
              "\n",
              "    .colab-df-convert:hover {\n",
              "      background-color: #E2EBFA;\n",
              "      box-shadow: 0px 1px 2px rgba(60, 64, 67, 0.3), 0px 1px 3px 1px rgba(60, 64, 67, 0.15);\n",
              "      fill: #174EA6;\n",
              "    }\n",
              "\n",
              "    .colab-df-buttons div {\n",
              "      margin-bottom: 4px;\n",
              "    }\n",
              "\n",
              "    [theme=dark] .colab-df-convert {\n",
              "      background-color: #3B4455;\n",
              "      fill: #D2E3FC;\n",
              "    }\n",
              "\n",
              "    [theme=dark] .colab-df-convert:hover {\n",
              "      background-color: #434B5C;\n",
              "      box-shadow: 0px 1px 3px 1px rgba(0, 0, 0, 0.15);\n",
              "      filter: drop-shadow(0px 1px 2px rgba(0, 0, 0, 0.3));\n",
              "      fill: #FFFFFF;\n",
              "    }\n",
              "  </style>\n",
              "\n",
              "    <script>\n",
              "      const buttonEl =\n",
              "        document.querySelector('#df-5be2cebf-baa5-4ba1-b0eb-61517a3bcfc2 button.colab-df-convert');\n",
              "      buttonEl.style.display =\n",
              "        google.colab.kernel.accessAllowed ? 'block' : 'none';\n",
              "\n",
              "      async function convertToInteractive(key) {\n",
              "        const element = document.querySelector('#df-5be2cebf-baa5-4ba1-b0eb-61517a3bcfc2');\n",
              "        const dataTable =\n",
              "          await google.colab.kernel.invokeFunction('convertToInteractive',\n",
              "                                                    [key], {});\n",
              "        if (!dataTable) return;\n",
              "\n",
              "        const docLinkHtml = 'Like what you see? Visit the ' +\n",
              "          '<a target=\"_blank\" href=https://colab.research.google.com/notebooks/data_table.ipynb>data table notebook</a>'\n",
              "          + ' to learn more about interactive tables.';\n",
              "        element.innerHTML = '';\n",
              "        dataTable['output_type'] = 'display_data';\n",
              "        await google.colab.output.renderOutput(dataTable, element);\n",
              "        const docLink = document.createElement('div');\n",
              "        docLink.innerHTML = docLinkHtml;\n",
              "        element.appendChild(docLink);\n",
              "      }\n",
              "    </script>\n",
              "  </div>\n",
              "\n",
              "\n",
              "<div id=\"df-bf771955-f080-43ca-b0f7-5493fdae3914\">\n",
              "  <button class=\"colab-df-quickchart\" onclick=\"quickchart('df-bf771955-f080-43ca-b0f7-5493fdae3914')\"\n",
              "            title=\"Suggest charts\"\n",
              "            style=\"display:none;\">\n",
              "\n",
              "<svg xmlns=\"http://www.w3.org/2000/svg\" height=\"24px\"viewBox=\"0 0 24 24\"\n",
              "     width=\"24px\">\n",
              "    <g>\n",
              "        <path d=\"M19 3H5c-1.1 0-2 .9-2 2v14c0 1.1.9 2 2 2h14c1.1 0 2-.9 2-2V5c0-1.1-.9-2-2-2zM9 17H7v-7h2v7zm4 0h-2V7h2v10zm4 0h-2v-4h2v4z\"/>\n",
              "    </g>\n",
              "</svg>\n",
              "  </button>\n",
              "\n",
              "<style>\n",
              "  .colab-df-quickchart {\n",
              "      --bg-color: #E8F0FE;\n",
              "      --fill-color: #1967D2;\n",
              "      --hover-bg-color: #E2EBFA;\n",
              "      --hover-fill-color: #174EA6;\n",
              "      --disabled-fill-color: #AAA;\n",
              "      --disabled-bg-color: #DDD;\n",
              "  }\n",
              "\n",
              "  [theme=dark] .colab-df-quickchart {\n",
              "      --bg-color: #3B4455;\n",
              "      --fill-color: #D2E3FC;\n",
              "      --hover-bg-color: #434B5C;\n",
              "      --hover-fill-color: #FFFFFF;\n",
              "      --disabled-bg-color: #3B4455;\n",
              "      --disabled-fill-color: #666;\n",
              "  }\n",
              "\n",
              "  .colab-df-quickchart {\n",
              "    background-color: var(--bg-color);\n",
              "    border: none;\n",
              "    border-radius: 50%;\n",
              "    cursor: pointer;\n",
              "    display: none;\n",
              "    fill: var(--fill-color);\n",
              "    height: 32px;\n",
              "    padding: 0;\n",
              "    width: 32px;\n",
              "  }\n",
              "\n",
              "  .colab-df-quickchart:hover {\n",
              "    background-color: var(--hover-bg-color);\n",
              "    box-shadow: 0 1px 2px rgba(60, 64, 67, 0.3), 0 1px 3px 1px rgba(60, 64, 67, 0.15);\n",
              "    fill: var(--button-hover-fill-color);\n",
              "  }\n",
              "\n",
              "  .colab-df-quickchart-complete:disabled,\n",
              "  .colab-df-quickchart-complete:disabled:hover {\n",
              "    background-color: var(--disabled-bg-color);\n",
              "    fill: var(--disabled-fill-color);\n",
              "    box-shadow: none;\n",
              "  }\n",
              "\n",
              "  .colab-df-spinner {\n",
              "    border: 2px solid var(--fill-color);\n",
              "    border-color: transparent;\n",
              "    border-bottom-color: var(--fill-color);\n",
              "    animation:\n",
              "      spin 1s steps(1) infinite;\n",
              "  }\n",
              "\n",
              "  @keyframes spin {\n",
              "    0% {\n",
              "      border-color: transparent;\n",
              "      border-bottom-color: var(--fill-color);\n",
              "      border-left-color: var(--fill-color);\n",
              "    }\n",
              "    20% {\n",
              "      border-color: transparent;\n",
              "      border-left-color: var(--fill-color);\n",
              "      border-top-color: var(--fill-color);\n",
              "    }\n",
              "    30% {\n",
              "      border-color: transparent;\n",
              "      border-left-color: var(--fill-color);\n",
              "      border-top-color: var(--fill-color);\n",
              "      border-right-color: var(--fill-color);\n",
              "    }\n",
              "    40% {\n",
              "      border-color: transparent;\n",
              "      border-right-color: var(--fill-color);\n",
              "      border-top-color: var(--fill-color);\n",
              "    }\n",
              "    60% {\n",
              "      border-color: transparent;\n",
              "      border-right-color: var(--fill-color);\n",
              "    }\n",
              "    80% {\n",
              "      border-color: transparent;\n",
              "      border-right-color: var(--fill-color);\n",
              "      border-bottom-color: var(--fill-color);\n",
              "    }\n",
              "    90% {\n",
              "      border-color: transparent;\n",
              "      border-bottom-color: var(--fill-color);\n",
              "    }\n",
              "  }\n",
              "</style>\n",
              "\n",
              "  <script>\n",
              "    async function quickchart(key) {\n",
              "      const quickchartButtonEl =\n",
              "        document.querySelector('#' + key + ' button');\n",
              "      quickchartButtonEl.disabled = true;  // To prevent multiple clicks.\n",
              "      quickchartButtonEl.classList.add('colab-df-spinner');\n",
              "      try {\n",
              "        const charts = await google.colab.kernel.invokeFunction(\n",
              "            'suggestCharts', [key], {});\n",
              "      } catch (error) {\n",
              "        console.error('Error during call to suggestCharts:', error);\n",
              "      }\n",
              "      quickchartButtonEl.classList.remove('colab-df-spinner');\n",
              "      quickchartButtonEl.classList.add('colab-df-quickchart-complete');\n",
              "    }\n",
              "    (() => {\n",
              "      let quickchartButtonEl =\n",
              "        document.querySelector('#df-bf771955-f080-43ca-b0f7-5493fdae3914 button');\n",
              "      quickchartButtonEl.style.display =\n",
              "        google.colab.kernel.accessAllowed ? 'block' : 'none';\n",
              "    })();\n",
              "  </script>\n",
              "</div>\n",
              "\n",
              "    </div>\n",
              "  </div>\n"
            ],
            "application/vnd.google.colaboratory.intrinsic+json": {
              "type": "dataframe",
              "summary": "{\n  \"name\": \"df\",\n  \"rows\": 84952,\n  \"fields\": [\n    {\n      \"column\": \"Unnamed: 0\",\n      \"properties\": {\n        \"dtype\": \"number\",\n        \"std\": 24523,\n        \"min\": 0,\n        \"max\": 84951,\n        \"num_unique_values\": 84952,\n        \"samples\": [\n          29993,\n          52739,\n          69659\n        ],\n        \"semantic_type\": \"\",\n        \"description\": \"\"\n      }\n    },\n    {\n      \"column\": \"description\",\n      \"properties\": {\n        \"dtype\": \"string\",\n        \"num_unique_values\": 77714,\n        \"samples\": [\n          \"790% cotton 180% polyester 30% viscose composition black color sz2407109795046570 goodssn denim material natural waist line straight leg pocket raw hem ripped zipper washed detail regular fit machine wash dry clean care instruction short length casual style nonstretch fabric unlined body\",\n          \"experience epitome timeless elegance exquisite wristwatch crafted meticulous attention detail rose goldtoned case mesh bracelet exude refined charm complement ensemble striking black dial feature bold arabic numeral luminous hand ensuring effortless timetelling glance timepiece merely accessory statement impeccable style sophistication designed withstand rigour daily wear watch testament enduring quality elevate look embrace essence timeless sophistication captivating wristwatch calendar 4 november 2024 date first available 242 part number rose gold band colour watch included component b0dlwvfchf asin black dial colour 4 x 1 x 26 cm 300 g product dimension mesh band special feature womens department analog limited retailrist manufacturer rose gold case material quartz movement product sold amazon please review manufacturer website warranty information product sold another party please contact seller directly warranty information product may also able find warranty information manufacturer website warranty mt242 item model number mt242 model number wristwatch generic name retailrist packer generic brand round case shape metal band material magnetic clasp clasp 40 x 10 x 260 millimeter item dimension lxwxh india country origin 300 g item weight stylish design elegant timepiece feature sleek rose goldtone case stylish mesh bracelet perfect occasion clear visibility watch boast black dial large easytoread arabic numeral contrasting white hand optimal visibility durable construction crafted highquality material watch built withstand daily wear tear adjustable fit mesh bracelet easily adjusted fit wrist size ensuring comfortable secure fit water resistance waterresistant design watch withstand splash brief immersion water making suitable everyday wear\",\n          \"100% polyester composition long sleeve sleeve length shirt collar neckline navywhite color regular sleeve sm2408203528258520 goodssn fabric material shirt button front detail regular fit dry clean hand wash care instruction length plain striped work style nonstretch fabric single breasted placket semisheer sheer\"\n        ],\n        \"semantic_type\": \"\",\n        \"description\": \"\"\n      }\n    },\n    {\n      \"column\": \"category_id\",\n      \"properties\": {\n        \"dtype\": \"number\",\n        \"std\": 31,\n        \"min\": 30,\n        \"max\": 122,\n        \"num_unique_values\": 10,\n        \"samples\": [\n          120,\n          30,\n          88\n        ],\n        \"semantic_type\": \"\",\n        \"description\": \"\"\n      }\n    },\n    {\n      \"column\": \"product_id\",\n      \"properties\": {\n        \"dtype\": \"string\",\n        \"num_unique_values\": 80516,\n        \"samples\": [\n          \"6f2555f03bfeef84fca1fa5b19b7dd5d95e3e0c88f6bc435974638c1dd7d2b10\",\n          \"2199c4ce344d9ce5ffc46fae4e100a4e300c211b5d970b8d91885e27a57e26f2\",\n          \"0d48b82f4249ac64f19a2a941272f3ea8a1e2bcca18169138fa4966cef31ecc5\"\n        ],\n        \"semantic_type\": \"\",\n        \"description\": \"\"\n      }\n    },\n    {\n      \"column\": \"pdp_url\",\n      \"properties\": {\n        \"dtype\": \"string\",\n        \"num_unique_values\": 80433,\n        \"samples\": [\n          \"https://www.amazon.in/Mont-Neo-Womens-Stainless-9008T-M3314/dp/B0DGQQJH1C/ref=sr_1_12234?dib=eyJ2IjoiMSJ9.VBFloNP6ZkCko6CZLdxlA2JeKV0D9eZ2_LqCZJXEJTgzQB6AI3BRneSnTZa_i7bafGetTI6P31AF04wjJGF_HFpMEgGxYiCEENSyYFnPauIqLdv5j7oL0K0viv2rmmZAM07GnWPGZK9aJCQBCP_wNGSnyX5DgtxeN1x72krywh8WJgQcKdEJq1lg-DEdoUI6Z5prdhjJoXdB54lKGZVnS4SVQLw8Rxruij5zzZjcf1X2-qcPfTgrlHb7rPePcfli2UEMa1l_udcj5OBl4JljVVxDJUkggR8AGqyXS_rRlXs.5tbfHv8aHnnIbFWPHHvs-pi2zG1BBHqIEeMGZmWRDCg&dib_tag=se&qid=1732281943&rnid=2563505031&s=watch&sr=1-12234\",\n          \"https://www.meesho.com/blue-gown-new/p/7868z6\",\n          \"https://us.shein.com/SHEIN-Frenchy-Women-Thread-Embroidery-Heart-Print-Casual-Daily-Wear-Short-Sleeve-T-Shirt-Summer-T-Shirt-Women-T-Shirts-Tea-Party-Attire-Embroidered-Top-T-Shirt-Summer-Tops-p-40103623-cat-1738.html\"\n        ],\n        \"semantic_type\": \"\",\n        \"description\": \"\"\n      }\n    },\n    {\n      \"column\": \"brand\",\n      \"properties\": {\n        \"dtype\": \"category\",\n        \"num_unique_values\": 1501,\n        \"samples\": [\n          \"NYALKARAN_ENTERPRISE\",\n          \"Vlone\",\n          \"Ekana Label\"\n        ],\n        \"semantic_type\": \"\",\n        \"description\": \"\"\n      }\n    },\n    {\n      \"column\": \"feature_image\",\n      \"properties\": {\n        \"dtype\": \"string\",\n        \"num_unique_values\": 78961,\n        \"samples\": [\n          \"http://assets.myntassets.com/assets/images/30988442/2024/9/18/06bf21f0-7fb8-41c2-b1b6-e0053d4b1cc71726659555199-SKAN-LIFESTYLE-Men-Colourblocked-Sneakers-4741726659555011-1.jpg\",\n          \"https://img.ltwebstatic.com/images3_pi/2024/04/29/db/17143725731437a747c519c009cd05beb23eb5fa03.jpg\",\n          \"https://api.cq6bn590y3-fabindiao1-p1-public.model-t.cc.commerce.ondemand.com/medias/20193293-01.jpg?context=bWFzdGVyfGltYWdlc3wyMjI2NTR8aW1hZ2UvanBlZ3xhR1ZrTDJoaE1pODJPREU0TlRnMk5qY3pNVFUxTUM4eU1ERTVNekk1TTE4d01TNXFjR2N8MzZjM2MyNGM0ZTA3YzcwNTYzMzczNTYwM2I0ODcyMGQzYTlkNmNlY2RmYzhhM2I3YzUwYzcyZmNjNmQxZTExYQ\"\n        ],\n        \"semantic_type\": \"\",\n        \"description\": \"\"\n      }\n    },\n    {\n      \"column\": \"department_id\",\n      \"properties\": {\n        \"dtype\": \"number\",\n        \"std\": 0,\n        \"min\": 1,\n        \"max\": 5,\n        \"num_unique_values\": 4,\n        \"samples\": [\n          1,\n          5,\n          2\n        ],\n        \"semantic_type\": \"\",\n        \"description\": \"\"\n      }\n    },\n    {\n      \"column\": \"mrp\",\n      \"properties\": {\n        \"dtype\": \"number\",\n        \"std\": 9040,\n        \"min\": 50,\n        \"max\": 338851,\n        \"num_unique_values\": 7587,\n        \"samples\": [\n          2083,\n          1555,\n          4263\n        ],\n        \"semantic_type\": \"\",\n        \"description\": \"\"\n      }\n    },\n    {\n      \"column\": \"product_name\",\n      \"properties\": {\n        \"dtype\": \"string\",\n        \"num_unique_values\": 62578,\n        \"samples\": [\n          \"purple banarasi woven tassel saree unstitched blouse\",\n          \"manfinity homme men button pocket patched shirt\",\n          \"shein sxy solid color halter neck sexy sleeveless denim dress summer\"\n        ],\n        \"semantic_type\": \"\",\n        \"description\": \"\"\n      }\n    },\n    {\n      \"column\": \"channel_id\",\n      \"properties\": {\n        \"dtype\": \"number\",\n        \"std\": 148,\n        \"min\": 8,\n        \"max\": 401,\n        \"num_unique_values\": 11,\n        \"samples\": [\n          161,\n          401,\n          67\n        ],\n        \"semantic_type\": \"\",\n        \"description\": \"\"\n      }\n    },\n    {\n      \"column\": \"style_attributes\",\n      \"properties\": {\n        \"dtype\": \"string\",\n        \"num_unique_values\": 65591,\n        \"samples\": [\n          \"{'Supplier Information': 'Shyama Fashion'}\",\n          \"{'Supplier Information': 'ASHIQ GARMENTS'}\",\n          \"{'Supplier Information': 'MERUNA TEXTILE'}\"\n        ],\n        \"semantic_type\": \"\",\n        \"description\": \"\"\n      }\n    },\n    {\n      \"column\": \"category_name\",\n      \"properties\": {\n        \"dtype\": \"category\",\n        \"num_unique_values\": 10,\n        \"samples\": [\n          \"Watches\",\n          \"Dresses\",\n          \"Sarees\"\n        ],\n        \"semantic_type\": \"\",\n        \"description\": \"\"\n      }\n    },\n    {\n      \"column\": \"Retailer_name\",\n      \"properties\": {\n        \"dtype\": \"category\",\n        \"num_unique_values\": 11,\n        \"samples\": [\n          \"H&M US\",\n          \"Meesho IN\",\n          \"Amazon IN\"\n        ],\n        \"semantic_type\": \"\",\n        \"description\": \"\"\n      }\n    },\n    {\n      \"column\": \"distilbert_features\",\n      \"properties\": {\n        \"dtype\": \"string\",\n        \"num_unique_values\": 77679,\n        \"samples\": [\n          \"[-0.04513378441333771, -0.4621993899345398, -0.07531435787677765, -0.004398355260491371, 0.11291269958019257, 0.022634433582425117, 0.06654529273509979, 0.05081340670585632, -0.1273680031299591, -0.28876793384552, -0.021996069699525833, 0.08373088389635086, 0.12118866294622421, 0.18829096853733063, -0.2609691023826599, 0.2702306807041168, -0.09782268851995468, 0.21609410643577576, 0.2587445378303528, 0.1823767125606537, 0.1620531678199768, -0.6176218390464783, 0.10022389888763428, -0.0998140424489975, 0.11487779021263123, -0.0419277548789978, 0.042576245963573456, -0.1564999669790268, 0.17986100912094116, 0.19574597477912903, 0.18128278851509094, 0.13736973702907562, 0.20381011068820953, -0.5080346465110779, 0.3423551917076111, -0.1826389729976654, 0.37885797023773193, -0.17672087252140045, -0.01092592254281044, 0.03315812349319458, -0.04548625275492668, 0.20401659607887268, 0.346280574798584, -0.2423582673072815, 0.21657995879650116, -0.1702965795993805, -2.6153197288513184, 0.17464867234230042, -0.36977946758270264, -0.3077455461025238, 0.1213485449552536, -0.287661075592041, -0.2528342604637146, 0.13044366240501404, 0.288906991481781, 0.3879189193248749, 0.11328278481960297, 0.3149091303348541, -0.054229702800512314, -0.14660945534706116, 0.07727350294589996, -0.06658254563808441, -0.1592731922864914, 0.03613455966114998, -0.007582457736134529, 0.16479109227657318, -0.24880170822143555, 0.16037212312221527, -0.526521623134613, 0.49386176466941833, -0.22164632380008698, 0.06193976104259491, 0.2846786379814148, -0.23559965193271637, 0.1529494971036911, -0.13825806975364685, 0.007219881750643253, 0.07256203889846802, 0.09000276029109955, 0.04535307735204697, 0.09068088233470917, 0.28505393862724304, 0.23739093542099, 0.1725785732269287, -0.05385682359337807, 0.46601787209510803, -0.11829647421836853, 0.09579344838857651, 0.4794800579547882, 0.48210057616233826, 0.05269623175263405, 0.16227871179580688, 0.35957199335098267, 0.2803579568862915, 0.22497856616973877, -0.391997754573822, -0.2347693294286728, 0.0767718032002449, 0.5125133991241455, 0.032173097133636475, 0.06440751254558563, 0.07077711820602417, 0.1893082559108734, -0.2990982234477997, 0.09991387277841568, -0.036061760038137436, -0.18998339772224426, -0.05097206309437752, 0.13716870546340942, -1.53097665309906, 0.32337358593940735, 0.265251487493515, -0.07448158413171768, -0.3651442527770996, -0.37802669405937195, 0.14629241824150085, 0.29689398407936096, 0.36272531747817993, 0.09515911340713501, 0.35100626945495605, -0.239312082529068, 0.32891029119491577, 0.025745809078216553, -0.04973025619983673, -0.02113763429224491, 0.4064983129501343, -0.127130925655365, 0.22252467274665833, 0.4460643529891968, 0.23924338817596436, 0.035477496683597565, 0.369219571352005, -0.44551143050193787, 0.0515829436480999, -0.04842205345630646, 0.3093145191669464, 0.19655688107013702, 0.11771422624588013, 0.09171910583972931, -0.07863856852054596, -0.38589373230934143, -0.0677579715847969, -1.9093308448791504, -0.013880761340260506, 0.4126952290534973, -0.10663915425539017, 0.04987993463873863, 0.35699695348739624, -0.3551902770996094, 0.09872681647539139, 0.14201587438583374, -0.2613745927810669, -0.05116521939635277, -0.006599042564630508, -0.16250647604465485, 0.036489762365818024, -0.11714663356542587, -0.2519625425338745, 0.05154148489236832, -0.02164195105433464, -0.006359122693538666, 0.20949913561344147, -0.1403859704732895, 0.0872090756893158, 0.05171028897166252, 0.12170398235321045, 0.09088046848773956, -0.014295767992734909, -0.12327927350997925, 0.0607827790081501, 0.14134222269058228, 0.05140348896384239, 0.25160089135169983, -0.08060694485902786, 0.3246329128742218, 0.12286242842674255, -0.17635729908943176, 0.3412790894508362, -0.0714922621846199, -0.1495043784379959, -0.5500030517578125, 0.49675869941711426, 0.2064627856016159, 0.06059935316443443, -0.01349702849984169, 0.009245626628398895, 0.3601553738117218, 0.07057710736989975, -0.01912299543619156, 0.035315945744514465, -0.10096332430839539, -0.15910294651985168, 0.00709080696105957, 0.13311667740345, 0.2674747407436371, 0.29012569785118103, 0.017014969140291214, -0.06739991903305054, -0.04722550883889198, 0.10620950162410736, -0.028468089178204536, -0.04270133748650551, 0.022695641964673996, -0.09783165156841278, -0.4175405204296112, 2.7005820274353027, 0.30741363763809204, -0.003571748733520508, 0.4105759859085083, 0.216066375374794, 0.2757178246974945, -0.14099346101284027, -0.05014536529779434, -0.10376983135938644, 0.24109475314617157, -0.026615256443619728, 0.40694060921669006, -0.15867102146148682, 0.23559805750846863, -0.04827788472175598, 0.26596423983573914, -0.09126920998096466, -0.0356106273829937, 0.23344464600086212, -0.2988136410713196, 0.3166772127151489, -0.052116069942712784, -0.2007577270269394, -0.027408983558416367, -0.825050413608551, 0.22203873097896576, -0.3882967233657837, -0.16634714603424072, 0.130985289812088, -0.27116310596466064, -0.07912025600671768, 0.15662363171577454, -0.08461321890354156, 0.22979894280433655, -0.13243861496448517, 0.0472053661942482, -0.01454965677112341, 0.12340929359197617, -0.15046587586402893, -0.3896164894104004, 0.0227523110806942, 0.2072218954563141, -0.0178539976477623, 0.13103124499320984, -0.22392503917217255, 0.20580092072486877, 0.047072410583496094, 0.10749652981758118, -0.10143107175827026, -0.04745206609368324, 0.1806628704071045, 0.21626988053321838, 0.04041646048426628, -0.0752238929271698, -0.11961138248443604, -0.14309939742088318, -0.05801796913146973, 0.24278861284255981, -0.03599163889884949, -0.5237124562263489, -0.04650375247001648, -0.04655645787715912, 0.04195258021354675, 0.07487395405769348, -0.16554784774780273, -0.024669896811246872, 0.1551983654499054, -0.6444007158279419, -2.1469860076904297, -0.03127624839544296, -0.14663267135620117, 0.37379342317581177, 0.03047776035964489, 0.11713892221450806, -0.018280766904354095, 0.1696595400571823, 0.265208899974823, 0.41024482250213623, 0.18700772523880005, 0.05829620361328125, -0.013527043163776398, -0.029963921755552292, -0.0856960117816925, 0.18971669673919678, -0.06146056950092316, -0.06434168666601181, 0.21311825513839722, -0.15624600648880005, 0.018802635371685028, 0.12186484038829803, -0.13901199400424957, 0.0888940840959549, -0.051943883299827576, 0.10468984395265579, -0.4561922550201416, -0.17122198641300201, 0.05038147419691086, 0.176283061504364, -0.06464485079050064, -0.14825306832790375, 0.08664896339178085, -0.09778878837823868, -0.42414069175720215, -4.278989315032959, 0.15747542679309845, -0.12521260976791382, -0.13138426840305328, -0.025123093277215958, -0.27270156145095825, 0.4226885735988617, -0.056799281388521194, -0.046279020607471466, 0.005872086621820927, 0.03187532722949982, 0.1640990972518921, 0.14655467867851257, -0.0027121722232550383, 0.11345966160297394, 0.5281820893287659, 0.3222354054450989, -0.10455475747585297, 0.25138333439826965, 0.11149768531322479, 0.05978677421808243, 0.004718463867902756, 0.06112342327833176, 0.025637419894337654, -0.051389776170253754, 0.14336101710796356, -0.5804442763328552, 0.10349868983030319, 0.02660559117794037, -0.36869391798973083, -0.02001439779996872, -0.4124966263771057, -0.12315969169139862, 0.16625654697418213, -0.11454658210277557, -0.38637298345565796, 0.04006664454936981, 0.16903945803642273, 0.3195609450340271, 0.09437699615955353, 0.044697266072034836, 0.5132293701171875, -0.02762574702501297, 0.18377685546875, 0.6077601909637451, 0.1439610719680786, 0.42430150508880615, -0.2661847770214081, -0.022948764264583588, 0.09989705681800842, -0.024308595806360245, -0.3413544297218323, 0.8998313546180725, -0.320967435836792, 0.12891100347042084, 0.055855199694633484, 0.3026556372642517, 0.18375229835510254, -0.1254398375749588, -0.02396714687347412, 0.21192382276058197, -0.24953202903270721, -0.08263720571994781, -0.23474660515785217, -0.026423431932926178, -0.3197295367717743, 0.12790443003177643, -0.37064245343208313, 0.040706731379032135, 0.14606600999832153, -0.1106746718287468, 0.11419674754142761, 0.15029093623161316, -0.8795153498649597, 0.042406126856803894, -0.22293534874916077, 0.15685054659843445, -0.07283028960227966, 0.13852599263191223, 0.17713594436645508, -0.40187156200408936, -0.065154530107975, -0.035956010222435, 0.5448347926139832, -0.44349801540374756, 0.2533295452594757, 0.04383242130279541, -0.017642101272940636, -0.46427926421165466, 0.2921347916126251, 0.10152306407690048, 0.41031014919281006, -0.12545333802700043, -0.31969398260116577, 0.002735789865255356, -0.1412072479724884, 0.2907184064388275, -0.5979984998703003, 0.09501005709171295, -0.41163012385368347, 0.014596618711948395, -0.18443173170089722, -0.12486372888088226, -0.5659090280532837, -0.08354336768388748, -0.08675005286931992, -0.3925318419933319, 0.2135748714208603, 0.3574323058128357, -0.024932928383350372, 0.25984498858451843, -0.2064628303050995, 0.001447331509552896, -0.04952116310596466, 0.5842368602752686, -0.03364775702357292, -0.28997090458869934, 0.032396864145994186, 0.06101355701684952, 0.009565621614456177, 0.38728123903274536, 0.19406147301197052, -0.04295231029391289, -0.0503976009786129, -0.22128185629844666, 0.0313347764313221, 0.02607399970293045, -0.24108032882213593, -0.39227738976478577, 0.058086272329092026, 0.05735641345381737, -0.19564126431941986, -0.34765657782554626, -0.3752690553665161, -0.06442916393280029, -0.07875914126634598, -0.2584173381328583, 0.007752946577966213, 0.22965802252292633, -0.2014162242412567, 0.2679149806499481, 0.11235658824443817, -0.12872205674648285, 0.1712093949317932, 0.14642663300037384, 0.6061320304870605, -0.00544893741607666, -0.007608480751514435, -0.08831141889095306, 0.26799410581588745, 0.06706532835960388, -0.2966043949127197, -0.14075016975402832, -0.37003257870674133, 0.02036897838115692, -0.039193786680698395, 0.05305676907300949, 0.16939285397529602, -0.13395380973815918, -0.33390718698501587, 0.269395649433136, 0.08128274232149124, -1.5619325637817383, 0.4302031993865967, -0.005857594311237335, 0.021908864378929138, -0.08142875134944916, -0.2949948310852051, -0.21966604888439178, 0.15976950526237488, 0.2108704298734665, -0.027990221977233887, -0.16619747877120972, -0.3944999873638153, 0.270195335149765, 0.3417105972766876, 0.2390170842409134, -0.16496174037456512, -0.2737717032432556, 0.08730750530958176, 0.11746218055486679, -0.23984295129776, -0.2367512285709381, 0.4455276131629944, 0.010413600131869316, -0.11711816489696503, -0.06487478315830231, -0.06077162176370621, -0.20910723507404327, 0.39445191621780396, 0.09065273404121399, 0.13099165260791779, 0.11417447775602341, -0.2484426498413086, -0.43872082233428955, -0.17645397782325745, 0.21535223722457886, 0.520875096321106, 0.04899061098694801, 0.04046265035867691, 0.0038446560502052307, 0.4420911371707916, -0.2901259660720825, 0.27457189559936523, 0.09225201606750488, 0.09015105664730072, 0.3159481883049011, 0.10682442039251328, -0.47024694085121155, 0.09705796837806702, 0.1083870604634285, -0.16337817907333374, 0.31825414299964905, -0.15419124066829681, -0.25240299105644226, -0.31692418456077576, -0.40240463614463806, 0.02599862590432167, -0.02250894159078598, 0.017107952386140823, -0.005183029919862747, -0.17727434635162354, 0.2338024377822876, 0.07537777721881866, -0.07664092630147934, 0.3633330464363098, -0.009412778541445732, -0.5601722598075867, 0.22987744212150574, 0.26389530301094055, 0.022029507905244827, -0.11913704872131348, 0.20825469493865967, -0.050204649567604065, -0.2860698401927948, 0.3119521141052246, -0.4803958833217621, 0.06070759892463684, 0.3658323884010315, 0.033250562846660614, -0.08177819103002548, -0.22708278894424438, -0.26065415143966675, -0.4550153613090515, -0.5909832119941711, 0.2546263039112091, -0.1330074667930603, -0.04381691664457321, -0.03823108226060867, 0.2836507260799408, 0.18560558557510376, -0.0825362280011177, -0.0954410508275032, -0.5066028833389282, 0.05334995687007904, 0.3861491084098816, 0.1073814257979393, -0.04668131098151207, -0.19335125386714935, 0.3676157593727112, -0.137132465839386, 0.2672440707683563, -0.34865903854370117, 0.06424306333065033, 0.020011138170957565, 0.2284458875656128, 0.1395852416753769, 0.09667769074440002, -0.041450124233961105, -0.01636892557144165, -0.1517390012741089, 0.29169756174087524, 0.0994570255279541, -0.19792482256889343, 0.0005544945597648621, 0.21304729580879211, -0.1762743890285492, -0.33556708693504333, -0.005697481334209442, 0.048318296670913696, 1.12321937084198, -0.07993438839912415, 0.21705076098442078, 0.20544040203094482, 0.3455408811569214, 0.2163582444190979, 0.07009267807006836, -0.13584983348846436, -0.4880748689174652, 0.41704654693603516, 0.26814156770706177, -0.11667047441005707, -0.19345958530902863, -0.07081947475671768, -0.003937862813472748, 0.31342583894729614, -0.07989613711833954, -0.19793866574764252, -0.2740986943244934, 0.12661778926849365, -0.20450016856193542, 0.12107478082180023, 0.25161558389663696, 0.1667662262916565, 0.15354281663894653, 0.018723169341683388, 0.28103068470954895, -0.3031769394874573, 0.032891977578401566, 0.30032262206077576, 0.05639156326651573, 0.11705705523490906, 0.25341805815696716, 0.32300499081611633, 0.0036379098892211914, -0.04922427982091904, 0.08468957990407944, -0.15856678783893585, -0.08166924864053726, 0.03955570235848427, 0.35854044556617737, -0.3177284598350525, 0.3084666132926941, -0.16801799833774567, -0.17218929529190063, 0.5569910407066345, -0.25936707854270935, -0.3739912807941437, 0.24190931022167206, 0.1195572018623352, 0.1959453523159027, -0.08489445596933365, -0.12139669805765152, -0.12484891712665558, -0.18535485863685608, 0.2721248269081116, -0.10492917150259018, -0.2067161351442337, -0.23871970176696777, 0.6411707401275635, 0.02883659303188324, 0.4215901494026184, 0.5046678781509399, -0.2583591639995575, 0.1746007353067398, 0.08884616196155548, -0.3426530659198761, 0.14392709732055664, 0.195007786154747, -0.3102572560310364, -0.011029860004782677, -0.18375414609909058, 0.2146659642457962, 0.1291431188583374, 0.13009248673915863, 0.10106925666332245, 0.4189932644367218, -0.09940334409475327, -0.27328991889953613, -1.456071138381958, 0.11940425634384155, -0.055618349462747574, -0.05656875669956207, -0.04748610034584999, 0.09362351149320602, 0.12523840367794037, -0.15889720618724823, -0.12416352331638336, -0.2651498019695282, 0.42350760102272034, 0.03424865007400513, 0.4441205561161041, -0.03372596576809883, 0.16670173406600952, -0.034364841878414154, 0.006138073280453682, -0.16573689877986908, -0.05939925089478493, -0.057425547391176224, 0.30201256275177, 0.23074378073215485, -0.1480061560869217, -0.28476908802986145, -0.4267643690109253, 0.050770122557878494, -0.028108395636081696, -0.29245197772979736, 0.36704543232917786, 0.06166844069957733, 0.0002525895833969116, 0.07190771400928497, -0.32943910360336304, -0.043490953743457794, 0.09725367277860641, -0.21719606220722198, 0.013186141848564148, -0.040341850370168686, -0.08328884094953537, 0.07182542979717255, -0.22907136380672455, 0.19283799827098846, 0.21839535236358643, 0.18054692447185516, -0.18560214340686798, 0.14686839282512665, 0.2451276332139969, -0.1646817922592163, 0.5573250651359558, -0.23246602714061737, 0.04729504883289337, -0.15481853485107422, 0.0824444442987442, 0.22152653336524963, 0.02617918699979782, 0.0861920416355133, 0.05190057307481766, 0.08384237438440323, -0.1871161162853241, -0.4584976136684418, -0.3177146315574646, 0.03524693846702576, -0.13446375727653503, 0.018610406666994095, 0.3383942246437073, 0.05324217304587364, -0.1897462010383606, 0.08114638924598694, 0.08595961332321167, -0.1021641194820404, 0.06405016779899597, -0.33779993653297424, 0.29193946719169617, 0.02260531857609749, 0.1409662961959839, -0.048501912504434586, 0.2925646901130676, 0.2566854953765869, 0.07864242047071457, 0.34124499559402466, 0.19100970029830933, -0.011831860989332199, -0.3124169111251831, -0.1398490071296692, 0.36617493629455566, -4.30649995803833, -0.06433051079511642, -0.25367921590805054, -0.07415234297513962, -0.21645799279212952, -0.4133889675140381, 0.14133068919181824, -0.586254358291626, 0.1658836305141449, -0.14847692847251892, 0.222141832113266, -0.013950306922197342, -0.1864762008190155, 0.008173598907887936, -0.07344318926334381, 0.1603330373764038]\",\n          \"[-0.31278711557388306, 0.01579093374311924, 0.01371176540851593, -0.1585787683725357, 0.01479663047939539, -0.1166604608297348, 0.3958740830421448, -0.1482897251844406, -0.18313804268836975, -0.3598311245441437, -0.0035277381539344788, -0.1651722639799118, 0.19965007901191711, 0.3476302921772003, -0.2470366358757019, 0.3044680655002594, -0.06184899061918259, 0.2897127866744995, 0.20342309772968292, 0.06956765055656433, 0.2415374219417572, -0.42017415165901184, 0.38748008012771606, -0.03206709772348404, 0.06210169568657875, 0.1886853724718094, 0.11423470824956894, 0.0191228948533535, 0.022578880190849304, 0.32413533329963684, 0.0267665795981884, 0.17819705605506897, 0.03613834083080292, -0.41560983657836914, 0.015109721571207047, -0.1424686163663864, 0.3317529559135437, -0.17814165353775024, 0.11233903467655182, 0.17743638157844543, 0.04311468079686165, -0.032546963542699814, 0.4686405658721924, 0.01225348375737667, 0.048893123865127563, -0.19171763956546783, -3.463073968887329, -0.09861716628074646, -0.19705818593502045, -0.37634825706481934, 0.2313612550497055, -0.18518346548080444, -0.11596605181694031, 0.12086551636457443, 0.4124860167503357, 0.42317813634872437, -0.11782225966453552, 0.3621656000614166, -0.20248134434223175, -0.2839087247848511, 0.012613886967301369, 0.10306955873966217, -0.27239102125167847, -0.10688893496990204, -0.12112939357757568, 0.03292228654026985, -0.09286431968212128, 0.09745190292596817, -0.3859235644340515, 0.5251296162605286, -0.36178889870643616, -0.11100100725889206, 0.4042048454284668, 0.16896334290504456, 0.05923471599817276, -0.15372706949710846, -0.07937624305486679, 0.23598936200141907, 0.060840096324682236, -0.04963689669966698, 0.16459466516971588, 0.045480649918317795, 0.11200442910194397, -0.034356728196144104, -0.010063176974654198, 0.30391979217529297, -0.0809379294514656, -0.011589962989091873, 0.10433243960142136, 0.4065508246421814, 0.11597893387079239, -0.2786431610584259, 0.16145674884319305, 0.26358047127723694, -0.03871403634548187, -0.10271114110946655, -0.19626188278198242, 0.18038910627365112, 0.3230209946632385, 0.17444446682929993, 0.25719714164733887, 0.3207980990409851, 0.1443149745464325, -0.5425107479095459, 0.23806774616241455, 0.011530579999089241, -0.23383788764476776, -0.08364371955394745, 0.06691020727157593, -1.6431721448898315, 0.27886369824409485, 0.08467752486467361, -0.4270980656147003, -0.3924338221549988, 0.046538129448890686, 0.011251439340412617, 0.08592937141656876, 0.24216561019420624, -0.006746206432580948, 0.011818182654678822, 0.18479563295841217, 0.1345958113670349, -0.13285984098911285, -0.046974338591098785, -0.15846766531467438, 0.43058672547340393, -0.12166596949100494, -0.35665610432624817, 0.4749232530593872, 0.5449321269989014, 0.15622533857822418, 0.23601707816123962, -0.34852322936058044, 0.06523458659648895, -0.2631978988647461, 0.24231523275375366, 0.33308902382850647, -0.0019732005894184113, -0.03595789521932602, 0.1029287800192833, -0.23510926961898804, -0.323684960603714, -2.0020642280578613, 0.04665571451187134, 0.47286802530288696, 0.20483756065368652, 0.13464169204235077, 0.38771629333496094, -0.07834817469120026, -0.004864967428147793, 0.21710756421089172, -0.3561859428882599, -0.2663825452327728, -0.030093777924776077, -0.1921001374721527, 0.10574087500572205, -0.1785181313753128, -0.04436274245381355, 0.20369207859039307, -0.0674152597784996, -0.012887172400951385, 0.08209429681301117, -0.011368917301297188, 0.057964324951171875, -0.1374962031841278, 0.21580560505390167, 0.07613495737314224, 0.2228701263666153, -0.1667027622461319, -0.21746622025966644, -0.066502645611763, 0.42510849237442017, 0.569071888923645, -0.027668148279190063, 0.22468921542167664, 0.17200705409049988, -0.06986404955387115, 0.3229048550128937, -0.09150537103414536, -0.05813877284526825, -0.22367781400680542, 0.3560182750225067, -0.004580400884151459, 0.022856466472148895, 0.019986875355243683, 0.0684097409248352, 0.37109971046447754, -0.01904442347586155, -0.15126721560955048, -0.2344440370798111, -0.35182949900627136, -0.260322242975235, 0.2928697168827057, 0.06185135990381241, 0.5512711405754089, 0.3630762994289398, -0.027994727715849876, -0.009451225399971008, -0.06943273544311523, 0.05129436030983925, -0.1457986980676651, 0.03933237865567207, 0.10717973113059998, 0.24140779674053192, -0.4199683666229248, 2.6520204544067383, 0.15019124746322632, 0.030485279858112335, 0.4618588387966156, 0.15933707356452942, 0.09941847622394562, -0.20347270369529724, -0.053177058696746826, 0.08629589527845383, 0.02058832161128521, 0.08889845013618469, 0.13118407130241394, -0.1116083413362503, -0.05467156320810318, -0.07753445953130722, 0.1994243860244751, 0.15822458267211914, -0.21611014008522034, 0.2764803469181061, -0.2705872058868408, 0.16974252462387085, -0.17049852013587952, -0.3354682922363281, -0.03790488839149475, -1.1403087377548218, 0.23771370947360992, -0.2503437399864197, 0.07293463498353958, -0.12420620024204254, -0.3669910430908203, -0.08451427519321442, 0.04781961441040039, 0.03210645914077759, -0.014671962708234787, -0.1312694251537323, -0.19612285494804382, 0.09352871030569077, 0.06821239739656448, -0.14410518109798431, 0.08908884227275848, 0.1995829939842224, 0.14980590343475342, -0.3401646316051483, -0.07514990866184235, -0.15784896910190582, 0.3419414460659027, 0.45906054973602295, 0.1979762613773346, -0.17112098634243011, 0.3806815445423126, -0.08854041248559952, 0.19500882923603058, -0.02071666345000267, -0.1919870227575302, -0.3138837218284607, -0.23624102771282196, -0.22613438963890076, 0.30756860971450806, 0.0648287907242775, -0.37880250811576843, -0.19490328431129456, 0.2495163232088089, -0.1680508553981781, 0.013576553203165531, 0.03616098687052727, -0.1007879227399826, 0.24683906137943268, -0.6668533086776733, -1.801756739616394, 0.04922855272889137, -0.20713505148887634, 0.33468902111053467, -0.10821929574012756, 0.16076110303401947, -0.09235984086990356, 0.19969233870506287, 0.4207887053489685, 0.10445193201303482, 0.258024126291275, 0.14472129940986633, -0.06793297082185745, -0.06425319612026215, -0.48270970582962036, 0.38563480973243713, 0.2183704525232315, -0.24353045225143433, 0.07301092147827148, -0.347836434841156, -0.15746459364891052, 0.10606276988983154, -0.23137740790843964, -0.022586185485124588, 0.020496197044849396, -0.02268669754266739, -0.45301923155784607, -0.4935324788093567, 0.09909968823194504, 0.29874590039253235, 0.008521176874637604, 0.10702212154865265, 0.3594083786010742, -0.1825348287820816, -0.2852906882762909, -4.097314834594727, 0.07974229753017426, -0.004708770662546158, -0.560041606426239, -0.08164405822753906, 0.045412495732307434, 0.4149395227432251, 0.1630130261182785, -0.23651166260242462, -0.20579636096954346, 0.3960730731487274, 0.011438840068876743, 0.23160423338413239, 0.0888790562748909, 0.18072131276130676, 0.19114206731319427, 0.41956084966659546, 0.0584188736975193, 0.12489644438028336, 0.33928143978118896, -0.15369945764541626, -0.2728811204433441, 0.2558026909828186, -0.04315318167209625, 0.26178818941116333, -0.00497598759829998, -0.7352606058120728, -0.08761248737573624, 0.10833200067281723, -0.2876400351524353, -0.08528641611337662, -0.3831265866756439, -0.09854818880558014, 0.30245962738990784, -0.3451976776123047, -0.28291571140289307, 0.015479709953069687, 0.12068793922662735, 0.5901791453361511, -0.030359234660863876, 0.11184588074684143, 0.41846445202827454, 0.13388513028621674, 0.16630667448043823, 0.6739208698272705, -0.08003440499305725, 0.2959127426147461, 0.1319655478000641, -0.06425216048955917, 0.18740272521972656, -0.08667881786823273, -0.2568633556365967, 1.1058320999145508, -0.10201214998960495, 0.014533404260873795, -0.046061404049396515, 0.3583453893661499, 0.037597108632326126, -0.17190168797969818, 0.11591724306344986, 0.36988365650177, -0.3805004358291626, 0.11335091292858124, -0.029568050056695938, 0.05401469022035599, -0.3304876685142517, 0.4752153158187866, -0.05264405161142349, -0.441508412361145, 0.10771703720092773, -0.21658965945243835, 0.3655078411102295, -0.15142479538917542, -0.6415687799453735, 0.005644187331199646, -0.1963610053062439, 0.05500476062297821, 0.04593239724636078, 0.06589914858341217, 0.4220048785209656, -0.3508794903755188, -0.06264431774616241, -0.01354566216468811, 0.5094324946403503, -0.33184167742729187, 0.2179897278547287, -0.09527325630187988, -0.0674535408616066, -0.6549035906791687, -0.03824864327907562, -0.0961507111787796, 0.03522678464651108, 0.11824534088373184, -0.02439749613404274, 0.1243363618850708, -0.2110125720500946, 0.4686075448989868, -0.7109619379043579, 0.046321429312229156, -0.4779786169528961, -0.037669748067855835, -0.27263739705085754, 0.0034035183489322662, -0.06831515580415726, -0.15925219655036926, -0.30882528424263, -0.24216443300247192, 0.2049526423215866, 0.1812106966972351, 0.11995187401771545, -0.13743281364440918, 0.07654423266649246, -0.12820440530776978, 0.2972554564476013, 0.9403367042541504, -0.2748927175998688, -0.153377503156662, 0.2702167332172394, 0.12888522446155548, -0.0995197519659996, 0.18052121996879578, -0.0821768119931221, -0.11639848351478577, 0.16196531057357788, -0.3579956889152527, -0.038176193833351135, 0.058492351323366165, -0.11738140881061554, -0.3845900297164917, -0.10884474962949753, 0.14427286386489868, 0.09015694260597229, -0.40411415696144104, -0.25164949893951416, 0.07506219297647476, -0.15330733358860016, -0.15772032737731934, -0.05767522752285004, 0.15885084867477417, 0.00875367596745491, 0.4517466723918915, -0.037040986120700836, -0.3098289966583252, 0.017872393131256104, 0.1333513855934143, 0.4505314528942108, 0.1128494068980217, 0.09376589953899384, -0.1383301317691803, 0.19871193170547485, -0.3196026682853699, -0.24084866046905518, 0.011979727074503899, -0.49401044845581055, 0.27225321531295776, 0.30099809169769287, 0.0006786566227674484, 0.08269760012626648, -0.059459805488586426, -0.27461951971054077, 0.15795603394508362, 0.09108049422502518, -1.7488765716552734, 0.36344605684280396, 0.0018414966762065887, 0.2487594187259674, -0.27342867851257324, -0.2882896661758423, -0.06375817954540253, 0.26517266035079956, 0.3505312502384186, 0.142797589302063, 0.05769110471010208, -0.4170210659503937, 0.06451095640659332, 0.20977620780467987, -0.0692606270313263, -0.20579129457473755, -0.10779428482055664, 0.11492843925952911, 0.10583967715501785, -0.08927921205759048, -0.37810370326042175, 0.7085973620414734, -0.07781189680099487, 0.07349517941474915, 0.041043721139431, -0.07662582397460938, 0.09314397722482681, 0.3017733097076416, 0.07746348530054092, 0.3325408697128296, 0.11601368337869644, -0.32925963401794434, -0.1931183636188507, -0.17197996377944946, 0.5197121500968933, 0.2477594017982483, -0.06901818513870239, -0.14379368722438812, 0.18923397362232208, 0.2995428144931793, -0.2378787100315094, 0.5574371814727783, 0.47417551279067993, 0.07629653811454773, 0.5010225176811218, 0.12626636028289795, -0.41933557391166687, 0.048868730664253235, -0.05022869631648064, -0.1980627179145813, 0.24780502915382385, 0.12428910285234451, 0.07227003574371338, -0.3011774718761444, -0.18875250220298767, -0.09240731596946716, -0.29861190915107727, 0.1640586405992508, 0.11340455710887909, -0.12622442841529846, 0.34666240215301514, -0.29876047372817993, -0.02692337892949581, 0.23101843893527985, -0.02698141522705555, -0.4336041212081909, 0.0863371416926384, -0.01671173796057701, -0.1375284343957901, -0.10306854546070099, 0.33114513754844666, -0.29589247703552246, -0.45421984791755676, 0.371843159198761, -0.014801666140556335, -0.2885875701904297, 0.369651198387146, 0.17645996809005737, -0.01813873089849949, -0.37369439005851746, -0.029961075633764267, -0.683996856212616, -0.436897873878479, 0.20900262892246246, -0.11477718502283096, -0.020294250920414925, -0.04603835195302963, 0.18944858014583588, -0.021007943898439407, -0.1500420868396759, 0.026334229856729507, -0.5114580988883972, 0.011553818359971046, -0.013691075146198273, 0.1926720142364502, -0.016442932188510895, -0.21589022874832153, 0.03092009201645851, -0.2163240611553192, 0.2997351586818695, -0.18193718791007996, 0.14099907875061035, 0.24418751895427704, 0.2339058220386505, -0.047256432473659515, 0.07857047021389008, 0.21828511357307434, -0.13598306477069855, -0.00522078201174736, 0.13595980405807495, 0.10499545186758041, -0.4014381468296051, -0.0046174488961696625, 0.28276678919792175, 0.19821786880493164, -0.33482056856155396, 0.018538784235715866, 0.06304825097322464, 1.2131528854370117, 0.13837479054927826, 0.14413738250732422, 0.10791633278131485, 0.31765860319137573, 0.01226864755153656, -0.24133513867855072, -0.05560341104865074, -0.19031961262226105, 0.2811462879180908, -0.0811186358332634, -0.12236964702606201, -0.0878237783908844, 0.011251209303736687, 0.24679327011108398, 0.35646873712539673, -0.10099340975284576, -0.19239404797554016, -0.3840128183364868, 0.04844781756401062, -0.2390139400959015, 0.10639482736587524, 0.14335700869560242, -0.2396412491798401, -0.0019021406769752502, 0.09029976278543472, 0.13974042236804962, -0.22479122877120972, 0.1017286628484726, 0.10975494980812073, -0.14692717790603638, 0.2670398950576782, 0.5690760612487793, 0.24010883271694183, -0.11491717398166656, -0.22539401054382324, -0.10761512815952301, -0.1447717398405075, -0.05096515268087387, 0.22726063430309296, 0.12078645080327988, -0.14081577956676483, 0.5662609338760376, 0.09408631920814514, 0.09805887937545776, 0.44956809282302856, -0.019484270364046097, -0.49486789107322693, 0.2126842737197876, 0.48460355401039124, -0.10617886483669281, -0.0318831130862236, -0.19822105765342712, -0.1696484237909317, -0.1697026491165161, 0.0018108650110661983, -0.4599670469760895, -0.27752646803855896, -0.0749017521739006, 0.4430253207683563, -0.05568592995405197, 0.3570607602596283, 0.6451273560523987, -0.3231419622898102, 0.18213868141174316, 0.04549378156661987, -0.29662469029426575, 0.2817332446575165, 0.27402645349502563, -0.1785108596086502, 0.20988675951957703, 0.26547062397003174, 0.22735907137393951, 0.1757577657699585, 0.29630935192108154, 0.17241589725017548, 0.3975509703159332, 0.027910370379686356, 0.005048826336860657, -1.7374778985977173, 0.16144010424613953, 0.20760147273540497, 0.23750081658363342, 0.19520491361618042, 0.047984056174755096, 0.02548902854323387, -0.03039340116083622, -0.08771663904190063, -0.08983869850635529, 0.3903249204158783, 0.25429829955101013, 0.3121521770954132, -0.032697100192308426, -0.00583912618458271, 0.21639983355998993, 0.13050970435142517, -0.18006190657615662, -0.20371589064598083, 0.1786169707775116, 0.38284167647361755, 0.2737363874912262, -0.10459060966968536, -0.052460357546806335, -0.30874598026275635, 0.24661694467067719, 0.258362352848053, -0.14856989681720734, 0.3015984892845154, 0.3130010962486267, -0.07986648380756378, 0.1031721830368042, -0.026793554425239563, 0.08154464513063431, 0.172242671251297, -0.3090737462043762, -0.10280045121908188, -0.20347900688648224, -0.037597861140966415, 0.0863356664776802, -0.5218473076820374, 0.3307032287120819, -0.08723132312297821, 0.3430871367454529, -0.28515467047691345, 0.2336045205593109, 0.3403356075286865, -0.20269858837127686, 0.5241339802742004, -0.2713997960090637, 0.008716385811567307, -0.4488923251628876, 0.18987366557121277, 0.22121310234069824, -0.14571285247802734, -0.0740506649017334, -0.05037055164575577, -0.04583311453461647, 0.03053557127714157, -0.3419053554534912, -0.5266417264938354, 0.1262756586074829, 0.013987615704536438, 0.25397488474845886, 0.04985330253839493, -0.40862300992012024, -0.5627312660217285, 0.0738983154296875, -0.24608957767486572, -0.3162699341773987, -0.026118382811546326, -0.41795051097869873, -0.022769322618842125, 0.051815275102853775, 0.31934988498687744, -0.0346858985722065, 0.36243003606796265, 0.2748081386089325, 0.19601042568683624, 0.5598094463348389, -0.034160297363996506, -0.06405501067638397, -0.20202668011188507, -0.05279945209622383, 0.17437463998794556, -4.4545440673828125, -0.09913462400436401, -0.298943430185318, -0.03605866804718971, -0.10485976189374924, -0.25585830211639404, 0.05459346994757652, -0.4285169541835785, 0.07448361068964005, -0.04837002605199814, 0.14762043952941895, -0.273074746131897, -0.16159309446811676, -0.031002666801214218, 0.23819440603256226, -0.17540840804576874]\",\n          \"[-0.05185035988688469, -0.4638708531856537, -0.007215328514575958, -0.06746033579111099, 0.18211884796619415, -0.0035504288971424103, 0.0469149686396122, 0.06153493374586105, -0.15168380737304688, -0.30537083745002747, -0.05193457752466202, 0.04793413728475571, 0.09458217024803162, 0.2966405749320984, -0.23346984386444092, 0.23763155937194824, -0.088639996945858, 0.2769877314567566, 0.27728551626205444, 0.12203482538461685, 0.1648690402507782, -0.6937786936759949, 0.08610562235116959, 0.07783286273479462, 0.05071104317903519, -0.12824112176895142, 0.12469308823347092, -0.07373460382223129, 0.3754684329032898, 0.12362547963857651, 0.20780883729457855, 0.23331347107887268, 0.08817596733570099, -0.4757749140262604, 0.4323856234550476, -0.10188551247119904, 0.36689886450767517, -0.12305132299661636, -0.19990786910057068, 0.032821521162986755, -0.09750504791736603, 0.1638413369655609, 0.4869057834148407, -0.228445902466774, 0.12812864780426025, -0.11922038346529007, -2.698647975921631, 0.18776476383209229, -0.500767171382904, -0.3449224829673767, 0.09843604266643524, -0.27053841948509216, -0.1047004759311676, 0.13750094175338745, 0.4057730436325073, 0.5428693890571594, 0.09324443340301514, 0.27205193042755127, 0.0291338749229908, -0.06478499621152878, -0.07477238774299622, -0.02891167253255844, -0.22018428146839142, 0.06369000673294067, 0.030133772641420364, 0.24286195635795593, -0.31197091937065125, 0.11383537948131561, -0.3771745264530182, 0.6386303305625916, -0.1654500812292099, 0.016816850751638412, 0.32812628149986267, -0.014584511518478394, 0.13222722709178925, -0.12182694673538208, -0.0022718862164765596, -0.02321203239262104, 0.04463798925280571, 0.053569868206977844, 0.03701136261224747, 0.3885440230369568, 0.3231275677680969, 0.30704689025878906, 0.06432951241731644, 0.6066246628761292, -0.3115188777446747, 0.14569520950317383, 0.4259134829044342, 0.42104265093803406, 0.03445066511631012, 0.21570250391960144, 0.41511207818984985, 0.3265923857688904, 0.3171790540218353, -0.511797308921814, -0.13185328245162964, 0.06943090260028839, 0.6083245873451233, -8.395034819841385e-05, 0.1183665543794632, 0.14996403455734253, 0.1509324312210083, -0.29215842485427856, 0.17375147342681885, 0.0024328771978616714, -0.23578345775604248, -0.1414327472448349, 0.06697186827659607, -1.6327846050262451, 0.3375631868839264, 0.18596506118774414, -0.10712086409330368, -0.40465572476387024, -0.5577229261398315, 0.11920984089374542, 0.1050763949751854, 0.3982660472393036, 0.02520911768078804, 0.4080031216144562, -0.13780730962753296, 0.33665725588798523, 0.024366365745663643, 0.029367299750447273, -0.10527899116277695, 0.5332568883895874, -0.10641833394765854, 0.38633036613464355, 0.3710385859012604, 0.3649127781391144, 0.2292049527168274, 0.4034036695957184, -0.45060527324676514, -0.01448173075914383, -0.07728724926710129, 0.34897348284721375, 0.020521681755781174, 0.06639856100082397, 0.14864324033260345, -0.0994725450873375, -0.5065854787826538, -0.1937762200832367, -2.0406787395477295, 0.06243343651294708, 0.42580506205558777, -0.11250756680965424, 0.17831546068191528, 0.29273754358291626, -0.3811224699020386, -0.07180081307888031, 0.19453302025794983, -0.19216063618659973, -0.1600213348865509, -0.04402856528759003, -0.17405100166797638, 0.014461543411016464, -0.07646798342466354, -0.2190314680337906, 0.13005998730659485, 0.03473975881934166, -0.022811759263277054, 0.1905989646911621, -0.05834631621837616, -0.052947934716939926, 0.017906945198774338, 0.11334061622619629, 0.17281414568424225, 0.11370475590229034, -0.07549070566892624, 0.18123415112495422, 0.106629878282547, 0.03343358263373375, 0.3044539988040924, -0.15888282656669617, 0.3078242540359497, 0.1764593869447708, -0.16377264261245728, 0.34858283400535583, -0.0938563346862793, -0.21202436089515686, -0.5785102844238281, 0.5313444137573242, 0.20506837964057922, 0.19526506960391998, 0.07283231616020203, -0.0916166752576828, 0.3854934871196747, -0.013035854324698448, -0.033094972372055054, -0.034513942897319794, -0.13817791640758514, -0.1661737561225891, 0.014958556741476059, 0.01666097715497017, 0.2863975763320923, 0.26281502842903137, 0.10106179118156433, -0.11815956234931946, -0.07474758476018906, 0.21771305799484253, 0.014421327039599419, 0.06475065648555756, -0.19371388852596283, -0.1389807015657425, -0.2601063847541809, 2.923313856124878, 0.33034393191337585, -0.1081172451376915, 0.3934807777404785, 0.13147102296352386, 0.3637409210205078, -0.18557007610797882, -0.058329254388809204, -0.05727043375372887, 0.21298812329769135, -0.14341938495635986, 0.339539498090744, -0.0688592791557312, 0.2909121811389923, -0.14778132736682892, 0.4095139801502228, -0.09030836075544357, -0.09842969477176666, 0.3284074068069458, -0.33044683933258057, 0.2618773877620697, -0.06443655490875244, -0.2771398425102234, 0.0015621297061443329, -0.8100013136863708, 0.20445339381694794, -0.39675241708755493, -0.24567386507987976, 0.08650749921798706, -0.2854998707771301, -0.024857167154550552, 0.14835414290428162, -0.003168828785419464, 0.23617330193519592, -0.11556363105773926, 0.0670028105378151, 0.09123698621988297, 0.1610882431268692, -0.2699631452560425, -0.4091642498970032, 0.09079572558403015, 0.1561845988035202, -0.0696946382522583, 0.20130527019500732, -0.18221470713615417, 0.15557852387428284, -0.0955374464392662, 0.1300237476825714, -0.09240152686834335, -0.14549967646598816, 0.10633759945631027, 0.04983488842844963, 0.019333939999341965, -0.14106006920337677, -0.11039729416370392, -0.24904221296310425, -0.17503109574317932, 0.29705509543418884, -0.07847759872674942, -0.5967174768447876, -0.165380597114563, -0.019634976983070374, -0.09581182897090912, 0.11054056882858276, -0.08027562499046326, -0.009302910417318344, 0.04806135594844818, -0.544468879699707, -2.379051685333252, -0.00883239135146141, -0.21587441861629486, 0.4115350842475891, 0.15694522857666016, -0.01428784430027008, 0.018979772925376892, 0.1682528704404831, 0.25817322731018066, 0.46471965312957764, 0.1815442442893982, 0.007976138032972813, 0.07512082159519196, -0.09885597974061966, -0.07423064112663269, 0.12879127264022827, -0.041847001761198044, -0.03168904408812523, 0.22062093019485474, -0.31887659430503845, -0.02844284102320671, 0.0850040465593338, -0.10358171910047531, 0.07372565567493439, -0.16176840662956238, 0.1030709519982338, -0.5383533835411072, -0.2676149010658264, 0.10596515238285065, 0.0939558893442154, -0.10956170409917831, -0.2864968180656433, 0.13539113104343414, -0.1737324446439743, -0.5218953490257263, -3.979851484298706, 0.04764578491449356, -0.15285666286945343, -0.12042165547609329, 0.09517006576061249, -0.32800471782684326, 0.5143972039222717, -0.006701933220028877, -0.10614681243896484, 0.06065533310174942, 0.05339188128709793, 0.10267417132854462, 0.2066154181957245, 0.11260788887739182, 0.17957204580307007, 0.7074276804924011, 0.5161865949630737, -0.12374885380268097, 0.3045014441013336, 0.16686446964740753, 0.1595636010169983, 0.004754733294248581, -0.08400636166334152, -0.061212144792079926, -0.04057401046156883, 0.08636578172445297, -0.7513170838356018, 0.10845720022916794, -0.1129654124379158, -0.32753434777259827, -0.1512472927570343, -0.5670686960220337, -0.1619236022233963, 0.170472651720047, -0.11202985048294067, -0.3977718949317932, -0.11193318665027618, 0.22419926524162292, 0.27081578969955444, 0.1464451253414154, 0.11245326697826385, 0.6128333210945129, -0.0009087696671485901, 0.19726502895355225, 0.6252883672714233, 0.09002655744552612, 0.33574479818344116, -0.26173388957977295, -0.02035500481724739, 0.07786376774311066, -0.006135111674666405, -0.25522929430007935, 0.9684561491012573, -0.34019047021865845, -0.028282292187213898, 0.005952253006398678, 0.4170932173728943, 0.21199123561382294, -0.1744043529033661, 0.0985930934548378, 0.06602951139211655, -0.10856496542692184, -0.20957422256469727, -0.3109045624732971, -0.0670742467045784, -0.22099247574806213, 0.10547596216201782, -0.4998604953289032, -0.01924818381667137, -0.017113719135522842, -0.19477085769176483, 0.12552131712436676, 0.2530907690525055, -0.8843722939491272, -0.07508781552314758, -0.3276641368865967, 0.21457743644714355, -0.23970316350460052, 0.18183985352516174, 0.21384823322296143, -0.3567044138908386, -0.1690811961889267, -0.0518171489238739, 0.526232123374939, -0.3142756521701813, 0.29194971919059753, 0.01833638921380043, -0.14882001280784607, -0.49168503284454346, 0.14416511356830597, 0.11397521942853928, 0.34319502115249634, -0.1303478479385376, -0.26500675082206726, 0.014321988448500633, -0.12207827717065811, 0.30293819308280945, -0.639240562915802, 0.10183998197317123, -0.4904135763645172, -0.19759099185466766, -0.1928391456604004, -0.16292360424995422, -0.5869163274765015, -0.050132084637880325, -0.14316251873970032, -0.31235989928245544, 0.18846584856510162, 0.34882652759552, 0.10176397860050201, 0.3233306407928467, -0.1962575614452362, 0.07701638340950012, 0.07103437185287476, 0.6640300154685974, -0.018475456163287163, -0.32050633430480957, 0.16067224740982056, 0.056699275970458984, -0.0195777490735054, 0.4458869397640228, 0.16544285416603088, -0.02420707792043686, -0.047254323959350586, -0.2123958170413971, 0.01352204941213131, 0.037591975182294846, -0.16128166019916534, -0.5310633182525635, -0.045357514172792435, 0.10748495161533356, -0.136365607380867, -0.3585715591907501, -0.4608868956565857, -0.1549145132303238, -0.10944931209087372, -0.24958163499832153, 0.05465634539723396, 0.2667481005191803, -0.1673230677843094, 0.3807150721549988, 0.1507463902235031, -0.20635753870010376, 0.11610370129346848, 0.10911338776350021, 0.5957319736480713, 0.06282325088977814, 0.0034926384687423706, -0.09376056492328644, 0.20269499719142914, 0.12984132766723633, -0.2514692544937134, -0.2896501421928406, -0.34385043382644653, -0.061320412904024124, -0.2235972285270691, 0.17836841940879822, 0.2068806290626526, -0.0515717938542366, -0.43813180923461914, 0.2555670142173767, 0.2135881781578064, -1.6451581716537476, 0.47133877873420715, 0.019401662051677704, 0.06704021245241165, -0.07209838181734085, -0.2674352526664734, -0.2923029661178589, 0.23939573764801025, 0.34600400924682617, -0.01995006576180458, -0.28149518370628357, -0.3454287648200989, 0.4044233560562134, 0.35906317830085754, 0.24209845066070557, -0.14103607833385468, -0.2817712426185608, 0.05769536644220352, 0.12638916075229645, -0.24625271558761597, -0.34441277384757996, 0.4372585117816925, -0.027353433892130852, -0.1293332725763321, -0.030165305361151695, -0.11517192423343658, -0.1476985067129135, 0.29564976692199707, 0.22822044789791107, 0.1741006225347519, 0.13793769478797913, -0.23935750126838684, -0.41043147444725037, -0.19878455996513367, 0.3422609269618988, 0.4668010473251343, 0.059275683015584946, -0.08293294161558151, -0.011704104021191597, 0.5089926719665527, -0.4617540240287781, 0.3523750603199005, -0.010519076138734818, 0.07057327032089233, 0.25997477769851685, 0.18043625354766846, -0.46190640330314636, 0.1455284059047699, 0.09860504418611526, -0.10744564235210419, 0.34911176562309265, -0.11929358541965485, -0.4393681585788727, -0.17745862901210785, -0.38547638058662415, 0.1025180071592331, 0.12580177187919617, -0.06497032940387726, -0.02625688910484314, -0.290555477142334, 0.414776474237442, -0.003435622900724411, -0.24209921061992645, 0.3871777653694153, 0.10768182575702667, -0.6029309630393982, 0.07651929557323456, 0.26603439450263977, 0.05485574156045914, 0.009776024147868156, 0.22177666425704956, 0.061834950000047684, -0.28907105326652527, 0.3820118308067322, -0.5110951066017151, 0.02757118083536625, 0.43961262702941895, 0.04321349784731865, -0.108852818608284, -0.12477992475032806, -0.3396681547164917, -0.4592151641845703, -0.7102092504501343, 0.32457491755485535, -0.13251665234565735, -0.08698100596666336, -0.16344478726387024, 0.14974291622638702, 0.1909453272819519, -0.056088462471961975, -0.2325742095708847, -0.5488202571868896, 0.15160304307937622, 0.38912057876586914, 0.21693527698516846, -0.03596245497465134, -0.1817457675933838, 0.37301886081695557, -0.13853682577610016, 0.18341678380966187, -0.36834317445755005, 0.1776413917541504, 0.16150525212287903, 0.17260712385177612, 0.1437048763036728, 0.10188578069210052, 0.01075395941734314, -0.1152888685464859, -0.22709952294826508, 0.3538496792316437, 0.029450975358486176, -0.25745847821235657, 0.0918816328048706, 0.24891617894172668, -0.17789870500564575, -0.4129597246646881, 0.07743973284959793, 0.07164434343576431, 1.1524972915649414, -0.008614519611001015, 0.1278446614742279, 0.2079678773880005, 0.12681543827056885, 0.2554887533187866, 0.0635984018445015, -0.08863476663827896, -0.6705288290977478, 0.4856180250644684, 0.343332976102829, -0.06988115608692169, -0.2280854433774948, -0.024937434121966362, 0.017782174050807953, 0.3451727330684662, -0.15359210968017578, -0.27938196063041687, -0.12401750683784485, 0.08684137463569641, -0.2924344837665558, 0.24484848976135254, 0.189165398478508, 0.20094266533851624, 0.05876946449279785, -0.018703673034906387, 0.284368097782135, -0.21739551424980164, 0.18796630203723907, 0.25543367862701416, 0.06354615092277527, 0.06797096133232117, 0.3205847144126892, 0.2879432439804077, -0.07528315484523773, 0.002378419041633606, 0.0979657992720604, -0.2348402887582779, -0.06150439381599426, -0.02298806980252266, 0.3497035801410675, -0.3174719214439392, 0.34454235434532166, -0.2483971118927002, -0.22314918041229248, 0.7894228100776672, -0.400312602519989, -0.4294351637363434, 0.15028351545333862, 0.11822950839996338, 0.09896384924650192, -0.16180148720741272, -0.24992448091506958, 0.020605575293302536, -0.09239249676465988, 0.2775077223777771, -0.044480886310338974, -0.15393950045108795, -0.3415108025074005, 0.5913771390914917, 0.1627638339996338, 0.44861528277397156, 0.5966356992721558, -0.24312441051006317, 0.13056185841560364, 0.10506989806890488, -0.37220650911331177, 0.2340714931488037, 0.13638834655284882, -0.2458290308713913, -0.0009530652314424515, -0.16533735394477844, 0.4529688060283661, 0.0926215872168541, 0.03630683571100235, 0.14958316087722778, 0.5517187118530273, -0.1331253945827484, -0.2793537378311157, -1.575178861618042, 0.11699138581752777, -0.04496580362319946, 0.06462502479553223, 0.022535892203450203, 0.0979851707816124, 0.10896067321300507, -0.13659752905368805, -0.21005958318710327, -0.3158080577850342, 0.5006614923477173, 0.04887550324201584, 0.5037204623222351, -0.06182664632797241, 0.34088170528411865, -0.011500585824251175, 0.03343486785888672, -0.2967206537723541, 0.046435289084911346, -0.10167950391769409, 0.15527266263961792, 0.32449033856391907, -0.143466055393219, -0.3197191059589386, -0.3732339143753052, 0.053671132773160934, -0.17284344136714935, -0.315127968788147, 0.39009350538253784, 0.20097436010837555, -0.0016476325690746307, 0.03161168843507767, -0.2617449164390564, -0.12586736679077148, 0.18703532218933105, -0.27732208371162415, 0.09365890175104141, 0.06705601513385773, -0.10020878165960312, 0.09655871987342834, -0.23145903646945953, 0.26237422227859497, 0.22866791486740112, 0.2503398656845093, -0.1503571718931198, 0.14190427958965302, 0.23280678689479828, -0.20191188156604767, 0.6942052841186523, -0.3195512592792511, 0.10128597915172577, -0.15711621940135956, 0.07318319380283356, 0.2545228600502014, -0.11753903329372406, 0.10617825388908386, 0.10671823471784592, 0.03449481725692749, -0.13009920716285706, -0.43424299359321594, -0.30670732259750366, 0.005156762897968292, -0.12689384818077087, 0.09363308548927307, 0.33497753739356995, 0.142752006649971, -0.12660762667655945, 0.14956744015216827, 0.19321133196353912, 0.036601144820451736, 0.08648276329040527, -0.24283409118652344, 0.4369221329689026, 0.061762142926454544, 0.25960850715637207, -0.10505259037017822, 0.38978826999664307, 0.18675091862678528, 0.051656849682331085, 0.213729590177536, 0.15780290961265564, -0.014452346600592136, -0.29913416504859924, -0.0883510410785675, 0.35162684321403503, -4.774632453918457, -0.21817705035209656, -0.3199447691440582, -0.06894069910049438, -0.22282028198242188, -0.4329451620578766, 0.15207789838314056, -0.6200048923492432, 0.1066804751753807, -0.23097622394561768, 0.2531948387622833, -0.004236243665218353, -0.2090575098991394, 0.056325484067201614, -0.19671523571014404, 0.23848339915275574]\"\n        ],\n        \"semantic_type\": \"\",\n        \"description\": \"\"\n      }\n    }\n  ]\n}"
            }
          },
          "metadata": {},
          "execution_count": 5
        }
      ]
    },
    {
      "cell_type": "code",
      "source": [
        "!pip uninstall -y tensorflow\n",
        "!pip install torch torch_xla torchvision"
      ],
      "metadata": {
        "colab": {
          "base_uri": "https://localhost:8080/"
        },
        "id": "bN6JyGkXBxY9",
        "outputId": "7a69b56f-50cf-42fa-f8de-65e81f95cbb8"
      },
      "execution_count": 6,
      "outputs": [
        {
          "output_type": "stream",
          "name": "stdout",
          "text": [
            "Found existing installation: tensorflow 2.15.0\n",
            "Uninstalling tensorflow-2.15.0:\n",
            "  Successfully uninstalled tensorflow-2.15.0\n",
            "Requirement already satisfied: torch in /usr/local/lib/python3.10/dist-packages (2.5.1+cpu)\n",
            "Requirement already satisfied: torch_xla in /usr/local/lib/python3.10/dist-packages (2.5.1+libtpu)\n",
            "Requirement already satisfied: torchvision in /usr/local/lib/python3.10/dist-packages (0.20.1+cpu)\n",
            "Requirement already satisfied: filelock in /usr/local/lib/python3.10/dist-packages (from torch) (3.16.1)\n",
            "Requirement already satisfied: typing-extensions>=4.8.0 in /usr/local/lib/python3.10/dist-packages (from torch) (4.12.2)\n",
            "Requirement already satisfied: networkx in /usr/local/lib/python3.10/dist-packages (from torch) (3.4.2)\n",
            "Requirement already satisfied: jinja2 in /usr/local/lib/python3.10/dist-packages (from torch) (3.1.4)\n",
            "Requirement already satisfied: fsspec in /usr/local/lib/python3.10/dist-packages (from torch) (2024.10.0)\n",
            "Requirement already satisfied: sympy==1.13.1 in /usr/local/lib/python3.10/dist-packages (from torch) (1.13.1)\n",
            "Requirement already satisfied: mpmath<1.4,>=1.1.0 in /usr/local/lib/python3.10/dist-packages (from sympy==1.13.1->torch) (1.3.0)\n",
            "Requirement already satisfied: absl-py>=1.0.0 in /usr/local/lib/python3.10/dist-packages (from torch_xla) (1.4.0)\n",
            "Requirement already satisfied: numpy in /usr/local/lib/python3.10/dist-packages (from torch_xla) (1.26.4)\n",
            "Requirement already satisfied: pyyaml in /usr/local/lib/python3.10/dist-packages (from torch_xla) (6.0.2)\n",
            "Requirement already satisfied: requests in /usr/local/lib/python3.10/dist-packages (from torch_xla) (2.32.3)\n",
            "Requirement already satisfied: pillow!=8.3.*,>=5.3.0 in /usr/local/lib/python3.10/dist-packages (from torchvision) (11.0.0)\n",
            "Requirement already satisfied: MarkupSafe>=2.0 in /usr/local/lib/python3.10/dist-packages (from jinja2->torch) (3.0.2)\n",
            "Requirement already satisfied: charset-normalizer<4,>=2 in /usr/local/lib/python3.10/dist-packages (from requests->torch_xla) (3.4.0)\n",
            "Requirement already satisfied: idna<4,>=2.5 in /usr/local/lib/python3.10/dist-packages (from requests->torch_xla) (3.10)\n",
            "Requirement already satisfied: urllib3<3,>=1.21.1 in /usr/local/lib/python3.10/dist-packages (from requests->torch_xla) (2.2.3)\n",
            "Requirement already satisfied: certifi>=2017.4.17 in /usr/local/lib/python3.10/dist-packages (from requests->torch_xla) (2024.12.14)\n"
          ]
        }
      ]
    },
    {
      "cell_type": "code",
      "source": [
        "import torch_xla.core.xla_model as xm\n",
        "# List TPU devices\n",
        "print(\"Available Devices:\", xm.get_xla_supported_devices())"
      ],
      "metadata": {
        "colab": {
          "base_uri": "https://localhost:8080/"
        },
        "id": "_uORoPEiCwO6",
        "outputId": "1578135a-4b29-4c12-9ff2-61e4d4170a98"
      },
      "execution_count": 7,
      "outputs": [
        {
          "output_type": "stream",
          "name": "stdout",
          "text": [
            "Available Devices: ['xla:0', 'xla:1', 'xla:2', 'xla:3', 'xla:4', 'xla:5', 'xla:6', 'xla:7']\n"
          ]
        }
      ]
    },
    {
      "cell_type": "code",
      "source": [
        "import io\n",
        "import requests\n",
        "from PIL import Image\n",
        "import torch\n",
        "import torchvision.transforms as transforms\n",
        "from torchvision.models import resnet50\n",
        "import torch_xla.core.xla_model as xm\n",
        "from concurrent.futures import ThreadPoolExecutor\n",
        "import numpy as np\n",
        "from tqdm import tqdm\n",
        "import time\n",
        "\n",
        "device = xm.xla_device(0)\n",
        "model = resnet50(pretrained=True).to(device)\n",
        "model.eval()\n",
        "\n",
        "# Image preprocessing\n",
        "transform = transforms.Compose([\n",
        "    transforms.Resize((224, 224)),\n",
        "    transforms.ToTensor(),\n",
        "    transforms.Normalize(mean=[0.485, 0.456, 0.406], std=[0.229, 0.224, 0.225]),\n",
        "])\n",
        "\n",
        "def process_images_batch(links_batch):\n",
        "    try:\n",
        "        images = []\n",
        "        valid_indices = []\n",
        "        for i, link in enumerate(links_batch):\n",
        "            try:\n",
        "                response = requests.get(link, timeout=10)\n",
        "                response.raise_for_status()\n",
        "                time.sleep(1)\n",
        "                image = Image.open(io.BytesIO(response.content)).convert(\"RGB\")\n",
        "                image = transform(image).unsqueeze(0).to(device)\n",
        "                images.append(image)\n",
        "                valid_indices.append(i)  # Track valid index\n",
        "            except Exception as e:\n",
        "                print(f\"Failed to process image at {link}: {e}\")\n",
        "\n",
        "        if images:\n",
        "            images_batch = torch.cat(images, dim=0)\n",
        "            with torch.no_grad():\n",
        "                features = model(images_batch).cpu().numpy()\n",
        "            return valid_indices, features\n",
        "        else:\n",
        "            return [], []\n",
        "    except Exception as e:\n",
        "        print(f\"Error processing batch: {e}\")\n",
        "        return [], []\n",
        "\n",
        "# DataFrame for results\n",
        "image_links = df['feature_image']  # Assuming this column contains image URLs\n",
        "df['image_features'] = pd.Series([[] for _ in range(len(df))], dtype=\"object\")\n",
        "batch_size = 128\n",
        "pause_between_batches = 3  # Pause time in seconds between batches\n",
        "\n",
        "batched_links = [image_links[i:i + batch_size] for i in range(0, len(image_links), batch_size)]\n",
        "\n",
        "# Using tqdm to show progress\n",
        "with ThreadPoolExecutor(max_workers=16) as executor:\n",
        "    for idx, (valid_indices, features) in tqdm(enumerate(executor.map(process_images_batch, batched_links)),\n",
        "                                               total=len(batched_links), desc=\"Processing batches\"):\n",
        "        if features is not None and len(valid_indices) > 0:\n",
        "            start_idx = batch_size * idx\n",
        "            # Map valid indices to DataFrame row indices\n",
        "            for rel_idx, feature in zip(valid_indices, features):\n",
        "                df.at[start_idx + rel_idx, 'image_features'] = feature.tolist()\n",
        "\n",
        "            print(f\"Processed and saved batch {idx + 1}/{len(batched_links)}\")\n",
        "\n",
        "        # Pause after each batch\n",
        "        time.sleep(pause_between_batches)\n",
        "\n",
        "# Check the size of the 'image_features' column\n",
        "print(f\"Size of image_features column: {df['image_features'].size}\")\n"
      ],
      "metadata": {
        "colab": {
          "base_uri": "https://localhost:8080/"
        },
        "id": "FmpWoDphCxLP",
        "outputId": "3d5128ee-e645-4c02-8a2b-d277f1739952"
      },
      "execution_count": 9,
      "outputs": [
        {
          "output_type": "stream",
          "name": "stderr",
          "text": [
            "/usr/local/lib/python3.10/dist-packages/torchvision/models/_utils.py:208: UserWarning: The parameter 'pretrained' is deprecated since 0.13 and may be removed in the future, please use 'weights' instead.\n",
            "  warnings.warn(\n",
            "/usr/local/lib/python3.10/dist-packages/torchvision/models/_utils.py:223: UserWarning: Arguments other than a weight enum or `None` for 'weights' are deprecated since 0.13 and may be removed in the future. The current behavior is equivalent to passing `weights=ResNet50_Weights.IMAGENET1K_V1`. You can also use `weights=ResNet50_Weights.DEFAULT` to get the most up-to-date weights.\n",
            "  warnings.warn(msg)\n",
            "Processing batches:   0%|          | 0/664 [00:00<?, ?it/s]"
          ]
        },
        {
          "output_type": "stream",
          "name": "stdout",
          "text": [
            "Error processing batch: Bad StatusOr access: RESOURCE_EXHAUSTED: Error loading program: Attempting to reserve 6.17G at the bottom of memory. That was not possible. There are 6.13G free, 0B reserved, and 6.13G reservable.\n",
            "Error processing batch: Bad StatusOr access: RESOURCE_EXHAUSTED: Error loading program: Attempting to reserve 6.17G at the bottom of memory. That was not possible. There are 6.13G free, 0B reserved, and 6.13G reservable.\n",
            "Processed and saved batch 1/664\n"
          ]
        },
        {
          "output_type": "stream",
          "name": "stderr",
          "text": [
            "Processing batches:   0%|          | 2/664 [02:46<12:42:59, 69.15s/it] "
          ]
        },
        {
          "output_type": "stream",
          "name": "stdout",
          "text": [
            "Processed and saved batch 3/664\n"
          ]
        },
        {
          "output_type": "stream",
          "name": "stderr",
          "text": [
            "\rProcessing batches:   0%|          | 3/664 [02:49<7:09:05, 38.95s/it] "
          ]
        },
        {
          "output_type": "stream",
          "name": "stdout",
          "text": [
            "Processed and saved batch 4/664\n"
          ]
        },
        {
          "output_type": "stream",
          "name": "stderr",
          "text": [
            "\rProcessing batches:   1%|          | 4/664 [02:52<4:32:23, 24.76s/it]"
          ]
        },
        {
          "output_type": "stream",
          "name": "stdout",
          "text": [
            "Processed and saved batch 5/664\n"
          ]
        },
        {
          "output_type": "stream",
          "name": "stderr",
          "text": [
            "\rProcessing batches:   1%|          | 5/664 [02:55<3:05:48, 16.92s/it]"
          ]
        },
        {
          "output_type": "stream",
          "name": "stdout",
          "text": [
            "Processed and saved batch 6/664\n"
          ]
        },
        {
          "output_type": "stream",
          "name": "stderr",
          "text": [
            "\rProcessing batches:   1%|          | 6/664 [02:58<2:13:40, 12.19s/it]"
          ]
        },
        {
          "output_type": "stream",
          "name": "stdout",
          "text": [
            "Processed and saved batch 7/664\n"
          ]
        },
        {
          "output_type": "stream",
          "name": "stderr",
          "text": [
            "\rProcessing batches:   1%|          | 7/664 [03:01<1:40:36,  9.19s/it]"
          ]
        },
        {
          "output_type": "stream",
          "name": "stdout",
          "text": [
            "Processed and saved batch 8/664\n"
          ]
        },
        {
          "output_type": "stream",
          "name": "stderr",
          "text": [
            "\rProcessing batches:   1%|          | 8/664 [03:04<1:18:56,  7.22s/it]"
          ]
        },
        {
          "output_type": "stream",
          "name": "stdout",
          "text": [
            "Processed and saved batch 9/664\n"
          ]
        },
        {
          "output_type": "stream",
          "name": "stderr",
          "text": [
            "\rProcessing batches:   1%|▏         | 9/664 [03:07<1:04:27,  5.90s/it]"
          ]
        },
        {
          "output_type": "stream",
          "name": "stdout",
          "text": [
            "Processed and saved batch 10/664\n"
          ]
        },
        {
          "output_type": "stream",
          "name": "stderr",
          "text": [
            "\rProcessing batches:   2%|▏         | 10/664 [03:10<54:36,  5.01s/it] "
          ]
        },
        {
          "output_type": "stream",
          "name": "stdout",
          "text": [
            "Processed and saved batch 11/664\n"
          ]
        },
        {
          "output_type": "stream",
          "name": "stderr",
          "text": [
            "\rProcessing batches:   2%|▏         | 11/664 [03:13<47:51,  4.40s/it]"
          ]
        },
        {
          "output_type": "stream",
          "name": "stdout",
          "text": [
            "Processed and saved batch 12/664\n"
          ]
        },
        {
          "output_type": "stream",
          "name": "stderr",
          "text": [
            "\rProcessing batches:   2%|▏         | 12/664 [03:16<43:12,  3.98s/it]"
          ]
        },
        {
          "output_type": "stream",
          "name": "stdout",
          "text": [
            "Processed and saved batch 13/664\n"
          ]
        },
        {
          "output_type": "stream",
          "name": "stderr",
          "text": [
            "Processing batches:   2%|▏         | 14/664 [03:22<37:40,  3.48s/it]"
          ]
        },
        {
          "output_type": "stream",
          "name": "stdout",
          "text": [
            "Processed and saved batch 15/664\n"
          ]
        },
        {
          "output_type": "stream",
          "name": "stderr",
          "text": [
            "\rProcessing batches:   2%|▏         | 15/664 [03:25<36:05,  3.34s/it]"
          ]
        },
        {
          "output_type": "stream",
          "name": "stdout",
          "text": [
            "Processed and saved batch 16/664\n"
          ]
        },
        {
          "output_type": "stream",
          "name": "stderr",
          "text": [
            "\rProcessing batches:   2%|▏         | 16/664 [03:28<35:00,  3.24s/it]"
          ]
        },
        {
          "output_type": "stream",
          "name": "stdout",
          "text": [
            "Error processing batch: Bad StatusOr access: RESOURCE_EXHAUSTED: Error loading program: Attempting to reserve 6.17G at the bottom of memory. That was not possible. There are 6.14G free, 0B reserved, and 6.14G reservable.\n",
            "Error processing batch: Bad StatusOr access: RESOURCE_EXHAUSTED: Error loading program: Attempting to reserve 6.17G at the bottom of memory. That was not possible. There are 6.14G free, 0B reserved, and 6.14G reservable.\n"
          ]
        },
        {
          "output_type": "stream",
          "name": "stderr",
          "text": [
            "\rProcessing batches:   3%|▎         | 17/664 [04:59<5:18:08, 29.50s/it]"
          ]
        },
        {
          "output_type": "stream",
          "name": "stdout",
          "text": [
            "Processed and saved batch 18/664\n"
          ]
        },
        {
          "output_type": "stream",
          "name": "stderr",
          "text": [
            "\rProcessing batches:   3%|▎         | 18/664 [05:03<3:55:41, 21.89s/it]"
          ]
        },
        {
          "output_type": "stream",
          "name": "stdout",
          "text": [
            "Processed and saved batch 19/664\n"
          ]
        },
        {
          "output_type": "stream",
          "name": "stderr",
          "text": [
            "\rProcessing batches:   3%|▎         | 19/664 [05:06<2:54:21, 16.22s/it]"
          ]
        },
        {
          "output_type": "stream",
          "name": "stdout",
          "text": [
            "Processed and saved batch 20/664\n"
          ]
        },
        {
          "output_type": "stream",
          "name": "stderr",
          "text": [
            "\rProcessing batches:   3%|▎         | 20/664 [05:09<2:11:31, 12.25s/it]"
          ]
        },
        {
          "output_type": "stream",
          "name": "stdout",
          "text": [
            "Processed and saved batch 21/664\n"
          ]
        },
        {
          "output_type": "stream",
          "name": "stderr",
          "text": [
            "\rProcessing batches:   3%|▎         | 21/664 [05:12<1:41:34,  9.48s/it]"
          ]
        },
        {
          "output_type": "stream",
          "name": "stdout",
          "text": [
            "Processed and saved batch 22/664\n"
          ]
        },
        {
          "output_type": "stream",
          "name": "stderr",
          "text": [
            "\rProcessing batches:   3%|▎         | 22/664 [05:15<1:20:38,  7.54s/it]"
          ]
        },
        {
          "output_type": "stream",
          "name": "stdout",
          "text": [
            "Processed and saved batch 23/664\n"
          ]
        },
        {
          "output_type": "stream",
          "name": "stderr",
          "text": [
            "\rProcessing batches:   3%|▎         | 23/664 [05:18<1:06:00,  6.18s/it]"
          ]
        },
        {
          "output_type": "stream",
          "name": "stdout",
          "text": [
            "Processed and saved batch 24/664\n"
          ]
        },
        {
          "output_type": "stream",
          "name": "stderr",
          "text": [
            "\rProcessing batches:   4%|▎         | 24/664 [05:21<55:45,  5.23s/it]  "
          ]
        },
        {
          "output_type": "stream",
          "name": "stdout",
          "text": [
            "Processed and saved batch 25/664\n"
          ]
        },
        {
          "output_type": "stream",
          "name": "stderr",
          "text": [
            "\rProcessing batches:   4%|▍         | 25/664 [05:24<48:34,  4.56s/it]"
          ]
        },
        {
          "output_type": "stream",
          "name": "stdout",
          "text": [
            "Processed and saved batch 26/664\n"
          ]
        },
        {
          "output_type": "stream",
          "name": "stderr",
          "text": [
            "\rProcessing batches:   4%|▍         | 26/664 [05:27<43:33,  4.10s/it]"
          ]
        },
        {
          "output_type": "stream",
          "name": "stdout",
          "text": [
            "Processed and saved batch 27/664\n"
          ]
        },
        {
          "output_type": "stream",
          "name": "stderr",
          "text": [
            "\rProcessing batches:   4%|▍         | 27/664 [05:30<40:02,  3.77s/it]"
          ]
        },
        {
          "output_type": "stream",
          "name": "stdout",
          "text": [
            "Processed and saved batch 28/664\n"
          ]
        },
        {
          "output_type": "stream",
          "name": "stderr",
          "text": [
            "\rProcessing batches:   4%|▍         | 28/664 [05:33<37:33,  3.54s/it]"
          ]
        },
        {
          "output_type": "stream",
          "name": "stdout",
          "text": [
            "Processed and saved batch 29/664\n"
          ]
        },
        {
          "output_type": "stream",
          "name": "stderr",
          "text": [
            "Processing batches:   5%|▍         | 30/664 [05:39<34:33,  3.27s/it]"
          ]
        },
        {
          "output_type": "stream",
          "name": "stdout",
          "text": [
            "Processed and saved batch 31/664\n"
          ]
        },
        {
          "output_type": "stream",
          "name": "stderr",
          "text": [
            "\rProcessing batches:   5%|▍         | 31/664 [05:42<33:40,  3.19s/it]"
          ]
        },
        {
          "output_type": "stream",
          "name": "stdout",
          "text": [
            "Processed and saved batch 32/664\n"
          ]
        },
        {
          "output_type": "stream",
          "name": "stderr",
          "text": [
            "\rProcessing batches:   5%|▍         | 32/664 [05:45<33:03,  3.14s/it]"
          ]
        },
        {
          "output_type": "stream",
          "name": "stdout",
          "text": [
            "Error processing batch: Bad StatusOr access: RESOURCE_EXHAUSTED: Error loading program: Attempting to reserve 6.17G at the bottom of memory. That was not possible. There are 6.15G free, 0B reserved, and 6.15G reservable.\n",
            "Error processing batch: Bad StatusOr access: RESOURCE_EXHAUSTED: Error loading program: Attempting to reserve 6.17G at the bottom of memory. That was not possible. There are 6.15G free, 0B reserved, and 6.15G reservable.\n"
          ]
        },
        {
          "output_type": "stream",
          "name": "stderr",
          "text": [
            "\rProcessing batches:   5%|▍         | 33/664 [07:30<5:54:01, 33.66s/it]"
          ]
        },
        {
          "output_type": "stream",
          "name": "stdout",
          "text": [
            "Processed and saved batch 34/664\n"
          ]
        },
        {
          "output_type": "stream",
          "name": "stderr",
          "text": [
            "\rProcessing batches:   5%|▌         | 34/664 [07:37<4:28:01, 25.53s/it]"
          ]
        },
        {
          "output_type": "stream",
          "name": "stdout",
          "text": [
            "Processed and saved batch 35/664\n"
          ]
        },
        {
          "output_type": "stream",
          "name": "stderr",
          "text": [
            "\rProcessing batches:   5%|▌         | 35/664 [07:40<3:16:47, 18.77s/it]"
          ]
        },
        {
          "output_type": "stream",
          "name": "stdout",
          "text": [
            "Processed and saved batch 36/664\n"
          ]
        },
        {
          "output_type": "stream",
          "name": "stderr",
          "text": [
            "Processing batches:   6%|▌         | 37/664 [07:46<1:52:08, 10.73s/it]"
          ]
        },
        {
          "output_type": "stream",
          "name": "stdout",
          "text": [
            "Processed and saved batch 38/664\n"
          ]
        },
        {
          "output_type": "stream",
          "name": "stderr",
          "text": [
            "\rProcessing batches:   6%|▌         | 38/664 [07:49<1:27:48,  8.42s/it]"
          ]
        },
        {
          "output_type": "stream",
          "name": "stdout",
          "text": [
            "Processed and saved batch 39/664\n"
          ]
        },
        {
          "output_type": "stream",
          "name": "stderr",
          "text": [
            "\rProcessing batches:   6%|▌         | 39/664 [07:52<1:10:46,  6.79s/it]"
          ]
        },
        {
          "output_type": "stream",
          "name": "stdout",
          "text": [
            "Processed and saved batch 40/664\n"
          ]
        },
        {
          "output_type": "stream",
          "name": "stderr",
          "text": [
            "\rProcessing batches:   6%|▌         | 40/664 [07:55<58:51,  5.66s/it]  "
          ]
        },
        {
          "output_type": "stream",
          "name": "stdout",
          "text": [
            "Processed and saved batch 41/664\n"
          ]
        },
        {
          "output_type": "stream",
          "name": "stderr",
          "text": [
            "\rProcessing batches:   6%|▌         | 41/664 [07:58<50:34,  4.87s/it]"
          ]
        },
        {
          "output_type": "stream",
          "name": "stdout",
          "text": [
            "Processed and saved batch 42/664\n"
          ]
        },
        {
          "output_type": "stream",
          "name": "stderr",
          "text": [
            "\rProcessing batches:   6%|▋         | 42/664 [08:01<44:44,  4.32s/it]"
          ]
        },
        {
          "output_type": "stream",
          "name": "stdout",
          "text": [
            "Processed and saved batch 43/664\n"
          ]
        },
        {
          "output_type": "stream",
          "name": "stderr",
          "text": [
            "\rProcessing batches:   6%|▋         | 43/664 [08:04<40:37,  3.92s/it]"
          ]
        },
        {
          "output_type": "stream",
          "name": "stdout",
          "text": [
            "Processed and saved batch 44/664\n"
          ]
        },
        {
          "output_type": "stream",
          "name": "stderr",
          "text": [
            "\rProcessing batches:   7%|▋         | 44/664 [08:07<37:44,  3.65s/it]"
          ]
        },
        {
          "output_type": "stream",
          "name": "stdout",
          "text": [
            "Processed and saved batch 45/664\n"
          ]
        },
        {
          "output_type": "stream",
          "name": "stderr",
          "text": [
            "\rProcessing batches:   7%|▋         | 45/664 [08:10<35:41,  3.46s/it]"
          ]
        },
        {
          "output_type": "stream",
          "name": "stdout",
          "text": [
            "Processed and saved batch 46/664\n"
          ]
        },
        {
          "output_type": "stream",
          "name": "stderr",
          "text": [
            "\rProcessing batches:   7%|▋         | 46/664 [08:13<34:14,  3.32s/it]"
          ]
        },
        {
          "output_type": "stream",
          "name": "stdout",
          "text": [
            "Processed and saved batch 47/664\n"
          ]
        },
        {
          "output_type": "stream",
          "name": "stderr",
          "text": [
            "\rProcessing batches:   7%|▋         | 47/664 [08:16<33:13,  3.23s/it]"
          ]
        },
        {
          "output_type": "stream",
          "name": "stdout",
          "text": [
            "Processed and saved batch 48/664\n"
          ]
        },
        {
          "output_type": "stream",
          "name": "stderr",
          "text": [
            "\rProcessing batches:   7%|▋         | 48/664 [08:19<32:29,  3.16s/it]"
          ]
        },
        {
          "output_type": "stream",
          "name": "stdout",
          "text": [
            "Processed and saved batch 49/664\n"
          ]
        },
        {
          "output_type": "stream",
          "name": "stderr",
          "text": [
            "\rProcessing batches:   7%|▋         | 49/664 [09:53<5:12:27, 30.48s/it]"
          ]
        },
        {
          "output_type": "stream",
          "name": "stdout",
          "text": [
            "Processed and saved batch 50/664\n"
          ]
        },
        {
          "output_type": "stream",
          "name": "stderr",
          "text": [
            "\rProcessing batches:   8%|▊         | 50/664 [09:56<3:48:40, 22.35s/it]"
          ]
        },
        {
          "output_type": "stream",
          "name": "stdout",
          "text": [
            "Processed and saved batch 51/664\n"
          ]
        },
        {
          "output_type": "stream",
          "name": "stderr",
          "text": [
            "\rProcessing batches:   8%|▊         | 51/664 [10:05<3:06:39, 18.27s/it]"
          ]
        },
        {
          "output_type": "stream",
          "name": "stdout",
          "text": [
            "Processed and saved batch 52/664\n"
          ]
        },
        {
          "output_type": "stream",
          "name": "stderr",
          "text": [
            "\rProcessing batches:   8%|▊         | 52/664 [10:20<2:55:00, 17.16s/it]"
          ]
        },
        {
          "output_type": "stream",
          "name": "stdout",
          "text": [
            "Processed and saved batch 53/664\n"
          ]
        },
        {
          "output_type": "stream",
          "name": "stderr",
          "text": [
            "\rProcessing batches:   8%|▊         | 53/664 [10:23<2:11:30, 12.91s/it]"
          ]
        },
        {
          "output_type": "stream",
          "name": "stdout",
          "text": [
            "Processed and saved batch 54/664\n"
          ]
        },
        {
          "output_type": "stream",
          "name": "stderr",
          "text": [
            "\rProcessing batches:   8%|▊         | 54/664 [10:26<1:41:05,  9.94s/it]"
          ]
        },
        {
          "output_type": "stream",
          "name": "stdout",
          "text": [
            "Processed and saved batch 55/664\n"
          ]
        },
        {
          "output_type": "stream",
          "name": "stderr",
          "text": [
            "\rProcessing batches:   8%|▊         | 55/664 [10:29<1:19:48,  7.86s/it]"
          ]
        },
        {
          "output_type": "stream",
          "name": "stdout",
          "text": [
            "Processed and saved batch 56/664\n"
          ]
        },
        {
          "output_type": "stream",
          "name": "stderr",
          "text": [
            "\rProcessing batches:   8%|▊         | 56/664 [10:32<1:04:55,  6.41s/it]"
          ]
        },
        {
          "output_type": "stream",
          "name": "stdout",
          "text": [
            "Processed and saved batch 57/664\n"
          ]
        },
        {
          "output_type": "stream",
          "name": "stderr",
          "text": [
            "\rProcessing batches:   9%|▊         | 57/664 [10:35<54:31,  5.39s/it]  "
          ]
        },
        {
          "output_type": "stream",
          "name": "stdout",
          "text": [
            "Processed and saved batch 58/664\n"
          ]
        },
        {
          "output_type": "stream",
          "name": "stderr",
          "text": [
            "\rProcessing batches:   9%|▊         | 58/664 [10:38<47:13,  4.68s/it]"
          ]
        },
        {
          "output_type": "stream",
          "name": "stdout",
          "text": [
            "Processed and saved batch 59/664\n"
          ]
        },
        {
          "output_type": "stream",
          "name": "stderr",
          "text": [
            "\rProcessing batches:   9%|▉         | 59/664 [10:41<42:06,  4.18s/it]"
          ]
        },
        {
          "output_type": "stream",
          "name": "stdout",
          "text": [
            "Processed and saved batch 60/664\n"
          ]
        },
        {
          "output_type": "stream",
          "name": "stderr",
          "text": [
            "\rProcessing batches:   9%|▉         | 60/664 [10:44<38:31,  3.83s/it]"
          ]
        },
        {
          "output_type": "stream",
          "name": "stdout",
          "text": [
            "Processed and saved batch 61/664\n"
          ]
        },
        {
          "output_type": "stream",
          "name": "stderr",
          "text": [
            "\rProcessing batches:   9%|▉         | 61/664 [10:47<35:59,  3.58s/it]"
          ]
        },
        {
          "output_type": "stream",
          "name": "stdout",
          "text": [
            "Processed and saved batch 62/664\n"
          ]
        },
        {
          "output_type": "stream",
          "name": "stderr",
          "text": [
            "\rProcessing batches:   9%|▉         | 62/664 [10:50<34:13,  3.41s/it]"
          ]
        },
        {
          "output_type": "stream",
          "name": "stdout",
          "text": [
            "Processed and saved batch 63/664\n"
          ]
        },
        {
          "output_type": "stream",
          "name": "stderr",
          "text": [
            "\rProcessing batches:   9%|▉         | 63/664 [10:53<32:57,  3.29s/it]"
          ]
        },
        {
          "output_type": "stream",
          "name": "stdout",
          "text": [
            "Processed and saved batch 64/664\n"
          ]
        },
        {
          "output_type": "stream",
          "name": "stderr",
          "text": [
            "\rProcessing batches:  10%|▉         | 64/664 [10:56<32:04,  3.21s/it]"
          ]
        },
        {
          "output_type": "stream",
          "name": "stdout",
          "text": [
            "Processed and saved batch 65/664\n"
          ]
        },
        {
          "output_type": "stream",
          "name": "stderr",
          "text": [
            "\rProcessing batches:  10%|▉         | 65/664 [12:25<4:48:51, 28.93s/it]"
          ]
        },
        {
          "output_type": "stream",
          "name": "stdout",
          "text": [
            "Processed and saved batch 66/664\n"
          ]
        },
        {
          "output_type": "stream",
          "name": "stderr",
          "text": [
            "\rProcessing batches:  10%|▉         | 66/664 [12:36<3:56:15, 23.70s/it]"
          ]
        },
        {
          "output_type": "stream",
          "name": "stdout",
          "text": [
            "Processed and saved batch 67/664\n"
          ]
        },
        {
          "output_type": "stream",
          "name": "stderr",
          "text": [
            "\rProcessing batches:  10%|█         | 67/664 [12:40<2:55:58, 17.69s/it]"
          ]
        },
        {
          "output_type": "stream",
          "name": "stdout",
          "text": [
            "Processed and saved batch 68/664\n"
          ]
        },
        {
          "output_type": "stream",
          "name": "stderr",
          "text": [
            "\rProcessing batches:  10%|█         | 68/664 [12:43<2:11:56, 13.28s/it]"
          ]
        },
        {
          "output_type": "stream",
          "name": "stdout",
          "text": [
            "Processed and saved batch 69/664\n"
          ]
        },
        {
          "output_type": "stream",
          "name": "stderr",
          "text": [
            "\rProcessing batches:  10%|█         | 69/664 [12:46<1:41:09, 10.20s/it]"
          ]
        },
        {
          "output_type": "stream",
          "name": "stdout",
          "text": [
            "Processed and saved batch 70/664\n"
          ]
        },
        {
          "output_type": "stream",
          "name": "stderr",
          "text": [
            "\rProcessing batches:  11%|█         | 70/664 [12:49<1:19:38,  8.04s/it]"
          ]
        },
        {
          "output_type": "stream",
          "name": "stdout",
          "text": [
            "Processed and saved batch 71/664\n"
          ]
        },
        {
          "output_type": "stream",
          "name": "stderr",
          "text": [
            "\rProcessing batches:  11%|█         | 71/664 [12:52<1:04:34,  6.53s/it]"
          ]
        },
        {
          "output_type": "stream",
          "name": "stdout",
          "text": [
            "Processed and saved batch 72/664\n"
          ]
        },
        {
          "output_type": "stream",
          "name": "stderr",
          "text": [
            "\rProcessing batches:  11%|█         | 72/664 [12:55<54:02,  5.48s/it]  "
          ]
        },
        {
          "output_type": "stream",
          "name": "stdout",
          "text": [
            "Processed and saved batch 73/664\n"
          ]
        },
        {
          "output_type": "stream",
          "name": "stderr",
          "text": [
            "\rProcessing batches:  11%|█         | 73/664 [12:58<46:39,  4.74s/it]"
          ]
        },
        {
          "output_type": "stream",
          "name": "stdout",
          "text": [
            "Processed and saved batch 74/664\n"
          ]
        },
        {
          "output_type": "stream",
          "name": "stderr",
          "text": [
            "\rProcessing batches:  11%|█         | 74/664 [13:01<41:29,  4.22s/it]"
          ]
        },
        {
          "output_type": "stream",
          "name": "stdout",
          "text": [
            "Processed and saved batch 75/664\n"
          ]
        },
        {
          "output_type": "stream",
          "name": "stderr",
          "text": [
            "\rProcessing batches:  11%|█▏        | 75/664 [13:04<37:51,  3.86s/it]"
          ]
        },
        {
          "output_type": "stream",
          "name": "stdout",
          "text": [
            "Processed and saved batch 76/664\n"
          ]
        },
        {
          "output_type": "stream",
          "name": "stderr",
          "text": [
            "\rProcessing batches:  11%|█▏        | 76/664 [13:07<35:18,  3.60s/it]"
          ]
        },
        {
          "output_type": "stream",
          "name": "stdout",
          "text": [
            "Processed and saved batch 77/664\n"
          ]
        },
        {
          "output_type": "stream",
          "name": "stderr",
          "text": [
            "\rProcessing batches:  12%|█▏        | 77/664 [13:10<33:30,  3.43s/it]"
          ]
        },
        {
          "output_type": "stream",
          "name": "stdout",
          "text": [
            "Processed and saved batch 78/664\n"
          ]
        },
        {
          "output_type": "stream",
          "name": "stderr",
          "text": [
            "\rProcessing batches:  12%|█▏        | 78/664 [13:13<32:14,  3.30s/it]"
          ]
        },
        {
          "output_type": "stream",
          "name": "stdout",
          "text": [
            "Processed and saved batch 79/664\n"
          ]
        },
        {
          "output_type": "stream",
          "name": "stderr",
          "text": [
            "\rProcessing batches:  12%|█▏        | 79/664 [13:16<31:20,  3.21s/it]"
          ]
        },
        {
          "output_type": "stream",
          "name": "stdout",
          "text": [
            "Processed and saved batch 80/664\n"
          ]
        },
        {
          "output_type": "stream",
          "name": "stderr",
          "text": [
            "\rProcessing batches:  12%|█▏        | 80/664 [13:19<30:41,  3.15s/it]"
          ]
        },
        {
          "output_type": "stream",
          "name": "stdout",
          "text": [
            "Processed and saved batch 81/664\n"
          ]
        },
        {
          "output_type": "stream",
          "name": "stderr",
          "text": [
            "\rProcessing batches:  12%|█▏        | 81/664 [14:59<5:11:35, 32.07s/it]"
          ]
        },
        {
          "output_type": "stream",
          "name": "stdout",
          "text": [
            "Processed and saved batch 82/664\n"
          ]
        },
        {
          "output_type": "stream",
          "name": "stderr",
          "text": [
            "\rProcessing batches:  12%|█▏        | 82/664 [15:11<4:14:03, 26.19s/it]"
          ]
        },
        {
          "output_type": "stream",
          "name": "stdout",
          "text": [
            "Processed and saved batch 83/664\n"
          ]
        },
        {
          "output_type": "stream",
          "name": "stderr",
          "text": [
            "\rProcessing batches:  12%|█▎        | 83/664 [15:14<3:06:17, 19.24s/it]"
          ]
        },
        {
          "output_type": "stream",
          "name": "stdout",
          "text": [
            "Processed and saved batch 84/664\n"
          ]
        },
        {
          "output_type": "stream",
          "name": "stderr",
          "text": [
            "\rProcessing batches:  13%|█▎        | 84/664 [15:17<2:18:54, 14.37s/it]"
          ]
        },
        {
          "output_type": "stream",
          "name": "stdout",
          "text": [
            "Processed and saved batch 85/664\n"
          ]
        },
        {
          "output_type": "stream",
          "name": "stderr",
          "text": [
            "\rProcessing batches:  13%|█▎        | 85/664 [15:20<1:45:47, 10.96s/it]"
          ]
        },
        {
          "output_type": "stream",
          "name": "stdout",
          "text": [
            "Processed and saved batch 86/664\n"
          ]
        },
        {
          "output_type": "stream",
          "name": "stderr",
          "text": [
            "\rProcessing batches:  13%|█▎        | 86/664 [15:23<1:22:37,  8.58s/it]"
          ]
        },
        {
          "output_type": "stream",
          "name": "stdout",
          "text": [
            "Processed and saved batch 87/664\n"
          ]
        },
        {
          "output_type": "stream",
          "name": "stderr",
          "text": [
            "\rProcessing batches:  13%|█▎        | 87/664 [15:26<1:06:25,  6.91s/it]"
          ]
        },
        {
          "output_type": "stream",
          "name": "stdout",
          "text": [
            "Processed and saved batch 88/664\n"
          ]
        },
        {
          "output_type": "stream",
          "name": "stderr",
          "text": [
            "\rProcessing batches:  13%|█▎        | 88/664 [15:29<55:05,  5.74s/it]  "
          ]
        },
        {
          "output_type": "stream",
          "name": "stdout",
          "text": [
            "Processed and saved batch 89/664\n"
          ]
        },
        {
          "output_type": "stream",
          "name": "stderr",
          "text": [
            "\rProcessing batches:  13%|█▎        | 89/664 [16:39<3:58:10, 24.85s/it]"
          ]
        },
        {
          "output_type": "stream",
          "name": "stdout",
          "text": [
            "Processed and saved batch 90/664\n"
          ]
        },
        {
          "output_type": "stream",
          "name": "stderr",
          "text": [
            "\rProcessing batches:  14%|█▎        | 90/664 [16:42<2:55:04, 18.30s/it]"
          ]
        },
        {
          "output_type": "stream",
          "name": "stdout",
          "text": [
            "Processed and saved batch 91/664\n"
          ]
        },
        {
          "output_type": "stream",
          "name": "stderr",
          "text": [
            "\rProcessing batches:  14%|█▎        | 91/664 [16:45<2:10:57, 13.71s/it]"
          ]
        },
        {
          "output_type": "stream",
          "name": "stdout",
          "text": [
            "Processed and saved batch 92/664\n"
          ]
        },
        {
          "output_type": "stream",
          "name": "stderr",
          "text": [
            "\rProcessing batches:  14%|█▍        | 92/664 [16:48<1:40:07, 10.50s/it]"
          ]
        },
        {
          "output_type": "stream",
          "name": "stdout",
          "text": [
            "Processed and saved batch 93/664\n"
          ]
        },
        {
          "output_type": "stream",
          "name": "stderr",
          "text": [
            "\rProcessing batches:  14%|█▍        | 93/664 [16:51<1:18:33,  8.26s/it]"
          ]
        },
        {
          "output_type": "stream",
          "name": "stdout",
          "text": [
            "Processed and saved batch 94/664\n"
          ]
        },
        {
          "output_type": "stream",
          "name": "stderr",
          "text": [
            "\rProcessing batches:  14%|█▍        | 94/664 [16:54<1:03:28,  6.68s/it]"
          ]
        },
        {
          "output_type": "stream",
          "name": "stdout",
          "text": [
            "Processed and saved batch 95/664\n"
          ]
        },
        {
          "output_type": "stream",
          "name": "stderr",
          "text": [
            "\rProcessing batches:  14%|█▍        | 95/664 [16:57<52:55,  5.58s/it]  "
          ]
        },
        {
          "output_type": "stream",
          "name": "stdout",
          "text": [
            "Processed and saved batch 96/664\n"
          ]
        },
        {
          "output_type": "stream",
          "name": "stderr",
          "text": [
            "\rProcessing batches:  14%|█▍        | 96/664 [17:00<45:32,  4.81s/it]"
          ]
        },
        {
          "output_type": "stream",
          "name": "stdout",
          "text": [
            "Processed and saved batch 97/664\n"
          ]
        },
        {
          "output_type": "stream",
          "name": "stderr",
          "text": [
            "\rProcessing batches:  15%|█▍        | 97/664 [18:41<5:18:35, 33.71s/it]"
          ]
        },
        {
          "output_type": "stream",
          "name": "stdout",
          "text": [
            "Processed and saved batch 98/664\n"
          ]
        },
        {
          "output_type": "stream",
          "name": "stderr",
          "text": [
            "\rProcessing batches:  15%|█▍        | 98/664 [18:58<4:31:47, 28.81s/it]"
          ]
        },
        {
          "output_type": "stream",
          "name": "stdout",
          "text": [
            "Processed and saved batch 99/664\n"
          ]
        },
        {
          "output_type": "stream",
          "name": "stderr",
          "text": [
            "\rProcessing batches:  15%|█▍        | 99/664 [19:03<3:23:20, 21.59s/it]"
          ]
        },
        {
          "output_type": "stream",
          "name": "stdout",
          "text": [
            "Processed and saved batch 100/664\n"
          ]
        },
        {
          "output_type": "stream",
          "name": "stderr",
          "text": [
            "\rProcessing batches:  15%|█▌        | 100/664 [19:06<2:30:34, 16.02s/it]"
          ]
        },
        {
          "output_type": "stream",
          "name": "stdout",
          "text": [
            "Processed and saved batch 101/664\n"
          ]
        },
        {
          "output_type": "stream",
          "name": "stderr",
          "text": [
            "\rProcessing batches:  15%|█▌        | 101/664 [19:09<1:53:41, 12.12s/it]"
          ]
        },
        {
          "output_type": "stream",
          "name": "stdout",
          "text": [
            "Processed and saved batch 102/664\n"
          ]
        },
        {
          "output_type": "stream",
          "name": "stderr",
          "text": [
            "\rProcessing batches:  15%|█▌        | 102/664 [19:12<1:27:54,  9.39s/it]"
          ]
        },
        {
          "output_type": "stream",
          "name": "stdout",
          "text": [
            "Processed and saved batch 103/664\n"
          ]
        },
        {
          "output_type": "stream",
          "name": "stderr",
          "text": [
            "\rProcessing batches:  16%|█▌        | 103/664 [19:23<1:32:29,  9.89s/it]"
          ]
        },
        {
          "output_type": "stream",
          "name": "stdout",
          "text": [
            "Processed and saved batch 104/664\n"
          ]
        },
        {
          "output_type": "stream",
          "name": "stderr",
          "text": [
            "\rProcessing batches:  16%|█▌        | 104/664 [19:26<1:13:05,  7.83s/it]"
          ]
        },
        {
          "output_type": "stream",
          "name": "stdout",
          "text": [
            "Processed and saved batch 105/664\n"
          ]
        },
        {
          "output_type": "stream",
          "name": "stderr",
          "text": [
            "\rProcessing batches:  16%|█▌        | 105/664 [20:13<3:02:49, 19.62s/it]"
          ]
        },
        {
          "output_type": "stream",
          "name": "stdout",
          "text": [
            "Processed and saved batch 106/664\n"
          ]
        },
        {
          "output_type": "stream",
          "name": "stderr",
          "text": [
            "\rProcessing batches:  16%|█▌        | 106/664 [20:17<2:19:21, 14.99s/it]"
          ]
        },
        {
          "output_type": "stream",
          "name": "stdout",
          "text": [
            "Processed and saved batch 107/664\n"
          ]
        },
        {
          "output_type": "stream",
          "name": "stderr",
          "text": [
            "\rProcessing batches:  16%|█▌        | 107/664 [20:31<2:14:03, 14.44s/it]"
          ]
        },
        {
          "output_type": "stream",
          "name": "stdout",
          "text": [
            "Processed and saved batch 108/664\n"
          ]
        },
        {
          "output_type": "stream",
          "name": "stderr",
          "text": [
            "\rProcessing batches:  16%|█▋        | 108/664 [20:34<1:42:02, 11.01s/it]"
          ]
        },
        {
          "output_type": "stream",
          "name": "stdout",
          "text": [
            "Processed and saved batch 109/664\n"
          ]
        },
        {
          "output_type": "stream",
          "name": "stderr",
          "text": [
            "\rProcessing batches:  16%|█▋        | 109/664 [20:37<1:19:39,  8.61s/it]"
          ]
        },
        {
          "output_type": "stream",
          "name": "stdout",
          "text": [
            "Processed and saved batch 110/664\n"
          ]
        },
        {
          "output_type": "stream",
          "name": "stderr",
          "text": [
            "\rProcessing batches:  17%|█▋        | 110/664 [20:40<1:03:59,  6.93s/it]"
          ]
        },
        {
          "output_type": "stream",
          "name": "stdout",
          "text": [
            "Processed and saved batch 111/664\n"
          ]
        },
        {
          "output_type": "stream",
          "name": "stderr",
          "text": [
            "\rProcessing batches:  17%|█▋        | 111/664 [20:43<53:02,  5.76s/it]  "
          ]
        },
        {
          "output_type": "stream",
          "name": "stdout",
          "text": [
            "Processed and saved batch 112/664\n"
          ]
        },
        {
          "output_type": "stream",
          "name": "stderr",
          "text": [
            "\rProcessing batches:  17%|█▋        | 112/664 [20:46<45:22,  4.93s/it]"
          ]
        },
        {
          "output_type": "stream",
          "name": "stdout",
          "text": [
            "Processed and saved batch 113/664\n"
          ]
        },
        {
          "output_type": "stream",
          "name": "stderr",
          "text": [
            "\rProcessing batches:  17%|█▋        | 113/664 [21:23<2:14:44, 14.67s/it]"
          ]
        },
        {
          "output_type": "stream",
          "name": "stdout",
          "text": [
            "Processed and saved batch 114/664\n"
          ]
        },
        {
          "output_type": "stream",
          "name": "stderr",
          "text": [
            "\rProcessing batches:  17%|█▋        | 114/664 [21:30<1:52:19, 12.25s/it]"
          ]
        },
        {
          "output_type": "stream",
          "name": "stdout",
          "text": [
            "Processed and saved batch 115/664\n"
          ]
        },
        {
          "output_type": "stream",
          "name": "stderr",
          "text": [
            "\rProcessing batches:  17%|█▋        | 115/664 [21:36<1:35:48, 10.47s/it]"
          ]
        },
        {
          "output_type": "stream",
          "name": "stdout",
          "text": [
            "Processed and saved batch 116/664\n"
          ]
        },
        {
          "output_type": "stream",
          "name": "stderr",
          "text": [
            "\rProcessing batches:  17%|█▋        | 116/664 [21:39<1:15:11,  8.23s/it]"
          ]
        },
        {
          "output_type": "stream",
          "name": "stdout",
          "text": [
            "Processed and saved batch 117/664\n"
          ]
        },
        {
          "output_type": "stream",
          "name": "stderr",
          "text": [
            "\rProcessing batches:  18%|█▊        | 117/664 [21:45<1:08:15,  7.49s/it]"
          ]
        },
        {
          "output_type": "stream",
          "name": "stdout",
          "text": [
            "Processed and saved batch 118/664\n"
          ]
        },
        {
          "output_type": "stream",
          "name": "stderr",
          "text": [
            "\rProcessing batches:  18%|█▊        | 118/664 [21:48<55:54,  6.14s/it]  "
          ]
        },
        {
          "output_type": "stream",
          "name": "stdout",
          "text": [
            "Processed and saved batch 119/664\n"
          ]
        },
        {
          "output_type": "stream",
          "name": "stderr",
          "text": [
            "\rProcessing batches:  18%|█▊        | 119/664 [21:51<47:16,  5.20s/it]"
          ]
        },
        {
          "output_type": "stream",
          "name": "stdout",
          "text": [
            "Processed and saved batch 120/664\n"
          ]
        },
        {
          "output_type": "stream",
          "name": "stderr",
          "text": [
            "\rProcessing batches:  18%|█▊        | 120/664 [21:54<41:13,  4.55s/it]"
          ]
        },
        {
          "output_type": "stream",
          "name": "stdout",
          "text": [
            "Processed and saved batch 121/664\n"
          ]
        },
        {
          "output_type": "stream",
          "name": "stderr",
          "text": [
            "\rProcessing batches:  18%|█▊        | 121/664 [21:57<36:58,  4.09s/it]"
          ]
        },
        {
          "output_type": "stream",
          "name": "stdout",
          "text": [
            "Processed and saved batch 122/664\n"
          ]
        },
        {
          "output_type": "stream",
          "name": "stderr",
          "text": [
            "\rProcessing batches:  18%|█▊        | 122/664 [22:02<39:39,  4.39s/it]/usr/local/lib/python3.10/dist-packages/PIL/Image.py:1054: UserWarning: Palette images with Transparency expressed in bytes should be converted to RGBA images\n",
            "  warnings.warn(\n"
          ]
        },
        {
          "output_type": "stream",
          "name": "stdout",
          "text": [
            "Processed and saved batch 123/664\n"
          ]
        },
        {
          "output_type": "stream",
          "name": "stderr",
          "text": [
            "\rProcessing batches:  19%|█▊        | 123/664 [22:34<1:54:38, 12.71s/it]"
          ]
        },
        {
          "output_type": "stream",
          "name": "stdout",
          "text": [
            "Processed and saved batch 124/664\n"
          ]
        },
        {
          "output_type": "stream",
          "name": "stderr",
          "text": [
            "\rProcessing batches:  19%|█▊        | 124/664 [22:43<1:44:49, 11.65s/it]"
          ]
        },
        {
          "output_type": "stream",
          "name": "stdout",
          "text": [
            "Processed and saved batch 125/664\n"
          ]
        },
        {
          "output_type": "stream",
          "name": "stderr",
          "text": [
            "\rProcessing batches:  19%|█▉        | 125/664 [22:47<1:23:37,  9.31s/it]"
          ]
        },
        {
          "output_type": "stream",
          "name": "stdout",
          "text": [
            "Processed and saved batch 126/664\n"
          ]
        },
        {
          "output_type": "stream",
          "name": "stderr",
          "text": [
            "\rProcessing batches:  19%|█▉        | 126/664 [22:50<1:06:31,  7.42s/it]"
          ]
        },
        {
          "output_type": "stream",
          "name": "stdout",
          "text": [
            "Processed and saved batch 127/664\n"
          ]
        },
        {
          "output_type": "stream",
          "name": "stderr",
          "text": [
            "\rProcessing batches:  19%|█▉        | 127/664 [22:53<54:33,  6.10s/it]  "
          ]
        },
        {
          "output_type": "stream",
          "name": "stdout",
          "text": [
            "Processed and saved batch 128/664\n"
          ]
        },
        {
          "output_type": "stream",
          "name": "stderr",
          "text": [
            "\rProcessing batches:  19%|█▉        | 128/664 [22:58<52:26,  5.87s/it]"
          ]
        },
        {
          "output_type": "stream",
          "name": "stdout",
          "text": [
            "Processed and saved batch 129/664\n"
          ]
        },
        {
          "output_type": "stream",
          "name": "stderr",
          "text": [
            "\rProcessing batches:  19%|█▉        | 129/664 [23:49<2:53:03, 19.41s/it]"
          ]
        },
        {
          "output_type": "stream",
          "name": "stdout",
          "text": [
            "Processed and saved batch 130/664\n"
          ]
        },
        {
          "output_type": "stream",
          "name": "stderr",
          "text": [
            "\rProcessing batches:  20%|█▉        | 130/664 [23:54<2:14:02, 15.06s/it]"
          ]
        },
        {
          "output_type": "stream",
          "name": "stdout",
          "text": [
            "Processed and saved batch 131/664\n"
          ]
        },
        {
          "output_type": "stream",
          "name": "stderr",
          "text": [
            "\rProcessing batches:  20%|█▉        | 131/664 [23:57<1:41:40, 11.45s/it]"
          ]
        },
        {
          "output_type": "stream",
          "name": "stdout",
          "text": [
            "Processed and saved batch 132/664\n"
          ]
        },
        {
          "output_type": "stream",
          "name": "stderr",
          "text": [
            "\rProcessing batches:  20%|█▉        | 132/664 [24:00<1:19:02,  8.92s/it]"
          ]
        },
        {
          "output_type": "stream",
          "name": "stdout",
          "text": [
            "Processed and saved batch 133/664\n"
          ]
        },
        {
          "output_type": "stream",
          "name": "stderr",
          "text": [
            "\rProcessing batches:  20%|██        | 133/664 [24:03<1:03:13,  7.14s/it]"
          ]
        },
        {
          "output_type": "stream",
          "name": "stdout",
          "text": [
            "Processed and saved batch 134/664\n"
          ]
        },
        {
          "output_type": "stream",
          "name": "stderr",
          "text": [
            "\rProcessing batches:  20%|██        | 134/664 [24:06<52:09,  5.90s/it]  "
          ]
        },
        {
          "output_type": "stream",
          "name": "stdout",
          "text": [
            "Processed and saved batch 135/664\n"
          ]
        },
        {
          "output_type": "stream",
          "name": "stderr",
          "text": [
            "\rProcessing batches:  20%|██        | 135/664 [24:10<46:03,  5.22s/it]"
          ]
        },
        {
          "output_type": "stream",
          "name": "stdout",
          "text": [
            "Processed and saved batch 136/664\n"
          ]
        },
        {
          "output_type": "stream",
          "name": "stderr",
          "text": [
            "\rProcessing batches:  20%|██        | 136/664 [24:16<47:47,  5.43s/it]"
          ]
        },
        {
          "output_type": "stream",
          "name": "stdout",
          "text": [
            "Processed and saved batch 137/664\n"
          ]
        },
        {
          "output_type": "stream",
          "name": "stderr",
          "text": [
            "\rProcessing batches:  21%|██        | 137/664 [24:20<44:51,  5.11s/it]"
          ]
        },
        {
          "output_type": "stream",
          "name": "stdout",
          "text": [
            "Processed and saved batch 138/664\n"
          ]
        },
        {
          "output_type": "stream",
          "name": "stderr",
          "text": [
            "\rProcessing batches:  21%|██        | 138/664 [24:28<50:35,  5.77s/it]"
          ]
        },
        {
          "output_type": "stream",
          "name": "stdout",
          "text": [
            "Processed and saved batch 139/664\n"
          ]
        },
        {
          "output_type": "stream",
          "name": "stderr",
          "text": [
            "\rProcessing batches:  21%|██        | 139/664 [24:59<1:58:29, 13.54s/it]"
          ]
        },
        {
          "output_type": "stream",
          "name": "stdout",
          "text": [
            "Processed and saved batch 140/664\n"
          ]
        },
        {
          "output_type": "stream",
          "name": "stderr",
          "text": [
            "\rProcessing batches:  21%|██        | 140/664 [25:09<1:48:03, 12.37s/it]"
          ]
        },
        {
          "output_type": "stream",
          "name": "stdout",
          "text": [
            "Processed and saved batch 141/664\n"
          ]
        },
        {
          "output_type": "stream",
          "name": "stderr",
          "text": [
            "\rProcessing batches:  21%|██        | 141/664 [25:13<1:25:28,  9.81s/it]"
          ]
        },
        {
          "output_type": "stream",
          "name": "stdout",
          "text": [
            "Processed and saved batch 142/664\n"
          ]
        },
        {
          "output_type": "stream",
          "name": "stderr",
          "text": [
            "\rProcessing batches:  21%|██▏       | 142/664 [25:16<1:07:34,  7.77s/it]"
          ]
        },
        {
          "output_type": "stream",
          "name": "stdout",
          "text": [
            "Processed and saved batch 143/664\n"
          ]
        },
        {
          "output_type": "stream",
          "name": "stderr",
          "text": [
            "\rProcessing batches:  22%|██▏       | 143/664 [25:19<55:03,  6.34s/it]  "
          ]
        },
        {
          "output_type": "stream",
          "name": "stdout",
          "text": [
            "Processed and saved batch 144/664\n"
          ]
        },
        {
          "output_type": "stream",
          "name": "stderr",
          "text": [
            "\rProcessing batches:  22%|██▏       | 144/664 [25:25<53:59,  6.23s/it]"
          ]
        },
        {
          "output_type": "stream",
          "name": "stdout",
          "text": [
            "Processed and saved batch 145/664\n"
          ]
        },
        {
          "output_type": "stream",
          "name": "stderr",
          "text": [
            "\rProcessing batches:  22%|██▏       | 145/664 [26:16<2:49:53, 19.64s/it]"
          ]
        },
        {
          "output_type": "stream",
          "name": "stdout",
          "text": [
            "Processed and saved batch 146/664\n"
          ]
        },
        {
          "output_type": "stream",
          "name": "stderr",
          "text": [
            "\rProcessing batches:  22%|██▏       | 146/664 [26:20<2:09:49, 15.04s/it]"
          ]
        },
        {
          "output_type": "stream",
          "name": "stdout",
          "text": [
            "Processed and saved batch 147/664\n"
          ]
        },
        {
          "output_type": "stream",
          "name": "stderr",
          "text": [
            "\rProcessing batches:  22%|██▏       | 147/664 [26:23<1:38:29, 11.43s/it]"
          ]
        },
        {
          "output_type": "stream",
          "name": "stdout",
          "text": [
            "Processed and saved batch 148/664\n"
          ]
        },
        {
          "output_type": "stream",
          "name": "stderr",
          "text": [
            "\rProcessing batches:  22%|██▏       | 148/664 [26:26<1:16:51,  8.94s/it]"
          ]
        },
        {
          "output_type": "stream",
          "name": "stdout",
          "text": [
            "Processed and saved batch 149/664\n"
          ]
        },
        {
          "output_type": "stream",
          "name": "stderr",
          "text": [
            "\rProcessing batches:  22%|██▏       | 149/664 [26:29<1:01:27,  7.16s/it]"
          ]
        },
        {
          "output_type": "stream",
          "name": "stdout",
          "text": [
            "Processed and saved batch 150/664\n"
          ]
        },
        {
          "output_type": "stream",
          "name": "stderr",
          "text": [
            "\rProcessing batches:  23%|██▎       | 150/664 [26:32<50:40,  5.92s/it]  "
          ]
        },
        {
          "output_type": "stream",
          "name": "stdout",
          "text": [
            "Processed and saved batch 151/664\n"
          ]
        },
        {
          "output_type": "stream",
          "name": "stderr",
          "text": [
            "\rProcessing batches:  23%|██▎       | 151/664 [26:36<45:27,  5.32s/it]"
          ]
        },
        {
          "output_type": "stream",
          "name": "stdout",
          "text": [
            "Processed and saved batch 152/664\n"
          ]
        },
        {
          "output_type": "stream",
          "name": "stderr",
          "text": [
            "\rProcessing batches:  23%|██▎       | 152/664 [26:42<46:49,  5.49s/it]"
          ]
        },
        {
          "output_type": "stream",
          "name": "stdout",
          "text": [
            "Processed and saved batch 153/664\n"
          ]
        },
        {
          "output_type": "stream",
          "name": "stderr",
          "text": [
            "\rProcessing batches:  23%|██▎       | 153/664 [26:47<46:12,  5.43s/it]"
          ]
        },
        {
          "output_type": "stream",
          "name": "stdout",
          "text": [
            "Processed and saved batch 154/664\n"
          ]
        },
        {
          "output_type": "stream",
          "name": "stderr",
          "text": [
            "\rProcessing batches:  23%|██▎       | 154/664 [26:54<48:38,  5.72s/it]"
          ]
        },
        {
          "output_type": "stream",
          "name": "stdout",
          "text": [
            "Processed and saved batch 155/664\n"
          ]
        },
        {
          "output_type": "stream",
          "name": "stderr",
          "text": [
            "\rProcessing batches:  23%|██▎       | 155/664 [27:26<1:55:20, 13.60s/it]"
          ]
        },
        {
          "output_type": "stream",
          "name": "stdout",
          "text": [
            "Processed and saved batch 156/664\n"
          ]
        },
        {
          "output_type": "stream",
          "name": "stderr",
          "text": [
            "\rProcessing batches:  23%|██▎       | 156/664 [27:35<1:45:03, 12.41s/it]"
          ]
        },
        {
          "output_type": "stream",
          "name": "stdout",
          "text": [
            "Processed and saved batch 157/664\n"
          ]
        },
        {
          "output_type": "stream",
          "name": "stderr",
          "text": [
            "\rProcessing batches:  24%|██▎       | 157/664 [27:39<1:21:58,  9.70s/it]"
          ]
        },
        {
          "output_type": "stream",
          "name": "stdout",
          "text": [
            "Processed and saved batch 158/664\n"
          ]
        },
        {
          "output_type": "stream",
          "name": "stderr",
          "text": [
            "\rProcessing batches:  24%|██▍       | 158/664 [27:42<1:04:53,  7.69s/it]"
          ]
        },
        {
          "output_type": "stream",
          "name": "stdout",
          "text": [
            "Processed and saved batch 159/664\n",
            "Failed to process image at https://www.net-a-porter.com/variants/images/1647597355950544/in/w920_a3-4_q60.jpg: HTTPSConnectionPool(host='www.net-a-porter.com', port=443): Read timed out. (read timeout=10)\n"
          ]
        },
        {
          "output_type": "stream",
          "name": "stderr",
          "text": [
            "\rProcessing batches:  24%|██▍       | 159/664 [27:45<52:56,  6.29s/it]  "
          ]
        },
        {
          "output_type": "stream",
          "name": "stdout",
          "text": [
            "Processed and saved batch 160/664\n"
          ]
        },
        {
          "output_type": "stream",
          "name": "stderr",
          "text": [
            "\rProcessing batches:  24%|██▍       | 160/664 [27:50<51:34,  6.14s/it]"
          ]
        },
        {
          "output_type": "stream",
          "name": "stdout",
          "text": [
            "Failed to process image at https://www.net-a-porter.com/variants/images/1647597355451042/in/w920_a3-4_q60.jpg: HTTPSConnectionPool(host='www.net-a-porter.com', port=443): Read timed out. (read timeout=10)\n",
            "Failed to process image at https://www.net-a-porter.com/variants/images/1647597348679912/in/w920_a3-4_q60.jpg: HTTPSConnectionPool(host='www.net-a-porter.com', port=443): Read timed out. (read timeout=10)\n",
            "Failed to process image at https://www.net-a-porter.com/variants/images/1647597348679926/in/w920_a3-4_q60.jpg: HTTPSConnectionPool(host='www.net-a-porter.com', port=443): Read timed out. (read timeout=10)\n",
            "Failed to process image at https://www.net-a-porter.com/variants/images/1647597345116624/in/w920_a3-4_q60.jpg: HTTPSConnectionPool(host='www.net-a-porter.com', port=443): Read timed out. (read timeout=10)\n",
            "Failed to process image at http://assets.myntassets.com/assets/images/31377152/2024/11/6/46725e44-2f6f-4348-ace3-693a78fcbc501730888769959-EL-REGALO-Stone-Studded-Contemporary-Drop-Earrings-378173088-1.jpg: 503 Server Error: Service Unavailable for url: http://assets.myntassets.com/assets/images/31377152/2024/11/6/46725e44-2f6f-4348-ace3-693a78fcbc501730888769959-EL-REGALO-Stone-Studded-Contemporary-Drop-Earrings-378173088-1.jpg\n",
            "Failed to process image at https://www.net-a-porter.com/variants/images/1647597348679914/in/w920_a3-4_q60.jpg: HTTPSConnectionPool(host='www.net-a-porter.com', port=443): Read timed out. (read timeout=10)\n",
            "Processed and saved batch 161/664\n",
            "Failed to process image at https://www.net-a-porter.com/variants/images/1647597348679918/in/w920_a3-4_q60.jpg: HTTPSConnectionPool(host='www.net-a-porter.com', port=443): Read timed out. (read timeout=10)\n"
          ]
        },
        {
          "output_type": "stream",
          "name": "stderr",
          "text": [
            "\rProcessing batches:  24%|██▍       | 161/664 [28:44<2:49:43, 20.25s/it]"
          ]
        },
        {
          "output_type": "stream",
          "name": "stdout",
          "text": [
            "Processed and saved batch 162/664\n"
          ]
        },
        {
          "output_type": "stream",
          "name": "stderr",
          "text": [
            "\rProcessing batches:  24%|██▍       | 162/664 [28:47<2:06:07, 15.08s/it]"
          ]
        },
        {
          "output_type": "stream",
          "name": "stdout",
          "text": [
            "Processed and saved batch 163/664\n",
            "Failed to process image at https://www.net-a-porter.com/variants/images/1647597352389836/in/w920_a3-4_q60.jpg: HTTPSConnectionPool(host='www.net-a-porter.com', port=443): Read timed out. (read timeout=10)\n"
          ]
        },
        {
          "output_type": "stream",
          "name": "stderr",
          "text": [
            "\rProcessing batches:  25%|██▍       | 163/664 [28:50<1:35:39, 11.46s/it]"
          ]
        },
        {
          "output_type": "stream",
          "name": "stdout",
          "text": [
            "Processed and saved batch 164/664\n"
          ]
        },
        {
          "output_type": "stream",
          "name": "stderr",
          "text": [
            "\rProcessing batches:  25%|██▍       | 164/664 [28:53<1:14:25,  8.93s/it]"
          ]
        },
        {
          "output_type": "stream",
          "name": "stdout",
          "text": [
            "Processed and saved batch 165/664\n"
          ]
        },
        {
          "output_type": "stream",
          "name": "stderr",
          "text": [
            "\rProcessing batches:  25%|██▍       | 165/664 [28:56<59:30,  7.15s/it]  "
          ]
        },
        {
          "output_type": "stream",
          "name": "stdout",
          "text": [
            "Processed and saved batch 166/664\n",
            "Failed to process image at https://www.net-a-porter.com/variants/images/1647597352389842/in/w920_a3-4_q60.jpg: HTTPSConnectionPool(host='www.net-a-porter.com', port=443): Read timed out. (read timeout=10)\n"
          ]
        },
        {
          "output_type": "stream",
          "name": "stderr",
          "text": [
            "\rProcessing batches:  25%|██▌       | 166/664 [28:59<49:04,  5.91s/it]"
          ]
        },
        {
          "output_type": "stream",
          "name": "stdout",
          "text": [
            "Processed and saved batch 167/664\n"
          ]
        },
        {
          "output_type": "stream",
          "name": "stderr",
          "text": [
            "\rProcessing batches:  25%|██▌       | 167/664 [29:04<46:40,  5.64s/it]"
          ]
        },
        {
          "output_type": "stream",
          "name": "stdout",
          "text": [
            "Failed to process image at http://assets.myntassets.com/assets/images/2024/OCTOBER/31/t8PO0Lpn_fc677aa732274578a7ae494c669e7c74.jpg: 503 Server Error: Service Unavailable for url: http://assets.myntassets.com/assets/images/2024/OCTOBER/31/t8PO0Lpn_fc677aa732274578a7ae494c669e7c74.jpg\n",
            "Processed and saved batch 168/664\n",
            "Failed to process image at https://www.net-a-porter.com/variants/images/1647597355451199/in/w920_a3-4_q60.jpg: HTTPSConnectionPool(host='www.net-a-porter.com', port=443): Read timed out. (read timeout=10)\n"
          ]
        },
        {
          "output_type": "stream",
          "name": "stderr",
          "text": [
            "\rProcessing batches:  25%|██▌       | 168/664 [29:10<47:29,  5.74s/it]"
          ]
        },
        {
          "output_type": "stream",
          "name": "stdout",
          "text": [
            "Processed and saved batch 169/664\n"
          ]
        },
        {
          "output_type": "stream",
          "name": "stderr",
          "text": [
            "\rProcessing batches:  25%|██▌       | 169/664 [29:14<43:31,  5.28s/it]"
          ]
        },
        {
          "output_type": "stream",
          "name": "stdout",
          "text": [
            "Failed to process image at http://assets.myntassets.com/assets/images/2024/OCTOBER/31/7cQAyRLp_2436e86288234d90b5784fed19345e28.jpg: 503 Server Error: Service Unavailable for url: http://assets.myntassets.com/assets/images/2024/OCTOBER/31/7cQAyRLp_2436e86288234d90b5784fed19345e28.jpg\n",
            "Failed to process image at http://assets.myntassets.com/assets/images/2024/NOVEMBER/8/cAoifvjE_d3e96661a7544157b148fd201548d8b5.jpg: 503 Server Error: Service Unavailable for url: http://assets.myntassets.com/assets/images/2024/NOVEMBER/8/cAoifvjE_d3e96661a7544157b148fd201548d8b5.jpg\n",
            "Processed and saved batch 170/664\n",
            "Failed to process image at https://www.net-a-porter.com/variants/images/1647597352389844/in/w920_a3-4_q60.jpg: HTTPSConnectionPool(host='www.net-a-porter.com', port=443): Read timed out. (read timeout=10)\n"
          ]
        },
        {
          "output_type": "stream",
          "name": "stderr",
          "text": [
            "\rProcessing batches:  26%|██▌       | 170/664 [29:21<47:11,  5.73s/it]"
          ]
        },
        {
          "output_type": "stream",
          "name": "stdout",
          "text": [
            "Failed to process image at https://www.net-a-porter.com/variants/images/1647597341909913/in/w920_a3-4_q60.jpg: HTTPSConnectionPool(host='www.net-a-porter.com', port=443): Read timed out. (read timeout=10)\n",
            "Failed to process image at http://assets.myntassets.com/assets/images/2024/OCTOBER/28/8yPgwC2z_64a238c0f1b34a408f2c361964019055.jpg: 503 Server Error: Service Unavailable for url: http://assets.myntassets.com/assets/images/2024/OCTOBER/28/8yPgwC2z_64a238c0f1b34a408f2c361964019055.jpg\n",
            "Failed to process image at https://www.net-a-porter.com/variants/images/1647597346049377/in/w920_a3-4_q60.jpg: HTTPSConnectionPool(host='www.net-a-porter.com', port=443): Read timed out. (read timeout=10)\n",
            "Failed to process image at http://assets.myntassets.com/assets/images/30972085/2024/10/24/4077a2f6-323c-4092-b5ec-38750012e1df1729784527871-MISS-JO-Contemporary-Hoop-Earrings-9151729784527407-1.jpg: 503 Server Error: Service Unavailable for url: http://assets.myntassets.com/assets/images/30972085/2024/10/24/4077a2f6-323c-4092-b5ec-38750012e1df1729784527871-MISS-JO-Contemporary-Hoop-Earrings-9151729784527407-1.jpg\n",
            "Failed to process image at http://assets.myntassets.com/assets/images/2024/OCTOBER/25/oPwHybbR_3db69428201c40e2bcba4347ac7bc16f.jpg: 503 Server Error: Service Unavailable for url: http://assets.myntassets.com/assets/images/2024/OCTOBER/25/oPwHybbR_3db69428201c40e2bcba4347ac7bc16f.jpg\n",
            "Failed to process image at http://assets.myntassets.com/assets/images/2024/NOVEMBER/13/F4wPEEwM_3f3f8ef57264465cac1aa13f951a7437.jpg: 503 Server Error: Service Unavailable for url: http://assets.myntassets.com/assets/images/2024/NOVEMBER/13/F4wPEEwM_3f3f8ef57264465cac1aa13f951a7437.jpg\n",
            "Failed to process image at https://www.net-a-porter.com/variants/images/1647597345116653/in/w920_a3-4_q60.jpg: HTTPSConnectionPool(host='www.net-a-porter.com', port=443): Read timed out. (read timeout=10)\n",
            "Failed to process image at http://assets.myntassets.com/assets/images/2024/OCTOBER/29/bWK4U6yh_71764fa66c874fc59dbd218b97756410.jpg: 503 Server Error: Service Unavailable for url: http://assets.myntassets.com/assets/images/2024/OCTOBER/29/bWK4U6yh_71764fa66c874fc59dbd218b97756410.jpg\n",
            "Failed to process image at http://assets.myntassets.com/assets/images/2024/NOVEMBER/8/avQ9rQ7q_ea59e5240b9f4d59acea589c2c123111.jpg: 503 Server Error: Service Unavailable for url: http://assets.myntassets.com/assets/images/2024/NOVEMBER/8/avQ9rQ7q_ea59e5240b9f4d59acea589c2c123111.jpg\n",
            "Failed to process image at https://www.net-a-porter.com/variants/images/1647597346049597/in/w920_a3-4_q60.jpg: HTTPSConnectionPool(host='www.net-a-porter.com', port=443): Read timed out. (read timeout=10)\n",
            "Failed to process image at https://www.net-a-porter.com/variants/images/1647597349407664/in/w920_a3-4_q60.jpg: HTTPSConnectionPool(host='www.net-a-porter.com', port=443): Read timed out. (read timeout=10)\n",
            "Failed to process image at http://assets.myntassets.com/assets/images/2024/NOVEMBER/18/E16Ha5ZY_fd886e520b634a38bd2030ba7503461d.jpg: 503 Server Error: Service Unavailable for url: http://assets.myntassets.com/assets/images/2024/NOVEMBER/18/E16Ha5ZY_fd886e520b634a38bd2030ba7503461d.jpg\n",
            "Failed to process image at http://assets.myntassets.com/assets/images/2024/OCTOBER/31/QaKTQMZr_f0546dd2b3af40c38e4a43f08e8ca3f1.jpg: 503 Server Error: Service Unavailable for url: http://assets.myntassets.com/assets/images/2024/OCTOBER/31/QaKTQMZr_f0546dd2b3af40c38e4a43f08e8ca3f1.jpg\n",
            "Failed to process image at http://assets.myntassets.com/assets/images/2024/OCTOBER/29/fe4EtUzl_c655428a88e34db7a5bbe466f5e8aca6.jpg: 503 Server Error: Service Unavailable for url: http://assets.myntassets.com/assets/images/2024/OCTOBER/29/fe4EtUzl_c655428a88e34db7a5bbe466f5e8aca6.jpg\n",
            "Failed to process image at http://assets.myntassets.com/assets/images/2024/NOVEMBER/13/yGqqAawS_b7ad489429794d0f8d9759fed12b2969.jpg: 503 Server Error: Service Unavailable for url: http://assets.myntassets.com/assets/images/2024/NOVEMBER/13/yGqqAawS_b7ad489429794d0f8d9759fed12b2969.jpg\n",
            "Failed to process image at http://assets.myntassets.com/assets/images/2024/OCTOBER/14/i0kpAqNX_5dcf10db72c3491ca14168c906845c70.jpg: 503 Server Error: Service Unavailable for url: http://assets.myntassets.com/assets/images/2024/OCTOBER/14/i0kpAqNX_5dcf10db72c3491ca14168c906845c70.jpg\n",
            "Failed to process image at https://www.net-a-porter.com/variants/images/1647597355450992/in/w920_a3-4_q60.jpg: HTTPSConnectionPool(host='www.net-a-porter.com', port=443): Read timed out. (read timeout=10)\n",
            "Failed to process image at https://www.net-a-porter.com/variants/images/1647597352389820/in/w920_a3-4_q60.jpg: HTTPSConnectionPool(host='www.net-a-porter.com', port=443): Read timed out. (read timeout=10)\n",
            "Failed to process image at http://assets.myntassets.com/assets/images/2024/OCTOBER/22/3vCiswke_61510962e4374ad9b6ab314a4308ad84.jpg: 503 Server Error: Service Unavailable for url: http://assets.myntassets.com/assets/images/2024/OCTOBER/22/3vCiswke_61510962e4374ad9b6ab314a4308ad84.jpg\n",
            "Failed to process image at https://www.net-a-porter.com/variants/images/1647597352389832/in/w920_a3-4_q60.jpg: HTTPSConnectionPool(host='www.net-a-porter.com', port=443): Read timed out. (read timeout=10)\n",
            "Failed to process image at http://assets.myntassets.com/assets/images/2024/NOVEMBER/13/quOOxQmp_3bceb995f6c24696bbb679a645057e03.jpg: 503 Server Error: Service Unavailable for url: http://assets.myntassets.com/assets/images/2024/NOVEMBER/13/quOOxQmp_3bceb995f6c24696bbb679a645057e03.jpg\n",
            "Failed to process image at http://assets.myntassets.com/assets/images/2024/OCTOBER/29/arkqbjM2_b554b06747bb479e915dc16aba8b64fe.jpg: 503 Server Error: Service Unavailable for url: http://assets.myntassets.com/assets/images/2024/OCTOBER/29/arkqbjM2_b554b06747bb479e915dc16aba8b64fe.jpg\n",
            "Failed to process image at https://www.net-a-porter.com/variants/images/1647597355585759/in/w920_a3-4_q60.jpg: HTTPSConnectionPool(host='www.net-a-porter.com', port=443): Read timed out. (read timeout=10)\n",
            "Failed to process image at http://assets.myntassets.com/assets/images/30894165/2024/10/23/e0074506-0267-401a-9873-8ab3c4ca2e531729683402308-ATIBELLE-Gold-Plated-Contemporary-Textured-Studded-Earrings--1.jpg: 503 Server Error: Service Unavailable for url: http://assets.myntassets.com/assets/images/30894165/2024/10/23/e0074506-0267-401a-9873-8ab3c4ca2e531729683402308-ATIBELLE-Gold-Plated-Contemporary-Textured-Studded-Earrings--1.jpg\n",
            "Failed to process image at http://assets.myntassets.com/assets/images/2024/NOVEMBER/18/E7UMkAFO_3cadbb2c369b417ab747d584a96235c8.jpg: 503 Server Error: Service Unavailable for url: http://assets.myntassets.com/assets/images/2024/NOVEMBER/18/E7UMkAFO_3cadbb2c369b417ab747d584a96235c8.jpg\n",
            "Failed to process image at http://assets.myntassets.com/assets/images/2024/NOVEMBER/11/8zufbQZm_e906f359b4f841bda524a81f46bb2641.jpg: 503 Server Error: Service Unavailable for url: http://assets.myntassets.com/assets/images/2024/NOVEMBER/11/8zufbQZm_e906f359b4f841bda524a81f46bb2641.jpg\n",
            "Failed to process image at https://www.net-a-porter.com/variants/images/1647597355585723/in/w920_a3-4_q60.jpg: HTTPSConnectionPool(host='www.net-a-porter.com', port=443): Read timed out. (read timeout=10)\n",
            "Failed to process image at https://www.net-a-porter.com/variants/images/1647597329878925/in/w920_a3-4_q60.jpg: HTTPSConnectionPool(host='www.net-a-porter.com', port=443): Read timed out. (read timeout=10)\n",
            "Failed to process image at http://assets.myntassets.com/assets/images/2024/NOVEMBER/18/3IFliykT_745a236c10704d97b0196b645ff24557.jpg: 503 Server Error: Service Unavailable for url: http://assets.myntassets.com/assets/images/2024/NOVEMBER/18/3IFliykT_745a236c10704d97b0196b645ff24557.jpg\n",
            "Failed to process image at http://assets.myntassets.com/assets/images/23920456/2023/7/7/1411dd6c-9602-4306-b936-a4f377a54b0a1688726152696VoyllaSilver-TonedContemporaryEarCuffEarrings1.jpg: 503 Server Error: Service Unavailable for url: http://assets.myntassets.com/assets/images/23920456/2023/7/7/1411dd6c-9602-4306-b936-a4f377a54b0a1688726152696VoyllaSilver-TonedContemporaryEarCuffEarrings1.jpg\n",
            "Failed to process image at http://assets.myntassets.com/assets/images/2024/OCTOBER/25/zQFtLrgX_f4cf561ff5f0464284ac4051ae6422d6.jpg: 503 Server Error: Service Unavailable for url: http://assets.myntassets.com/assets/images/2024/OCTOBER/25/zQFtLrgX_f4cf561ff5f0464284ac4051ae6422d6.jpg\n",
            "Failed to process image at https://www.net-a-porter.com/variants/images/1647597352702889/in/w920_a3-4_q60.jpg: HTTPSConnectionPool(host='www.net-a-porter.com', port=443): Read timed out. (read timeout=10)\n",
            "Failed to process image at http://assets.myntassets.com/assets/images/2024/NOVEMBER/14/29LW37GH_0b89f513b7b0454a9b9872626cf8e57e.jpg: 503 Server Error: Service Unavailable for url: http://assets.myntassets.com/assets/images/2024/NOVEMBER/14/29LW37GH_0b89f513b7b0454a9b9872626cf8e57e.jpg\n",
            "Failed to process image at http://assets.myntassets.com/assets/images/2024/NOVEMBER/12/S6eFhJq7_ce8ff0f6c3a24829a72bb8b8a13fdec8.jpg: 503 Server Error: Service Unavailable for url: http://assets.myntassets.com/assets/images/2024/NOVEMBER/12/S6eFhJq7_ce8ff0f6c3a24829a72bb8b8a13fdec8.jpg\n",
            "Failed to process image at https://www.net-a-porter.com/variants/images/1647597352389812/in/w920_a3-4_q60.jpg: HTTPSConnectionPool(host='www.net-a-porter.com', port=443): Read timed out. (read timeout=10)\n",
            "Failed to process image at http://assets.myntassets.com/assets/images/2024/OCTOBER/22/6T8LY31v_e2d85fbd18ad4201a1a1451c39c6acda.jpg: 503 Server Error: Service Unavailable for url: http://assets.myntassets.com/assets/images/2024/OCTOBER/22/6T8LY31v_e2d85fbd18ad4201a1a1451c39c6acda.jpg\n",
            "Failed to process image at https://www.net-a-porter.com/variants/images/1647597352389816/in/w920_a3-4_q60.jpg: HTTPSConnectionPool(host='www.net-a-porter.com', port=443): Read timed out. (read timeout=10)\n",
            "Failed to process image at http://assets.myntassets.com/assets/images/2024/NOVEMBER/12/pEY9JOfJ_9ca6eac2b44c491cb643acacc100bcd3.jpg: 503 Server Error: Service Unavailable for url: http://assets.myntassets.com/assets/images/2024/NOVEMBER/12/pEY9JOfJ_9ca6eac2b44c491cb643acacc100bcd3.jpg\n",
            "Failed to process image at http://assets.myntassets.com/assets/images/2024/OCTOBER/18/At9UZQWX_50ea510e151046b0bbc7586ea7d31708.jpg: 503 Server Error: Service Unavailable for url: http://assets.myntassets.com/assets/images/2024/OCTOBER/18/At9UZQWX_50ea510e151046b0bbc7586ea7d31708.jpg\n",
            "Failed to process image at http://assets.myntassets.com/assets/images/2024/NOVEMBER/15/9VG1xUpV_09b800296c7747b1a33bda8ad45e9733.jpg: 503 Server Error: Service Unavailable for url: http://assets.myntassets.com/assets/images/2024/NOVEMBER/15/9VG1xUpV_09b800296c7747b1a33bda8ad45e9733.jpg\n",
            "Failed to process image at https://www.net-a-porter.com/variants/images/1647597349805577/in/w920_a3-4_q60.jpg: HTTPSConnectionPool(host='www.net-a-porter.com', port=443): Read timed out. (read timeout=10)\n",
            "Failed to process image at http://assets.myntassets.com/assets/images/2024/OCTOBER/14/UGMUhJrM_cc6cc0d0dc354923afca2870c1091a14.jpg: 503 Server Error: Service Unavailable for url: http://assets.myntassets.com/assets/images/2024/OCTOBER/14/UGMUhJrM_cc6cc0d0dc354923afca2870c1091a14.jpg\n",
            "Failed to process image at https://www.net-a-porter.com/variants/images/1647597349407660/in/w920_a3-4_q60.jpg: HTTPSConnectionPool(host='www.net-a-porter.com', port=443): Read timed out. (read timeout=10)\n",
            "Failed to process image at http://assets.myntassets.com/assets/images/2024/OCTOBER/25/RLoLaIVW_5efe22f5e5a94eba9abaaee176ce0dcc.jpg: 503 Server Error: Service Unavailable for url: http://assets.myntassets.com/assets/images/2024/OCTOBER/25/RLoLaIVW_5efe22f5e5a94eba9abaaee176ce0dcc.jpg\n",
            "Failed to process image at http://assets.myntassets.com/assets/images/2024/OCTOBER/22/s1BBBGr4_43c71b7eb09947c7b5e3dbb9db863080.jpg: 503 Server Error: Service Unavailable for url: http://assets.myntassets.com/assets/images/2024/OCTOBER/22/s1BBBGr4_43c71b7eb09947c7b5e3dbb9db863080.jpg\n",
            "Failed to process image at http://assets.myntassets.com/assets/images/2024/NOVEMBER/18/VpemB5V6_87d249897d0846b3854b8cf962c9b457.jpg: 503 Server Error: Service Unavailable for url: http://assets.myntassets.com/assets/images/2024/NOVEMBER/18/VpemB5V6_87d249897d0846b3854b8cf962c9b457.jpg\n",
            "Failed to process image at http://assets.myntassets.com/assets/images/31318067/2024/10/28/cba22bf1-3b25-4975-a2fd-42627957143d1730098898463-MISS-JO-Gold-Plated-925-Sterling-Silver-Persian-Square-Casca-1.jpg: 503 Server Error: Service Unavailable for url: http://assets.myntassets.com/assets/images/31318067/2024/10/28/cba22bf1-3b25-4975-a2fd-42627957143d1730098898463-MISS-JO-Gold-Plated-925-Sterling-Silver-Persian-Square-Casca-1.jpg\n",
            "Failed to process image at http://assets.myntassets.com/assets/images/2024/OCTOBER/25/gHeQhZfA_79d649bb75684eeebaa485bac366bd3a.jpg: 503 Server Error: Service Unavailable for url: http://assets.myntassets.com/assets/images/2024/OCTOBER/25/gHeQhZfA_79d649bb75684eeebaa485bac366bd3a.jpg\n",
            "Failed to process image at https://www.net-a-porter.com/variants/images/1647597349805571/in/w920_a3-4_q60.jpg: HTTPSConnectionPool(host='www.net-a-porter.com', port=443): Read timed out. (read timeout=10)\n",
            "Failed to process image at https://www.net-a-porter.com/variants/images/1647597351113541/in/w920_a3-4_q60.jpg: HTTPSConnectionPool(host='www.net-a-porter.com', port=443): Read timed out. (read timeout=10)\n",
            "Failed to process image at https://www.net-a-porter.com/variants/images/1647597356850719/in/w920_a3-4_q60.jpg: HTTPSConnectionPool(host='www.net-a-porter.com', port=443): Read timed out. (read timeout=10)\n",
            "Failed to process image at https://www.net-a-porter.com/variants/images/1647597355451042/in/w920_a3-4_q60.jpg: HTTPSConnectionPool(host='www.net-a-porter.com', port=443): Read timed out. (read timeout=10)\n",
            "Failed to process image at https://www.net-a-porter.com/variants/images/1647597356850660/in/w920_a3-4_q60.jpg: HTTPSConnectionPool(host='www.net-a-porter.com', port=443): Read timed out. (read timeout=10)\n",
            "Failed to process image at https://www.net-a-porter.com/variants/images/1647597356850676/in/w920_a3-4_q60.jpg: HTTPSConnectionPool(host='www.net-a-porter.com', port=443): Read timed out. (read timeout=10)\n",
            "Failed to process image at http://assets.myntassets.com/assets/images/2024/OCTOBER/29/DFrFoanM_661243feb0e6440387366a5ab5d88649.jpg: 503 Server Error: Service Unavailable for url: http://assets.myntassets.com/assets/images/2024/OCTOBER/29/DFrFoanM_661243feb0e6440387366a5ab5d88649.jpg\n",
            "Failed to process image at http://assets.myntassets.com/assets/images/2024/OCTOBER/23/fnbBwLCr_b006af25ff1d4313b9165cf991af0dc4.jpg: 503 Server Error: Service Unavailable for url: http://assets.myntassets.com/assets/images/2024/OCTOBER/23/fnbBwLCr_b006af25ff1d4313b9165cf991af0dc4.jpg\n",
            "Failed to process image at https://www.net-a-porter.com/variants/images/1647597356850721/in/w920_a3-4_q60.jpg: HTTPSConnectionPool(host='www.net-a-porter.com', port=443): Read timed out. (read timeout=10)\n",
            "Failed to process image at https://www.net-a-porter.com/variants/images/1647597355950538/in/w920_a3-4_q60.jpg: HTTPSConnectionPool(host='www.net-a-porter.com', port=443): Read timed out. (read timeout=10)\n",
            "Failed to process image at https://www.net-a-porter.com/variants/images/1647597351540789/in/w920_a3-4_q60.jpg: HTTPSConnectionPool(host='www.net-a-porter.com', port=443): Read timed out. (read timeout=10)\n",
            "Failed to process image at https://www.net-a-porter.com/variants/images/1647597350840761/in/w920_a3-4_q60.jpg: HTTPSConnectionPool(host='www.net-a-porter.com', port=443): Read timed out. (read timeout=10)\n",
            "Failed to process image at https://www.net-a-porter.com/variants/images/1647597350840784/in/w920_a3-4_q60.jpg: HTTPSConnectionPool(host='www.net-a-porter.com', port=443): Read timed out. (read timeout=10)\n",
            "Failed to process image at http://assets.myntassets.com/assets/images/2024/OCTOBER/14/oDOYLT49_a2ad37fa463a4e27ba97e7026fbcad28.jpg: 503 Server Error: Service Unavailable for url: http://assets.myntassets.com/assets/images/2024/OCTOBER/14/oDOYLT49_a2ad37fa463a4e27ba97e7026fbcad28.jpg\n",
            "Failed to process image at https://www.net-a-porter.com/variants/images/1647597350840748/in/w920_a3-4_q60.jpg: HTTPSConnectionPool(host='www.net-a-porter.com', port=443): Read timed out. (read timeout=10)\n",
            "Failed to process image at http://assets.myntassets.com/assets/images/2024/OCTOBER/24/KNFYEH9L_cec37d9478be45e2a6b8f9872cef413d.jpg: 503 Server Error: Service Unavailable for url: http://assets.myntassets.com/assets/images/2024/OCTOBER/24/KNFYEH9L_cec37d9478be45e2a6b8f9872cef413d.jpg\n",
            "Failed to process image at http://assets.myntassets.com/assets/images/2024/OCTOBER/16/0HkXZqju_d5dc421d116e4d31bb21f0c0c484cfc7.jpg: 503 Server Error: Service Unavailable for url: http://assets.myntassets.com/assets/images/2024/OCTOBER/16/0HkXZqju_d5dc421d116e4d31bb21f0c0c484cfc7.jpg\n",
            "Failed to process image at http://assets.myntassets.com/assets/images/2024/OCTOBER/31/HbNLjAwp_cb5b1d14ba3940d2bea265425801f5af.jpg: 503 Server Error: Service Unavailable for url: http://assets.myntassets.com/assets/images/2024/OCTOBER/31/HbNLjAwp_cb5b1d14ba3940d2bea265425801f5af.jpg\n",
            "Failed to process image at http://assets.myntassets.com/assets/images/2024/OCTOBER/28/EJTOA837_62b4b4c80d994fa7ba143fe407329b67.jpg: 503 Server Error: Service Unavailable for url: http://assets.myntassets.com/assets/images/2024/OCTOBER/28/EJTOA837_62b4b4c80d994fa7ba143fe407329b67.jpg\n",
            "Failed to process image at https://www.net-a-porter.com/variants/images/1647597355950547/in/w920_a3-4_q60.jpg: HTTPSConnectionPool(host='www.net-a-porter.com', port=443): Read timed out. (read timeout=10)\n",
            "Failed to process image at http://assets.myntassets.com/assets/images/2024/OCTOBER/19/rXcJGmfJ_00a5b91a822d4ad496a7b203b5aa2e18.jpg: 503 Server Error: Service Unavailable for url: http://assets.myntassets.com/assets/images/2024/OCTOBER/19/rXcJGmfJ_00a5b91a822d4ad496a7b203b5aa2e18.jpg\n",
            "Failed to process image at http://assets.myntassets.com/assets/images/2024/NOVEMBER/6/Y7UiN59G_002f568324114173a2d53134c2b65dcf.jpg: 503 Server Error: Service Unavailable for url: http://assets.myntassets.com/assets/images/2024/NOVEMBER/6/Y7UiN59G_002f568324114173a2d53134c2b65dcf.jpg\n",
            "Failed to process image at http://assets.myntassets.com/assets/images/26834790/2024/1/8/ab608cb7-b765-4560-ae45-07a1bfa33bce1704733372200EfulgenzMaroonContemporaryDropEarrings1.jpg: 503 Server Error: Service Unavailable for url: http://assets.myntassets.com/assets/images/26834790/2024/1/8/ab608cb7-b765-4560-ae45-07a1bfa33bce1704733372200EfulgenzMaroonContemporaryDropEarrings1.jpg\n",
            "Failed to process image at http://assets.myntassets.com/assets/images/31340786/2024/10/18/504949dc-0a99-4f09-961d-be3fdef09fc41729252020977-Nipura-Contemporary-Hoop-Earrings-3831729252020644-1.jpg: 503 Server Error: Service Unavailable for url: http://assets.myntassets.com/assets/images/31340786/2024/10/18/504949dc-0a99-4f09-961d-be3fdef09fc41729252020977-Nipura-Contemporary-Hoop-Earrings-3831729252020644-1.jpg\n",
            "Failed to process image at http://assets.myntassets.com/assets/images/26834794/2024/1/8/11b220de-15f5-46cf-b4a8-3288f22a72ff1704733361945EfulgenzMaroonContemporaryDropEarrings1.jpg: 503 Server Error: Service Unavailable for url: http://assets.myntassets.com/assets/images/26834794/2024/1/8/11b220de-15f5-46cf-b4a8-3288f22a72ff1704733361945EfulgenzMaroonContemporaryDropEarrings1.jpg\n",
            "Failed to process image at https://www.net-a-porter.com/variants/images/1647597354302798/in/w920_a3-4_q60.jpg: HTTPSConnectionPool(host='www.net-a-porter.com', port=443): Read timed out. (read timeout=10)\n",
            "Failed to process image at http://assets.myntassets.com/assets/images/2024/OCTOBER/31/6PiNKol7_8235c72eb42c4a459cb5aeb3739c87ec.jpg: 503 Server Error: Service Unavailable for url: http://assets.myntassets.com/assets/images/2024/OCTOBER/31/6PiNKol7_8235c72eb42c4a459cb5aeb3739c87ec.jpg\n",
            "Failed to process image at http://assets.myntassets.com/assets/images/2024/OCTOBER/23/KC5ysEUg_8a14f964454c4c2e82a9385ee23140ef.jpg: 503 Server Error: Service Unavailable for url: http://assets.myntassets.com/assets/images/2024/OCTOBER/23/KC5ysEUg_8a14f964454c4c2e82a9385ee23140ef.jpg\n",
            "Failed to process image at http://assets.myntassets.com/assets/images/2024/OCTOBER/23/xeOndKDY_8e6d7633f510480faf742e413236df27.jpg: 503 Server Error: Service Unavailable for url: http://assets.myntassets.com/assets/images/2024/OCTOBER/23/xeOndKDY_8e6d7633f510480faf742e413236df27.jpg\n",
            "Failed to process image at http://assets.myntassets.com/assets/images/29829148/2024/10/27/0f95648a-2b4f-4d6e-9070-6ed6b4c6dc761730017782387-ATIBELLE-Silver-Plated-Stone-Studded-Dome-Shaped-Jhumkas-352-1.jpg: 503 Server Error: Service Unavailable for url: http://assets.myntassets.com/assets/images/29829148/2024/10/27/0f95648a-2b4f-4d6e-9070-6ed6b4c6dc761730017782387-ATIBELLE-Silver-Plated-Stone-Studded-Dome-Shaped-Jhumkas-352-1.jpg\n",
            "Failed to process image at https://www.net-a-porter.com/variants/images/1647597352702880/in/w920_a3-4_q60.jpg: HTTPSConnectionPool(host='www.net-a-porter.com', port=443): Read timed out. (read timeout=10)\n",
            "Failed to process image at https://www.net-a-porter.com/variants/images/1647597351113537/in/w920_a3-4_q60.jpg: HTTPSConnectionPool(host='www.net-a-porter.com', port=443): Read timed out. (read timeout=10)\n",
            "Failed to process image at https://www.net-a-porter.com/variants/images/1647597354302796/in/w920_a3-4_q60.jpg: HTTPSConnectionPool(host='www.net-a-porter.com', port=443): Read timed out. (read timeout=10)\n",
            "Failed to process image at https://www.net-a-porter.com/variants/images/1647597352702885/in/w920_a3-4_q60.jpg: HTTPSConnectionPool(host='www.net-a-porter.com', port=443): Read timed out. (read timeout=10)\n",
            "Failed to process image at http://assets.myntassets.com/assets/images/2024/NOVEMBER/18/xSQ4pYRF_0ed5cb0c676a49b489899ed2edc064f4.jpg: 503 Server Error: Service Unavailable for url: http://assets.myntassets.com/assets/images/2024/NOVEMBER/18/xSQ4pYRF_0ed5cb0c676a49b489899ed2edc064f4.jpg\n",
            "Failed to process image at http://assets.myntassets.com/assets/images/2024/NOVEMBER/8/VKo8qEEY_0980b0c49e484149b20b1f5929d2e0bd.jpg: 503 Server Error: Service Unavailable for url: http://assets.myntassets.com/assets/images/2024/NOVEMBER/8/VKo8qEEY_0980b0c49e484149b20b1f5929d2e0bd.jpg\n",
            "Failed to process image at http://assets.myntassets.com/assets/images/2024/NOVEMBER/4/DOcroTI8_51d7155c7d454dd0b7b677a7f1b3d268.jpg: 503 Server Error: Service Unavailable for url: http://assets.myntassets.com/assets/images/2024/NOVEMBER/4/DOcroTI8_51d7155c7d454dd0b7b677a7f1b3d268.jpg\n",
            "Failed to process image at https://www.net-a-porter.com/variants/images/1647597356403273/in/w920_a3-4_q60.jpg: HTTPSConnectionPool(host='www.net-a-porter.com', port=443): Read timed out. (read timeout=10)\n",
            "Failed to process image at http://assets.myntassets.com/assets/images/30304411/2024/8/22/425837a1-142f-4891-a4ad-c4ba317af5e41724329681986-Anouk-Silver-Plated-Teardrop-Shaped-Drop-Earrings-5021724329-5.jpg: 503 Server Error: Service Unavailable for url: http://assets.myntassets.com/assets/images/30304411/2024/8/22/425837a1-142f-4891-a4ad-c4ba317af5e41724329681986-Anouk-Silver-Plated-Teardrop-Shaped-Drop-Earrings-5021724329-5.jpg\n",
            "Failed to process image at http://assets.myntassets.com/assets/images/2024/OCTOBER/25/WDyGfCSs_626be3997fac4c5288a4d4fa9c601ece.jpg: 503 Server Error: Service Unavailable for url: http://assets.myntassets.com/assets/images/2024/OCTOBER/25/WDyGfCSs_626be3997fac4c5288a4d4fa9c601ece.jpg\n",
            "Failed to process image at http://assets.myntassets.com/assets/images/2024/NOVEMBER/8/uuvtk3Bs_d967ab19a06341acad24f6a0eeac42c9.jpg: 503 Server Error: Service Unavailable for url: http://assets.myntassets.com/assets/images/2024/NOVEMBER/8/uuvtk3Bs_d967ab19a06341acad24f6a0eeac42c9.jpg\n",
            "Failed to process image at https://www.net-a-porter.com/variants/images/1647597354302787/in/w920_a3-4_q60.jpg: HTTPSConnectionPool(host='www.net-a-porter.com', port=443): Read timed out. (read timeout=10)\n",
            "Failed to process image at http://assets.myntassets.com/assets/images/2024/NOVEMBER/16/x6qWKnC6_8b796e349e4a42318392b9a29b071928.jpg: 503 Server Error: Service Unavailable for url: http://assets.myntassets.com/assets/images/2024/NOVEMBER/16/x6qWKnC6_8b796e349e4a42318392b9a29b071928.jpg\n",
            "Failed to process image at http://assets.myntassets.com/assets/images/2024/NOVEMBER/18/9y45VZi7_fe2f953eb2844963b95332cbca8c50ac.jpg: 503 Server Error: Service Unavailable for url: http://assets.myntassets.com/assets/images/2024/NOVEMBER/18/9y45VZi7_fe2f953eb2844963b95332cbca8c50ac.jpg\n",
            "Failed to process image at http://assets.myntassets.com/assets/images/2024/OCTOBER/28/198sJAHg_e80d440821d54ad0bed6f51fc37f65e7.jpg: 503 Server Error: Service Unavailable for url: http://assets.myntassets.com/assets/images/2024/OCTOBER/28/198sJAHg_e80d440821d54ad0bed6f51fc37f65e7.jpg\n",
            "Failed to process image at http://assets.myntassets.com/assets/images/2024/OCTOBER/24/YJgmWmEI_9c0000aa143f4fba9d6d24a391b943cc.jpg: 503 Server Error: Service Unavailable for url: http://assets.myntassets.com/assets/images/2024/OCTOBER/24/YJgmWmEI_9c0000aa143f4fba9d6d24a391b943cc.jpg\n",
            "Failed to process image at http://assets.myntassets.com/assets/images/31409737/2024/11/6/b91e7b94-ceed-406b-9f79-1563f62bb5b51730895129997-Fida-Floral-Drop-Earrings-9931730895129538-1.jpg: 503 Server Error: Service Unavailable for url: http://assets.myntassets.com/assets/images/31409737/2024/11/6/b91e7b94-ceed-406b-9f79-1563f62bb5b51730895129997-Fida-Floral-Drop-Earrings-9931730895129538-1.jpg\n",
            "Failed to process image at http://assets.myntassets.com/assets/images/2024/NOVEMBER/19/HGHOot9N_54111bd69ab74b11a45610954c6074c9.jpg: 503 Server Error: Service Unavailable for url: http://assets.myntassets.com/assets/images/2024/NOVEMBER/19/HGHOot9N_54111bd69ab74b11a45610954c6074c9.jpg\n",
            "Failed to process image at http://assets.myntassets.com/assets/images/2024/OCTOBER/22/FmnYGUpu_61c57f76bfc741b1bc8e6319d654cd39.jpg: 503 Server Error: Service Unavailable for url: http://assets.myntassets.com/assets/images/2024/OCTOBER/22/FmnYGUpu_61c57f76bfc741b1bc8e6319d654cd39.jpg\n",
            "Failed to process image at http://assets.myntassets.com/assets/images/31318164/2024/10/28/cd6f341c-6a01-4b42-b6f0-0637f73563341730098376767-MISS-JO-Gold-Plated-925-Sterling-Silver-Teardrop-Shaped-Ston-1.jpg: 503 Server Error: Service Unavailable for url: http://assets.myntassets.com/assets/images/31318164/2024/10/28/cd6f341c-6a01-4b42-b6f0-0637f73563341730098376767-MISS-JO-Gold-Plated-925-Sterling-Silver-Teardrop-Shaped-Ston-1.jpg\n",
            "Failed to process image at http://assets.myntassets.com/assets/images/31374185/2024/11/1/2d06617e-70fe-40da-a7d4-774437d5dfe81730451141980-Bohey-by-KARATCART-Contemporary-Drop-Earrings-75717304511415-1.jpg: 503 Server Error: Service Unavailable for url: http://assets.myntassets.com/assets/images/31374185/2024/11/1/2d06617e-70fe-40da-a7d4-774437d5dfe81730451141980-Bohey-by-KARATCART-Contemporary-Drop-Earrings-75717304511415-1.jpg\n",
            "Failed to process image at http://assets.myntassets.com/assets/images/2024/NOVEMBER/8/JbkVMJRA_0ad9f3fab63f4e4bb50f832fe44bdd75.jpg: 503 Server Error: Service Unavailable for url: http://assets.myntassets.com/assets/images/2024/NOVEMBER/8/JbkVMJRA_0ad9f3fab63f4e4bb50f832fe44bdd75.jpg\n",
            "Failed to process image at https://www.net-a-porter.com/variants/images/1647597356403229/in/w920_a3-4_q60.jpg: HTTPSConnectionPool(host='www.net-a-porter.com', port=443): Read timed out. (read timeout=10)\n",
            "Failed to process image at http://assets.myntassets.com/assets/images/2024/OCTOBER/29/OAnb4uDT_76ad845d803c4ece912e6677ba0a01b8.jpg: 503 Server Error: Service Unavailable for url: http://assets.myntassets.com/assets/images/2024/OCTOBER/29/OAnb4uDT_76ad845d803c4ece912e6677ba0a01b8.jpg\n",
            "Failed to process image at http://assets.myntassets.com/assets/images/2024/OCTOBER/28/5aBCnOOW_c4e795470cd74647b910300eac20dfb4.jpg: 503 Server Error: Service Unavailable for url: http://assets.myntassets.com/assets/images/2024/OCTOBER/28/5aBCnOOW_c4e795470cd74647b910300eac20dfb4.jpg\n",
            "Failed to process image at http://assets.myntassets.com/assets/images/2024/OCTOBER/23/iqj12EO6_50f63bb74a914721bf906c7814d6a913.jpg: 503 Server Error: Service Unavailable for url: http://assets.myntassets.com/assets/images/2024/OCTOBER/23/iqj12EO6_50f63bb74a914721bf906c7814d6a913.jpg\n",
            "Failed to process image at http://assets.myntassets.com/assets/images/2024/OCTOBER/25/Ys7UbYEv_9a9b37abfd5942cc9fb9186384007d0d.jpg: 503 Server Error: Service Unavailable for url: http://assets.myntassets.com/assets/images/2024/OCTOBER/25/Ys7UbYEv_9a9b37abfd5942cc9fb9186384007d0d.jpg\n",
            "Failed to process image at http://assets.myntassets.com/assets/images/2024/NOVEMBER/19/pSipqOjv_24fd783d22e4447a94b9d658bcc5e845.jpg: 503 Server Error: Service Unavailable for url: http://assets.myntassets.com/assets/images/2024/NOVEMBER/19/pSipqOjv_24fd783d22e4447a94b9d658bcc5e845.jpg\n",
            "Failed to process image at https://www.net-a-porter.com/variants/images/1647597351113547/in/w920_a3-4_q60.jpg: HTTPSConnectionPool(host='www.net-a-porter.com', port=443): Read timed out. (read timeout=10)\n",
            "Failed to process image at https://www.net-a-porter.com/variants/images/1647597351113549/in/w920_a3-4_q60.jpg: HTTPSConnectionPool(host='www.net-a-porter.com', port=443): Read timed out. (read timeout=10)\n",
            "Failed to process image at http://assets.myntassets.com/assets/images/2024/NOVEMBER/13/S5yTN11C_b054cf2863dc44a0b58153b28118399b.jpg: 503 Server Error: Service Unavailable for url: http://assets.myntassets.com/assets/images/2024/NOVEMBER/13/S5yTN11C_b054cf2863dc44a0b58153b28118399b.jpg\n",
            "Failed to process image at https://www.net-a-porter.com/variants/images/1647597351540795/in/w920_a3-4_q60.jpg: HTTPSConnectionPool(host='www.net-a-porter.com', port=443): Read timed out. (read timeout=10)\n",
            "Failed to process image at http://assets.myntassets.com/assets/images/2024/OCTOBER/31/INHL4bvN_261aa633d8bb44d4804ad38b4e33e410.jpg: 503 Server Error: Service Unavailable for url: http://assets.myntassets.com/assets/images/2024/OCTOBER/31/INHL4bvN_261aa633d8bb44d4804ad38b4e33e410.jpg\n",
            "Failed to process image at http://assets.myntassets.com/assets/images/2024/NOVEMBER/13/FbjmrTzl_def93e64537848f28cde2e37e3bbe29d.jpg: 503 Server Error: Service Unavailable for url: http://assets.myntassets.com/assets/images/2024/NOVEMBER/13/FbjmrTzl_def93e64537848f28cde2e37e3bbe29d.jpg\n",
            "Failed to process image at https://www.net-a-porter.com/variants/images/1647597351540792/in/w920_a3-4_q60.jpg: HTTPSConnectionPool(host='www.net-a-porter.com', port=443): Read timed out. (read timeout=10)\n",
            "Failed to process image at http://assets.myntassets.com/assets/images/2024/NOVEMBER/21/HQZqmBtl_f69f0016c1d644b9a55b752ab0c7a16d.jpg: 503 Server Error: Service Unavailable for url: http://assets.myntassets.com/assets/images/2024/NOVEMBER/21/HQZqmBtl_f69f0016c1d644b9a55b752ab0c7a16d.jpg\n",
            "Failed to process image at https://www.net-a-porter.com/variants/images/1647597351113536/in/w920_a3-4_q60.jpg: HTTPSConnectionPool(host='www.net-a-porter.com', port=443): Read timed out. (read timeout=10)\n",
            "Failed to process image at https://www.net-a-porter.com/variants/images/1647597351540798/in/w920_a3-4_q60.jpg: HTTPSConnectionPool(host='www.net-a-porter.com', port=443): Read timed out. (read timeout=10)\n",
            "Failed to process image at https://www.net-a-porter.com/variants/images/1647597351113543/in/w920_a3-4_q60.jpg: HTTPSConnectionPool(host='www.net-a-porter.com', port=443): Read timed out. (read timeout=10)\n",
            "Failed to process image at http://assets.myntassets.com/assets/images/2024/NOVEMBER/18/UEHPl7RX_feca64722b03428aa9c27a57f3e6bd93.jpg: 503 Server Error: Service Unavailable for url: http://assets.myntassets.com/assets/images/2024/NOVEMBER/18/UEHPl7RX_feca64722b03428aa9c27a57f3e6bd93.jpg\n",
            "Failed to process image at https://www.net-a-porter.com/variants/images/1647597351540786/in/w920_a3-4_q60.jpg: HTTPSConnectionPool(host='www.net-a-porter.com', port=443): Read timed out. (read timeout=10)\n",
            "Failed to process image at https://www.net-a-porter.com/variants/images/1647597351113534/in/w920_a3-4_q60.jpg: HTTPSConnectionPool(host='www.net-a-porter.com', port=443): Read timed out. (read timeout=10)\n",
            "Failed to process image at https://www.net-a-porter.com/variants/images/1647597349805573/in/w920_a3-4_q60.jpg: HTTPSConnectionPool(host='www.net-a-porter.com', port=443): Read timed out. (read timeout=10)\n",
            "Failed to process image at http://assets.myntassets.com/assets/images/2024/OCTOBER/29/X5gJFtdc_c39642f97f64434ea200f614d674187d.jpg: 503 Server Error: Service Unavailable for url: http://assets.myntassets.com/assets/images/2024/OCTOBER/29/X5gJFtdc_c39642f97f64434ea200f614d674187d.jpg\n",
            "Failed to process image at http://assets.myntassets.com/assets/images/2024/NOVEMBER/4/jgOBAKkF_66e68f89c4e548a5a946db879379bffc.jpg: 503 Server Error: Service Unavailable for url: http://assets.myntassets.com/assets/images/2024/NOVEMBER/4/jgOBAKkF_66e68f89c4e548a5a946db879379bffc.jpg\n",
            "Failed to process image at http://assets.myntassets.com/assets/images/2024/NOVEMBER/7/M4ooVD9y_4dcf3d987151461f9949e9fa300959fe.jpg: 503 Server Error: Service Unavailable for url: http://assets.myntassets.com/assets/images/2024/NOVEMBER/7/M4ooVD9y_4dcf3d987151461f9949e9fa300959fe.jpg\n",
            "Failed to process image at http://assets.myntassets.com/assets/images/30304395/2024/8/19/e04f782a-ccf0-4598-9acd-2b8323a4e4891724055879172-Anouk-Gold-Plated-Circular-Drop-Earrings-141724055879069-4.jpg: 503 Server Error: Service Unavailable for url: http://assets.myntassets.com/assets/images/30304395/2024/8/19/e04f782a-ccf0-4598-9acd-2b8323a4e4891724055879172-Anouk-Gold-Plated-Circular-Drop-Earrings-141724055879069-4.jpg\n",
            "Failed to process image at https://www.net-a-porter.com/variants/images/1647597351113545/in/w920_a3-4_q60.jpg: HTTPSConnectionPool(host='www.net-a-porter.com', port=443): Read timed out. (read timeout=10)\n",
            "Failed to process image at http://assets.myntassets.com/assets/images/2024/NOVEMBER/7/XDvTvxhN_6b81424acf734b569f41455a918354c7.jpg: 503 Server Error: Service Unavailable for url: http://assets.myntassets.com/assets/images/2024/NOVEMBER/7/XDvTvxhN_6b81424acf734b569f41455a918354c7.jpg\n",
            "Failed to process image at http://assets.myntassets.com/assets/images/2024/NOVEMBER/8/invKpHGB_cdf7020d34dc4851b405d454ae3dca1f.jpg: 503 Server Error: Service Unavailable for url: http://assets.myntassets.com/assets/images/2024/NOVEMBER/8/invKpHGB_cdf7020d34dc4851b405d454ae3dca1f.jpg\n",
            "Failed to process image at https://www.net-a-porter.com/variants/images/1647597349805569/in/w920_a3-4_q60.jpg: HTTPSConnectionPool(host='www.net-a-porter.com', port=443): Read timed out. (read timeout=10)\n",
            "Failed to process image at http://assets.myntassets.com/assets/images/2024/NOVEMBER/11/WlNlPGvk_e23df98c793143b388b67dc53fed4e62.jpg: 503 Server Error: Service Unavailable for url: http://assets.myntassets.com/assets/images/2024/NOVEMBER/11/WlNlPGvk_e23df98c793143b388b67dc53fed4e62.jpg\n",
            "Failed to process image at http://assets.myntassets.com/assets/images/2024/OCTOBER/23/PIVWhy8p_f41ae2c5a3544ae3a55fdec3936d729f.jpg: 503 Server Error: Service Unavailable for url: http://assets.myntassets.com/assets/images/2024/OCTOBER/23/PIVWhy8p_f41ae2c5a3544ae3a55fdec3936d729f.jpg\n",
            "Failed to process image at http://assets.myntassets.com/assets/images/2024/OCTOBER/24/hxV501b2_9a459d0a1bf2447a8deeb97246935513.jpg: 503 Server Error: Service Unavailable for url: http://assets.myntassets.com/assets/images/2024/OCTOBER/24/hxV501b2_9a459d0a1bf2447a8deeb97246935513.jpg\n",
            "Failed to process image at http://assets.myntassets.com/assets/images/2024/OCTOBER/29/F2jT6gaU_da4582c0e4c44cc3ae9d56f595f7ab26.jpg: 503 Server Error: Service Unavailable for url: http://assets.myntassets.com/assets/images/2024/OCTOBER/29/F2jT6gaU_da4582c0e4c44cc3ae9d56f595f7ab26.jpg\n",
            "Failed to process image at https://www.net-a-porter.com/variants/images/1647597351113544/in/w920_a3-4_q60.jpg: HTTPSConnectionPool(host='www.net-a-porter.com', port=443): Read timed out. (read timeout=10)\n",
            "Failed to process image at https://www.net-a-porter.com/variants/images/1647597351113538/in/w920_a3-4_q60.jpg: HTTPSConnectionPool(host='www.net-a-porter.com', port=443): Read timed out. (read timeout=10)\n",
            "Failed to process image at http://assets.myntassets.com/assets/images/2024/OCTOBER/10/5cszvyz2_4315e256d23b4c5a83ac57d0b9eee475.jpg: 503 Server Error: Service Unavailable for url: http://assets.myntassets.com/assets/images/2024/OCTOBER/10/5cszvyz2_4315e256d23b4c5a83ac57d0b9eee475.jpg\n",
            "Failed to process image at http://assets.myntassets.com/assets/images/2024/OCTOBER/18/m91uFimZ_a079c4a2956144a1b5b81aadf402dc43.jpg: 503 Server Error: Service Unavailable for url: http://assets.myntassets.com/assets/images/2024/OCTOBER/18/m91uFimZ_a079c4a2956144a1b5b81aadf402dc43.jpg\n",
            "Failed to process image at https://www.net-a-porter.com/variants/images/1647597301119118/in/w920_a3-4_q60.jpg: HTTPSConnectionPool(host='www.net-a-porter.com', port=443): Read timed out. (read timeout=10)\n",
            "Failed to process image at https://www.net-a-porter.com/variants/images/1647597355950520/in/w920_a3-4_q60.jpg: HTTPSConnectionPool(host='www.net-a-porter.com', port=443): Read timed out. (read timeout=10)\n",
            "Failed to process image at https://www.net-a-porter.com/variants/images/1647597355950523/in/w920_a3-4_q60.jpg: HTTPSConnectionPool(host='www.net-a-porter.com', port=443): Read timed out. (read timeout=10)\n",
            "Failed to process image at http://assets.myntassets.com/assets/images/2024/NOVEMBER/12/Fz4YM8a8_d7dbf8a09e2741bd84be461e3088f923.jpg: 503 Server Error: Service Unavailable for url: http://assets.myntassets.com/assets/images/2024/NOVEMBER/12/Fz4YM8a8_d7dbf8a09e2741bd84be461e3088f923.jpg\n",
            "Failed to process image at https://www.net-a-porter.com/variants/images/1647597355950532/in/w920_a3-4_q60.jpg: HTTPSConnectionPool(host='www.net-a-porter.com', port=443): Read timed out. (read timeout=10)\n",
            "Failed to process image at https://www.net-a-porter.com/variants/images/1647597349407663/in/w920_a3-4_q60.jpg: HTTPSConnectionPool(host='www.net-a-porter.com', port=443): Read timed out. (read timeout=10)\n",
            "Failed to process image at https://www.net-a-porter.com/variants/images/1647597349407666/in/w920_a3-4_q60.jpg: HTTPSConnectionPool(host='www.net-a-porter.com', port=443): Read timed out. (read timeout=10)\n",
            "Failed to process image at https://www.net-a-porter.com/variants/images/1647597349407665/in/w920_a3-4_q60.jpg: HTTPSConnectionPool(host='www.net-a-porter.com', port=443): Read timed out. (read timeout=10)\n",
            "Failed to process image at https://www.net-a-porter.com/variants/images/1647597345116626/in/w920_a3-4_q60.jpg: HTTPSConnectionPool(host='www.net-a-porter.com', port=443): Read timed out. (read timeout=10)\n",
            "Failed to process image at https://www.net-a-porter.com/variants/images/1647597345116627/in/w920_a3-4_q60.jpg: HTTPSConnectionPool(host='www.net-a-porter.com', port=443): Read timed out. (read timeout=10)\n",
            "Processed and saved batch 171/664\n"
          ]
        },
        {
          "output_type": "stream",
          "name": "stderr",
          "text": [
            "\rProcessing batches:  26%|██▌       | 171/664 [39:20<25:09:34, 183.72s/it]"
          ]
        },
        {
          "output_type": "stream",
          "name": "stdout",
          "text": [
            "Processed and saved batch 172/664\n"
          ]
        },
        {
          "output_type": "stream",
          "name": "stderr",
          "text": [
            "\rProcessing batches:  26%|██▌       | 172/664 [39:23<17:41:57, 129.51s/it]"
          ]
        },
        {
          "output_type": "stream",
          "name": "stdout",
          "text": [
            "Processed and saved batch 173/664\n"
          ]
        },
        {
          "output_type": "stream",
          "name": "stderr",
          "text": [
            "\rProcessing batches:  26%|██▌       | 173/664 [39:26<12:29:15, 91.56s/it] "
          ]
        },
        {
          "output_type": "stream",
          "name": "stdout",
          "text": [
            "Processed and saved batch 174/664\n"
          ]
        },
        {
          "output_type": "stream",
          "name": "stderr",
          "text": [
            "\rProcessing batches:  26%|██▌       | 174/664 [39:29<8:50:47, 64.99s/it] "
          ]
        },
        {
          "output_type": "stream",
          "name": "stdout",
          "text": [
            "Processed and saved batch 175/664\n"
          ]
        },
        {
          "output_type": "stream",
          "name": "stderr",
          "text": [
            "\rProcessing batches:  26%|██▋       | 175/664 [39:32<6:18:09, 46.40s/it]"
          ]
        },
        {
          "output_type": "stream",
          "name": "stdout",
          "text": [
            "Processed and saved batch 176/664\n"
          ]
        },
        {
          "output_type": "stream",
          "name": "stderr",
          "text": [
            "\rProcessing batches:  27%|██▋       | 176/664 [39:35<4:31:30, 33.38s/it]"
          ]
        },
        {
          "output_type": "stream",
          "name": "stdout",
          "text": [
            "Processed and saved batch 177/664\n"
          ]
        },
        {
          "output_type": "stream",
          "name": "stderr",
          "text": [
            "\rProcessing batches:  27%|██▋       | 177/664 [39:38<3:17:00, 24.27s/it]"
          ]
        },
        {
          "output_type": "stream",
          "name": "stdout",
          "text": [
            "Processed and saved batch 178/664\n"
          ]
        },
        {
          "output_type": "stream",
          "name": "stderr",
          "text": [
            "\rProcessing batches:  27%|██▋       | 178/664 [39:41<2:24:56, 17.89s/it]"
          ]
        },
        {
          "output_type": "stream",
          "name": "stdout",
          "text": [
            "Processed and saved batch 179/664\n"
          ]
        },
        {
          "output_type": "stream",
          "name": "stderr",
          "text": [
            "\rProcessing batches:  27%|██▋       | 179/664 [39:44<1:48:32, 13.43s/it]"
          ]
        },
        {
          "output_type": "stream",
          "name": "stdout",
          "text": [
            "Processed and saved batch 180/664\n"
          ]
        },
        {
          "output_type": "stream",
          "name": "stderr",
          "text": [
            "\rProcessing batches:  27%|██▋       | 180/664 [39:47<1:23:06, 10.30s/it]"
          ]
        },
        {
          "output_type": "stream",
          "name": "stdout",
          "text": [
            "Processed and saved batch 181/664\n"
          ]
        },
        {
          "output_type": "stream",
          "name": "stderr",
          "text": [
            "\rProcessing batches:  27%|██▋       | 181/664 [39:50<1:05:19,  8.12s/it]"
          ]
        },
        {
          "output_type": "stream",
          "name": "stdout",
          "text": [
            "Processed and saved batch 182/664\n"
          ]
        },
        {
          "output_type": "stream",
          "name": "stderr",
          "text": [
            "\rProcessing batches:  27%|██▋       | 182/664 [39:53<52:53,  6.58s/it]  "
          ]
        },
        {
          "output_type": "stream",
          "name": "stdout",
          "text": [
            "Processed and saved batch 183/664\n"
          ]
        },
        {
          "output_type": "stream",
          "name": "stderr",
          "text": [
            "\rProcessing batches:  28%|██▊       | 183/664 [39:56<44:11,  5.51s/it]"
          ]
        },
        {
          "output_type": "stream",
          "name": "stdout",
          "text": [
            "Processed and saved batch 184/664\n"
          ]
        },
        {
          "output_type": "stream",
          "name": "stderr",
          "text": [
            "\rProcessing batches:  28%|██▊       | 184/664 [39:59<38:05,  4.76s/it]"
          ]
        },
        {
          "output_type": "stream",
          "name": "stdout",
          "text": [
            "Processed and saved batch 185/664\n"
          ]
        },
        {
          "output_type": "stream",
          "name": "stderr",
          "text": [
            "\rProcessing batches:  28%|██▊       | 185/664 [40:02<33:48,  4.24s/it]"
          ]
        },
        {
          "output_type": "stream",
          "name": "stdout",
          "text": [
            "Processed and saved batch 186/664\n"
          ]
        },
        {
          "output_type": "stream",
          "name": "stderr",
          "text": [
            "\rProcessing batches:  28%|██▊       | 186/664 [40:05<30:48,  3.87s/it]"
          ]
        },
        {
          "output_type": "stream",
          "name": "stdout",
          "text": [
            "Processed and saved batch 187/664\n"
          ]
        },
        {
          "output_type": "stream",
          "name": "stderr",
          "text": [
            "\rProcessing batches:  28%|██▊       | 187/664 [40:08<28:42,  3.61s/it]"
          ]
        },
        {
          "output_type": "stream",
          "name": "stdout",
          "text": [
            "Processed and saved batch 188/664\n"
          ]
        },
        {
          "output_type": "stream",
          "name": "stderr",
          "text": [
            "\rProcessing batches:  28%|██▊       | 188/664 [40:11<27:12,  3.43s/it]"
          ]
        },
        {
          "output_type": "stream",
          "name": "stdout",
          "text": [
            "Processed and saved batch 189/664\n"
          ]
        },
        {
          "output_type": "stream",
          "name": "stderr",
          "text": [
            "\rProcessing batches:  28%|██▊       | 189/664 [40:14<26:09,  3.30s/it]"
          ]
        },
        {
          "output_type": "stream",
          "name": "stdout",
          "text": [
            "Processed and saved batch 190/664\n"
          ]
        },
        {
          "output_type": "stream",
          "name": "stderr",
          "text": [
            "\rProcessing batches:  29%|██▊       | 190/664 [40:17<25:24,  3.22s/it]"
          ]
        },
        {
          "output_type": "stream",
          "name": "stdout",
          "text": [
            "Processed and saved batch 191/664\n"
          ]
        },
        {
          "output_type": "stream",
          "name": "stderr",
          "text": [
            "\rProcessing batches:  29%|██▉       | 191/664 [40:20<24:52,  3.15s/it]"
          ]
        },
        {
          "output_type": "stream",
          "name": "stdout",
          "text": [
            "Processed and saved batch 192/664\n"
          ]
        },
        {
          "output_type": "stream",
          "name": "stderr",
          "text": [
            "\rProcessing batches:  29%|██▉       | 192/664 [40:23<24:28,  3.11s/it]"
          ]
        },
        {
          "output_type": "stream",
          "name": "stdout",
          "text": [
            "Processed and saved batch 193/664\n"
          ]
        },
        {
          "output_type": "stream",
          "name": "stderr",
          "text": [
            "\rProcessing batches:  29%|██▉       | 193/664 [40:26<24:11,  3.08s/it]"
          ]
        },
        {
          "output_type": "stream",
          "name": "stdout",
          "text": [
            "Processed and saved batch 194/664\n"
          ]
        },
        {
          "output_type": "stream",
          "name": "stderr",
          "text": [
            "\rProcessing batches:  29%|██▉       | 194/664 [40:29<23:58,  3.06s/it]"
          ]
        },
        {
          "output_type": "stream",
          "name": "stdout",
          "text": [
            "Processed and saved batch 195/664\n"
          ]
        },
        {
          "output_type": "stream",
          "name": "stderr",
          "text": [
            "\rProcessing batches:  29%|██▉       | 195/664 [40:32<23:48,  3.05s/it]"
          ]
        },
        {
          "output_type": "stream",
          "name": "stdout",
          "text": [
            "Processed and saved batch 196/664\n"
          ]
        },
        {
          "output_type": "stream",
          "name": "stderr",
          "text": [
            "\rProcessing batches:  30%|██▉       | 196/664 [40:35<23:41,  3.04s/it]"
          ]
        },
        {
          "output_type": "stream",
          "name": "stdout",
          "text": [
            "Processed and saved batch 197/664\n"
          ]
        },
        {
          "output_type": "stream",
          "name": "stderr",
          "text": [
            "\rProcessing batches:  30%|██▉       | 197/664 [40:38<23:34,  3.03s/it]"
          ]
        },
        {
          "output_type": "stream",
          "name": "stdout",
          "text": [
            "Processed and saved batch 198/664\n"
          ]
        },
        {
          "output_type": "stream",
          "name": "stderr",
          "text": [
            "\rProcessing batches:  30%|██▉       | 198/664 [40:41<23:29,  3.02s/it]"
          ]
        },
        {
          "output_type": "stream",
          "name": "stdout",
          "text": [
            "Processed and saved batch 199/664\n"
          ]
        },
        {
          "output_type": "stream",
          "name": "stderr",
          "text": [
            "\rProcessing batches:  30%|██▉       | 199/664 [40:44<23:24,  3.02s/it]"
          ]
        },
        {
          "output_type": "stream",
          "name": "stdout",
          "text": [
            "Processed and saved batch 200/664\n"
          ]
        },
        {
          "output_type": "stream",
          "name": "stderr",
          "text": [
            "\rProcessing batches:  30%|███       | 200/664 [40:47<23:20,  3.02s/it]"
          ]
        },
        {
          "output_type": "stream",
          "name": "stdout",
          "text": [
            "Processed and saved batch 201/664\n"
          ]
        },
        {
          "output_type": "stream",
          "name": "stderr",
          "text": [
            "\rProcessing batches:  30%|███       | 201/664 [40:50<23:16,  3.02s/it]"
          ]
        },
        {
          "output_type": "stream",
          "name": "stdout",
          "text": [
            "Processed and saved batch 202/664\n"
          ]
        },
        {
          "output_type": "stream",
          "name": "stderr",
          "text": [
            "\rProcessing batches:  30%|███       | 202/664 [40:53<23:12,  3.01s/it]"
          ]
        },
        {
          "output_type": "stream",
          "name": "stdout",
          "text": [
            "Processed and saved batch 203/664\n"
          ]
        },
        {
          "output_type": "stream",
          "name": "stderr",
          "text": [
            "\rProcessing batches:  31%|███       | 203/664 [40:56<23:09,  3.01s/it]"
          ]
        },
        {
          "output_type": "stream",
          "name": "stdout",
          "text": [
            "Processed and saved batch 204/664\n"
          ]
        },
        {
          "output_type": "stream",
          "name": "stderr",
          "text": [
            "\rProcessing batches:  31%|███       | 204/664 [40:59<23:05,  3.01s/it]"
          ]
        },
        {
          "output_type": "stream",
          "name": "stdout",
          "text": [
            "Processed and saved batch 205/664\n"
          ]
        },
        {
          "output_type": "stream",
          "name": "stderr",
          "text": [
            "\rProcessing batches:  31%|███       | 205/664 [41:02<23:02,  3.01s/it]"
          ]
        },
        {
          "output_type": "stream",
          "name": "stdout",
          "text": [
            "Processed and saved batch 206/664\n"
          ]
        },
        {
          "output_type": "stream",
          "name": "stderr",
          "text": [
            "\rProcessing batches:  31%|███       | 206/664 [41:05<22:59,  3.01s/it]"
          ]
        },
        {
          "output_type": "stream",
          "name": "stdout",
          "text": [
            "Processed and saved batch 207/664\n"
          ]
        },
        {
          "output_type": "stream",
          "name": "stderr",
          "text": [
            "\rProcessing batches:  31%|███       | 207/664 [41:08<22:56,  3.01s/it]"
          ]
        },
        {
          "output_type": "stream",
          "name": "stdout",
          "text": [
            "Processed and saved batch 208/664\n",
            "Failed to process image at https://image.hm.com/assets/hm/c7/41/c741f9f4c71e1d7c7135f34dbadd8bb90c5b0f99.jpg: 404 Client Error: Not Found for url: https://image.hm.com/assets/hm/c7/41/c741f9f4c71e1d7c7135f34dbadd8bb90c5b0f99.JPG\n"
          ]
        },
        {
          "output_type": "stream",
          "name": "stderr",
          "text": [
            "\rProcessing batches:  31%|███▏      | 208/664 [41:11<22:54,  3.01s/it]"
          ]
        },
        {
          "output_type": "stream",
          "name": "stdout",
          "text": [
            "Processed and saved batch 209/664\n"
          ]
        },
        {
          "output_type": "stream",
          "name": "stderr",
          "text": [
            "\rProcessing batches:  31%|███▏      | 209/664 [41:14<22:51,  3.01s/it]"
          ]
        },
        {
          "output_type": "stream",
          "name": "stdout",
          "text": [
            "Processed and saved batch 210/664\n"
          ]
        },
        {
          "output_type": "stream",
          "name": "stderr",
          "text": [
            "\rProcessing batches:  32%|███▏      | 210/664 [41:17<22:47,  3.01s/it]"
          ]
        },
        {
          "output_type": "stream",
          "name": "stdout",
          "text": [
            "Processed and saved batch 211/664\n"
          ]
        },
        {
          "output_type": "stream",
          "name": "stderr",
          "text": [
            "\rProcessing batches:  32%|███▏      | 211/664 [41:20<22:44,  3.01s/it]"
          ]
        },
        {
          "output_type": "stream",
          "name": "stdout",
          "text": [
            "Processed and saved batch 212/664\n"
          ]
        },
        {
          "output_type": "stream",
          "name": "stderr",
          "text": [
            "\rProcessing batches:  32%|███▏      | 212/664 [41:23<22:41,  3.01s/it]"
          ]
        },
        {
          "output_type": "stream",
          "name": "stdout",
          "text": [
            "Processed and saved batch 213/664\n"
          ]
        },
        {
          "output_type": "stream",
          "name": "stderr",
          "text": [
            "\rProcessing batches:  32%|███▏      | 213/664 [41:26<22:38,  3.01s/it]"
          ]
        },
        {
          "output_type": "stream",
          "name": "stdout",
          "text": [
            "Processed and saved batch 214/664\n"
          ]
        },
        {
          "output_type": "stream",
          "name": "stderr",
          "text": [
            "\rProcessing batches:  32%|███▏      | 214/664 [41:29<22:35,  3.01s/it]"
          ]
        },
        {
          "output_type": "stream",
          "name": "stdout",
          "text": [
            "Processed and saved batch 215/664\n"
          ]
        },
        {
          "output_type": "stream",
          "name": "stderr",
          "text": [
            "\rProcessing batches:  32%|███▏      | 215/664 [41:32<22:32,  3.01s/it]"
          ]
        },
        {
          "output_type": "stream",
          "name": "stdout",
          "text": [
            "Processed and saved batch 216/664\n"
          ]
        },
        {
          "output_type": "stream",
          "name": "stderr",
          "text": [
            "\rProcessing batches:  33%|███▎      | 216/664 [41:35<22:29,  3.01s/it]"
          ]
        },
        {
          "output_type": "stream",
          "name": "stdout",
          "text": [
            "Processed and saved batch 217/664\n"
          ]
        },
        {
          "output_type": "stream",
          "name": "stderr",
          "text": [
            "\rProcessing batches:  33%|███▎      | 217/664 [41:38<22:26,  3.01s/it]"
          ]
        },
        {
          "output_type": "stream",
          "name": "stdout",
          "text": [
            "Processed and saved batch 218/664\n"
          ]
        },
        {
          "output_type": "stream",
          "name": "stderr",
          "text": [
            "\rProcessing batches:  33%|███▎      | 218/664 [41:41<22:22,  3.01s/it]"
          ]
        },
        {
          "output_type": "stream",
          "name": "stdout",
          "text": [
            "Processed and saved batch 219/664\n"
          ]
        },
        {
          "output_type": "stream",
          "name": "stderr",
          "text": [
            "\rProcessing batches:  33%|███▎      | 219/664 [41:44<22:20,  3.01s/it]"
          ]
        },
        {
          "output_type": "stream",
          "name": "stdout",
          "text": [
            "Processed and saved batch 220/664\n"
          ]
        },
        {
          "output_type": "stream",
          "name": "stderr",
          "text": [
            "\rProcessing batches:  33%|███▎      | 220/664 [41:47<22:17,  3.01s/it]"
          ]
        },
        {
          "output_type": "stream",
          "name": "stdout",
          "text": [
            "Processed and saved batch 221/664\n"
          ]
        },
        {
          "output_type": "stream",
          "name": "stderr",
          "text": [
            "\rProcessing batches:  33%|███▎      | 221/664 [41:50<22:14,  3.01s/it]"
          ]
        },
        {
          "output_type": "stream",
          "name": "stdout",
          "text": [
            "Processed and saved batch 222/664\n"
          ]
        },
        {
          "output_type": "stream",
          "name": "stderr",
          "text": [
            "\rProcessing batches:  33%|███▎      | 222/664 [41:53<22:11,  3.01s/it]"
          ]
        },
        {
          "output_type": "stream",
          "name": "stdout",
          "text": [
            "Processed and saved batch 223/664\n"
          ]
        },
        {
          "output_type": "stream",
          "name": "stderr",
          "text": [
            "\rProcessing batches:  34%|███▎      | 223/664 [41:56<22:08,  3.01s/it]"
          ]
        },
        {
          "output_type": "stream",
          "name": "stdout",
          "text": [
            "Processed and saved batch 224/664\n"
          ]
        },
        {
          "output_type": "stream",
          "name": "stderr",
          "text": [
            "\rProcessing batches:  34%|███▎      | 224/664 [41:59<22:05,  3.01s/it]"
          ]
        },
        {
          "output_type": "stream",
          "name": "stdout",
          "text": [
            "Processed and saved batch 225/664\n"
          ]
        },
        {
          "output_type": "stream",
          "name": "stderr",
          "text": [
            "\rProcessing batches:  34%|███▍      | 225/664 [42:02<22:02,  3.01s/it]"
          ]
        },
        {
          "output_type": "stream",
          "name": "stdout",
          "text": [
            "Processed and saved batch 226/664\n"
          ]
        },
        {
          "output_type": "stream",
          "name": "stderr",
          "text": [
            "\rProcessing batches:  34%|███▍      | 226/664 [42:05<21:58,  3.01s/it]"
          ]
        },
        {
          "output_type": "stream",
          "name": "stdout",
          "text": [
            "Processed and saved batch 227/664\n"
          ]
        },
        {
          "output_type": "stream",
          "name": "stderr",
          "text": [
            "\rProcessing batches:  34%|███▍      | 227/664 [42:08<21:55,  3.01s/it]"
          ]
        },
        {
          "output_type": "stream",
          "name": "stdout",
          "text": [
            "Processed and saved batch 228/664\n"
          ]
        },
        {
          "output_type": "stream",
          "name": "stderr",
          "text": [
            "\rProcessing batches:  34%|███▍      | 228/664 [42:11<21:52,  3.01s/it]"
          ]
        },
        {
          "output_type": "stream",
          "name": "stdout",
          "text": [
            "Processed and saved batch 229/664\n"
          ]
        },
        {
          "output_type": "stream",
          "name": "stderr",
          "text": [
            "\rProcessing batches:  34%|███▍      | 229/664 [42:14<21:49,  3.01s/it]"
          ]
        },
        {
          "output_type": "stream",
          "name": "stdout",
          "text": [
            "Processed and saved batch 230/664\n"
          ]
        },
        {
          "output_type": "stream",
          "name": "stderr",
          "text": [
            "\rProcessing batches:  35%|███▍      | 230/664 [42:17<21:46,  3.01s/it]"
          ]
        },
        {
          "output_type": "stream",
          "name": "stdout",
          "text": [
            "Processed and saved batch 231/664\n"
          ]
        },
        {
          "output_type": "stream",
          "name": "stderr",
          "text": [
            "\rProcessing batches:  35%|███▍      | 231/664 [42:20<21:43,  3.01s/it]"
          ]
        },
        {
          "output_type": "stream",
          "name": "stdout",
          "text": [
            "Processed and saved batch 232/664\n"
          ]
        },
        {
          "output_type": "stream",
          "name": "stderr",
          "text": [
            "\rProcessing batches:  35%|███▍      | 232/664 [42:23<21:41,  3.01s/it]"
          ]
        },
        {
          "output_type": "stream",
          "name": "stdout",
          "text": [
            "Processed and saved batch 233/664\n"
          ]
        },
        {
          "output_type": "stream",
          "name": "stderr",
          "text": [
            "\rProcessing batches:  35%|███▌      | 233/664 [42:42<54:43,  7.62s/it]"
          ]
        },
        {
          "output_type": "stream",
          "name": "stdout",
          "text": [
            "Processed and saved batch 234/664\n"
          ]
        },
        {
          "output_type": "stream",
          "name": "stderr",
          "text": [
            "\rProcessing batches:  35%|███▌      | 234/664 [42:55<1:06:03,  9.22s/it]"
          ]
        },
        {
          "output_type": "stream",
          "name": "stdout",
          "text": [
            "Failed to process image at https://image.hm.com/assets/hm/ea/d2/ead22144607cf11adce1a4c870c4ef26e15daf52.jpg: 404 Client Error: Not Found for url: https://image.hm.com/assets/hm/ea/d2/ead22144607cf11adce1a4c870c4ef26e15daf52.JPG\n",
            "Failed to process image at https://image.hm.com/assets/hm/ba/68/ba68a49e3780d241594dd1317830e8c95475e443.jpg: 404 Client Error: Not Found for url: https://image.hm.com/assets/hm/ba/68/ba68a49e3780d241594dd1317830e8c95475e443.JPG\n",
            "Failed to process image at https://image.hm.com/assets/hm/10/e8/10e8d85d2f4f530ba0fe32e31c8a462c325c4167.jpg: 404 Client Error: Not Found for url: https://image.hm.com/assets/hm/10/e8/10e8d85d2f4f530ba0fe32e31c8a462c325c4167.JPG\n",
            "Processed and saved batch 235/664\n"
          ]
        },
        {
          "output_type": "stream",
          "name": "stderr",
          "text": [
            "\rProcessing batches:  35%|███▌      | 235/664 [45:03<5:21:07, 44.91s/it]"
          ]
        },
        {
          "output_type": "stream",
          "name": "stdout",
          "text": [
            "Processed and saved batch 236/664\n"
          ]
        },
        {
          "output_type": "stream",
          "name": "stderr",
          "text": [
            "\rProcessing batches:  36%|███▌      | 236/664 [45:06<3:50:41, 32.34s/it]"
          ]
        },
        {
          "output_type": "stream",
          "name": "stdout",
          "text": [
            "Processed and saved batch 237/664\n"
          ]
        },
        {
          "output_type": "stream",
          "name": "stderr",
          "text": [
            "\rProcessing batches:  36%|███▌      | 237/664 [45:09<2:47:32, 23.54s/it]"
          ]
        },
        {
          "output_type": "stream",
          "name": "stdout",
          "text": [
            "Processed and saved batch 238/664\n"
          ]
        },
        {
          "output_type": "stream",
          "name": "stderr",
          "text": [
            "\rProcessing batches:  36%|███▌      | 238/664 [45:12<2:03:24, 17.38s/it]"
          ]
        },
        {
          "output_type": "stream",
          "name": "stdout",
          "text": [
            "Processed and saved batch 239/664\n"
          ]
        },
        {
          "output_type": "stream",
          "name": "stderr",
          "text": [
            "\rProcessing batches:  36%|███▌      | 239/664 [45:15<1:32:35, 13.07s/it]"
          ]
        },
        {
          "output_type": "stream",
          "name": "stdout",
          "text": [
            "Processed and saved batch 240/664\n"
          ]
        },
        {
          "output_type": "stream",
          "name": "stderr",
          "text": [
            "\rProcessing batches:  36%|███▌      | 240/664 [45:18<1:11:02, 10.05s/it]"
          ]
        },
        {
          "output_type": "stream",
          "name": "stdout",
          "text": [
            "Processed and saved batch 241/664\n"
          ]
        },
        {
          "output_type": "stream",
          "name": "stderr",
          "text": [
            "\rProcessing batches:  36%|███▋      | 241/664 [45:21<55:58,  7.94s/it]  "
          ]
        },
        {
          "output_type": "stream",
          "name": "stdout",
          "text": [
            "Processed and saved batch 242/664\n"
          ]
        },
        {
          "output_type": "stream",
          "name": "stderr",
          "text": [
            "\rProcessing batches:  36%|███▋      | 242/664 [45:24<45:26,  6.46s/it]"
          ]
        },
        {
          "output_type": "stream",
          "name": "stdout",
          "text": [
            "Processed and saved batch 243/664\n"
          ]
        },
        {
          "output_type": "stream",
          "name": "stderr",
          "text": [
            "\rProcessing batches:  37%|███▋      | 243/664 [45:27<38:04,  5.43s/it]"
          ]
        },
        {
          "output_type": "stream",
          "name": "stdout",
          "text": [
            "Processed and saved batch 244/664\n"
          ]
        },
        {
          "output_type": "stream",
          "name": "stderr",
          "text": [
            "\rProcessing batches:  37%|███▋      | 244/664 [45:30<32:54,  4.70s/it]"
          ]
        },
        {
          "output_type": "stream",
          "name": "stdout",
          "text": [
            "Processed and saved batch 245/664\n"
          ]
        },
        {
          "output_type": "stream",
          "name": "stderr",
          "text": [
            "\rProcessing batches:  37%|███▋      | 245/664 [45:33<29:19,  4.20s/it]"
          ]
        },
        {
          "output_type": "stream",
          "name": "stdout",
          "text": [
            "Processed and saved batch 246/664\n"
          ]
        },
        {
          "output_type": "stream",
          "name": "stderr",
          "text": [
            "\rProcessing batches:  37%|███▋      | 246/664 [45:36<26:46,  3.84s/it]"
          ]
        },
        {
          "output_type": "stream",
          "name": "stdout",
          "text": [
            "Processed and saved batch 247/664\n"
          ]
        },
        {
          "output_type": "stream",
          "name": "stderr",
          "text": [
            "\rProcessing batches:  37%|███▋      | 247/664 [45:39<24:58,  3.59s/it]"
          ]
        },
        {
          "output_type": "stream",
          "name": "stdout",
          "text": [
            "Processed and saved batch 248/664\n"
          ]
        },
        {
          "output_type": "stream",
          "name": "stderr",
          "text": [
            "\rProcessing batches:  37%|███▋      | 248/664 [45:42<23:42,  3.42s/it]"
          ]
        },
        {
          "output_type": "stream",
          "name": "stdout",
          "text": [
            "Processed and saved batch 249/664\n"
          ]
        },
        {
          "output_type": "stream",
          "name": "stderr",
          "text": [
            "\rProcessing batches:  38%|███▊      | 249/664 [45:45<22:48,  3.30s/it]"
          ]
        },
        {
          "output_type": "stream",
          "name": "stdout",
          "text": [
            "Processed and saved batch 250/664\n"
          ]
        },
        {
          "output_type": "stream",
          "name": "stderr",
          "text": [
            "\rProcessing batches:  38%|███▊      | 250/664 [45:48<22:09,  3.21s/it]"
          ]
        },
        {
          "output_type": "stream",
          "name": "stdout",
          "text": [
            "Processed and saved batch 251/664\n"
          ]
        },
        {
          "output_type": "stream",
          "name": "stderr",
          "text": [
            "\rProcessing batches:  38%|███▊      | 251/664 [45:58<36:03,  5.24s/it]"
          ]
        },
        {
          "output_type": "stream",
          "name": "stdout",
          "text": [
            "Processed and saved batch 252/664\n"
          ]
        },
        {
          "output_type": "stream",
          "name": "stderr",
          "text": [
            "\rProcessing batches:  38%|███▊      | 252/664 [46:01<31:58,  4.66s/it]"
          ]
        },
        {
          "output_type": "stream",
          "name": "stdout",
          "text": [
            "Processed and saved batch 253/664\n"
          ]
        },
        {
          "output_type": "stream",
          "name": "stderr",
          "text": [
            "\rProcessing batches:  38%|███▊      | 253/664 [46:04<28:31,  4.16s/it]"
          ]
        },
        {
          "output_type": "stream",
          "name": "stdout",
          "text": [
            "Processed and saved batch 254/664\n"
          ]
        },
        {
          "output_type": "stream",
          "name": "stderr",
          "text": [
            "\rProcessing batches:  38%|███▊      | 254/664 [46:10<31:26,  4.60s/it]"
          ]
        },
        {
          "output_type": "stream",
          "name": "stdout",
          "text": [
            "Processed and saved batch 255/664\n"
          ]
        },
        {
          "output_type": "stream",
          "name": "stderr",
          "text": [
            "\rProcessing batches:  38%|███▊      | 255/664 [46:18<38:37,  5.67s/it]"
          ]
        },
        {
          "output_type": "stream",
          "name": "stdout",
          "text": [
            "Processed and saved batch 256/664\n"
          ]
        },
        {
          "output_type": "stream",
          "name": "stderr",
          "text": [
            "\rProcessing batches:  39%|███▊      | 256/664 [46:22<35:24,  5.21s/it]"
          ]
        },
        {
          "output_type": "stream",
          "name": "stdout",
          "text": [
            "Processed and saved batch 257/664\n"
          ]
        },
        {
          "output_type": "stream",
          "name": "stderr",
          "text": [
            "\rProcessing batches:  39%|███▊      | 257/664 [46:25<30:51,  4.55s/it]"
          ]
        },
        {
          "output_type": "stream",
          "name": "stdout",
          "text": [
            "Processed and saved batch 258/664\n"
          ]
        },
        {
          "output_type": "stream",
          "name": "stderr",
          "text": [
            "\rProcessing batches:  39%|███▉      | 258/664 [46:29<29:23,  4.34s/it]"
          ]
        },
        {
          "output_type": "stream",
          "name": "stdout",
          "text": [
            "Processed and saved batch 259/664\n"
          ]
        },
        {
          "output_type": "stream",
          "name": "stderr",
          "text": [
            "\rProcessing batches:  39%|███▉      | 259/664 [46:32<26:37,  3.94s/it]"
          ]
        },
        {
          "output_type": "stream",
          "name": "stdout",
          "text": [
            "Processed and saved batch 260/664\n"
          ]
        },
        {
          "output_type": "stream",
          "name": "stderr",
          "text": [
            "\rProcessing batches:  39%|███▉      | 260/664 [46:35<24:40,  3.66s/it]"
          ]
        },
        {
          "output_type": "stream",
          "name": "stdout",
          "text": [
            "Processed and saved batch 261/664\n"
          ]
        },
        {
          "output_type": "stream",
          "name": "stderr",
          "text": [
            "\rProcessing batches:  39%|███▉      | 261/664 [46:38<23:17,  3.47s/it]"
          ]
        },
        {
          "output_type": "stream",
          "name": "stdout",
          "text": [
            "Processed and saved batch 262/664\n"
          ]
        },
        {
          "output_type": "stream",
          "name": "stderr",
          "text": [
            "\rProcessing batches:  39%|███▉      | 262/664 [47:01<1:02:58,  9.40s/it]"
          ]
        },
        {
          "output_type": "stream",
          "name": "stdout",
          "text": [
            "Failed to process image at https://img.ltwebstatic.com/images3_pi/2024/06/19/1d/1718796267f58822612b91ab0aa17a094ce9b36c4d.jpg: HTTPSConnectionPool(host='img.ltwebstatic.com', port=443): Read timed out. (read timeout=10)\n",
            "Failed to process image at https://img.ltwebstatic.com/images3_pi/2024/07/15/0e/1721006433931eae56a65836d4fd268704c3a5d64c.jpg: HTTPSConnectionPool(host='img.ltwebstatic.com', port=443): Read timed out. (read timeout=10)\n",
            "Processed and saved batch 263/664\n",
            "Failed to process image at https://img.ltwebstatic.com/images3_spmp/2024/08/06/87/1722949987b46080a324c2f40b307f837ab50d8689_square.jpg: HTTPSConnectionPool(host='img.ltwebstatic.com', port=443): Read timed out. (read timeout=10)\n"
          ]
        },
        {
          "output_type": "stream",
          "name": "stderr",
          "text": [
            "\rProcessing batches:  40%|███▉      | 263/664 [47:37<1:55:20, 17.26s/it]"
          ]
        },
        {
          "output_type": "stream",
          "name": "stdout",
          "text": [
            "Processed and saved batch 264/664\n"
          ]
        },
        {
          "output_type": "stream",
          "name": "stderr",
          "text": [
            "\rProcessing batches:  40%|███▉      | 264/664 [47:40<1:26:33, 12.98s/it]"
          ]
        },
        {
          "output_type": "stream",
          "name": "stdout",
          "text": [
            "Processed and saved batch 265/664\n"
          ]
        },
        {
          "output_type": "stream",
          "name": "stderr",
          "text": [
            "\rProcessing batches:  40%|███▉      | 265/664 [47:43<1:07:08, 10.10s/it]"
          ]
        },
        {
          "output_type": "stream",
          "name": "stdout",
          "text": [
            "Processed and saved batch 266/664\n"
          ]
        },
        {
          "output_type": "stream",
          "name": "stderr",
          "text": [
            "\rProcessing batches:  40%|████      | 266/664 [47:54<1:08:36, 10.34s/it]"
          ]
        },
        {
          "output_type": "stream",
          "name": "stdout",
          "text": [
            "Processed and saved batch 267/664\n"
          ]
        },
        {
          "output_type": "stream",
          "name": "stderr",
          "text": [
            "\rProcessing batches:  40%|████      | 267/664 [48:29<1:56:27, 17.60s/it]"
          ]
        },
        {
          "output_type": "stream",
          "name": "stdout",
          "text": [
            "Processed and saved batch 268/664\n"
          ]
        },
        {
          "output_type": "stream",
          "name": "stderr",
          "text": [
            "\rProcessing batches:  40%|████      | 268/664 [48:32<1:27:16, 13.22s/it]"
          ]
        },
        {
          "output_type": "stream",
          "name": "stdout",
          "text": [
            "Processed and saved batch 269/664\n"
          ]
        },
        {
          "output_type": "stream",
          "name": "stderr",
          "text": [
            "\rProcessing batches:  41%|████      | 269/664 [48:35<1:06:53, 10.16s/it]"
          ]
        },
        {
          "output_type": "stream",
          "name": "stdout",
          "text": [
            "Processed and saved batch 270/664\n"
          ]
        },
        {
          "output_type": "stream",
          "name": "stderr",
          "text": [
            "\rProcessing batches:  41%|████      | 270/664 [48:38<53:30,  8.15s/it]  "
          ]
        },
        {
          "output_type": "stream",
          "name": "stdout",
          "text": [
            "Processed and saved batch 271/664\n"
          ]
        },
        {
          "output_type": "stream",
          "name": "stderr",
          "text": [
            "\rProcessing batches:  41%|████      | 271/664 [48:49<59:22,  9.07s/it]"
          ]
        },
        {
          "output_type": "stream",
          "name": "stdout",
          "text": [
            "Processed and saved batch 272/664\n"
          ]
        },
        {
          "output_type": "stream",
          "name": "stderr",
          "text": [
            "\rProcessing batches:  41%|████      | 272/664 [48:56<54:20,  8.32s/it]"
          ]
        },
        {
          "output_type": "stream",
          "name": "stdout",
          "text": [
            "Processed and saved batch 273/664\n"
          ]
        },
        {
          "output_type": "stream",
          "name": "stderr",
          "text": [
            "\rProcessing batches:  41%|████      | 273/664 [48:59<43:49,  6.73s/it]"
          ]
        },
        {
          "output_type": "stream",
          "name": "stdout",
          "text": [
            "Processed and saved batch 274/664\n"
          ]
        },
        {
          "output_type": "stream",
          "name": "stderr",
          "text": [
            "\rProcessing batches:  41%|████▏     | 274/664 [49:08<48:34,  7.47s/it]"
          ]
        },
        {
          "output_type": "stream",
          "name": "stdout",
          "text": [
            "Processed and saved batch 275/664\n"
          ]
        },
        {
          "output_type": "stream",
          "name": "stderr",
          "text": [
            "\rProcessing batches:  41%|████▏     | 275/664 [49:11<39:46,  6.14s/it]"
          ]
        },
        {
          "output_type": "stream",
          "name": "stdout",
          "text": [
            "Processed and saved batch 276/664\n"
          ]
        },
        {
          "output_type": "stream",
          "name": "stderr",
          "text": [
            "\rProcessing batches:  42%|████▏     | 276/664 [49:14<33:36,  5.20s/it]"
          ]
        },
        {
          "output_type": "stream",
          "name": "stdout",
          "text": [
            "Processed and saved batch 277/664\n"
          ]
        },
        {
          "output_type": "stream",
          "name": "stderr",
          "text": [
            "\rProcessing batches:  42%|████▏     | 277/664 [49:17<29:17,  4.54s/it]"
          ]
        },
        {
          "output_type": "stream",
          "name": "stdout",
          "text": [
            "Processed and saved batch 278/664\n"
          ]
        },
        {
          "output_type": "stream",
          "name": "stderr",
          "text": [
            "\rProcessing batches:  42%|████▏     | 278/664 [49:45<1:13:03, 11.36s/it]"
          ]
        },
        {
          "output_type": "stream",
          "name": "stdout",
          "text": [
            "Processed and saved batch 279/664\n"
          ]
        },
        {
          "output_type": "stream",
          "name": "stderr",
          "text": [
            "\rProcessing batches:  42%|████▏     | 279/664 [50:04<1:29:21, 13.93s/it]"
          ]
        },
        {
          "output_type": "stream",
          "name": "stdout",
          "text": [
            "Processed and saved batch 280/664\n"
          ]
        },
        {
          "output_type": "stream",
          "name": "stderr",
          "text": [
            "\rProcessing batches:  42%|████▏     | 280/664 [50:07<1:08:10, 10.65s/it]"
          ]
        },
        {
          "output_type": "stream",
          "name": "stdout",
          "text": [
            "Processed and saved batch 281/664\n"
          ]
        },
        {
          "output_type": "stream",
          "name": "stderr",
          "text": [
            "\rProcessing batches:  42%|████▏     | 281/664 [50:15<1:01:29,  9.63s/it]"
          ]
        },
        {
          "output_type": "stream",
          "name": "stdout",
          "text": [
            "Processed and saved batch 282/664\n"
          ]
        },
        {
          "output_type": "stream",
          "name": "stderr",
          "text": [
            "\rProcessing batches:  42%|████▏     | 282/664 [50:26<1:03:32,  9.98s/it]"
          ]
        },
        {
          "output_type": "stream",
          "name": "stdout",
          "text": [
            "Processed and saved batch 283/664\n"
          ]
        },
        {
          "output_type": "stream",
          "name": "stderr",
          "text": [
            "\rProcessing batches:  43%|████▎     | 283/664 [50:59<1:47:43, 16.96s/it]"
          ]
        },
        {
          "output_type": "stream",
          "name": "stdout",
          "text": [
            "Processed and saved batch 284/664\n"
          ]
        },
        {
          "output_type": "stream",
          "name": "stderr",
          "text": [
            "\rProcessing batches:  43%|████▎     | 284/664 [51:02<1:20:55, 12.78s/it]"
          ]
        },
        {
          "output_type": "stream",
          "name": "stdout",
          "text": [
            "Processed and saved batch 285/664\n"
          ]
        },
        {
          "output_type": "stream",
          "name": "stderr",
          "text": [
            "\rProcessing batches:  43%|████▎     | 285/664 [51:05<1:03:01,  9.98s/it]"
          ]
        },
        {
          "output_type": "stream",
          "name": "stdout",
          "text": [
            "Processed and saved batch 286/664\n"
          ]
        },
        {
          "output_type": "stream",
          "name": "stderr",
          "text": [
            "\rProcessing batches:  43%|████▎     | 286/664 [51:12<56:37,  8.99s/it]  "
          ]
        },
        {
          "output_type": "stream",
          "name": "stdout",
          "text": [
            "Processed and saved batch 287/664\n"
          ]
        },
        {
          "output_type": "stream",
          "name": "stderr",
          "text": [
            "\rProcessing batches:  43%|████▎     | 287/664 [51:18<50:59,  8.11s/it]"
          ]
        },
        {
          "output_type": "stream",
          "name": "stdout",
          "text": [
            "Processed and saved batch 288/664\n"
          ]
        },
        {
          "output_type": "stream",
          "name": "stderr",
          "text": [
            "\rProcessing batches:  43%|████▎     | 288/664 [51:26<51:17,  8.18s/it]"
          ]
        },
        {
          "output_type": "stream",
          "name": "stdout",
          "text": [
            "Processed and saved batch 289/664\n"
          ]
        },
        {
          "output_type": "stream",
          "name": "stderr",
          "text": [
            "\rProcessing batches:  44%|████▎     | 289/664 [51:29<41:27,  6.63s/it]"
          ]
        },
        {
          "output_type": "stream",
          "name": "stdout",
          "text": [
            "Processed and saved batch 290/664\n"
          ]
        },
        {
          "output_type": "stream",
          "name": "stderr",
          "text": [
            "\rProcessing batches:  44%|████▎     | 290/664 [51:32<34:34,  5.55s/it]"
          ]
        },
        {
          "output_type": "stream",
          "name": "stdout",
          "text": [
            "Processed and saved batch 291/664\n"
          ]
        },
        {
          "output_type": "stream",
          "name": "stderr",
          "text": [
            "\rProcessing batches:  44%|████▍     | 291/664 [51:35<29:44,  4.79s/it]"
          ]
        },
        {
          "output_type": "stream",
          "name": "stdout",
          "text": [
            "Processed and saved batch 292/664\n"
          ]
        },
        {
          "output_type": "stream",
          "name": "stderr",
          "text": [
            "\rProcessing batches:  44%|████▍     | 292/664 [51:38<26:22,  4.25s/it]"
          ]
        },
        {
          "output_type": "stream",
          "name": "stdout",
          "text": [
            "Processed and saved batch 293/664\n"
          ]
        },
        {
          "output_type": "stream",
          "name": "stderr",
          "text": [
            "\rProcessing batches:  44%|████▍     | 293/664 [51:41<23:59,  3.88s/it]"
          ]
        },
        {
          "output_type": "stream",
          "name": "stdout",
          "text": [
            "Processed and saved batch 294/664\n"
          ]
        },
        {
          "output_type": "stream",
          "name": "stderr",
          "text": [
            "\rProcessing batches:  44%|████▍     | 294/664 [52:15<1:19:35, 12.91s/it]"
          ]
        },
        {
          "output_type": "stream",
          "name": "stdout",
          "text": [
            "Processed and saved batch 295/664\n"
          ]
        },
        {
          "output_type": "stream",
          "name": "stderr",
          "text": [
            "\rProcessing batches:  44%|████▍     | 295/664 [52:33<1:27:59, 14.31s/it]"
          ]
        },
        {
          "output_type": "stream",
          "name": "stdout",
          "text": [
            "Processed and saved batch 296/664\n"
          ]
        },
        {
          "output_type": "stream",
          "name": "stderr",
          "text": [
            "\rProcessing batches:  45%|████▍     | 296/664 [52:37<1:09:50, 11.39s/it]"
          ]
        },
        {
          "output_type": "stream",
          "name": "stdout",
          "text": [
            "Processed and saved batch 297/664\n"
          ]
        },
        {
          "output_type": "stream",
          "name": "stderr",
          "text": [
            "\rProcessing batches:  45%|████▍     | 297/664 [52:45<1:01:55, 10.12s/it]"
          ]
        },
        {
          "output_type": "stream",
          "name": "stdout",
          "text": [
            "Processed and saved batch 298/664\n"
          ]
        },
        {
          "output_type": "stream",
          "name": "stderr",
          "text": [
            "\rProcessing batches:  45%|████▍     | 298/664 [52:54<1:00:16,  9.88s/it]"
          ]
        },
        {
          "output_type": "stream",
          "name": "stdout",
          "text": [
            "Processed and saved batch 299/664\n"
          ]
        },
        {
          "output_type": "stream",
          "name": "stderr",
          "text": [
            "\rProcessing batches:  45%|████▌     | 299/664 [53:26<1:40:33, 16.53s/it]"
          ]
        },
        {
          "output_type": "stream",
          "name": "stdout",
          "text": [
            "Processed and saved batch 300/664\n"
          ]
        },
        {
          "output_type": "stream",
          "name": "stderr",
          "text": [
            "\rProcessing batches:  45%|████▌     | 300/664 [53:31<1:19:01, 13.03s/it]"
          ]
        },
        {
          "output_type": "stream",
          "name": "stdout",
          "text": [
            "Processed and saved batch 301/664\n"
          ]
        },
        {
          "output_type": "stream",
          "name": "stderr",
          "text": [
            "\rProcessing batches:  45%|████▌     | 301/664 [53:36<1:04:52, 10.72s/it]"
          ]
        },
        {
          "output_type": "stream",
          "name": "stdout",
          "text": [
            "Processed and saved batch 302/664\n"
          ]
        },
        {
          "output_type": "stream",
          "name": "stderr",
          "text": [
            "\rProcessing batches:  45%|████▌     | 302/664 [53:48<1:05:57, 10.93s/it]"
          ]
        },
        {
          "output_type": "stream",
          "name": "stdout",
          "text": [
            "Processed and saved batch 303/664\n"
          ]
        },
        {
          "output_type": "stream",
          "name": "stderr",
          "text": [
            "\rProcessing batches:  46%|████▌     | 303/664 [53:51<51:28,  8.56s/it]  "
          ]
        },
        {
          "output_type": "stream",
          "name": "stdout",
          "text": [
            "Processed and saved batch 304/664\n"
          ]
        },
        {
          "output_type": "stream",
          "name": "stderr",
          "text": [
            "\rProcessing batches:  46%|████▌     | 304/664 [53:54<41:21,  6.89s/it]"
          ]
        },
        {
          "output_type": "stream",
          "name": "stdout",
          "text": [
            "Processed and saved batch 305/664\n"
          ]
        },
        {
          "output_type": "stream",
          "name": "stderr",
          "text": [
            "\rProcessing batches:  46%|████▌     | 305/664 [53:57<34:16,  5.73s/it]"
          ]
        },
        {
          "output_type": "stream",
          "name": "stdout",
          "text": [
            "Processed and saved batch 306/664\n"
          ]
        },
        {
          "output_type": "stream",
          "name": "stderr",
          "text": [
            "\rProcessing batches:  46%|████▌     | 306/664 [54:04<37:04,  6.21s/it]"
          ]
        },
        {
          "output_type": "stream",
          "name": "stdout",
          "text": [
            "Processed and saved batch 307/664\n"
          ]
        },
        {
          "output_type": "stream",
          "name": "stderr",
          "text": [
            "\rProcessing batches:  46%|████▌     | 307/664 [54:07<31:15,  5.25s/it]"
          ]
        },
        {
          "output_type": "stream",
          "name": "stdout",
          "text": [
            "Processed and saved batch 308/664\n"
          ]
        },
        {
          "output_type": "stream",
          "name": "stderr",
          "text": [
            "\rProcessing batches:  46%|████▋     | 308/664 [54:10<27:10,  4.58s/it]"
          ]
        },
        {
          "output_type": "stream",
          "name": "stdout",
          "text": [
            "Processed and saved batch 309/664\n"
          ]
        },
        {
          "output_type": "stream",
          "name": "stderr",
          "text": [
            "\rProcessing batches:  47%|████▋     | 309/664 [54:13<24:18,  4.11s/it]"
          ]
        },
        {
          "output_type": "stream",
          "name": "stdout",
          "text": [
            "Processed and saved batch 310/664\n"
          ]
        },
        {
          "output_type": "stream",
          "name": "stderr",
          "text": [
            "\rProcessing batches:  47%|████▋     | 310/664 [54:47<1:16:53, 13.03s/it]"
          ]
        },
        {
          "output_type": "stream",
          "name": "stdout",
          "text": [
            "Processed and saved batch 311/664\n"
          ]
        },
        {
          "output_type": "stream",
          "name": "stderr",
          "text": [
            "\rProcessing batches:  47%|████▋     | 311/664 [55:03<1:22:34, 14.03s/it]"
          ]
        },
        {
          "output_type": "stream",
          "name": "stdout",
          "text": [
            "Processed and saved batch 312/664\n"
          ]
        },
        {
          "output_type": "stream",
          "name": "stderr",
          "text": [
            "\rProcessing batches:  47%|████▋     | 312/664 [55:08<1:06:36, 11.35s/it]"
          ]
        },
        {
          "output_type": "stream",
          "name": "stdout",
          "text": [
            "Processed and saved batch 313/664\n"
          ]
        },
        {
          "output_type": "stream",
          "name": "stderr",
          "text": [
            "\rProcessing batches:  47%|████▋     | 313/664 [55:14<57:01,  9.75s/it]  "
          ]
        },
        {
          "output_type": "stream",
          "name": "stdout",
          "text": [
            "Processed and saved batch 314/664\n"
          ]
        },
        {
          "output_type": "stream",
          "name": "stderr",
          "text": [
            "\rProcessing batches:  47%|████▋     | 314/664 [55:24<55:53,  9.58s/it]"
          ]
        },
        {
          "output_type": "stream",
          "name": "stdout",
          "text": [
            "Processed and saved batch 315/664\n"
          ]
        },
        {
          "output_type": "stream",
          "name": "stderr",
          "text": [
            "\rProcessing batches:  47%|████▋     | 315/664 [55:56<1:35:02, 16.34s/it]"
          ]
        },
        {
          "output_type": "stream",
          "name": "stdout",
          "text": [
            "Processed and saved batch 316/664\n"
          ]
        },
        {
          "output_type": "stream",
          "name": "stderr",
          "text": [
            "\rProcessing batches:  48%|████▊     | 316/664 [56:01<1:15:47, 13.07s/it]"
          ]
        },
        {
          "output_type": "stream",
          "name": "stdout",
          "text": [
            "Processed and saved batch 317/664\n"
          ]
        },
        {
          "output_type": "stream",
          "name": "stderr",
          "text": [
            "\rProcessing batches:  48%|████▊     | 317/664 [56:06<1:01:09, 10.58s/it]"
          ]
        },
        {
          "output_type": "stream",
          "name": "stdout",
          "text": [
            "Processed and saved batch 318/664\n"
          ]
        },
        {
          "output_type": "stream",
          "name": "stderr",
          "text": [
            "\rProcessing batches:  48%|████▊     | 318/664 [56:17<1:01:35, 10.68s/it]"
          ]
        },
        {
          "output_type": "stream",
          "name": "stdout",
          "text": [
            "Processed and saved batch 319/664\n"
          ]
        },
        {
          "output_type": "stream",
          "name": "stderr",
          "text": [
            "\rProcessing batches:  48%|████▊     | 319/664 [56:20<48:19,  8.40s/it]  "
          ]
        },
        {
          "output_type": "stream",
          "name": "stdout",
          "text": [
            "Processed and saved batch 320/664\n"
          ]
        },
        {
          "output_type": "stream",
          "name": "stderr",
          "text": [
            "\rProcessing batches:  48%|████▊     | 320/664 [56:23<38:54,  6.79s/it]"
          ]
        },
        {
          "output_type": "stream",
          "name": "stdout",
          "text": [
            "Processed and saved batch 321/664\n"
          ]
        },
        {
          "output_type": "stream",
          "name": "stderr",
          "text": [
            "\rProcessing batches:  48%|████▊     | 321/664 [56:27<33:47,  5.91s/it]"
          ]
        },
        {
          "output_type": "stream",
          "name": "stdout",
          "text": [
            "Processed and saved batch 322/664\n"
          ]
        },
        {
          "output_type": "stream",
          "name": "stderr",
          "text": [
            "\rProcessing batches:  48%|████▊     | 322/664 [56:32<33:00,  5.79s/it]"
          ]
        },
        {
          "output_type": "stream",
          "name": "stdout",
          "text": [
            "Processed and saved batch 323/664\n"
          ]
        },
        {
          "output_type": "stream",
          "name": "stderr",
          "text": [
            "\rProcessing batches:  49%|████▊     | 323/664 [56:35<28:10,  4.96s/it]"
          ]
        },
        {
          "output_type": "stream",
          "name": "stdout",
          "text": [
            "Processed and saved batch 324/664\n"
          ]
        },
        {
          "output_type": "stream",
          "name": "stderr",
          "text": [
            "\rProcessing batches:  49%|████▉     | 324/664 [56:38<24:46,  4.37s/it]"
          ]
        },
        {
          "output_type": "stream",
          "name": "stdout",
          "text": [
            "Processed and saved batch 325/664\n"
          ]
        },
        {
          "output_type": "stream",
          "name": "stderr",
          "text": [
            "\rProcessing batches:  49%|████▉     | 325/664 [56:41<22:23,  3.96s/it]"
          ]
        },
        {
          "output_type": "stream",
          "name": "stdout",
          "text": [
            "Processed and saved batch 326/664\n"
          ]
        },
        {
          "output_type": "stream",
          "name": "stderr",
          "text": [
            "\rProcessing batches:  49%|████▉     | 326/664 [57:18<1:18:21, 13.91s/it]"
          ]
        },
        {
          "output_type": "stream",
          "name": "stdout",
          "text": [
            "Processed and saved batch 327/664\n"
          ]
        },
        {
          "output_type": "stream",
          "name": "stderr",
          "text": [
            "\rProcessing batches:  49%|████▉     | 327/664 [57:40<1:31:33, 16.30s/it]"
          ]
        },
        {
          "output_type": "stream",
          "name": "stdout",
          "text": [
            "Processed and saved batch 328/664\n"
          ]
        },
        {
          "output_type": "stream",
          "name": "stderr",
          "text": [
            "\rProcessing batches:  49%|████▉     | 328/664 [57:45<1:11:01, 12.68s/it]"
          ]
        },
        {
          "output_type": "stream",
          "name": "stdout",
          "text": [
            "Processed and saved batch 329/664\n"
          ]
        },
        {
          "output_type": "stream",
          "name": "stderr",
          "text": [
            "\rProcessing batches:  50%|████▉     | 329/664 [57:52<1:02:27, 11.19s/it]"
          ]
        },
        {
          "output_type": "stream",
          "name": "stdout",
          "text": [
            "Processed and saved batch 330/664\n"
          ]
        },
        {
          "output_type": "stream",
          "name": "stderr",
          "text": [
            "\rProcessing batches:  50%|████▉     | 330/664 [58:00<56:56, 10.23s/it]  "
          ]
        },
        {
          "output_type": "stream",
          "name": "stdout",
          "text": [
            "Processed and saved batch 331/664\n"
          ]
        },
        {
          "output_type": "stream",
          "name": "stderr",
          "text": [
            "\rProcessing batches:  50%|████▉     | 331/664 [58:29<1:27:17, 15.73s/it]"
          ]
        },
        {
          "output_type": "stream",
          "name": "stdout",
          "text": [
            "Processed and saved batch 332/664\n"
          ]
        },
        {
          "output_type": "stream",
          "name": "stderr",
          "text": [
            "\rProcessing batches:  50%|█████     | 332/664 [58:34<1:09:18, 12.52s/it]"
          ]
        },
        {
          "output_type": "stream",
          "name": "stdout",
          "text": [
            "Processed and saved batch 333/664\n"
          ]
        },
        {
          "output_type": "stream",
          "name": "stderr",
          "text": [
            "\rProcessing batches:  50%|█████     | 333/664 [58:39<56:46, 10.29s/it]  "
          ]
        },
        {
          "output_type": "stream",
          "name": "stdout",
          "text": [
            "Processed and saved batch 334/664\n"
          ]
        },
        {
          "output_type": "stream",
          "name": "stderr",
          "text": [
            "\rProcessing batches:  50%|█████     | 334/664 [58:50<58:15, 10.59s/it]"
          ]
        },
        {
          "output_type": "stream",
          "name": "stdout",
          "text": [
            "Processed and saved batch 335/664\n"
          ]
        },
        {
          "output_type": "stream",
          "name": "stderr",
          "text": [
            "\rProcessing batches:  50%|█████     | 335/664 [58:56<49:54,  9.10s/it]"
          ]
        },
        {
          "output_type": "stream",
          "name": "stdout",
          "text": [
            "Processed and saved batch 336/664\n"
          ]
        },
        {
          "output_type": "stream",
          "name": "stderr",
          "text": [
            "\rProcessing batches:  51%|█████     | 336/664 [58:59<39:46,  7.28s/it]"
          ]
        },
        {
          "output_type": "stream",
          "name": "stdout",
          "text": [
            "Processed and saved batch 337/664\n"
          ]
        },
        {
          "output_type": "stream",
          "name": "stderr",
          "text": [
            "\rProcessing batches:  51%|█████     | 337/664 [59:02<32:40,  6.00s/it]"
          ]
        },
        {
          "output_type": "stream",
          "name": "stdout",
          "text": [
            "Processed and saved batch 338/664\n"
          ]
        },
        {
          "output_type": "stream",
          "name": "stderr",
          "text": [
            "\rProcessing batches:  51%|█████     | 338/664 [59:07<30:39,  5.64s/it]"
          ]
        },
        {
          "output_type": "stream",
          "name": "stdout",
          "text": [
            "Processed and saved batch 339/664\n"
          ]
        },
        {
          "output_type": "stream",
          "name": "stderr",
          "text": [
            "\rProcessing batches:  51%|█████     | 339/664 [59:11<27:52,  5.15s/it]"
          ]
        },
        {
          "output_type": "stream",
          "name": "stdout",
          "text": [
            "Processed and saved batch 340/664\n"
          ]
        },
        {
          "output_type": "stream",
          "name": "stderr",
          "text": [
            "\rProcessing batches:  51%|█████     | 340/664 [59:14<24:20,  4.51s/it]"
          ]
        },
        {
          "output_type": "stream",
          "name": "stdout",
          "text": [
            "Processed and saved batch 341/664\n"
          ]
        },
        {
          "output_type": "stream",
          "name": "stderr",
          "text": [
            "\rProcessing batches:  51%|█████▏    | 341/664 [59:17<21:50,  4.06s/it]"
          ]
        },
        {
          "output_type": "stream",
          "name": "stdout",
          "text": [
            "Processed and saved batch 342/664\n"
          ]
        },
        {
          "output_type": "stream",
          "name": "stderr",
          "text": [
            "\rProcessing batches:  52%|█████▏    | 342/664 [59:58<1:22:11, 15.32s/it]"
          ]
        },
        {
          "output_type": "stream",
          "name": "stdout",
          "text": [
            "Processed and saved batch 343/664\n"
          ]
        },
        {
          "output_type": "stream",
          "name": "stderr",
          "text": [
            "\rProcessing batches:  52%|█████▏    | 343/664 [1:00:18<1:28:41, 16.58s/it]"
          ]
        },
        {
          "output_type": "stream",
          "name": "stdout",
          "text": [
            "Processed and saved batch 344/664\n"
          ]
        },
        {
          "output_type": "stream",
          "name": "stderr",
          "text": [
            "\rProcessing batches:  52%|█████▏    | 344/664 [1:00:22<1:08:18, 12.81s/it]"
          ]
        },
        {
          "output_type": "stream",
          "name": "stdout",
          "text": [
            "Processed and saved batch 345/664\n"
          ]
        },
        {
          "output_type": "stream",
          "name": "stderr",
          "text": [
            "\rProcessing batches:  52%|█████▏    | 345/664 [1:00:29<59:37, 11.21s/it]  "
          ]
        },
        {
          "output_type": "stream",
          "name": "stdout",
          "text": [
            "Processed and saved batch 346/664\n"
          ]
        },
        {
          "output_type": "stream",
          "name": "stderr",
          "text": [
            "\rProcessing batches:  52%|█████▏    | 346/664 [1:00:35<50:39,  9.56s/it]"
          ]
        },
        {
          "output_type": "stream",
          "name": "stdout",
          "text": [
            "Processed and saved batch 347/664\n"
          ]
        },
        {
          "output_type": "stream",
          "name": "stderr",
          "text": [
            "\rProcessing batches:  52%|█████▏    | 347/664 [1:01:05<1:23:13, 15.75s/it]"
          ]
        },
        {
          "output_type": "stream",
          "name": "stdout",
          "text": [
            "Processed and saved batch 348/664\n"
          ]
        },
        {
          "output_type": "stream",
          "name": "stderr",
          "text": [
            "\rProcessing batches:  52%|█████▏    | 348/664 [1:01:11<1:06:52, 12.70s/it]"
          ]
        },
        {
          "output_type": "stream",
          "name": "stdout",
          "text": [
            "Processed and saved batch 349/664\n"
          ]
        },
        {
          "output_type": "stream",
          "name": "stderr",
          "text": [
            "\rProcessing batches:  53%|█████▎    | 349/664 [1:01:17<55:43, 10.61s/it]  "
          ]
        },
        {
          "output_type": "stream",
          "name": "stdout",
          "text": [
            "Processed and saved batch 350/664\n"
          ]
        },
        {
          "output_type": "stream",
          "name": "stderr",
          "text": [
            "\rProcessing batches:  53%|█████▎    | 350/664 [1:01:29<58:46, 11.23s/it]"
          ]
        },
        {
          "output_type": "stream",
          "name": "stdout",
          "text": [
            "Processed and saved batch 351/664\n"
          ]
        },
        {
          "output_type": "stream",
          "name": "stderr",
          "text": [
            "\rProcessing batches:  53%|█████▎    | 351/664 [1:01:33<47:26,  9.09s/it]"
          ]
        },
        {
          "output_type": "stream",
          "name": "stdout",
          "text": [
            "Processed and saved batch 352/664\n"
          ]
        },
        {
          "output_type": "stream",
          "name": "stderr",
          "text": [
            "\rProcessing batches:  53%|█████▎    | 352/664 [1:01:36<37:47,  7.27s/it]"
          ]
        },
        {
          "output_type": "stream",
          "name": "stdout",
          "text": [
            "Processed and saved batch 353/664\n"
          ]
        },
        {
          "output_type": "stream",
          "name": "stderr",
          "text": [
            "\rProcessing batches:  53%|█████▎    | 353/664 [1:01:39<31:13,  6.03s/it]"
          ]
        },
        {
          "output_type": "stream",
          "name": "stdout",
          "text": [
            "Processed and saved batch 354/664\n"
          ]
        },
        {
          "output_type": "stream",
          "name": "stderr",
          "text": [
            "\rProcessing batches:  53%|█████▎    | 354/664 [1:01:43<27:25,  5.31s/it]"
          ]
        },
        {
          "output_type": "stream",
          "name": "stdout",
          "text": [
            "Processed and saved batch 355/664\n"
          ]
        },
        {
          "output_type": "stream",
          "name": "stderr",
          "text": [
            "\rProcessing batches:  53%|█████▎    | 355/664 [1:01:46<23:47,  4.62s/it]"
          ]
        },
        {
          "output_type": "stream",
          "name": "stdout",
          "text": [
            "Processed and saved batch 356/664\n"
          ]
        },
        {
          "output_type": "stream",
          "name": "stderr",
          "text": [
            "\rProcessing batches:  54%|█████▎    | 356/664 [1:01:49<21:14,  4.14s/it]"
          ]
        },
        {
          "output_type": "stream",
          "name": "stdout",
          "text": [
            "Processed and saved batch 357/664\n"
          ]
        },
        {
          "output_type": "stream",
          "name": "stderr",
          "text": [
            "\rProcessing batches:  54%|█████▍    | 357/664 [1:01:52<19:26,  3.80s/it]"
          ]
        },
        {
          "output_type": "stream",
          "name": "stdout",
          "text": [
            "Processed and saved batch 358/664\n"
          ]
        },
        {
          "output_type": "stream",
          "name": "stderr",
          "text": [
            "\rProcessing batches:  54%|█████▍    | 358/664 [1:02:33<1:15:47, 14.86s/it]"
          ]
        },
        {
          "output_type": "stream",
          "name": "stdout",
          "text": [
            "Processed and saved batch 359/664\n"
          ]
        },
        {
          "output_type": "stream",
          "name": "stderr",
          "text": [
            "\rProcessing batches:  54%|█████▍    | 359/664 [1:02:52<1:22:13, 16.18s/it]"
          ]
        },
        {
          "output_type": "stream",
          "name": "stdout",
          "text": [
            "Processed and saved batch 360/664\n"
          ]
        },
        {
          "output_type": "stream",
          "name": "stderr",
          "text": [
            "\rProcessing batches:  54%|█████▍    | 360/664 [1:02:56<1:03:41, 12.57s/it]"
          ]
        },
        {
          "output_type": "stream",
          "name": "stdout",
          "text": [
            "Processed and saved batch 361/664\n"
          ]
        },
        {
          "output_type": "stream",
          "name": "stderr",
          "text": [
            "\rProcessing batches:  54%|█████▍    | 361/664 [1:03:05<57:56, 11.47s/it]  "
          ]
        },
        {
          "output_type": "stream",
          "name": "stdout",
          "text": [
            "Processed and saved batch 362/664\n"
          ]
        },
        {
          "output_type": "stream",
          "name": "stderr",
          "text": [
            "\rProcessing batches:  55%|█████▍    | 362/664 [1:03:10<47:11,  9.38s/it]"
          ]
        },
        {
          "output_type": "stream",
          "name": "stdout",
          "text": [
            "Processed and saved batch 363/664\n"
          ]
        },
        {
          "output_type": "stream",
          "name": "stderr",
          "text": [
            "\rProcessing batches:  55%|█████▍    | 363/664 [1:03:43<1:22:43, 16.49s/it]"
          ]
        },
        {
          "output_type": "stream",
          "name": "stdout",
          "text": [
            "Processed and saved batch 364/664\n"
          ]
        },
        {
          "output_type": "stream",
          "name": "stderr",
          "text": [
            "\rProcessing batches:  55%|█████▍    | 364/664 [1:03:48<1:06:18, 13.26s/it]"
          ]
        },
        {
          "output_type": "stream",
          "name": "stdout",
          "text": [
            "Processed and saved batch 365/664\n"
          ]
        },
        {
          "output_type": "stream",
          "name": "stderr",
          "text": [
            "\rProcessing batches:  55%|█████▍    | 365/664 [1:03:54<54:43, 10.98s/it]  "
          ]
        },
        {
          "output_type": "stream",
          "name": "stdout",
          "text": [
            "Processed and saved batch 366/664\n"
          ]
        },
        {
          "output_type": "stream",
          "name": "stderr",
          "text": [
            "\rProcessing batches:  55%|█████▌    | 366/664 [1:04:07<56:58, 11.47s/it]"
          ]
        },
        {
          "output_type": "stream",
          "name": "stdout",
          "text": [
            "Processed and saved batch 367/664\n"
          ]
        },
        {
          "output_type": "stream",
          "name": "stderr",
          "text": [
            "\rProcessing batches:  55%|█████▌    | 367/664 [1:04:14<50:04, 10.11s/it]"
          ]
        },
        {
          "output_type": "stream",
          "name": "stdout",
          "text": [
            "Processed and saved batch 368/664\n"
          ]
        },
        {
          "output_type": "stream",
          "name": "stderr",
          "text": [
            "\rProcessing batches:  55%|█████▌    | 368/664 [1:04:17<39:23,  7.98s/it]"
          ]
        },
        {
          "output_type": "stream",
          "name": "stdout",
          "text": [
            "Processed and saved batch 369/664\n"
          ]
        },
        {
          "output_type": "stream",
          "name": "stderr",
          "text": [
            "\rProcessing batches:  56%|█████▌    | 369/664 [1:04:21<34:03,  6.93s/it]"
          ]
        },
        {
          "output_type": "stream",
          "name": "stdout",
          "text": [
            "Processed and saved batch 370/664\n"
          ]
        },
        {
          "output_type": "stream",
          "name": "stderr",
          "text": [
            "\rProcessing batches:  56%|█████▌    | 370/664 [1:04:24<28:11,  5.75s/it]"
          ]
        },
        {
          "output_type": "stream",
          "name": "stdout",
          "text": [
            "Processed and saved batch 371/664\n"
          ]
        },
        {
          "output_type": "stream",
          "name": "stderr",
          "text": [
            "\rProcessing batches:  56%|█████▌    | 371/664 [1:04:27<24:04,  4.93s/it]"
          ]
        },
        {
          "output_type": "stream",
          "name": "stdout",
          "text": [
            "Processed and saved batch 372/664\n"
          ]
        },
        {
          "output_type": "stream",
          "name": "stderr",
          "text": [
            "\rProcessing batches:  56%|█████▌    | 372/664 [1:04:30<21:11,  4.35s/it]"
          ]
        },
        {
          "output_type": "stream",
          "name": "stdout",
          "text": [
            "Processed and saved batch 373/664\n"
          ]
        },
        {
          "output_type": "stream",
          "name": "stderr",
          "text": [
            "\rProcessing batches:  56%|█████▌    | 373/664 [1:04:33<19:10,  3.95s/it]"
          ]
        },
        {
          "output_type": "stream",
          "name": "stdout",
          "text": [
            "Failed to process image at https://api.cq6bn590y3-fabindiao1-p1-public.model-t.cc.commerce.ondemand.com/medias/20188372-01.jpg?context=bWFzdGVyfGltYWdlc3wxODI0MjR8aW1hZ2UvanBlZ3xhR1UzTDJoa1lpODJOelF4T0RrMU5qVTVOVEl6TUM4eU1ERTRPRE0zTWw4d01TNXFjR2N8YjhkMTBiYjIwNzM1MGE5ZTk2MTM4NmY2Yjk0Zjc0NGExODYzYzE0ZjI3YjlhZWI2N2M1MzNjYjZmMGUyZTU5OQ: 404 Client Error:  for url: https://api.cq6bn590y3-fabindiao1-p1-public.model-t.cc.commerce.ondemand.com/medias/20188372-01.jpg?context=bWFzdGVyfGltYWdlc3wxODI0MjR8aW1hZ2UvanBlZ3xhR1UzTDJoa1lpODJOelF4T0RrMU5qVTVOVEl6TUM4eU1ERTRPRE0zTWw4d01TNXFjR2N8YjhkMTBiYjIwNzM1MGE5ZTk2MTM4NmY2Yjk0Zjc0NGExODYzYzE0ZjI3YjlhZWI2N2M1MzNjYjZmMGUyZTU5OQ\n",
            "Processed and saved batch 374/664\n"
          ]
        },
        {
          "output_type": "stream",
          "name": "stderr",
          "text": [
            "\rProcessing batches:  56%|█████▋    | 374/664 [1:05:17<1:16:45, 15.88s/it]"
          ]
        },
        {
          "output_type": "stream",
          "name": "stdout",
          "text": [
            "Processed and saved batch 375/664\n"
          ]
        },
        {
          "output_type": "stream",
          "name": "stderr",
          "text": [
            "\rProcessing batches:  56%|█████▋    | 375/664 [1:05:37<1:22:09, 17.06s/it]"
          ]
        },
        {
          "output_type": "stream",
          "name": "stdout",
          "text": [
            "Processed and saved batch 376/664\n"
          ]
        },
        {
          "output_type": "stream",
          "name": "stderr",
          "text": [
            "\rProcessing batches:  57%|█████▋    | 376/664 [1:05:40<1:02:28, 13.02s/it]"
          ]
        },
        {
          "output_type": "stream",
          "name": "stdout",
          "text": [
            "Processed and saved batch 377/664\n"
          ]
        },
        {
          "output_type": "stream",
          "name": "stderr",
          "text": [
            "\rProcessing batches:  57%|█████▋    | 377/664 [1:05:46<52:23, 10.95s/it]  "
          ]
        },
        {
          "output_type": "stream",
          "name": "stdout",
          "text": [
            "Processed and saved batch 378/664\n"
          ]
        },
        {
          "output_type": "stream",
          "name": "stderr",
          "text": [
            "\rProcessing batches:  57%|█████▋    | 378/664 [1:06:31<1:40:12, 21.02s/it]"
          ]
        },
        {
          "output_type": "stream",
          "name": "stdout",
          "text": [
            "Processed and saved batch 379/664\n"
          ]
        },
        {
          "output_type": "stream",
          "name": "stderr",
          "text": [
            "\rProcessing batches:  57%|█████▋    | 379/664 [1:08:22<3:47:37, 47.92s/it]"
          ]
        },
        {
          "output_type": "stream",
          "name": "stdout",
          "text": [
            "Processed and saved batch 380/664\n"
          ]
        },
        {
          "output_type": "stream",
          "name": "stderr",
          "text": [
            "\rProcessing batches:  57%|█████▋    | 380/664 [1:08:25<2:43:03, 34.45s/it]"
          ]
        },
        {
          "output_type": "stream",
          "name": "stdout",
          "text": [
            "Processed and saved batch 381/664\n"
          ]
        },
        {
          "output_type": "stream",
          "name": "stderr",
          "text": [
            "\rProcessing batches:  57%|█████▋    | 381/664 [1:08:28<1:58:00, 25.02s/it]"
          ]
        },
        {
          "output_type": "stream",
          "name": "stdout",
          "text": [
            "Processed and saved batch 382/664\n"
          ]
        },
        {
          "output_type": "stream",
          "name": "stderr",
          "text": [
            "\rProcessing batches:  58%|█████▊    | 382/664 [1:08:31<1:26:33, 18.42s/it]"
          ]
        },
        {
          "output_type": "stream",
          "name": "stdout",
          "text": [
            "Processed and saved batch 383/664\n"
          ]
        },
        {
          "output_type": "stream",
          "name": "stderr",
          "text": [
            "\rProcessing batches:  58%|█████▊    | 383/664 [1:08:34<1:04:36, 13.79s/it]"
          ]
        },
        {
          "output_type": "stream",
          "name": "stdout",
          "text": [
            "Processed and saved batch 384/664\n"
          ]
        },
        {
          "output_type": "stream",
          "name": "stderr",
          "text": [
            "\rProcessing batches:  58%|█████▊    | 384/664 [1:08:37<49:16, 10.56s/it]  "
          ]
        },
        {
          "output_type": "stream",
          "name": "stdout",
          "text": [
            "Processed and saved batch 385/664\n"
          ]
        },
        {
          "output_type": "stream",
          "name": "stderr",
          "text": [
            "\rProcessing batches:  58%|█████▊    | 385/664 [1:08:40<38:34,  8.30s/it]"
          ]
        },
        {
          "output_type": "stream",
          "name": "stdout",
          "text": [
            "Processed and saved batch 386/664\n"
          ]
        },
        {
          "output_type": "stream",
          "name": "stderr",
          "text": [
            "\rProcessing batches:  58%|█████▊    | 386/664 [1:08:43<31:05,  6.71s/it]"
          ]
        },
        {
          "output_type": "stream",
          "name": "stdout",
          "text": [
            "Processed and saved batch 387/664\n"
          ]
        },
        {
          "output_type": "stream",
          "name": "stderr",
          "text": [
            "\rProcessing batches:  58%|█████▊    | 387/664 [1:08:46<25:51,  5.60s/it]"
          ]
        },
        {
          "output_type": "stream",
          "name": "stdout",
          "text": [
            "Processed and saved batch 388/664\n"
          ]
        },
        {
          "output_type": "stream",
          "name": "stderr",
          "text": [
            "\rProcessing batches:  58%|█████▊    | 388/664 [1:08:49<22:11,  4.82s/it]"
          ]
        },
        {
          "output_type": "stream",
          "name": "stdout",
          "text": [
            "Processed and saved batch 389/664\n"
          ]
        },
        {
          "output_type": "stream",
          "name": "stderr",
          "text": [
            "\rProcessing batches:  59%|█████▊    | 389/664 [1:08:52<19:36,  4.28s/it]"
          ]
        },
        {
          "output_type": "stream",
          "name": "stdout",
          "text": [
            "Processed and saved batch 390/664\n"
          ]
        },
        {
          "output_type": "stream",
          "name": "stderr",
          "text": [
            "\rProcessing batches:  59%|█████▊    | 390/664 [1:09:04<30:48,  6.75s/it]"
          ]
        },
        {
          "output_type": "stream",
          "name": "stdout",
          "text": [
            "Processed and saved batch 391/664\n"
          ]
        },
        {
          "output_type": "stream",
          "name": "stderr",
          "text": [
            "\rProcessing batches:  59%|█████▉    | 391/664 [1:09:26<51:37, 11.35s/it]"
          ]
        },
        {
          "output_type": "stream",
          "name": "stdout",
          "text": [
            "Processed and saved batch 392/664\n"
          ]
        },
        {
          "output_type": "stream",
          "name": "stderr",
          "text": [
            "\rProcessing batches:  59%|█████▉    | 392/664 [1:09:35<47:14, 10.42s/it]"
          ]
        },
        {
          "output_type": "stream",
          "name": "stdout",
          "text": [
            "Processed and saved batch 393/664\n"
          ]
        },
        {
          "output_type": "stream",
          "name": "stderr",
          "text": [
            "\rProcessing batches:  59%|█████▉    | 393/664 [1:09:46<49:02, 10.86s/it]"
          ]
        },
        {
          "output_type": "stream",
          "name": "stdout",
          "text": [
            "Processed and saved batch 394/664\n"
          ]
        },
        {
          "output_type": "stream",
          "name": "stderr",
          "text": [
            "\rProcessing batches:  59%|█████▉    | 394/664 [1:10:46<1:55:05, 25.58s/it]"
          ]
        },
        {
          "output_type": "stream",
          "name": "stdout",
          "text": [
            "Processed and saved batch 395/664\n"
          ]
        },
        {
          "output_type": "stream",
          "name": "stderr",
          "text": [
            "\rProcessing batches:  59%|█████▉    | 395/664 [1:11:43<2:36:24, 34.89s/it]"
          ]
        },
        {
          "output_type": "stream",
          "name": "stdout",
          "text": [
            "Processed and saved batch 396/664\n"
          ]
        },
        {
          "output_type": "stream",
          "name": "stderr",
          "text": [
            "\rProcessing batches:  60%|█████▉    | 396/664 [1:11:46<1:53:06, 25.32s/it]"
          ]
        },
        {
          "output_type": "stream",
          "name": "stdout",
          "text": [
            "Processed and saved batch 397/664\n"
          ]
        },
        {
          "output_type": "stream",
          "name": "stderr",
          "text": [
            "\rProcessing batches:  60%|█████▉    | 397/664 [1:12:06<1:45:50, 23.78s/it]"
          ]
        },
        {
          "output_type": "stream",
          "name": "stdout",
          "text": [
            "Processed and saved batch 398/664\n"
          ]
        },
        {
          "output_type": "stream",
          "name": "stderr",
          "text": [
            "\rProcessing batches:  60%|█████▉    | 398/664 [1:12:09<1:17:48, 17.55s/it]"
          ]
        },
        {
          "output_type": "stream",
          "name": "stdout",
          "text": [
            "Processed and saved batch 399/664\n"
          ]
        },
        {
          "output_type": "stream",
          "name": "stderr",
          "text": [
            "\rProcessing batches:  60%|██████    | 399/664 [1:12:12<58:15, 13.19s/it]  "
          ]
        },
        {
          "output_type": "stream",
          "name": "stdout",
          "text": [
            "Processed and saved batch 400/664\n"
          ]
        },
        {
          "output_type": "stream",
          "name": "stderr",
          "text": [
            "\rProcessing batches:  60%|██████    | 400/664 [1:12:18<48:21, 10.99s/it]"
          ]
        },
        {
          "output_type": "stream",
          "name": "stdout",
          "text": [
            "Processed and saved batch 401/664\n"
          ]
        },
        {
          "output_type": "stream",
          "name": "stderr",
          "text": [
            "\rProcessing batches:  60%|██████    | 401/664 [1:12:21<37:40,  8.60s/it]"
          ]
        },
        {
          "output_type": "stream",
          "name": "stdout",
          "text": [
            "Processed and saved batch 402/664\n"
          ]
        },
        {
          "output_type": "stream",
          "name": "stderr",
          "text": [
            "\rProcessing batches:  61%|██████    | 402/664 [1:12:24<30:13,  6.92s/it]"
          ]
        },
        {
          "output_type": "stream",
          "name": "stdout",
          "text": [
            "Processed and saved batch 403/664\n"
          ]
        },
        {
          "output_type": "stream",
          "name": "stderr",
          "text": [
            "\rProcessing batches:  61%|██████    | 403/664 [1:12:27<25:00,  5.75s/it]"
          ]
        },
        {
          "output_type": "stream",
          "name": "stdout",
          "text": [
            "Processed and saved batch 404/664\n"
          ]
        },
        {
          "output_type": "stream",
          "name": "stderr",
          "text": [
            "\rProcessing batches:  61%|██████    | 404/664 [1:12:30<21:20,  4.93s/it]"
          ]
        },
        {
          "output_type": "stream",
          "name": "stdout",
          "text": [
            "Processed and saved batch 405/664\n"
          ]
        },
        {
          "output_type": "stream",
          "name": "stderr",
          "text": [
            "\rProcessing batches:  61%|██████    | 405/664 [1:12:33<18:47,  4.35s/it]"
          ]
        },
        {
          "output_type": "stream",
          "name": "stdout",
          "text": [
            "Processed and saved batch 406/664\n"
          ]
        },
        {
          "output_type": "stream",
          "name": "stderr",
          "text": [
            "\rProcessing batches:  61%|██████    | 406/664 [1:13:03<51:12, 11.91s/it]"
          ]
        },
        {
          "output_type": "stream",
          "name": "stdout",
          "text": [
            "Processed and saved batch 407/664\n"
          ]
        },
        {
          "output_type": "stream",
          "name": "stderr",
          "text": [
            "\rProcessing batches:  61%|██████▏   | 407/664 [1:13:09<44:19, 10.35s/it]"
          ]
        },
        {
          "output_type": "stream",
          "name": "stdout",
          "text": [
            "Processed and saved batch 408/664\n"
          ]
        },
        {
          "output_type": "stream",
          "name": "stderr",
          "text": [
            "\rProcessing batches:  61%|██████▏   | 408/664 [1:13:36<1:04:54, 15.21s/it]"
          ]
        },
        {
          "output_type": "stream",
          "name": "stdout",
          "text": [
            "Processed and saved batch 409/664\n"
          ]
        },
        {
          "output_type": "stream",
          "name": "stderr",
          "text": [
            "\rProcessing batches:  62%|██████▏   | 409/664 [1:13:39<49:06, 11.55s/it]  "
          ]
        },
        {
          "output_type": "stream",
          "name": "stdout",
          "text": [
            "Processed and saved batch 410/664\n"
          ]
        },
        {
          "output_type": "stream",
          "name": "stderr",
          "text": [
            "\rProcessing batches:  62%|██████▏   | 410/664 [1:14:48<2:01:53, 28.80s/it]"
          ]
        },
        {
          "output_type": "stream",
          "name": "stdout",
          "text": [
            "Failed to process image at https://adn-static1.nykaa.com/nykdesignstudio-images/pub/media/catalog/product/7/9/7927ecfSILVER902I_TFH_1.jpg?rnd=20200526195200: image file is truncated (27 bytes not processed)\n",
            "Processed and saved batch 411/664\n"
          ]
        },
        {
          "output_type": "stream",
          "name": "stderr",
          "text": [
            "\rProcessing batches:  62%|██████▏   | 411/664 [1:15:30<2:18:25, 32.83s/it]"
          ]
        },
        {
          "output_type": "stream",
          "name": "stdout",
          "text": [
            "Processed and saved batch 412/664\n"
          ]
        },
        {
          "output_type": "stream",
          "name": "stderr",
          "text": [
            "\rProcessing batches:  62%|██████▏   | 412/664 [1:15:42<1:51:19, 26.51s/it]"
          ]
        },
        {
          "output_type": "stream",
          "name": "stdout",
          "text": [
            "Processed and saved batch 413/664\n"
          ]
        },
        {
          "output_type": "stream",
          "name": "stderr",
          "text": [
            "\rProcessing batches:  62%|██████▏   | 413/664 [1:15:45<1:21:23, 19.46s/it]"
          ]
        },
        {
          "output_type": "stream",
          "name": "stdout",
          "text": [
            "Processed and saved batch 414/664\n"
          ]
        },
        {
          "output_type": "stream",
          "name": "stderr",
          "text": [
            "\rProcessing batches:  62%|██████▏   | 414/664 [1:15:53<1:07:18, 16.15s/it]"
          ]
        },
        {
          "output_type": "stream",
          "name": "stdout",
          "text": [
            "Processed and saved batch 415/664\n"
          ]
        },
        {
          "output_type": "stream",
          "name": "stderr",
          "text": [
            "\rProcessing batches:  62%|██████▎   | 415/664 [1:15:56<50:40, 12.21s/it]  "
          ]
        },
        {
          "output_type": "stream",
          "name": "stdout",
          "text": [
            "Processed and saved batch 416/664\n"
          ]
        },
        {
          "output_type": "stream",
          "name": "stderr",
          "text": [
            "\rProcessing batches:  63%|██████▎   | 416/664 [1:16:06<47:45, 11.56s/it]"
          ]
        },
        {
          "output_type": "stream",
          "name": "stdout",
          "text": [
            "Processed and saved batch 417/664\n"
          ]
        },
        {
          "output_type": "stream",
          "name": "stderr",
          "text": [
            "\rProcessing batches:  63%|██████▎   | 417/664 [1:16:10<38:14,  9.29s/it]"
          ]
        },
        {
          "output_type": "stream",
          "name": "stdout",
          "text": [
            "Processed and saved batch 418/664\n"
          ]
        },
        {
          "output_type": "stream",
          "name": "stderr",
          "text": [
            "\rProcessing batches:  63%|██████▎   | 418/664 [1:16:13<30:21,  7.41s/it]"
          ]
        },
        {
          "output_type": "stream",
          "name": "stdout",
          "text": [
            "Processed and saved batch 419/664\n"
          ]
        },
        {
          "output_type": "stream",
          "name": "stderr",
          "text": [
            "\rProcessing batches:  63%|██████▎   | 419/664 [1:16:16<24:51,  6.09s/it]"
          ]
        },
        {
          "output_type": "stream",
          "name": "stdout",
          "text": [
            "Processed and saved batch 420/664\n"
          ]
        },
        {
          "output_type": "stream",
          "name": "stderr",
          "text": [
            "\rProcessing batches:  63%|██████▎   | 420/664 [1:16:19<21:00,  5.16s/it]"
          ]
        },
        {
          "output_type": "stream",
          "name": "stdout",
          "text": [
            "Processed and saved batch 421/664\n"
          ]
        },
        {
          "output_type": "stream",
          "name": "stderr",
          "text": [
            "\rProcessing batches:  63%|██████▎   | 421/664 [1:16:23<18:17,  4.52s/it]"
          ]
        },
        {
          "output_type": "stream",
          "name": "stdout",
          "text": [
            "Failed to process image at http://assets.myntassets.com/assets/images/2024/NOVEMBER/8/K8LsGuz6_15b42ac0344a4a348d67ff96479d64ff.jpg: 503 Server Error: Service Unavailable for url: http://assets.myntassets.com/assets/images/2024/NOVEMBER/8/K8LsGuz6_15b42ac0344a4a348d67ff96479d64ff.jpg\n",
            "Processed and saved batch 422/664\n"
          ]
        },
        {
          "output_type": "stream",
          "name": "stderr",
          "text": [
            "\rProcessing batches:  64%|██████▎   | 422/664 [1:16:30<22:08,  5.49s/it]"
          ]
        },
        {
          "output_type": "stream",
          "name": "stdout",
          "text": [
            "Processed and saved batch 423/664\n"
          ]
        },
        {
          "output_type": "stream",
          "name": "stderr",
          "text": [
            "\rProcessing batches:  64%|██████▎   | 423/664 [1:16:34<20:04,  5.00s/it]"
          ]
        },
        {
          "output_type": "stream",
          "name": "stdout",
          "text": [
            "Processed and saved batch 424/664\n"
          ]
        },
        {
          "output_type": "stream",
          "name": "stderr",
          "text": [
            "\rProcessing batches:  64%|██████▍   | 424/664 [1:16:37<17:54,  4.48s/it]"
          ]
        },
        {
          "output_type": "stream",
          "name": "stdout",
          "text": [
            "Processed and saved batch 425/664\n"
          ]
        },
        {
          "output_type": "stream",
          "name": "stderr",
          "text": [
            "\rProcessing batches:  64%|██████▍   | 425/664 [1:16:41<16:25,  4.12s/it]"
          ]
        },
        {
          "output_type": "stream",
          "name": "stdout",
          "text": [
            "Failed to process image at http://assets.myntassets.com/assets/images/2024/AUGUST/14/7N0qwIHv_1d1e0e66ce3342c5a8be7919ffad0efe.jpg: 503 Server Error: Service Unavailable for url: http://assets.myntassets.com/assets/images/2024/AUGUST/14/7N0qwIHv_1d1e0e66ce3342c5a8be7919ffad0efe.jpg\n",
            "Failed to process image at http://assets.myntassets.com/assets/images/2024/NOVEMBER/4/4cVzjjFs_9b6d3eb25033494b88532e80cbf3c7f1.jpg: 503 Server Error: Service Unavailable for url: http://assets.myntassets.com/assets/images/2024/NOVEMBER/4/4cVzjjFs_9b6d3eb25033494b88532e80cbf3c7f1.jpg\n",
            "Failed to process image at http://assets.myntassets.com/assets/images/2024/SEPTEMBER/5/vcNQHU80_14fc5e26596146b4b99d604c9afdbcaf.jpg: 503 Server Error: Service Unavailable for url: http://assets.myntassets.com/assets/images/2024/SEPTEMBER/5/vcNQHU80_14fc5e26596146b4b99d604c9afdbcaf.jpg\n",
            "Failed to process image at http://assets.myntassets.com/assets/images/2024/NOVEMBER/5/2hwahEZr_8b714157b2a74f4c93854142c492e843.jpg: 503 Server Error: Service Unavailable for url: http://assets.myntassets.com/assets/images/2024/NOVEMBER/5/2hwahEZr_8b714157b2a74f4c93854142c492e843.jpg\n",
            "Failed to process image at http://assets.myntassets.com/assets/images/21869290/2023/2/6/3e95a048-c8d3-4baf-8072-c5f434dd26b61675696085148SanFrisscoMensTANGENUINELEATHERCASUALSNEAKER1.jpg: 503 Server Error: Service Unavailable for url: http://assets.myntassets.com/assets/images/21869290/2023/2/6/3e95a048-c8d3-4baf-8072-c5f434dd26b61675696085148SanFrisscoMensTANGENUINELEATHERCASUALSNEAKER1.jpg\n",
            "Failed to process image at http://assets.myntassets.com/assets/images/2024/AUGUST/16/q2bBknlw_134fca498b544a9a928d6516b3b86ab9.jpg: 503 Server Error: Service Unavailable for url: http://assets.myntassets.com/assets/images/2024/AUGUST/16/q2bBknlw_134fca498b544a9a928d6516b3b86ab9.jpg\n",
            "Failed to process image at http://assets.myntassets.com/assets/images/2024/AUGUST/14/xWPsj9gZ_0a32484f4b6c4d63a43bc4ddc64e8766.jpg: 503 Server Error: Service Unavailable for url: http://assets.myntassets.com/assets/images/2024/AUGUST/14/xWPsj9gZ_0a32484f4b6c4d63a43bc4ddc64e8766.jpg\n",
            "Failed to process image at http://assets.myntassets.com/assets/images/2024/SEPTEMBER/11/7oRRGKg3_57dce8587a6c46808d4d9bd221ada42d.jpg: 503 Server Error: Service Unavailable for url: http://assets.myntassets.com/assets/images/2024/SEPTEMBER/11/7oRRGKg3_57dce8587a6c46808d4d9bd221ada42d.jpg\n",
            "Failed to process image at http://assets.myntassets.com/assets/images/22805298/2023/4/18/73ac7ab4-ae63-4035-b1d4-0340bf93c7271681791397049PumaShuffleRESUnisexSlip-OnShoes1.jpg: 503 Server Error: Service Unavailable for url: http://assets.myntassets.com/assets/images/22805298/2023/4/18/73ac7ab4-ae63-4035-b1d4-0340bf93c7271681791397049PumaShuffleRESUnisexSlip-OnShoes1.jpg\n",
            "Failed to process image at http://assets.myntassets.com/assets/images/2024/SEPTEMBER/10/yRa87g4c_9ebe96fd20b3432b9433d1cf2b441258.jpg: 503 Server Error: Service Unavailable for url: http://assets.myntassets.com/assets/images/2024/SEPTEMBER/10/yRa87g4c_9ebe96fd20b3432b9433d1cf2b441258.jpg\n",
            "Failed to process image at http://assets.myntassets.com/assets/images/2024/OCTOBER/28/r5ws9BML_d5c0020945d34d2697dc941879a09686.jpg: 503 Server Error: Service Unavailable for url: http://assets.myntassets.com/assets/images/2024/OCTOBER/28/r5ws9BML_d5c0020945d34d2697dc941879a09686.jpg\n",
            "Failed to process image at http://assets.myntassets.com/assets/images/30034520/2024/7/22/f9478959-1b7f-45b8-a6af-157e9a3815e41721638587166-Puma-Unisex-Perforations-Leather-Sneakers-4471721638586825-1.jpg: 503 Server Error: Service Unavailable for url: http://assets.myntassets.com/assets/images/30034520/2024/7/22/f9478959-1b7f-45b8-a6af-157e9a3815e41721638587166-Puma-Unisex-Perforations-Leather-Sneakers-4471721638586825-1.jpg\n",
            "Failed to process image at http://assets.myntassets.com/assets/images/2024/OCTOBER/3/SAgQ3ZSo_da7825ead36f4480b45c6cbc864f14b8.jpg: 503 Server Error: Service Unavailable for url: http://assets.myntassets.com/assets/images/2024/OCTOBER/3/SAgQ3ZSo_da7825ead36f4480b45c6cbc864f14b8.jpg\n",
            "Failed to process image at http://assets.myntassets.com/assets/images/2024/NOVEMBER/13/JspVqgsj_be5b19e61dbd4d7fbacad8893f8ddb81.jpg: 503 Server Error: Service Unavailable for url: http://assets.myntassets.com/assets/images/2024/NOVEMBER/13/JspVqgsj_be5b19e61dbd4d7fbacad8893f8ddb81.jpg\n",
            "Failed to process image at http://assets.myntassets.com/assets/images/2024/SEPTEMBER/27/OQrB5XJQ_5832e5cb8c774b4db32dfccbef216932.jpg: 503 Server Error: Service Unavailable for url: http://assets.myntassets.com/assets/images/2024/SEPTEMBER/27/OQrB5XJQ_5832e5cb8c774b4db32dfccbef216932.jpg\n",
            "Failed to process image at http://assets.myntassets.com/assets/images/30233710/2024/7/18/e3bc8242-63fe-4c0c-9bf0-397e08242d921721293519252SkechersMenKoopaCasualShoes1.jpg: 503 Server Error: Service Unavailable for url: http://assets.myntassets.com/assets/images/30233710/2024/7/18/e3bc8242-63fe-4c0c-9bf0-397e08242d921721293519252SkechersMenKoopaCasualShoes1.jpg\n",
            "Failed to process image at http://assets.myntassets.com/assets/images/30170708/2024/7/11/08d17d25-47e0-4088-8fa7-bfe6763fbd961720683350352MastHarbourMenColourblockedSneakers1.jpg: 503 Server Error: Service Unavailable for url: http://assets.myntassets.com/assets/images/30170708/2024/7/11/08d17d25-47e0-4088-8fa7-bfe6763fbd961720683350352MastHarbourMenColourblockedSneakers1.jpg\n",
            "Failed to process image at http://assets.myntassets.com/assets/images/2024/AUGUST/2/4qgiVxp9_4abc7af19737488bb8b2038d7c6027f9.jpg: 503 Server Error: Service Unavailable for url: http://assets.myntassets.com/assets/images/2024/AUGUST/2/4qgiVxp9_4abc7af19737488bb8b2038d7c6027f9.jpg\n",
            "Processed and saved batch 426/664\n"
          ]
        },
        {
          "output_type": "stream",
          "name": "stderr",
          "text": [
            "\rProcessing batches:  64%|██████▍   | 426/664 [1:19:03<3:01:07, 45.66s/it]"
          ]
        },
        {
          "output_type": "stream",
          "name": "stdout",
          "text": [
            "Processed and saved batch 427/664\n"
          ]
        },
        {
          "output_type": "stream",
          "name": "stderr",
          "text": [
            "\rProcessing batches:  64%|██████▍   | 427/664 [1:19:12<2:17:10, 34.73s/it]"
          ]
        },
        {
          "output_type": "stream",
          "name": "stdout",
          "text": [
            "Processed and saved batch 428/664\n"
          ]
        },
        {
          "output_type": "stream",
          "name": "stderr",
          "text": [
            "\rProcessing batches:  64%|██████▍   | 428/664 [1:19:15<1:39:09, 25.21s/it]"
          ]
        },
        {
          "output_type": "stream",
          "name": "stdout",
          "text": [
            "Processed and saved batch 429/664\n"
          ]
        },
        {
          "output_type": "stream",
          "name": "stderr",
          "text": [
            "\rProcessing batches:  65%|██████▍   | 429/664 [1:19:23<1:18:08, 19.95s/it]"
          ]
        },
        {
          "output_type": "stream",
          "name": "stdout",
          "text": [
            "Processed and saved batch 430/664\n"
          ]
        },
        {
          "output_type": "stream",
          "name": "stderr",
          "text": [
            "\rProcessing batches:  65%|██████▍   | 430/664 [1:19:27<59:25, 15.24s/it]  "
          ]
        },
        {
          "output_type": "stream",
          "name": "stdout",
          "text": [
            "Processed and saved batch 431/664\n"
          ]
        },
        {
          "output_type": "stream",
          "name": "stderr",
          "text": [
            "\rProcessing batches:  65%|██████▍   | 431/664 [1:19:32<46:49, 12.06s/it]"
          ]
        },
        {
          "output_type": "stream",
          "name": "stdout",
          "text": [
            "Processed and saved batch 432/664\n"
          ]
        },
        {
          "output_type": "stream",
          "name": "stderr",
          "text": [
            "\rProcessing batches:  65%|██████▌   | 432/664 [1:19:51<54:52, 14.19s/it]"
          ]
        },
        {
          "output_type": "stream",
          "name": "stdout",
          "text": [
            "Processed and saved batch 433/664\n"
          ]
        },
        {
          "output_type": "stream",
          "name": "stderr",
          "text": [
            "\rProcessing batches:  65%|██████▌   | 433/664 [1:19:59<47:15, 12.27s/it]"
          ]
        },
        {
          "output_type": "stream",
          "name": "stdout",
          "text": [
            "Processed and saved batch 434/664\n"
          ]
        },
        {
          "output_type": "stream",
          "name": "stderr",
          "text": [
            "\rProcessing batches:  65%|██████▌   | 434/664 [1:20:12<47:23, 12.36s/it]"
          ]
        },
        {
          "output_type": "stream",
          "name": "stdout",
          "text": [
            "Processed and saved batch 435/664\n"
          ]
        },
        {
          "output_type": "stream",
          "name": "stderr",
          "text": [
            "\rProcessing batches:  66%|██████▌   | 435/664 [1:20:15<36:28,  9.56s/it]"
          ]
        },
        {
          "output_type": "stream",
          "name": "stdout",
          "text": [
            "Processed and saved batch 436/664\n"
          ]
        },
        {
          "output_type": "stream",
          "name": "stderr",
          "text": [
            "\rProcessing batches:  66%|██████▌   | 436/664 [1:20:18<28:51,  7.59s/it]"
          ]
        },
        {
          "output_type": "stream",
          "name": "stdout",
          "text": [
            "Processed and saved batch 437/664\n"
          ]
        },
        {
          "output_type": "stream",
          "name": "stderr",
          "text": [
            "\rProcessing batches:  66%|██████▌   | 437/664 [1:20:21<23:31,  6.22s/it]"
          ]
        },
        {
          "output_type": "stream",
          "name": "stdout",
          "text": [
            "Processed and saved batch 438/664\n"
          ]
        },
        {
          "output_type": "stream",
          "name": "stderr",
          "text": [
            "\rProcessing batches:  66%|██████▌   | 438/664 [1:20:24<19:47,  5.26s/it]"
          ]
        },
        {
          "output_type": "stream",
          "name": "stdout",
          "text": [
            "Processed and saved batch 439/664\n"
          ]
        },
        {
          "output_type": "stream",
          "name": "stderr",
          "text": [
            "\rProcessing batches:  66%|██████▌   | 439/664 [1:20:27<17:11,  4.58s/it]"
          ]
        },
        {
          "output_type": "stream",
          "name": "stdout",
          "text": [
            "Processed and saved batch 440/664\n"
          ]
        },
        {
          "output_type": "stream",
          "name": "stderr",
          "text": [
            "\rProcessing batches:  66%|██████▋   | 440/664 [1:20:30<15:20,  4.11s/it]"
          ]
        },
        {
          "output_type": "stream",
          "name": "stdout",
          "text": [
            "Processed and saved batch 441/664\n"
          ]
        },
        {
          "output_type": "stream",
          "name": "stderr",
          "text": [
            "\rProcessing batches:  66%|██████▋   | 441/664 [1:20:33<14:03,  3.78s/it]"
          ]
        },
        {
          "output_type": "stream",
          "name": "stdout",
          "text": [
            "Failed to process image at http://assets.myntassets.com/assets/images/2024/SEPTEMBER/24/04QZVl8K_f0563045efaf4b2c8abc612d54974ed6.jpg: 503 Server Error: Service Unavailable for url: http://assets.myntassets.com/assets/images/2024/SEPTEMBER/24/04QZVl8K_f0563045efaf4b2c8abc612d54974ed6.jpg\n",
            "Failed to process image at http://assets.myntassets.com/assets/images/2024/JULY/26/oL12yMUn_e1afaf93429a45df80cc7c21271d9b1c.jpg: 503 Server Error: Service Unavailable for url: http://assets.myntassets.com/assets/images/2024/JULY/26/oL12yMUn_e1afaf93429a45df80cc7c21271d9b1c.jpg\n",
            "Failed to process image at http://assets.myntassets.com/assets/images/23741002/2023/6/23/cc40f06a-e0a5-48ce-bf46-e352b1e59ac01687520489501NEEMANSUnisexBlackWovenDesignSneakers1.jpg: 503 Server Error: Service Unavailable for url: http://assets.myntassets.com/assets/images/23741002/2023/6/23/cc40f06a-e0a5-48ce-bf46-e352b1e59ac01687520489501NEEMANSUnisexBlackWovenDesignSneakers1.jpg\n",
            "Failed to process image at http://assets.myntassets.com/assets/images/2024/OCTOBER/4/OpUM3ZGF_a9fd4cf6287d4cb28a9e861e34927a27.jpg: 503 Server Error: Service Unavailable for url: http://assets.myntassets.com/assets/images/2024/OCTOBER/4/OpUM3ZGF_a9fd4cf6287d4cb28a9e861e34927a27.jpg\n",
            "Failed to process image at http://assets.myntassets.com/assets/images/2024/NOVEMBER/12/tecqxX9z_88040d1631cc4824a58fa6e6934f7c5c.jpg: 503 Server Error: Service Unavailable for url: http://assets.myntassets.com/assets/images/2024/NOVEMBER/12/tecqxX9z_88040d1631cc4824a58fa6e6934f7c5c.jpg\n",
            "Failed to process image at http://assets.myntassets.com/assets/images/2024/AUGUST/17/cNd7pDr8_46ae0384ae4446f39a91b5a0c5cdda7f.jpg: 503 Server Error: Service Unavailable for url: http://assets.myntassets.com/assets/images/2024/AUGUST/17/cNd7pDr8_46ae0384ae4446f39a91b5a0c5cdda7f.jpg\n",
            "Failed to process image at http://assets.myntassets.com/assets/images/2024/SEPTEMBER/18/0clxwDfH_e861cfb084654ec3ab8fce2e29849cfc.jpg: 503 Server Error: Service Unavailable for url: http://assets.myntassets.com/assets/images/2024/SEPTEMBER/18/0clxwDfH_e861cfb084654ec3ab8fce2e29849cfc.jpg\n",
            "Failed to process image at http://assets.myntassets.com/assets/images/2024/JULY/26/jedLQjAh_534ddc0085a14b119ba35bc981d23c05.jpg: 503 Server Error: Service Unavailable for url: http://assets.myntassets.com/assets/images/2024/JULY/26/jedLQjAh_534ddc0085a14b119ba35bc981d23c05.jpg\n",
            "Failed to process image at http://assets.myntassets.com/assets/images/2024/SEPTEMBER/18/gbJ3JAFk_66b3f7935e9a49808743acd54f41dfe4.jpg: 503 Server Error: Service Unavailable for url: http://assets.myntassets.com/assets/images/2024/SEPTEMBER/18/gbJ3JAFk_66b3f7935e9a49808743acd54f41dfe4.jpg\n",
            "Failed to process image at http://assets.myntassets.com/assets/images/30449832/2024/10/16/39286c94-66f8-4c06-bfaf-f67babb81d4c1729057404353-HRX-by-Hrithik-Roshan-Men-Casual-Shoes-2331729057404048-1.jpg: 503 Server Error: Service Unavailable for url: http://assets.myntassets.com/assets/images/30449832/2024/10/16/39286c94-66f8-4c06-bfaf-f67babb81d4c1729057404353-HRX-by-Hrithik-Roshan-Men-Casual-Shoes-2331729057404048-1.jpg\n",
            "Failed to process image at http://assets.myntassets.com/assets/images/30018949/2024/9/26/f5f5b55a-ff50-4b7d-b30f-3ff3e2061ec21727355297184-Red-Tape-Men-Colourblocked-Round-Toe-Sneakers-92917273552967-1.jpg: 503 Server Error: Service Unavailable for url: http://assets.myntassets.com/assets/images/30018949/2024/9/26/f5f5b55a-ff50-4b7d-b30f-3ff3e2061ec21727355297184-Red-Tape-Men-Colourblocked-Round-Toe-Sneakers-92917273552967-1.jpg\n",
            "Failed to process image at http://assets.myntassets.com/assets/images/2024/OCTOBER/14/yFYg5ilM_a52f893af5e34b15943076bfd237900d.jpg: 503 Server Error: Service Unavailable for url: http://assets.myntassets.com/assets/images/2024/OCTOBER/14/yFYg5ilM_a52f893af5e34b15943076bfd237900d.jpg\n",
            "Failed to process image at http://assets.myntassets.com/assets/images/2024/AUGUST/28/Znx6pAqE_63725754188b4497ab1e5308f37d3e44.jpg: 503 Server Error: Service Unavailable for url: http://assets.myntassets.com/assets/images/2024/AUGUST/28/Znx6pAqE_63725754188b4497ab1e5308f37d3e44.jpg\n",
            "Failed to process image at http://assets.myntassets.com/assets/images/30126221/2024/7/9/24bceff7-4e9f-4915-b159-55d60a09017a1720512419812ConverseUnisexHigh-TopSneakers1.jpg: 503 Server Error: Service Unavailable for url: http://assets.myntassets.com/assets/images/30126221/2024/7/9/24bceff7-4e9f-4915-b159-55d60a09017a1720512419812ConverseUnisexHigh-TopSneakers1.jpg\n",
            "Failed to process image at http://assets.myntassets.com/assets/images/30110609/2024/7/4/cdeca5b1-b434-45ef-a284-ef649d3e909f1720097350563AfroJackMenColourblockedSneakers1.jpg: 503 Server Error: Service Unavailable for url: http://assets.myntassets.com/assets/images/30110609/2024/7/4/cdeca5b1-b434-45ef-a284-ef649d3e909f1720097350563AfroJackMenColourblockedSneakers1.jpg\n",
            "Failed to process image at http://assets.myntassets.com/assets/images/2024/AUGUST/22/nRhPARPA_4d0c4bc1401044179f8f04f3966abe68.jpg: 503 Server Error: Service Unavailable for url: http://assets.myntassets.com/assets/images/2024/AUGUST/22/nRhPARPA_4d0c4bc1401044179f8f04f3966abe68.jpg\n",
            "Failed to process image at http://assets.myntassets.com/assets/images/30861457/2024/9/25/d44ce419-db7c-4394-adb2-fff43055fb421727262233252-ECCO-Men-Leather-Casual-Sneakers-7781727262233171-7.jpg: 503 Server Error: Service Unavailable for url: http://assets.myntassets.com/assets/images/30861457/2024/9/25/d44ce419-db7c-4394-adb2-fff43055fb421727262233252-ECCO-Men-Leather-Casual-Sneakers-7781727262233171-7.jpg\n",
            "Failed to process image at http://assets.myntassets.com/assets/images/2024/NOVEMBER/18/tjvADfQl_3968b8cc0b064a57ba3cf98799c5cc83.jpg: 503 Server Error: Service Unavailable for url: http://assets.myntassets.com/assets/images/2024/NOVEMBER/18/tjvADfQl_3968b8cc0b064a57ba3cf98799c5cc83.jpg\n",
            "Failed to process image at http://assets.myntassets.com/assets/images/2024/AUGUST/27/OeYgxvR0_2330c1548d8e4ee7b44dbc5afeeb2daf.jpg: 503 Server Error: Service Unavailable for url: http://assets.myntassets.com/assets/images/2024/AUGUST/27/OeYgxvR0_2330c1548d8e4ee7b44dbc5afeeb2daf.jpg\n",
            "Failed to process image at http://assets.myntassets.com/assets/images/2038578/2017/9/9/11504950966510-Forca-Men-Casual-Shoes-4171504950966403-1.jpg: 503 Server Error: Service Unavailable for url: http://assets.myntassets.com/assets/images/2038578/2017/9/9/11504950966510-Forca-Men-Casual-Shoes-4171504950966403-1.jpg\n",
            "Failed to process image at http://assets.myntassets.com/assets/images/30246702/2024/7/22/ec2a4397-33e9-4674-822d-3ba17b3590411721622445370XtepMenPrintedSneakers1.jpg: 503 Server Error: Service Unavailable for url: http://assets.myntassets.com/assets/images/30246702/2024/7/22/ec2a4397-33e9-4674-822d-3ba17b3590411721622445370XtepMenPrintedSneakers1.jpg\n",
            "Failed to process image at http://assets.myntassets.com/assets/images/2024/AUGUST/28/MwXO1fks_e6b494d846294675ad49e6ea72ec8646.jpg: 503 Server Error: Service Unavailable for url: http://assets.myntassets.com/assets/images/2024/AUGUST/28/MwXO1fks_e6b494d846294675ad49e6ea72ec8646.jpg\n",
            "Failed to process image at http://assets.myntassets.com/assets/images/2024/JULY/31/RgoC8Eeo_1c8ee77cfa5c49f1ab6c11bf6a0e89b3.jpg: 503 Server Error: Service Unavailable for url: http://assets.myntassets.com/assets/images/2024/JULY/31/RgoC8Eeo_1c8ee77cfa5c49f1ab6c11bf6a0e89b3.jpg\n",
            "Failed to process image at http://assets.myntassets.com/assets/images/30752638/2024/9/6/5294b5ec-e277-41aa-8d9f-7ecb069b8bd31725627274803-Carlton-London-Men-Colourblocked-Mid-Top-Sneakers-2541725627-1.jpg: 503 Server Error: Service Unavailable for url: http://assets.myntassets.com/assets/images/30752638/2024/9/6/5294b5ec-e277-41aa-8d9f-7ecb069b8bd31725627274803-Carlton-London-Men-Colourblocked-Mid-Top-Sneakers-2541725627-1.jpg\n",
            "Failed to process image at http://assets.myntassets.com/assets/images/2024/OCTOBER/9/TnM8mQij_4c4073929e374cdfa878264a993fe374.jpg: 503 Server Error: Service Unavailable for url: http://assets.myntassets.com/assets/images/2024/OCTOBER/9/TnM8mQij_4c4073929e374cdfa878264a993fe374.jpg\n",
            "Failed to process image at http://assets.myntassets.com/assets/images/30428791/2024/10/8/6788ef5b-2812-4e36-85da-f3cb3572562a1728387227184-Ducati-Men-PU-Sneakers-9631728387226684-1.jpg: 503 Server Error: Service Unavailable for url: http://assets.myntassets.com/assets/images/30428791/2024/10/8/6788ef5b-2812-4e36-85da-f3cb3572562a1728387227184-Ducati-Men-PU-Sneakers-9631728387226684-1.jpg\n",
            "Failed to process image at http://assets.myntassets.com/assets/images/2024/OCTOBER/1/ZEhRjZe1_cc62c0b9171d4a1990b5d0f0b0e7f4ea.jpg: 503 Server Error: Service Unavailable for url: http://assets.myntassets.com/assets/images/2024/OCTOBER/1/ZEhRjZe1_cc62c0b9171d4a1990b5d0f0b0e7f4ea.jpg\n",
            "Failed to process image at http://assets.myntassets.com/assets/images/30127521/2024/7/6/8dbb354a-f219-447d-bf10-11f27107a6fe1720263833387HRXbyHrithikRoshanMenColourblockedSneakers1.jpg: 503 Server Error: Service Unavailable for url: http://assets.myntassets.com/assets/images/30127521/2024/7/6/8dbb354a-f219-447d-bf10-11f27107a6fe1720263833387HRXbyHrithikRoshanMenColourblockedSneakers1.jpg\n",
            "Failed to process image at http://assets.myntassets.com/assets/images/30314924/2024/7/24/89397427-121c-4b26-9584-648c43ac034f1721830685988NikeJordan1RetroHighOGBlackandGoldMensShoes1.jpg: 503 Server Error: Service Unavailable for url: http://assets.myntassets.com/assets/images/30314924/2024/7/24/89397427-121c-4b26-9584-648c43ac034f1721830685988NikeJordan1RetroHighOGBlackandGoldMensShoes1.jpg\n",
            "Failed to process image at http://assets.myntassets.com/assets/images/2024/SEPTEMBER/21/jhdMC63J_789589fb3c514fe0ac9429ab09160660.jpg: 503 Server Error: Service Unavailable for url: http://assets.myntassets.com/assets/images/2024/SEPTEMBER/21/jhdMC63J_789589fb3c514fe0ac9429ab09160660.jpg\n",
            "Failed to process image at http://assets.myntassets.com/assets/images/2024/AUGUST/6/hJ6DxW8O_3b3de421aebd411baf68912d10fd160d.jpg: 503 Server Error: Service Unavailable for url: http://assets.myntassets.com/assets/images/2024/AUGUST/6/hJ6DxW8O_3b3de421aebd411baf68912d10fd160d.jpg\n",
            "Failed to process image at http://assets.myntassets.com/assets/images/2024/OCTOBER/3/ABizTHCA_d7b30c8d925e45d8a157665d0f470b84.jpg: 503 Server Error: Service Unavailable for url: http://assets.myntassets.com/assets/images/2024/OCTOBER/3/ABizTHCA_d7b30c8d925e45d8a157665d0f470b84.jpg\n",
            "Failed to process image at http://assets.myntassets.com/assets/images/29752866/2024/9/25/371d9fbb-0934-4917-9dc3-1679ac36e9b61727259008632-Aeropostale-Men-Casual-Shoes-2811727259008136-1.jpg: 503 Server Error: Service Unavailable for url: http://assets.myntassets.com/assets/images/29752866/2024/9/25/371d9fbb-0934-4917-9dc3-1679ac36e9b61727259008632-Aeropostale-Men-Casual-Shoes-2811727259008136-1.jpg\n",
            "Failed to process image at http://assets.myntassets.com/assets/images/2024/SEPTEMBER/14/qRN0pVFP_9a5b7d8dbd0244fc98cee8f0e3466ed4.jpg: 503 Server Error: Service Unavailable for url: http://assets.myntassets.com/assets/images/2024/SEPTEMBER/14/qRN0pVFP_9a5b7d8dbd0244fc98cee8f0e3466ed4.jpg\n",
            "Failed to process image at http://assets.myntassets.com/assets/images/2024/AUGUST/22/KNsDkfuH_b70ab66faa134badb5acd497cbffccb5.jpg: 503 Server Error: Service Unavailable for url: http://assets.myntassets.com/assets/images/2024/AUGUST/22/KNsDkfuH_b70ab66faa134badb5acd497cbffccb5.jpg\n",
            "Failed to process image at http://assets.myntassets.com/assets/images/30034742/2024/11/12/0ef94116-ddcd-4c5f-83cf-858d6fe0abd91731392514631-Puma-Alfarun-Mens-Sneakers-2581731392514322-1.jpg: 503 Server Error: Service Unavailable for url: http://assets.myntassets.com/assets/images/30034742/2024/11/12/0ef94116-ddcd-4c5f-83cf-858d6fe0abd91731392514631-Puma-Alfarun-Mens-Sneakers-2581731392514322-1.jpg\n",
            "Failed to process image at http://assets.myntassets.com/assets/images/2024/OCTOBER/22/ykpAkM7T_af4161c7244746eeb1971789e73f6335.jpg: 503 Server Error: Service Unavailable for url: http://assets.myntassets.com/assets/images/2024/OCTOBER/22/ykpAkM7T_af4161c7244746eeb1971789e73f6335.jpg\n",
            "Processed and saved batch 442/664\n"
          ]
        },
        {
          "output_type": "stream",
          "name": "stderr",
          "text": [
            "\rProcessing batches:  67%|██████▋   | 442/664 [1:23:24<3:20:06, 54.08s/it]"
          ]
        },
        {
          "output_type": "stream",
          "name": "stdout",
          "text": [
            "Processed and saved batch 443/664\n"
          ]
        },
        {
          "output_type": "stream",
          "name": "stderr",
          "text": [
            "\rProcessing batches:  67%|██████▋   | 443/664 [1:23:47<2:44:37, 44.70s/it]"
          ]
        },
        {
          "output_type": "stream",
          "name": "stdout",
          "text": [
            "Processed and saved batch 444/664\n"
          ]
        },
        {
          "output_type": "stream",
          "name": "stderr",
          "text": [
            "\rProcessing batches:  67%|██████▋   | 444/664 [1:23:50<1:58:01, 32.19s/it]"
          ]
        },
        {
          "output_type": "stream",
          "name": "stdout",
          "text": [
            "Processed and saved batch 445/664\n"
          ]
        },
        {
          "output_type": "stream",
          "name": "stderr",
          "text": [
            "\rProcessing batches:  67%|██████▋   | 445/664 [1:23:53<1:25:32, 23.44s/it]"
          ]
        },
        {
          "output_type": "stream",
          "name": "stdout",
          "text": [
            "Processed and saved batch 446/664\n"
          ]
        },
        {
          "output_type": "stream",
          "name": "stderr",
          "text": [
            "\rProcessing batches:  67%|██████▋   | 446/664 [1:23:57<1:03:37, 17.51s/it]"
          ]
        },
        {
          "output_type": "stream",
          "name": "stdout",
          "text": [
            "Processed and saved batch 447/664\n"
          ]
        },
        {
          "output_type": "stream",
          "name": "stderr",
          "text": [
            "\rProcessing batches:  67%|██████▋   | 447/664 [1:24:04<52:11, 14.43s/it]  "
          ]
        },
        {
          "output_type": "stream",
          "name": "stdout",
          "text": [
            "Processed and saved batch 448/664\n"
          ]
        },
        {
          "output_type": "stream",
          "name": "stderr",
          "text": [
            "\rProcessing batches:  67%|██████▋   | 448/664 [1:24:07<39:37, 11.01s/it]"
          ]
        },
        {
          "output_type": "stream",
          "name": "stdout",
          "text": [
            "Processed and saved batch 449/664\n"
          ]
        },
        {
          "output_type": "stream",
          "name": "stderr",
          "text": [
            "\rProcessing batches:  68%|██████▊   | 449/664 [1:24:10<30:50,  8.61s/it]"
          ]
        },
        {
          "output_type": "stream",
          "name": "stdout",
          "text": [
            "Processed and saved batch 450/664\n"
          ]
        },
        {
          "output_type": "stream",
          "name": "stderr",
          "text": [
            "\rProcessing batches:  68%|██████▊   | 450/664 [1:24:13<24:42,  6.93s/it]"
          ]
        },
        {
          "output_type": "stream",
          "name": "stdout",
          "text": [
            "Processed and saved batch 451/664\n"
          ]
        },
        {
          "output_type": "stream",
          "name": "stderr",
          "text": [
            "\rProcessing batches:  68%|██████▊   | 451/664 [1:24:16<20:25,  5.75s/it]"
          ]
        },
        {
          "output_type": "stream",
          "name": "stdout",
          "text": [
            "Processed and saved batch 452/664\n"
          ]
        },
        {
          "output_type": "stream",
          "name": "stderr",
          "text": [
            "\rProcessing batches:  68%|██████▊   | 452/664 [1:24:19<17:25,  4.93s/it]"
          ]
        },
        {
          "output_type": "stream",
          "name": "stdout",
          "text": [
            "Processed and saved batch 453/664\n"
          ]
        },
        {
          "output_type": "stream",
          "name": "stderr",
          "text": [
            "\rProcessing batches:  68%|██████▊   | 453/664 [1:24:22<15:18,  4.35s/it]"
          ]
        },
        {
          "output_type": "stream",
          "name": "stdout",
          "text": [
            "Processed and saved batch 454/664\n"
          ]
        },
        {
          "output_type": "stream",
          "name": "stderr",
          "text": [
            "\rProcessing batches:  68%|██████▊   | 454/664 [1:24:25<13:49,  3.95s/it]"
          ]
        },
        {
          "output_type": "stream",
          "name": "stdout",
          "text": [
            "Processed and saved batch 455/664\n"
          ]
        },
        {
          "output_type": "stream",
          "name": "stderr",
          "text": [
            "\rProcessing batches:  69%|██████▊   | 455/664 [1:24:29<13:31,  3.88s/it]"
          ]
        },
        {
          "output_type": "stream",
          "name": "stdout",
          "text": [
            "Failed to process image at http://assets.myntassets.com/assets/images/30035594/2024/8/22/a3d0db82-9d93-4adb-86ce-d14541b50ed41724307723072-BMW-M-Motorsport-Suede-Unisex-Sneakers-3511724307722846-1.jpg: 503 Server Error: Service Unavailable for url: http://assets.myntassets.com/assets/images/30035594/2024/8/22/a3d0db82-9d93-4adb-86ce-d14541b50ed41724307723072-BMW-M-Motorsport-Suede-Unisex-Sneakers-3511724307722846-1.jpg\n",
            "Failed to process image at http://assets.myntassets.com/assets/images/2024/SEPTEMBER/27/u72UNmOB_7ac092419b054db9bc3e29680ec4308c.jpg: 503 Server Error: Service Unavailable for url: http://assets.myntassets.com/assets/images/2024/SEPTEMBER/27/u72UNmOB_7ac092419b054db9bc3e29680ec4308c.jpg\n",
            "Processed and saved batch 456/664\n",
            "Failed to process image at http://assets.myntassets.com/assets/images/2024/AUGUST/8/mQL9eczW_19cb05bb16ca4318976fd9f127f632a3.jpg: 503 Server Error: Service Unavailable for url: http://assets.myntassets.com/assets/images/2024/AUGUST/8/mQL9eczW_19cb05bb16ca4318976fd9f127f632a3.jpg\n"
          ]
        },
        {
          "output_type": "stream",
          "name": "stderr",
          "text": [
            "\rProcessing batches:  69%|██████▊   | 456/664 [1:24:40<20:49,  6.01s/it]"
          ]
        },
        {
          "output_type": "stream",
          "name": "stdout",
          "text": [
            "Failed to process image at http://assets.myntassets.com/assets/images/2024/SEPTEMBER/14/g9QSqdOi_f666f7b7ef084198ac0035bb78b4d37d.jpg: 503 Server Error: Service Unavailable for url: http://assets.myntassets.com/assets/images/2024/SEPTEMBER/14/g9QSqdOi_f666f7b7ef084198ac0035bb78b4d37d.jpg\n",
            "Processed and saved batch 457/664\n"
          ]
        },
        {
          "output_type": "stream",
          "name": "stderr",
          "text": [
            "\rProcessing batches:  69%|██████▉   | 457/664 [1:24:43<17:37,  5.11s/it]"
          ]
        },
        {
          "output_type": "stream",
          "name": "stdout",
          "text": [
            "Failed to process image at http://assets.myntassets.com/assets/images/2024/AUGUST/1/zBfFSK8F_1264b4de1b094ac58ce5a2f4056d43db.jpg: 503 Server Error: Service Unavailable for url: http://assets.myntassets.com/assets/images/2024/AUGUST/1/zBfFSK8F_1264b4de1b094ac58ce5a2f4056d43db.jpg\n",
            "Failed to process image at http://assets.myntassets.com/assets/images/2024/NOVEMBER/18/q1OVLgPf_e2ed2e96b64f48039bedc084c598f9c4.jpg: 503 Server Error: Service Unavailable for url: http://assets.myntassets.com/assets/images/2024/NOVEMBER/18/q1OVLgPf_e2ed2e96b64f48039bedc084c598f9c4.jpg\n",
            "Failed to process image at http://assets.myntassets.com/assets/images/30291098/2024/7/23/a3113731-2acd-4fb6-8ea9-b8d52838ff8e1721736550342RapidBoxMenPrintedFashion1.jpg: 503 Server Error: Service Unavailable for url: http://assets.myntassets.com/assets/images/30291098/2024/7/23/a3113731-2acd-4fb6-8ea9-b8d52838ff8e1721736550342RapidBoxMenPrintedFashion1.jpg\n",
            "Failed to process image at http://assets.myntassets.com/assets/images/2024/SEPTEMBER/14/8bC4VY0m_a53bb716a6e64927bf7b5728693fa4fb.jpg: 503 Server Error: Service Unavailable for url: http://assets.myntassets.com/assets/images/2024/SEPTEMBER/14/8bC4VY0m_a53bb716a6e64927bf7b5728693fa4fb.jpg\n",
            "Failed to process image at http://assets.myntassets.com/assets/images/30930553/2024/11/14/5750091b-740c-4202-b696-8e0cbffd3a8d1731573715914-RARE-RABBIT-Men-Lace-Up-Leather-Sneakers-1221731573715582-1.jpg: 503 Server Error: Service Unavailable for url: http://assets.myntassets.com/assets/images/30930553/2024/11/14/5750091b-740c-4202-b696-8e0cbffd3a8d1731573715914-RARE-RABBIT-Men-Lace-Up-Leather-Sneakers-1221731573715582-1.jpg\n",
            "Failed to process image at http://assets.myntassets.com/assets/images/30365777/2024/7/29/edd8ba4f-1278-4163-a8bf-943f0a8d99071722229209363LeeCooperMenStripedSneakers1.jpg: 503 Server Error: Service Unavailable for url: http://assets.myntassets.com/assets/images/30365777/2024/7/29/edd8ba4f-1278-4163-a8bf-943f0a8d99071722229209363LeeCooperMenStripedSneakers1.jpg\n",
            "Failed to process image at http://assets.myntassets.com/assets/images/30836388/2024/9/12/b24336d6-b92e-40c4-88be-9d1f4ded28321726139473195-Colour-Kicks-Men-Solid-Round-Toe-Comfort-Insole-Sneakers-723-1.jpg: 503 Server Error: Service Unavailable for url: http://assets.myntassets.com/assets/images/30836388/2024/9/12/b24336d6-b92e-40c4-88be-9d1f4ded28321726139473195-Colour-Kicks-Men-Solid-Round-Toe-Comfort-Insole-Sneakers-723-1.jpg\n",
            "Failed to process image at http://assets.myntassets.com/assets/images/30687662/2024/10/3/12b7493a-327a-40d5-ac75-2d6e509fb1281727966907595-SHOET-Unisex-Colourblocked-Lace-Ups-Sneakers-131172796690703-1.jpg: 503 Server Error: Service Unavailable for url: http://assets.myntassets.com/assets/images/30687662/2024/10/3/12b7493a-327a-40d5-ac75-2d6e509fb1281727966907595-SHOET-Unisex-Colourblocked-Lace-Ups-Sneakers-131172796690703-1.jpg\n",
            "Failed to process image at http://assets.myntassets.com/assets/images/30017761/2024/6/22/961711d9-d0ac-4ba3-910c-04caaa8124721719047491781TheRoadsterLifestyleCoMenColourblockedSneakers1.jpg: 503 Server Error: Service Unavailable for url: http://assets.myntassets.com/assets/images/30017761/2024/6/22/961711d9-d0ac-4ba3-910c-04caaa8124721719047491781TheRoadsterLifestyleCoMenColourblockedSneakers1.jpg\n",
            "Failed to process image at http://assets.myntassets.com/assets/images/2024/AUGUST/30/3lINvmxo_e13ebf5cf1b74260811de1d3e1349381.jpg: 503 Server Error: Service Unavailable for url: http://assets.myntassets.com/assets/images/2024/AUGUST/30/3lINvmxo_e13ebf5cf1b74260811de1d3e1349381.jpg\n",
            "Failed to process image at http://assets.myntassets.com/assets/images/30233614/2024/7/18/6f995bfe-049e-4311-bb95-1b98bb09feec1721275993878SkechersBionicTrail-FlashSneakers1.jpg: 503 Server Error: Service Unavailable for url: http://assets.myntassets.com/assets/images/30233614/2024/7/18/6f995bfe-049e-4311-bb95-1b98bb09feec1721275993878SkechersBionicTrail-FlashSneakers1.jpg\n",
            "Failed to process image at http://assets.myntassets.com/assets/images/30452372/2024/9/3/796635ba-f7be-4ed1-8e49-78f03adcf2261725353831573-PUMA-BMW-M-Motorsport-Caven-20-Mens-Sneakers-902172535383150-7.jpg: 503 Server Error: Service Unavailable for url: http://assets.myntassets.com/assets/images/30452372/2024/9/3/796635ba-f7be-4ed1-8e49-78f03adcf2261725353831573-PUMA-BMW-M-Motorsport-Caven-20-Mens-Sneakers-902172535383150-7.jpg\n",
            "Failed to process image at http://assets.myntassets.com/assets/images/30071659/2024/6/29/8c48fdd2-194e-4b9c-9427-a10aa6e309611719662746621OFFLIMITSMenSneakers1.jpg: 503 Server Error: Service Unavailable for url: http://assets.myntassets.com/assets/images/30071659/2024/6/29/8c48fdd2-194e-4b9c-9427-a10aa6e309611719662746621OFFLIMITSMenSneakers1.jpg\n",
            "Failed to process image at http://assets.myntassets.com/assets/images/2024/AUGUST/16/HuFbD74g_8a6be103653343d4b62a6af9a152dd2d.jpg: 503 Server Error: Service Unavailable for url: http://assets.myntassets.com/assets/images/2024/AUGUST/16/HuFbD74g_8a6be103653343d4b62a6af9a152dd2d.jpg\n",
            "Failed to process image at http://assets.myntassets.com/assets/images/2024/AUGUST/16/NIC8Zd2O_c4bfcaf767424df6bdf885023498d1aa.jpg: 503 Server Error: Service Unavailable for url: http://assets.myntassets.com/assets/images/2024/AUGUST/16/NIC8Zd2O_c4bfcaf767424df6bdf885023498d1aa.jpg\n",
            "Failed to process image at http://assets.myntassets.com/assets/images/2024/JULY/30/uO5g6V0j_b85035fab49741c48e18c2f28536faf4.jpg: 503 Server Error: Service Unavailable for url: http://assets.myntassets.com/assets/images/2024/JULY/30/uO5g6V0j_b85035fab49741c48e18c2f28536faf4.jpg\n",
            "Failed to process image at http://assets.myntassets.com/assets/images/2024/OCTOBER/8/cVR4MLHJ_f9db43baad9f48b6ade9ef1bd6658939.jpg: 503 Server Error: Service Unavailable for url: http://assets.myntassets.com/assets/images/2024/OCTOBER/8/cVR4MLHJ_f9db43baad9f48b6ade9ef1bd6658939.jpg\n",
            "Failed to process image at http://assets.myntassets.com/assets/images/2024/AUGUST/3/My0l7Jnr_ae898d4b794d4a81b6e35fd8386dc282.jpg: 503 Server Error: Service Unavailable for url: http://assets.myntassets.com/assets/images/2024/AUGUST/3/My0l7Jnr_ae898d4b794d4a81b6e35fd8386dc282.jpg\n",
            "Failed to process image at http://assets.myntassets.com/assets/images/30034540/2024/9/10/0bf147ba-49a3-4dbd-b4c8-ad6dfb6c77051725967868150-PUMA-Rickie-Classic-Unisex-Sneakers-9081725967867892-1.jpg: 503 Server Error: Service Unavailable for url: http://assets.myntassets.com/assets/images/30034540/2024/9/10/0bf147ba-49a3-4dbd-b4c8-ad6dfb6c77051725967868150-PUMA-Rickie-Classic-Unisex-Sneakers-9081725967867892-1.jpg\n",
            "Failed to process image at http://assets.myntassets.com/assets/images/2024/NOVEMBER/6/Vxii19yT_9ef55581cccd4a4b9de44dfb814f7dd7.jpg: 503 Server Error: Service Unavailable for url: http://assets.myntassets.com/assets/images/2024/NOVEMBER/6/Vxii19yT_9ef55581cccd4a4b9de44dfb814f7dd7.jpg\n",
            "Failed to process image at http://assets.myntassets.com/assets/images/30191934/2024/8/30/eb2b9d1d-6fee-431b-8781-dbbb14139f1a1725012323644-Flying-Machine-Men-SAUL-Grey-Sneakers-3331725012323160-1.jpg: 503 Server Error: Service Unavailable for url: http://assets.myntassets.com/assets/images/30191934/2024/8/30/eb2b9d1d-6fee-431b-8781-dbbb14139f1a1725012323644-Flying-Machine-Men-SAUL-Grey-Sneakers-3331725012323160-1.jpg\n",
            "Failed to process image at http://assets.myntassets.com/assets/images/2024/JULY/30/qboK2Y5s_fd3ba135a3e74af0948d80487a3b6aca.jpg: 503 Server Error: Service Unavailable for url: http://assets.myntassets.com/assets/images/2024/JULY/30/qboK2Y5s_fd3ba135a3e74af0948d80487a3b6aca.jpg\n",
            "Failed to process image at http://assets.myntassets.com/assets/images/30365775/2024/7/29/3a16b351-16bf-4dc3-9ab9-be1f776edfeb1722229058297LeeCooperMenColourblockedSneakers1.jpg: 503 Server Error: Service Unavailable for url: http://assets.myntassets.com/assets/images/30365775/2024/7/29/3a16b351-16bf-4dc3-9ab9-be1f776edfeb1722229058297LeeCooperMenColourblockedSneakers1.jpg\n",
            "Failed to process image at http://assets.myntassets.com/assets/images/2024/OCTOBER/17/GkwAinCc_9a4101c0e691492db2bf76e4010fc115.jpg: 503 Server Error: Service Unavailable for url: http://assets.myntassets.com/assets/images/2024/OCTOBER/17/GkwAinCc_9a4101c0e691492db2bf76e4010fc115.jpg\n",
            "Failed to process image at http://assets.myntassets.com/assets/images/30186605/2024/7/11/993ac1bc-64c1-4c34-9d96-41932aa4260f1720695246416RapidBoxMenPerforationsSneakers1.jpg: 503 Server Error: Service Unavailable for url: http://assets.myntassets.com/assets/images/30186605/2024/7/11/993ac1bc-64c1-4c34-9d96-41932aa4260f1720695246416RapidBoxMenPerforationsSneakers1.jpg\n",
            "Failed to process image at http://assets.myntassets.com/assets/images/30284475/2024/7/22/f6c31156-4754-4f6f-b67c-6ea0856d41d41721619503541yohoMenPrintedSneakers1.jpg: 503 Server Error: Service Unavailable for url: http://assets.myntassets.com/assets/images/30284475/2024/7/22/f6c31156-4754-4f6f-b67c-6ea0856d41d41721619503541yohoMenPrintedSneakers1.jpg\n",
            "Failed to process image at http://assets.myntassets.com/assets/images/30159555/2024/7/11/df590cb7-3d99-4384-83ea-7d4b30baa1a21720674340939ZAYDNMenColourblockedSneakers1.jpg: 503 Server Error: Service Unavailable for url: http://assets.myntassets.com/assets/images/30159555/2024/7/11/df590cb7-3d99-4384-83ea-7d4b30baa1a21720674340939ZAYDNMenColourblockedSneakers1.jpg\n",
            "Failed to process image at http://assets.myntassets.com/assets/images/30253369/2024/7/19/b3a53b45-8a15-49cd-ba03-12bdaaa685d51721387510020ASIANMenSneakers1.jpg: 503 Server Error: Service Unavailable for url: http://assets.myntassets.com/assets/images/30253369/2024/7/19/b3a53b45-8a15-49cd-ba03-12bdaaa685d51721387510020ASIANMenSneakers1.jpg\n",
            "Failed to process image at http://assets.myntassets.com/assets/images/30253368/2024/7/19/9cbc6843-dc3e-4527-89fa-6dd0f1b82cf11721373674568ASIANMenSneakers1.jpg: 503 Server Error: Service Unavailable for url: http://assets.myntassets.com/assets/images/30253368/2024/7/19/9cbc6843-dc3e-4527-89fa-6dd0f1b82cf11721373674568ASIANMenSneakers1.jpg\n",
            "Failed to process image at http://assets.myntassets.com/assets/images/28870694/2024/6/25/b65bb3fb-91b2-4bd0-8c94-80d478272ece1719309807520-Lee-Cooper-Men-PU-Sneakers-1451719309807045-1.jpg: 503 Server Error: Service Unavailable for url: http://assets.myntassets.com/assets/images/28870694/2024/6/25/b65bb3fb-91b2-4bd0-8c94-80d478272ece1719309807520-Lee-Cooper-Men-PU-Sneakers-1451719309807045-1.jpg\n",
            "Failed to process image at http://assets.myntassets.com/assets/images/2024/OCTOBER/1/JojXNAsZ_daff46f198624502b0074eac74450abe.jpg: 503 Server Error: Service Unavailable for url: http://assets.myntassets.com/assets/images/2024/OCTOBER/1/JojXNAsZ_daff46f198624502b0074eac74450abe.jpg\n",
            "Failed to process image at http://assets.myntassets.com/assets/images/2024/OCTOBER/9/3y3tl8Kx_5a9ce9252a2f48da907f6e4befee7772.jpg: 503 Server Error: Service Unavailable for url: http://assets.myntassets.com/assets/images/2024/OCTOBER/9/3y3tl8Kx_5a9ce9252a2f48da907f6e4befee7772.jpg\n",
            "Failed to process image at http://assets.myntassets.com/assets/images/2024/AUGUST/17/wMzfoDw4_c9055cf11b744d08b883d3cb13b76524.jpg: 503 Server Error: Service Unavailable for url: http://assets.myntassets.com/assets/images/2024/AUGUST/17/wMzfoDw4_c9055cf11b744d08b883d3cb13b76524.jpg\n",
            "Failed to process image at http://assets.myntassets.com/assets/images/29752858/2024/9/25/2615ce54-052f-463f-86ed-3589340b689a1727254147387-Aeropostale-Men-Casual-Shoes-301727254146889-1.jpg: 503 Server Error: Service Unavailable for url: http://assets.myntassets.com/assets/images/29752858/2024/9/25/2615ce54-052f-463f-86ed-3589340b689a1727254147387-Aeropostale-Men-Casual-Shoes-301727254146889-1.jpg\n",
            "Failed to process image at http://assets.myntassets.com/assets/images/30107388/2024/7/4/54ad3e63-a459-4e56-8821-3b5931bd63281720071115985ReebokAthleticSprintMClassicsMenCasualSneakers1.jpg: 503 Server Error: Service Unavailable for url: http://assets.myntassets.com/assets/images/30107388/2024/7/4/54ad3e63-a459-4e56-8821-3b5931bd63281720071115985ReebokAthleticSprintMClassicsMenCasualSneakers1.jpg\n",
            "Failed to process image at http://assets.myntassets.com/assets/images/2024/AUGUST/12/GetIfG62_7965aa1a84404138bdf6e088b92bd385.jpg: 503 Server Error: Service Unavailable for url: http://assets.myntassets.com/assets/images/2024/AUGUST/12/GetIfG62_7965aa1a84404138bdf6e088b92bd385.jpg\n",
            "Failed to process image at http://assets.myntassets.com/assets/images/30191933/2024/8/30/97377c24-64c9-4d11-89ba-4d5f39075eeb1725012316046-Flying-Machine-Men-CRESPO-Grey-Sneakers-1681725012315436-1.jpg: 503 Server Error: Service Unavailable for url: http://assets.myntassets.com/assets/images/30191933/2024/8/30/97377c24-64c9-4d11-89ba-4d5f39075eeb1725012316046-Flying-Machine-Men-CRESPO-Grey-Sneakers-1681725012315436-1.jpg\n",
            "Failed to process image at http://assets.myntassets.com/assets/images/30159574/2024/7/11/91e8e3bf-ce97-4765-8972-8a9f42c9745c1720674325037ZAYDNMenColourblockedSneakers1.jpg: 503 Server Error: Service Unavailable for url: http://assets.myntassets.com/assets/images/30159574/2024/7/11/91e8e3bf-ce97-4765-8972-8a9f42c9745c1720674325037ZAYDNMenColourblockedSneakers1.jpg\n",
            "Failed to process image at http://assets.myntassets.com/assets/images/2024/AUGUST/17/ppdLU7qB_cc7c963449e34e088a288690f843ef0e.jpg: 503 Server Error: Service Unavailable for url: http://assets.myntassets.com/assets/images/2024/AUGUST/17/ppdLU7qB_cc7c963449e34e088a288690f843ef0e.jpg\n",
            "Failed to process image at http://assets.myntassets.com/assets/images/2024/AUGUST/24/EwyT7Kh1_54d3117f7364471bbd7f76f14b0d0654.jpg: 503 Server Error: Service Unavailable for url: http://assets.myntassets.com/assets/images/2024/AUGUST/24/EwyT7Kh1_54d3117f7364471bbd7f76f14b0d0654.jpg\n",
            "Failed to process image at http://assets.myntassets.com/assets/images/22893498/2023/4/25/f7a33aeb-380a-4ef6-a181-19927135d8601682422715414ColeHaanMenBlackSneakers1.jpg: 503 Server Error: Service Unavailable for url: http://assets.myntassets.com/assets/images/22893498/2023/4/25/f7a33aeb-380a-4ef6-a181-19927135d8601682422715414ColeHaanMenBlackSneakers1.jpg\n",
            "Failed to process image at http://assets.myntassets.com/assets/images/30107962/2024/7/3/ed4a2ef3-fc9f-42f7-a6c1-e1c9881074151719999479697ImcolusCanvasSneakerBootForMen1.jpg: 503 Server Error: Service Unavailable for url: http://assets.myntassets.com/assets/images/30107962/2024/7/3/ed4a2ef3-fc9f-42f7-a6c1-e1c9881074151719999479697ImcolusCanvasSneakerBootForMen1.jpg\n",
            "Failed to process image at http://assets.myntassets.com/assets/images/2024/SEPTEMBER/6/tJoU53JJ_b4587a5f600e49ee90713f5cace4b444.jpg: 503 Server Error: Service Unavailable for url: http://assets.myntassets.com/assets/images/2024/SEPTEMBER/6/tJoU53JJ_b4587a5f600e49ee90713f5cace4b444.jpg\n",
            "Failed to process image at http://assets.myntassets.com/assets/images/2024/AUGUST/29/D4NAy0ac_ee3ffc488209424ba71df60aecb9dcc1.jpg: 503 Server Error: Service Unavailable for url: http://assets.myntassets.com/assets/images/2024/AUGUST/29/D4NAy0ac_ee3ffc488209424ba71df60aecb9dcc1.jpg\n",
            "Failed to process image at http://assets.myntassets.com/assets/images/2024/AUGUST/8/1rxOylOj_97623f39977a4312814203b19457695e.jpg: 503 Server Error: Service Unavailable for url: http://assets.myntassets.com/assets/images/2024/AUGUST/8/1rxOylOj_97623f39977a4312814203b19457695e.jpg\n",
            "Failed to process image at http://assets.myntassets.com/assets/images/2024/AUGUST/23/LSdzM12L_c3588c3819de4d93a9064c7283f2eae1.jpg: 503 Server Error: Service Unavailable for url: http://assets.myntassets.com/assets/images/2024/AUGUST/23/LSdzM12L_c3588c3819de4d93a9064c7283f2eae1.jpg\n",
            "Failed to process image at http://assets.myntassets.com/assets/images/30239009/2024/7/19/35395cfc-dbf9-4800-ad4a-a61704abf2241721361487876ConverseUnisexColourblockedHigh-TopCore1.jpg: 503 Server Error: Service Unavailable for url: http://assets.myntassets.com/assets/images/30239009/2024/7/19/35395cfc-dbf9-4800-ad4a-a61704abf2241721361487876ConverseUnisexColourblockedHigh-TopCore1.jpg\n",
            "Failed to process image at http://assets.myntassets.com/assets/images/29825842/2024/10/22/feea16e1-2c39-4410-a836-590ed60626a11729597648254-HRX-by-Hrithik-Roshan-Men-Sneakers-7261729597648151-13.jpg: 503 Server Error: Service Unavailable for url: http://assets.myntassets.com/assets/images/29825842/2024/10/22/feea16e1-2c39-4410-a836-590ed60626a11729597648254-HRX-by-Hrithik-Roshan-Men-Sneakers-7261729597648151-13.jpg\n",
            "Failed to process image at http://assets.myntassets.com/assets/images/31196338/2024/11/5/19befaa8-5b5f-4e44-bea9-1792772ed2f51730802389219-TRACER-Men-Reliable-Lace-Ups-3371730802388839-1.jpg: 503 Server Error: Service Unavailable for url: http://assets.myntassets.com/assets/images/31196338/2024/11/5/19befaa8-5b5f-4e44-bea9-1792772ed2f51730802389219-TRACER-Men-Reliable-Lace-Ups-3371730802388839-1.jpg\n",
            "Failed to process image at http://assets.myntassets.com/assets/images/2024/OCTOBER/1/VsSjnaVk_05b2329acaa44c63b2ec53101c10cdac.jpg: 503 Server Error: Service Unavailable for url: http://assets.myntassets.com/assets/images/2024/OCTOBER/1/VsSjnaVk_05b2329acaa44c63b2ec53101c10cdac.jpg\n",
            "Failed to process image at http://assets.myntassets.com/assets/images/2024/JULY/17/vT0q41uh_7456b4b0581a4552b757c037b2ea1c45.jpg: 503 Server Error: Service Unavailable for url: http://assets.myntassets.com/assets/images/2024/JULY/17/vT0q41uh_7456b4b0581a4552b757c037b2ea1c45.jpg\n",
            "Failed to process image at http://assets.myntassets.com/assets/images/29825834/2024/10/22/4cd492c6-5180-4236-8db8-6b7120f202b11729597553202-HRX-by-Hrithik-Roshan-Men-Everyday-Sneakers-741729597553102-13.jpg: 503 Server Error: Service Unavailable for url: http://assets.myntassets.com/assets/images/29825834/2024/10/22/4cd492c6-5180-4236-8db8-6b7120f202b11729597553202-HRX-by-Hrithik-Roshan-Men-Everyday-Sneakers-741729597553102-13.jpg\n",
            "Failed to process image at http://assets.myntassets.com/assets/images/30289818/2024/7/22/e7764a1c-2485-4886-a7ca-622648a720651721637678084CHNKSUnisexFlatforms1.jpg: 503 Server Error: Service Unavailable for url: http://assets.myntassets.com/assets/images/30289818/2024/7/22/e7764a1c-2485-4886-a7ca-622648a720651721637678084CHNKSUnisexFlatforms1.jpg\n",
            "Failed to process image at http://assets.myntassets.com/assets/images/2024/JULY/17/W4luSToN_48b524dbd5c7490cab6b55355c5b2fc8.jpg: 503 Server Error: Service Unavailable for url: http://assets.myntassets.com/assets/images/2024/JULY/17/W4luSToN_48b524dbd5c7490cab6b55355c5b2fc8.jpg\n",
            "Failed to process image at http://assets.myntassets.com/assets/images/2024/SEPTEMBER/19/POy6r0It_29c33cac62bc47fda632b16d36306212.jpg: 503 Server Error: Service Unavailable for url: http://assets.myntassets.com/assets/images/2024/SEPTEMBER/19/POy6r0It_29c33cac62bc47fda632b16d36306212.jpg\n",
            "Failed to process image at http://assets.myntassets.com/assets/images/2024/SEPTEMBER/3/Qz3BL89W_c0a14fefdad34a42879c8c584371b5bc.jpg: 503 Server Error: Service Unavailable for url: http://assets.myntassets.com/assets/images/2024/SEPTEMBER/3/Qz3BL89W_c0a14fefdad34a42879c8c584371b5bc.jpg\n",
            "Failed to process image at http://assets.myntassets.com/assets/images/29613334/2024/5/20/403e994c-2776-41be-ada3-fff663ec24e01716196931783AtomMenColourblockedSneakers1.jpg: 503 Server Error: Service Unavailable for url: http://assets.myntassets.com/assets/images/29613334/2024/5/20/403e994c-2776-41be-ada3-fff663ec24e01716196931783AtomMenColourblockedSneakers1.jpg\n",
            "Failed to process image at http://assets.myntassets.com/assets/images/30577226/2024/10/3/8becbf0f-91f9-4947-a3d0-00702ffe64771727949064950-Puma-Easy-Rider-Mix-Unisex-Sneakers-9791727949064351-1.jpg: 503 Server Error: Service Unavailable for url: http://assets.myntassets.com/assets/images/30577226/2024/10/3/8becbf0f-91f9-4947-a3d0-00702ffe64771727949064950-Puma-Easy-Rider-Mix-Unisex-Sneakers-9791727949064351-1.jpg\n",
            "Failed to process image at http://assets.myntassets.com/assets/images/2024/OCTOBER/1/jvSDJccD_2e40ff1a344f466fa527d0d604ce9e8b.jpg: 503 Server Error: Service Unavailable for url: http://assets.myntassets.com/assets/images/2024/OCTOBER/1/jvSDJccD_2e40ff1a344f466fa527d0d604ce9e8b.jpg\n",
            "Failed to process image at http://assets.myntassets.com/assets/images/24831460/2024/7/19/629eff29-4d6a-4ee2-be1a-72e5d6b969521721412122009-Cole-Haan-Men-Black-Leather-Sneakers-4511721412121727-1.jpg: 503 Server Error: Service Unavailable for url: http://assets.myntassets.com/assets/images/24831460/2024/7/19/629eff29-4d6a-4ee2-be1a-72e5d6b969521721412122009-Cole-Haan-Men-Black-Leather-Sneakers-4511721412121727-1.jpg\n",
            "Failed to process image at http://assets.myntassets.com/assets/images/2024/SEPTEMBER/18/GFEQQYoO_a4321aae992a4cb78bb2274eee3c7e59.jpg: 503 Server Error: Service Unavailable for url: http://assets.myntassets.com/assets/images/2024/SEPTEMBER/18/GFEQQYoO_a4321aae992a4cb78bb2274eee3c7e59.jpg\n",
            "Failed to process image at http://assets.myntassets.com/assets/images/2024/OCTOBER/3/dG2Zhotu_81d93f73ec764d0097daa3208718116d.jpg: 503 Server Error: Service Unavailable for url: http://assets.myntassets.com/assets/images/2024/OCTOBER/3/dG2Zhotu_81d93f73ec764d0097daa3208718116d.jpg\n",
            "Failed to process image at http://assets.myntassets.com/assets/images/29936724/2024/6/11/3904c7bb-6654-4e64-9f68-933d7a04346a1718079274657RoadsterMenOliveFauxLeatherCasualLaceUpSneakers1.jpg: 503 Server Error: Service Unavailable for url: http://assets.myntassets.com/assets/images/29936724/2024/6/11/3904c7bb-6654-4e64-9f68-933d7a04346a1718079274657RoadsterMenOliveFauxLeatherCasualLaceUpSneakers1.jpg\n",
            "Failed to process image at http://assets.myntassets.com/assets/images/2024/OCTOBER/4/dyffR3oN_1a9c25760d984b69872d958d6a60209c.jpg: 503 Server Error: Service Unavailable for url: http://assets.myntassets.com/assets/images/2024/OCTOBER/4/dyffR3oN_1a9c25760d984b69872d958d6a60209c.jpg\n",
            "Failed to process image at http://assets.myntassets.com/assets/images/30232159/2024/7/18/48ab632e-2376-4e04-8083-9ce77b2637571721280545482DukeMenColourblockedSneakers1.jpg: 503 Server Error: Service Unavailable for url: http://assets.myntassets.com/assets/images/30232159/2024/7/18/48ab632e-2376-4e04-8083-9ce77b2637571721280545482DukeMenColourblockedSneakers1.jpg\n",
            "Failed to process image at http://assets.myntassets.com/assets/images/30159539/2024/7/11/ee2ebc31-abe1-4150-84b2-dc1c794d396f1720674256177ZAYDNMenColourblockedSneakers1.jpg: 503 Server Error: Service Unavailable for url: http://assets.myntassets.com/assets/images/30159539/2024/7/11/ee2ebc31-abe1-4150-84b2-dc1c794d396f1720674256177ZAYDNMenColourblockedSneakers1.jpg\n",
            "Failed to process image at http://assets.myntassets.com/assets/images/2024/AUGUST/22/qkFNN05J_d668f871f415407dac8c6eac205c1451.jpg: 503 Server Error: Service Unavailable for url: http://assets.myntassets.com/assets/images/2024/AUGUST/22/qkFNN05J_d668f871f415407dac8c6eac205c1451.jpg\n",
            "Failed to process image at http://assets.myntassets.com/assets/images/28683082/2024/4/4/023bb257-076e-482d-8594-873baeba08f41712225258334OFFLIMITSMenTexturedSneakers1.jpg: 503 Server Error: Service Unavailable for url: http://assets.myntassets.com/assets/images/28683082/2024/4/4/023bb257-076e-482d-8594-873baeba08f41712225258334OFFLIMITSMenTexturedSneakers1.jpg\n",
            "Failed to process image at http://assets.myntassets.com/assets/images/29281402/2024/5/1/55fdaef0-e698-4913-82ac-71d77e6955461714565258176RoadsterMenBeigeFauxLeatherCasualLaceUpSneakers1.jpg: 503 Server Error: Service Unavailable for url: http://assets.myntassets.com/assets/images/29281402/2024/5/1/55fdaef0-e698-4913-82ac-71d77e6955461714565258176RoadsterMenBeigeFauxLeatherCasualLaceUpSneakers1.jpg\n",
            "Failed to process image at http://assets.myntassets.com/assets/images/30477879/2024/9/26/705bfdc3-56c4-42eb-9899-028cbf4c68871727359162372-Jack--Jones-Men-Smart-Casual-Sneakers-3911727359161905-1.jpg: 503 Server Error: Service Unavailable for url: http://assets.myntassets.com/assets/images/30477879/2024/9/26/705bfdc3-56c4-42eb-9899-028cbf4c68871727359162372-Jack--Jones-Men-Smart-Casual-Sneakers-3911727359161905-1.jpg\n",
            "Failed to process image at http://assets.myntassets.com/assets/images/2024/SEPTEMBER/4/f5QmK01H_97a86a03cf5d40bb95e6449b845792c1.jpg: 503 Server Error: Service Unavailable for url: http://assets.myntassets.com/assets/images/2024/SEPTEMBER/4/f5QmK01H_97a86a03cf5d40bb95e6449b845792c1.jpg\n",
            "Failed to process image at http://assets.myntassets.com/assets/images/29825826/2024/10/28/b722175e-9d05-44dc-aab1-8f202918791f1730118516392-HRX-by-Hrithik-Roshan-Men-Everyday-Sneakers-6001730118515944-1.jpg: 503 Server Error: Service Unavailable for url: http://assets.myntassets.com/assets/images/29825826/2024/10/28/b722175e-9d05-44dc-aab1-8f202918791f1730118516392-HRX-by-Hrithik-Roshan-Men-Everyday-Sneakers-6001730118515944-1.jpg\n",
            "Failed to process image at http://assets.myntassets.com/assets/images/29913353/2024/9/13/15b8476e-68a1-4992-8d3a-4998feaec5001726228615553-ASICS-Men-Casual-Shoes-7661726228615217-1.jpg: 503 Server Error: Service Unavailable for url: http://assets.myntassets.com/assets/images/29913353/2024/9/13/15b8476e-68a1-4992-8d3a-4998feaec5001726228615553-ASICS-Men-Casual-Shoes-7661726228615217-1.jpg\n",
            "Failed to process image at http://assets.myntassets.com/assets/images/2024/OCTOBER/1/KwPDWUqy_e2a1b22c9ef046d39fafa80c1e5d86d9.jpg: 503 Server Error: Service Unavailable for url: http://assets.myntassets.com/assets/images/2024/OCTOBER/1/KwPDWUqy_e2a1b22c9ef046d39fafa80c1e5d86d9.jpg\n",
            "Failed to process image at http://assets.myntassets.com/assets/images/2024/AUGUST/24/wFKDeObH_35853dac9c0f4c0688ad541c23efe117.jpg: 503 Server Error: Service Unavailable for url: http://assets.myntassets.com/assets/images/2024/AUGUST/24/wFKDeObH_35853dac9c0f4c0688ad541c23efe117.jpg\n",
            "Failed to process image at http://assets.myntassets.com/assets/images/2024/SEPTEMBER/14/r0N9frb7_d5735cf75c594dd8824e2bc1dbbfd077.jpg: 503 Server Error: Service Unavailable for url: http://assets.myntassets.com/assets/images/2024/SEPTEMBER/14/r0N9frb7_d5735cf75c594dd8824e2bc1dbbfd077.jpg\n",
            "Failed to process image at http://assets.myntassets.com/assets/images/2024/AUGUST/1/88tnk02v_cf8e5aa57f814c3cb91cd1b55c45888e.jpg: 503 Server Error: Service Unavailable for url: http://assets.myntassets.com/assets/images/2024/AUGUST/1/88tnk02v_cf8e5aa57f814c3cb91cd1b55c45888e.jpg\n",
            "Failed to process image at http://assets.myntassets.com/assets/images/30045107/2024/6/28/29d479a6-37c5-4a87-9cbd-d8b7759a48da1719556273540USPoloAssnMenColourblockedPUSneakers1.jpg: 503 Server Error: Service Unavailable for url: http://assets.myntassets.com/assets/images/30045107/2024/6/28/29d479a6-37c5-4a87-9cbd-d8b7759a48da1719556273540USPoloAssnMenColourblockedPUSneakers1.jpg\n",
            "Failed to process image at http://assets.myntassets.com/assets/images/2024/AUGUST/29/diiI2tbZ_833c1ba8f89841b29e1c63e622fed421.jpg: 503 Server Error: Service Unavailable for url: http://assets.myntassets.com/assets/images/2024/AUGUST/29/diiI2tbZ_833c1ba8f89841b29e1c63e622fed421.jpg\n",
            "Failed to process image at http://assets.myntassets.com/assets/images/30994735/2024/9/16/cd23b913-3eb6-48ce-acf4-7fc8a53437cb1726481392048-ADIDAS-Originals-Unisex-Woven-Design-Fashion-681726481391910-6.jpg: 503 Server Error: Service Unavailable for url: http://assets.myntassets.com/assets/images/30994735/2024/9/16/cd23b913-3eb6-48ce-acf4-7fc8a53437cb1726481392048-ADIDAS-Originals-Unisex-Woven-Design-Fashion-681726481391910-6.jpg\n",
            "Failed to process image at http://assets.myntassets.com/assets/images/30185365/2024/7/11/1f5d041d-4faf-4937-ad11-847292d718581720672508125MastHarbourMenPerforationsSneakers1.jpg: 503 Server Error: Service Unavailable for url: http://assets.myntassets.com/assets/images/30185365/2024/7/11/1f5d041d-4faf-4937-ad11-847292d718581720672508125MastHarbourMenPerforationsSneakers1.jpg\n",
            "Failed to process image at http://assets.myntassets.com/assets/images/2024/JULY/17/hkMvXOoV_8283f5fc508a4a7a831ec9b485dd7b74.jpg: 503 Server Error: Service Unavailable for url: http://assets.myntassets.com/assets/images/2024/JULY/17/hkMvXOoV_8283f5fc508a4a7a831ec9b485dd7b74.jpg\n",
            "Failed to process image at http://assets.myntassets.com/assets/images/2024/AUGUST/27/6UVsZmrj_47ea8a3caf554a4a8972c7a8723f6770.jpg: 503 Server Error: Service Unavailable for url: http://assets.myntassets.com/assets/images/2024/AUGUST/27/6UVsZmrj_47ea8a3caf554a4a8972c7a8723f6770.jpg\n",
            "Failed to process image at http://assets.myntassets.com/assets/images/30752650/2024/9/6/f0374af9-0bb8-4792-a454-32c2b9aa4ac31725619176101-Carlton-London-Men-Everyday-Sneakers-5581725619175719-1.jpg: 503 Server Error: Service Unavailable for url: http://assets.myntassets.com/assets/images/30752650/2024/9/6/f0374af9-0bb8-4792-a454-32c2b9aa4ac31725619176101-Carlton-London-Men-Everyday-Sneakers-5581725619175719-1.jpg\n",
            "Failed to process image at http://assets.myntassets.com/assets/images/27545282/2024/4/1/4e6f94f2-3624-400e-a2fe-0b1f139122831711961153321MOZAFIAMenPrintedSneakers1.jpg: 503 Server Error: Service Unavailable for url: http://assets.myntassets.com/assets/images/27545282/2024/4/1/4e6f94f2-3624-400e-a2fe-0b1f139122831711961153321MOZAFIAMenPrintedSneakers1.jpg\n",
            "Failed to process image at http://assets.myntassets.com/assets/images/29893110/2024/6/5/d3d43459-3a9b-42a9-ad68-ef635001d3971717565265687BERSACHEMenColourblockedSneakers1.jpg: 503 Server Error: Service Unavailable for url: http://assets.myntassets.com/assets/images/29893110/2024/6/5/d3d43459-3a9b-42a9-ad68-ef635001d3971717565265687BERSACHEMenColourblockedSneakers1.jpg\n",
            "Failed to process image at http://assets.myntassets.com/assets/images/30887917/2024/9/13/b1236a08-2e04-4f42-9369-be5d8179c6b61726224532637-SPYKAR-Men-PU-Sneakers-4171726224532322-1.jpg: 503 Server Error: Service Unavailable for url: http://assets.myntassets.com/assets/images/30887917/2024/9/13/b1236a08-2e04-4f42-9369-be5d8179c6b61726224532637-SPYKAR-Men-PU-Sneakers-4171726224532322-1.jpg\n",
            "Failed to process image at http://assets.myntassets.com/assets/images/2024/SEPTEMBER/30/syyX0szt_cf1b286bef574fbeac84008fff7f852a.jpg: 503 Server Error: Service Unavailable for url: http://assets.myntassets.com/assets/images/2024/SEPTEMBER/30/syyX0szt_cf1b286bef574fbeac84008fff7f852a.jpg\n",
            "Failed to process image at http://assets.myntassets.com/assets/images/30758673/2024/10/28/bbd0f6e1-6e1e-48d7-a1df-0d66f6c1c33a1730117799804-HRX-by-Hrithik-Roshan-Men-Perforated-Detailing-Sneakers-3681-1.jpg: 503 Server Error: Service Unavailable for url: http://assets.myntassets.com/assets/images/30758673/2024/10/28/bbd0f6e1-6e1e-48d7-a1df-0d66f6c1c33a1730117799804-HRX-by-Hrithik-Roshan-Men-Perforated-Detailing-Sneakers-3681-1.jpg\n",
            "Failed to process image at http://assets.myntassets.com/assets/images/30127804/2024/7/6/dd1a7f43-3465-463e-84b7-669ac175c7021720241058231TheSouledStoreMenColourblockedPUSneakers1.jpg: 503 Server Error: Service Unavailable for url: http://assets.myntassets.com/assets/images/30127804/2024/7/6/dd1a7f43-3465-463e-84b7-669ac175c7021720241058231TheSouledStoreMenColourblockedPUSneakers1.jpg\n",
            "Failed to process image at http://assets.myntassets.com/assets/images/2024/OCTOBER/1/haCXEqjV_8037e7d4262146b8a1338585b32f73bb.jpg: 503 Server Error: Service Unavailable for url: http://assets.myntassets.com/assets/images/2024/OCTOBER/1/haCXEqjV_8037e7d4262146b8a1338585b32f73bb.jpg\n",
            "Failed to process image at http://assets.myntassets.com/assets/images/2024/SEPTEMBER/14/SOwoMgt4_398ab287f6d5454aaed14a831b232c1d.jpg: 503 Server Error: Service Unavailable for url: http://assets.myntassets.com/assets/images/2024/SEPTEMBER/14/SOwoMgt4_398ab287f6d5454aaed14a831b232c1d.jpg\n",
            "Failed to process image at http://assets.myntassets.com/assets/images/31126927/2024/11/18/19ff03e6-993d-422d-9712-722ced20f4be1731936150929-US-Polo-Assn-Women-Men-CAMRY-PU-Sneakers-2951731936150420-1.jpg: 503 Server Error: Service Unavailable for url: http://assets.myntassets.com/assets/images/31126927/2024/11/18/19ff03e6-993d-422d-9712-722ced20f4be1731936150929-US-Polo-Assn-Women-Men-CAMRY-PU-Sneakers-2951731936150420-1.jpg\n",
            "Failed to process image at http://assets.myntassets.com/assets/images/2024/NOVEMBER/5/6qoaxnPh_1ff1143a66524e0fad03ec2d053f1bd2.jpg: 503 Server Error: Service Unavailable for url: http://assets.myntassets.com/assets/images/2024/NOVEMBER/5/6qoaxnPh_1ff1143a66524e0fad03ec2d053f1bd2.jpg\n",
            "Failed to process image at http://assets.myntassets.com/assets/images/2024/AUGUST/29/CNCOatiP_3a7722bf917547bd9e7bf96db496f3b2.jpg: 503 Server Error: Service Unavailable for url: http://assets.myntassets.com/assets/images/2024/AUGUST/29/CNCOatiP_3a7722bf917547bd9e7bf96db496f3b2.jpg\n",
            "Processed and saved batch 458/664\n"
          ]
        },
        {
          "output_type": "stream",
          "name": "stderr",
          "text": [
            "\rProcessing batches:  69%|██████▉   | 458/664 [1:27:57<3:32:12, 61.81s/it]"
          ]
        },
        {
          "output_type": "stream",
          "name": "stdout",
          "text": [
            "Processed and saved batch 459/664\n"
          ]
        },
        {
          "output_type": "stream",
          "name": "stderr",
          "text": [
            "\rProcessing batches:  69%|██████▉   | 459/664 [1:28:25<2:56:28, 51.65s/it]"
          ]
        },
        {
          "output_type": "stream",
          "name": "stdout",
          "text": [
            "Processed and saved batch 460/664\n"
          ]
        },
        {
          "output_type": "stream",
          "name": "stderr",
          "text": [
            "\rProcessing batches:  69%|██████▉   | 460/664 [1:28:28<2:06:00, 37.06s/it]"
          ]
        },
        {
          "output_type": "stream",
          "name": "stdout",
          "text": [
            "Processed and saved batch 461/664\n"
          ]
        },
        {
          "output_type": "stream",
          "name": "stderr",
          "text": [
            "\rProcessing batches:  69%|██████▉   | 461/664 [1:28:31<1:30:49, 26.85s/it]"
          ]
        },
        {
          "output_type": "stream",
          "name": "stdout",
          "text": [
            "Processed and saved batch 462/664\n"
          ]
        },
        {
          "output_type": "stream",
          "name": "stderr",
          "text": [
            "\rProcessing batches:  70%|██████▉   | 462/664 [1:28:34<1:06:18, 19.70s/it]"
          ]
        },
        {
          "output_type": "stream",
          "name": "stdout",
          "text": [
            "Processed and saved batch 463/664\n"
          ]
        },
        {
          "output_type": "stream",
          "name": "stderr",
          "text": [
            "\rProcessing batches:  70%|██████▉   | 463/664 [1:28:37<49:12, 14.69s/it]  "
          ]
        },
        {
          "output_type": "stream",
          "name": "stdout",
          "text": [
            "Processed and saved batch 464/664\n"
          ]
        },
        {
          "output_type": "stream",
          "name": "stderr",
          "text": [
            "\rProcessing batches:  70%|██████▉   | 464/664 [1:28:40<37:17, 11.19s/it]"
          ]
        },
        {
          "output_type": "stream",
          "name": "stdout",
          "text": [
            "Processed and saved batch 465/664\n"
          ]
        },
        {
          "output_type": "stream",
          "name": "stderr",
          "text": [
            "\rProcessing batches:  70%|███████   | 465/664 [1:28:43<28:57,  8.73s/it]"
          ]
        },
        {
          "output_type": "stream",
          "name": "stdout",
          "text": [
            "Processed and saved batch 466/664\n"
          ]
        },
        {
          "output_type": "stream",
          "name": "stderr",
          "text": [
            "\rProcessing batches:  70%|███████   | 466/664 [1:28:46<23:09,  7.02s/it]"
          ]
        },
        {
          "output_type": "stream",
          "name": "stdout",
          "text": [
            "Processed and saved batch 467/664\n"
          ]
        },
        {
          "output_type": "stream",
          "name": "stderr",
          "text": [
            "\rProcessing batches:  70%|███████   | 467/664 [1:28:49<19:06,  5.82s/it]"
          ]
        },
        {
          "output_type": "stream",
          "name": "stdout",
          "text": [
            "Processed and saved batch 468/664\n"
          ]
        },
        {
          "output_type": "stream",
          "name": "stderr",
          "text": [
            "\rProcessing batches:  70%|███████   | 468/664 [1:28:52<16:15,  4.98s/it]"
          ]
        },
        {
          "output_type": "stream",
          "name": "stdout",
          "text": [
            "Processed and saved batch 469/664\n"
          ]
        },
        {
          "output_type": "stream",
          "name": "stderr",
          "text": [
            "\rProcessing batches:  71%|███████   | 469/664 [1:28:55<14:15,  4.39s/it]"
          ]
        },
        {
          "output_type": "stream",
          "name": "stdout",
          "text": [
            "Processed and saved batch 470/664\n"
          ]
        },
        {
          "output_type": "stream",
          "name": "stderr",
          "text": [
            "\rProcessing batches:  71%|███████   | 470/664 [1:28:58<12:50,  3.97s/it]"
          ]
        },
        {
          "output_type": "stream",
          "name": "stdout",
          "text": [
            "Processed and saved batch 471/664\n"
          ]
        },
        {
          "output_type": "stream",
          "name": "stderr",
          "text": [
            "\rProcessing batches:  71%|███████   | 471/664 [1:29:21<31:43,  9.87s/it]"
          ]
        },
        {
          "output_type": "stream",
          "name": "stdout",
          "text": [
            "Processed and saved batch 472/664\n"
          ]
        },
        {
          "output_type": "stream",
          "name": "stderr",
          "text": [
            "\rProcessing batches:  71%|███████   | 472/664 [1:29:24<24:59,  7.81s/it]"
          ]
        },
        {
          "output_type": "stream",
          "name": "stdout",
          "text": [
            "Processed and saved batch 473/664\n"
          ]
        },
        {
          "output_type": "stream",
          "name": "stderr",
          "text": [
            "\rProcessing batches:  71%|███████   | 473/664 [1:29:27<20:16,  6.37s/it]"
          ]
        },
        {
          "output_type": "stream",
          "name": "stdout",
          "text": [
            "Processed and saved batch 474/664\n"
          ]
        },
        {
          "output_type": "stream",
          "name": "stderr",
          "text": [
            "\rProcessing batches:  71%|███████▏  | 474/664 [1:30:16<1:00:15, 19.03s/it]"
          ]
        },
        {
          "output_type": "stream",
          "name": "stdout",
          "text": [
            "Processed and saved batch 475/664\n"
          ]
        },
        {
          "output_type": "stream",
          "name": "stderr",
          "text": [
            "\rProcessing batches:  72%|███████▏  | 475/664 [1:30:52<1:15:55, 24.10s/it]"
          ]
        },
        {
          "output_type": "stream",
          "name": "stdout",
          "text": [
            "Processed and saved batch 476/664\n"
          ]
        },
        {
          "output_type": "stream",
          "name": "stderr",
          "text": [
            "\rProcessing batches:  72%|███████▏  | 476/664 [1:30:55<55:41, 17.77s/it]  "
          ]
        },
        {
          "output_type": "stream",
          "name": "stdout",
          "text": [
            "Processed and saved batch 477/664\n"
          ]
        },
        {
          "output_type": "stream",
          "name": "stderr",
          "text": [
            "\rProcessing batches:  72%|███████▏  | 477/664 [1:31:02<45:49, 14.70s/it]"
          ]
        },
        {
          "output_type": "stream",
          "name": "stdout",
          "text": [
            "Processed and saved batch 478/664\n"
          ]
        },
        {
          "output_type": "stream",
          "name": "stderr",
          "text": [
            "\rProcessing batches:  72%|███████▏  | 478/664 [1:31:07<36:24, 11.74s/it]"
          ]
        },
        {
          "output_type": "stream",
          "name": "stdout",
          "text": [
            "Processed and saved batch 479/664\n"
          ]
        },
        {
          "output_type": "stream",
          "name": "stderr",
          "text": [
            "\rProcessing batches:  72%|███████▏  | 479/664 [1:31:12<29:19,  9.51s/it]"
          ]
        },
        {
          "output_type": "stream",
          "name": "stdout",
          "text": [
            "Processed and saved batch 480/664\n"
          ]
        },
        {
          "output_type": "stream",
          "name": "stderr",
          "text": [
            "\rProcessing batches:  72%|███████▏  | 480/664 [1:31:15<23:11,  7.56s/it]"
          ]
        },
        {
          "output_type": "stream",
          "name": "stdout",
          "text": [
            "Processed and saved batch 481/664\n"
          ]
        },
        {
          "output_type": "stream",
          "name": "stderr",
          "text": [
            "\rProcessing batches:  72%|███████▏  | 481/664 [1:31:18<18:53,  6.20s/it]"
          ]
        },
        {
          "output_type": "stream",
          "name": "stdout",
          "text": [
            "Processed and saved batch 482/664\n"
          ]
        },
        {
          "output_type": "stream",
          "name": "stderr",
          "text": [
            "\rProcessing batches:  73%|███████▎  | 482/664 [1:31:21<15:53,  5.24s/it]"
          ]
        },
        {
          "output_type": "stream",
          "name": "stdout",
          "text": [
            "Processed and saved batch 483/664\n"
          ]
        },
        {
          "output_type": "stream",
          "name": "stderr",
          "text": [
            "\rProcessing batches:  73%|███████▎  | 483/664 [1:31:24<13:47,  4.57s/it]"
          ]
        },
        {
          "output_type": "stream",
          "name": "stdout",
          "text": [
            "Processed and saved batch 484/664\n"
          ]
        },
        {
          "output_type": "stream",
          "name": "stderr",
          "text": [
            "\rProcessing batches:  73%|███████▎  | 484/664 [1:31:27<12:18,  4.10s/it]"
          ]
        },
        {
          "output_type": "stream",
          "name": "stdout",
          "text": [
            "Processed and saved batch 485/664\n"
          ]
        },
        {
          "output_type": "stream",
          "name": "stderr",
          "text": [
            "\rProcessing batches:  73%|███████▎  | 485/664 [1:31:30<11:15,  3.78s/it]"
          ]
        },
        {
          "output_type": "stream",
          "name": "stdout",
          "text": [
            "Processed and saved batch 486/664\n"
          ]
        },
        {
          "output_type": "stream",
          "name": "stderr",
          "text": [
            "\rProcessing batches:  73%|███████▎  | 486/664 [1:31:33<10:31,  3.55s/it]"
          ]
        },
        {
          "output_type": "stream",
          "name": "stdout",
          "text": [
            "Processed and saved batch 487/664\n"
          ]
        },
        {
          "output_type": "stream",
          "name": "stderr",
          "text": [
            "\rProcessing batches:  73%|███████▎  | 487/664 [1:31:43<16:22,  5.55s/it]"
          ]
        },
        {
          "output_type": "stream",
          "name": "stdout",
          "text": [
            "Processed and saved batch 488/664\n"
          ]
        },
        {
          "output_type": "stream",
          "name": "stderr",
          "text": [
            "\rProcessing batches:  73%|███████▎  | 488/664 [1:31:46<14:02,  4.79s/it]"
          ]
        },
        {
          "output_type": "stream",
          "name": "stdout",
          "text": [
            "Processed and saved batch 489/664\n"
          ]
        },
        {
          "output_type": "stream",
          "name": "stderr",
          "text": [
            "\rProcessing batches:  74%|███████▎  | 489/664 [1:32:10<30:29, 10.46s/it]"
          ]
        },
        {
          "output_type": "stream",
          "name": "stdout",
          "text": [
            "Processed and saved batch 490/664\n"
          ]
        },
        {
          "output_type": "stream",
          "name": "stderr",
          "text": [
            "\rProcessing batches:  74%|███████▍  | 490/664 [1:33:00<1:05:00, 22.42s/it]"
          ]
        },
        {
          "output_type": "stream",
          "name": "stdout",
          "text": [
            "Processed and saved batch 491/664\n"
          ]
        },
        {
          "output_type": "stream",
          "name": "stderr",
          "text": [
            "\rProcessing batches:  74%|███████▍  | 491/664 [1:33:36<1:16:23, 26.49s/it]"
          ]
        },
        {
          "output_type": "stream",
          "name": "stdout",
          "text": [
            "Processed and saved batch 492/664\n"
          ]
        },
        {
          "output_type": "stream",
          "name": "stderr",
          "text": [
            "\rProcessing batches:  74%|███████▍  | 492/664 [1:33:39<55:45, 19.45s/it]  "
          ]
        },
        {
          "output_type": "stream",
          "name": "stdout",
          "text": [
            "Processed and saved batch 493/664\n"
          ]
        },
        {
          "output_type": "stream",
          "name": "stderr",
          "text": [
            "\rProcessing batches:  74%|███████▍  | 493/664 [1:33:53<50:37, 17.76s/it]"
          ]
        },
        {
          "output_type": "stream",
          "name": "stdout",
          "text": [
            "Processed and saved batch 494/664\n"
          ]
        },
        {
          "output_type": "stream",
          "name": "stderr",
          "text": [
            "\rProcessing batches:  74%|███████▍  | 494/664 [1:33:56<37:47, 13.34s/it]"
          ]
        },
        {
          "output_type": "stream",
          "name": "stdout",
          "text": [
            "Processed and saved batch 495/664\n"
          ]
        },
        {
          "output_type": "stream",
          "name": "stderr",
          "text": [
            "\rProcessing batches:  75%|███████▍  | 495/664 [1:33:59<28:50, 10.24s/it]"
          ]
        },
        {
          "output_type": "stream",
          "name": "stdout",
          "text": [
            "Processed and saved batch 496/664\n"
          ]
        },
        {
          "output_type": "stream",
          "name": "stderr",
          "text": [
            "\rProcessing batches:  75%|███████▍  | 496/664 [1:34:02<22:36,  8.07s/it]"
          ]
        },
        {
          "output_type": "stream",
          "name": "stdout",
          "text": [
            "Processed and saved batch 497/664\n"
          ]
        },
        {
          "output_type": "stream",
          "name": "stderr",
          "text": [
            "\rProcessing batches:  75%|███████▍  | 497/664 [1:34:05<18:14,  6.55s/it]"
          ]
        },
        {
          "output_type": "stream",
          "name": "stdout",
          "text": [
            "Processed and saved batch 498/664\n"
          ]
        },
        {
          "output_type": "stream",
          "name": "stderr",
          "text": [
            "\rProcessing batches:  75%|███████▌  | 498/664 [1:34:08<15:11,  5.49s/it]"
          ]
        },
        {
          "output_type": "stream",
          "name": "stdout",
          "text": [
            "Processed and saved batch 499/664\n"
          ]
        },
        {
          "output_type": "stream",
          "name": "stderr",
          "text": [
            "\rProcessing batches:  75%|███████▌  | 499/664 [1:34:11<13:03,  4.75s/it]"
          ]
        },
        {
          "output_type": "stream",
          "name": "stdout",
          "text": [
            "Processed and saved batch 500/664\n"
          ]
        },
        {
          "output_type": "stream",
          "name": "stderr",
          "text": [
            "\rProcessing batches:  75%|███████▌  | 500/664 [1:34:14<11:33,  4.23s/it]"
          ]
        },
        {
          "output_type": "stream",
          "name": "stdout",
          "text": [
            "Processed and saved batch 501/664\n"
          ]
        },
        {
          "output_type": "stream",
          "name": "stderr",
          "text": [
            "\rProcessing batches:  75%|███████▌  | 501/664 [1:34:17<10:29,  3.86s/it]"
          ]
        },
        {
          "output_type": "stream",
          "name": "stdout",
          "text": [
            "Processed and saved batch 502/664\n"
          ]
        },
        {
          "output_type": "stream",
          "name": "stderr",
          "text": [
            "\rProcessing batches:  76%|███████▌  | 502/664 [1:34:20<09:44,  3.61s/it]"
          ]
        },
        {
          "output_type": "stream",
          "name": "stdout",
          "text": [
            "Processed and saved batch 503/664\n"
          ]
        },
        {
          "output_type": "stream",
          "name": "stderr",
          "text": [
            "\rProcessing batches:  76%|███████▌  | 503/664 [1:34:27<12:29,  4.65s/it]"
          ]
        },
        {
          "output_type": "stream",
          "name": "stdout",
          "text": [
            "Processed and saved batch 504/664\n"
          ]
        },
        {
          "output_type": "stream",
          "name": "stderr",
          "text": [
            "\rProcessing batches:  76%|███████▌  | 504/664 [1:34:30<11:05,  4.16s/it]"
          ]
        },
        {
          "output_type": "stream",
          "name": "stdout",
          "text": [
            "Processed and saved batch 505/664\n"
          ]
        },
        {
          "output_type": "stream",
          "name": "stderr",
          "text": [
            "\rProcessing batches:  76%|███████▌  | 505/664 [1:34:51<24:12,  9.14s/it]"
          ]
        },
        {
          "output_type": "stream",
          "name": "stdout",
          "text": [
            "Processed and saved batch 506/664\n"
          ]
        },
        {
          "output_type": "stream",
          "name": "stderr",
          "text": [
            "\rProcessing batches:  76%|███████▌  | 506/664 [1:35:40<55:49, 21.20s/it]"
          ]
        },
        {
          "output_type": "stream",
          "name": "stdout",
          "text": [
            "Processed and saved batch 507/664\n"
          ]
        },
        {
          "output_type": "stream",
          "name": "stderr",
          "text": [
            "\rProcessing batches:  76%|███████▋  | 507/664 [1:36:13<1:04:40, 24.72s/it]"
          ]
        },
        {
          "output_type": "stream",
          "name": "stdout",
          "text": [
            "Processed and saved batch 508/664\n"
          ]
        },
        {
          "output_type": "stream",
          "name": "stderr",
          "text": [
            "\rProcessing batches:  77%|███████▋  | 508/664 [1:36:16<47:20, 18.21s/it]  "
          ]
        },
        {
          "output_type": "stream",
          "name": "stdout",
          "text": [
            "Processed and saved batch 509/664\n"
          ]
        },
        {
          "output_type": "stream",
          "name": "stderr",
          "text": [
            "\rProcessing batches:  77%|███████▋  | 509/664 [1:36:31<44:30, 17.23s/it]"
          ]
        },
        {
          "output_type": "stream",
          "name": "stdout",
          "text": [
            "Processed and saved batch 510/664\n"
          ]
        },
        {
          "output_type": "stream",
          "name": "stderr",
          "text": [
            "\rProcessing batches:  77%|███████▋  | 510/664 [1:36:34<33:16, 12.97s/it]"
          ]
        },
        {
          "output_type": "stream",
          "name": "stdout",
          "text": [
            "Processed and saved batch 511/664\n"
          ]
        },
        {
          "output_type": "stream",
          "name": "stderr",
          "text": [
            "\rProcessing batches:  77%|███████▋  | 511/664 [1:36:37<25:26,  9.98s/it]"
          ]
        },
        {
          "output_type": "stream",
          "name": "stdout",
          "text": [
            "Processed and saved batch 512/664\n"
          ]
        },
        {
          "output_type": "stream",
          "name": "stderr",
          "text": [
            "\rProcessing batches:  77%|███████▋  | 512/664 [1:36:40<19:59,  7.89s/it]"
          ]
        },
        {
          "output_type": "stream",
          "name": "stdout",
          "text": [
            "Processed and saved batch 513/664\n"
          ]
        },
        {
          "output_type": "stream",
          "name": "stderr",
          "text": [
            "\rProcessing batches:  77%|███████▋  | 513/664 [1:36:43<16:10,  6.42s/it]"
          ]
        },
        {
          "output_type": "stream",
          "name": "stdout",
          "text": [
            "Processed and saved batch 514/664\n",
            "Failed to process image at http://assets.myntassets.com/assets/images/2024/NOVEMBER/13/Gxt5dIDX_c44b1b464da3437a9440bb1c5138cfb0.jpg: 503 Server Error: Service Unavailable for url: http://assets.myntassets.com/assets/images/2024/NOVEMBER/13/Gxt5dIDX_c44b1b464da3437a9440bb1c5138cfb0.jpg\n",
            "Failed to process image at http://assets.myntassets.com/assets/images/2024/NOVEMBER/9/lZy0cBAZ_090404f0d23e4445b21f36c068935ef2.jpg: 503 Server Error: Service Unavailable for url: http://assets.myntassets.com/assets/images/2024/NOVEMBER/9/lZy0cBAZ_090404f0d23e4445b21f36c068935ef2.jpg\n"
          ]
        },
        {
          "output_type": "stream",
          "name": "stderr",
          "text": [
            "\rProcessing batches:  77%|███████▋  | 514/664 [1:36:46<13:29,  5.40s/it]"
          ]
        },
        {
          "output_type": "stream",
          "name": "stdout",
          "text": [
            "Processed and saved batch 515/664\n",
            "Failed to process image at http://assets.myntassets.com/assets/images/2024/NOVEMBER/13/BtMqS8DU_e9f402e81eee48d0b4815cfe74570309.jpg: 503 Server Error: Service Unavailable for url: http://assets.myntassets.com/assets/images/2024/NOVEMBER/13/BtMqS8DU_e9f402e81eee48d0b4815cfe74570309.jpg\n"
          ]
        },
        {
          "output_type": "stream",
          "name": "stderr",
          "text": [
            "\rProcessing batches:  78%|███████▊  | 515/664 [1:36:49<11:37,  4.68s/it]"
          ]
        },
        {
          "output_type": "stream",
          "name": "stdout",
          "text": [
            "Processed and saved batch 516/664\n"
          ]
        },
        {
          "output_type": "stream",
          "name": "stderr",
          "text": [
            "\rProcessing batches:  78%|███████▊  | 516/664 [1:36:52<10:18,  4.18s/it]"
          ]
        },
        {
          "output_type": "stream",
          "name": "stdout",
          "text": [
            "Processed and saved batch 517/664\n"
          ]
        },
        {
          "output_type": "stream",
          "name": "stderr",
          "text": [
            "\rProcessing batches:  78%|███████▊  | 517/664 [1:36:55<09:22,  3.83s/it]"
          ]
        },
        {
          "output_type": "stream",
          "name": "stdout",
          "text": [
            "Processed and saved batch 518/664\n"
          ]
        },
        {
          "output_type": "stream",
          "name": "stderr",
          "text": [
            "\rProcessing batches:  78%|███████▊  | 518/664 [1:37:02<11:13,  4.61s/it]"
          ]
        },
        {
          "output_type": "stream",
          "name": "stdout",
          "text": [
            "Failed to process image at https://assets.ajio.com/medias/sys_master/root/20241025/wIXb/671b86a5f9b8ef490be12ac7/-1117Wx1400H-700645917-black-MODEL.jpg: HTTPSConnectionPool(host='assets.ajio.com', port=443): Max retries exceeded with url: /medias/sys_master/root/20241025/wIXb/671b86a5f9b8ef490be12ac7/-1117Wx1400H-700645917-black-MODEL.jpg (Caused by NameResolutionError(\"<urllib3.connection.HTTPSConnection object at 0x7ba546a03f40>: Failed to resolve 'assets.ajio.com' ([Errno -2] Name or service not known)\"))\n",
            "Processed and saved batch 519/664\n"
          ]
        },
        {
          "output_type": "stream",
          "name": "stderr",
          "text": [
            "\rProcessing batches:  78%|███████▊  | 519/664 [1:37:13<16:14,  6.72s/it]"
          ]
        },
        {
          "output_type": "stream",
          "name": "stdout",
          "text": [
            "Failed to process image at https://assets.ajio.com/medias/sys_master/root/20241025/dv9q/671acd62260f9c41e89c3888/-1117Wx1400H-700641782-black-MODEL.jpg: HTTPSConnectionPool(host='assets.ajio.com', port=443): Read timed out. (read timeout=10)\n",
            "Processed and saved batch 520/664\n"
          ]
        },
        {
          "output_type": "stream",
          "name": "stderr",
          "text": [
            "\rProcessing batches:  78%|███████▊  | 520/664 [1:39:23<1:45:01, 43.76s/it]"
          ]
        },
        {
          "output_type": "stream",
          "name": "stdout",
          "text": [
            "Processed and saved batch 521/664\n"
          ]
        },
        {
          "output_type": "stream",
          "name": "stderr",
          "text": [
            "\rProcessing batches:  78%|███████▊  | 521/664 [1:39:44<1:27:26, 36.69s/it]"
          ]
        },
        {
          "output_type": "stream",
          "name": "stdout",
          "text": [
            "Processed and saved batch 522/664\n"
          ]
        },
        {
          "output_type": "stream",
          "name": "stderr",
          "text": [
            "\rProcessing batches:  79%|███████▊  | 522/664 [1:39:47<1:02:55, 26.59s/it]"
          ]
        },
        {
          "output_type": "stream",
          "name": "stdout",
          "text": [
            "Processed and saved batch 523/664\n"
          ]
        },
        {
          "output_type": "stream",
          "name": "stderr",
          "text": [
            "\rProcessing batches:  79%|███████▉  | 523/664 [1:39:50<45:51, 19.51s/it]  "
          ]
        },
        {
          "output_type": "stream",
          "name": "stdout",
          "text": [
            "Processed and saved batch 524/664\n"
          ]
        },
        {
          "output_type": "stream",
          "name": "stderr",
          "text": [
            "\rProcessing batches:  79%|███████▉  | 524/664 [1:39:53<33:58, 14.56s/it]"
          ]
        },
        {
          "output_type": "stream",
          "name": "stdout",
          "text": [
            "Processed and saved batch 525/664\n"
          ]
        },
        {
          "output_type": "stream",
          "name": "stderr",
          "text": [
            "\rProcessing batches:  79%|███████▉  | 525/664 [1:39:56<25:42, 11.10s/it]"
          ]
        },
        {
          "output_type": "stream",
          "name": "stdout",
          "text": [
            "Processed and saved batch 526/664\n"
          ]
        },
        {
          "output_type": "stream",
          "name": "stderr",
          "text": [
            "\rProcessing batches:  79%|███████▉  | 526/664 [1:39:59<19:56,  8.67s/it]"
          ]
        },
        {
          "output_type": "stream",
          "name": "stdout",
          "text": [
            "Failed to process image at http://assets.myntassets.com/assets/images/2024/NOVEMBER/13/6eseLMz5_b18ef0d4333b47348d25b533e170727d.jpg: 503 Server Error: Service Unavailable for url: http://assets.myntassets.com/assets/images/2024/NOVEMBER/13/6eseLMz5_b18ef0d4333b47348d25b533e170727d.jpg\n",
            "Failed to process image at http://assets.myntassets.com/assets/images/2024/OCTOBER/15/XDOYgWtI_3928ac1020874237a21437d4bbdd0801.jpg: 503 Server Error: Service Unavailable for url: http://assets.myntassets.com/assets/images/2024/OCTOBER/15/XDOYgWtI_3928ac1020874237a21437d4bbdd0801.jpg\n",
            "Failed to process image at http://assets.myntassets.com/assets/images/2024/NOVEMBER/13/6qEzgpjV_2adce859a41d4ba4b6d6fde139ca20bb.jpg: 503 Server Error: Service Unavailable for url: http://assets.myntassets.com/assets/images/2024/NOVEMBER/13/6qEzgpjV_2adce859a41d4ba4b6d6fde139ca20bb.jpg\n",
            "Processed and saved batch 527/664\n"
          ]
        },
        {
          "output_type": "stream",
          "name": "stderr",
          "text": [
            "\rProcessing batches:  79%|███████▉  | 527/664 [1:41:05<59:36, 26.11s/it]"
          ]
        },
        {
          "output_type": "stream",
          "name": "stdout",
          "text": [
            "Processed and saved batch 528/664\n"
          ]
        },
        {
          "output_type": "stream",
          "name": "stderr",
          "text": [
            "\rProcessing batches:  80%|███████▉  | 528/664 [1:41:08<43:28, 19.18s/it]"
          ]
        },
        {
          "output_type": "stream",
          "name": "stdout",
          "text": [
            "Failed to process image at http://assets.myntassets.com/assets/images/2024/NOVEMBER/9/VlXAgoj3_4a6032c2d7284bf7b204546080e4eb52.jpg: 503 Server Error: Service Unavailable for url: http://assets.myntassets.com/assets/images/2024/NOVEMBER/9/VlXAgoj3_4a6032c2d7284bf7b204546080e4eb52.jpg\n",
            "Failed to process image at http://assets.myntassets.com/assets/images/2024/NOVEMBER/9/h4INI9nn_d73fb21635334e2faea9f8145534a841.jpg: 503 Server Error: Service Unavailable for url: http://assets.myntassets.com/assets/images/2024/NOVEMBER/9/h4INI9nn_d73fb21635334e2faea9f8145534a841.jpg\n",
            "Failed to process image at http://assets.myntassets.com/assets/images/2024/NOVEMBER/9/QypM03Nu_c18c360eebf047769a8282330b38e12f.jpg: 503 Server Error: Service Unavailable for url: http://assets.myntassets.com/assets/images/2024/NOVEMBER/9/QypM03Nu_c18c360eebf047769a8282330b38e12f.jpg\n",
            "Failed to process image at http://assets.myntassets.com/assets/images/2024/OCTOBER/24/nKwLDi3f_0f51e38c259f493bb598ff4dfa0f22fd.jpg: 503 Server Error: Service Unavailable for url: http://assets.myntassets.com/assets/images/2024/OCTOBER/24/nKwLDi3f_0f51e38c259f493bb598ff4dfa0f22fd.jpg\n",
            "Failed to process image at http://assets.myntassets.com/assets/images/2024/OCTOBER/19/obj7YYkh_a03a82f3ae8246f79a6de572d2d345d2.jpg: 503 Server Error: Service Unavailable for url: http://assets.myntassets.com/assets/images/2024/OCTOBER/19/obj7YYkh_a03a82f3ae8246f79a6de572d2d345d2.jpg\n",
            "Failed to process image at http://assets.myntassets.com/assets/images/2024/OCTOBER/19/ja8bDIqe_3777d1a541c44809b87fd8e02c95b4cb.jpg: 503 Server Error: Service Unavailable for url: http://assets.myntassets.com/assets/images/2024/OCTOBER/19/ja8bDIqe_3777d1a541c44809b87fd8e02c95b4cb.jpg\n",
            "Failed to process image at http://assets.myntassets.com/assets/images/2024/OCTOBER/24/0FJap8s3_e8874efdb5294be0a7a23379ddbd85a1.jpg: 503 Server Error: Service Unavailable for url: http://assets.myntassets.com/assets/images/2024/OCTOBER/24/0FJap8s3_e8874efdb5294be0a7a23379ddbd85a1.jpg\n",
            "Failed to process image at http://assets.myntassets.com/assets/images/2024/NOVEMBER/11/UTe5KoCP_3b4a057a4d0541b082175945c4669337.jpg: 503 Server Error: Service Unavailable for url: http://assets.myntassets.com/assets/images/2024/NOVEMBER/11/UTe5KoCP_3b4a057a4d0541b082175945c4669337.jpg\n",
            "Processed and saved batch 529/664\n",
            "Failed to process image at http://assets.myntassets.com/assets/images/2024/NOVEMBER/9/ugZPNXbG_dde745f0d1a4491f9630b3d65b6b325a.jpg: 503 Server Error: Service Unavailable for url: http://assets.myntassets.com/assets/images/2024/NOVEMBER/9/ugZPNXbG_dde745f0d1a4491f9630b3d65b6b325a.jpg\n"
          ]
        },
        {
          "output_type": "stream",
          "name": "stderr",
          "text": [
            "\rProcessing batches:  80%|███████▉  | 529/664 [1:43:36<2:09:58, 57.77s/it]"
          ]
        },
        {
          "output_type": "stream",
          "name": "stdout",
          "text": [
            "Processed and saved batch 530/664\n"
          ]
        },
        {
          "output_type": "stream",
          "name": "stderr",
          "text": [
            "\rProcessing batches:  80%|███████▉  | 530/664 [1:43:39<1:32:19, 41.34s/it]"
          ]
        },
        {
          "output_type": "stream",
          "name": "stdout",
          "text": [
            "Processed and saved batch 531/664\n",
            "Failed to process image at http://assets.myntassets.com/assets/images/2024/NOVEMBER/9/Ly09dSFp_724f183b36554db39c3c60682e82e3a6.jpg: 503 Server Error: Service Unavailable for url: http://assets.myntassets.com/assets/images/2024/NOVEMBER/9/Ly09dSFp_724f183b36554db39c3c60682e82e3a6.jpg\n"
          ]
        },
        {
          "output_type": "stream",
          "name": "stderr",
          "text": [
            "\rProcessing batches:  80%|███████▉  | 531/664 [1:43:42<1:06:08, 29.84s/it]"
          ]
        },
        {
          "output_type": "stream",
          "name": "stdout",
          "text": [
            "Processed and saved batch 532/664\n"
          ]
        },
        {
          "output_type": "stream",
          "name": "stderr",
          "text": [
            "\rProcessing batches:  80%|████████  | 532/664 [1:43:45<47:56, 21.79s/it]  "
          ]
        },
        {
          "output_type": "stream",
          "name": "stdout",
          "text": [
            "Processed and saved batch 533/664\n",
            "Failed to process image at http://assets.myntassets.com/assets/images/2024/NOVEMBER/9/cxncqqTV_d478cdac494d4cbaaff97c6c7946712c.jpg: 503 Server Error: Service Unavailable for url: http://assets.myntassets.com/assets/images/2024/NOVEMBER/9/cxncqqTV_d478cdac494d4cbaaff97c6c7946712c.jpg\n"
          ]
        },
        {
          "output_type": "stream",
          "name": "stderr",
          "text": [
            "\rProcessing batches:  80%|████████  | 533/664 [1:43:48<35:16, 16.16s/it]"
          ]
        },
        {
          "output_type": "stream",
          "name": "stdout",
          "text": [
            "Processed and saved batch 534/664\n"
          ]
        },
        {
          "output_type": "stream",
          "name": "stderr",
          "text": [
            "\rProcessing batches:  80%|████████  | 534/664 [1:45:09<1:17:15, 35.66s/it]"
          ]
        },
        {
          "output_type": "stream",
          "name": "stdout",
          "text": [
            "Processed and saved batch 535/664\n"
          ]
        },
        {
          "output_type": "stream",
          "name": "stderr",
          "text": [
            "\rProcessing batches:  81%|████████  | 535/664 [1:45:12<55:36, 25.86s/it]  "
          ]
        },
        {
          "output_type": "stream",
          "name": "stdout",
          "text": [
            "Processed and saved batch 536/664\n"
          ]
        },
        {
          "output_type": "stream",
          "name": "stderr",
          "text": [
            "\rProcessing batches:  81%|████████  | 536/664 [1:45:15<40:33, 19.01s/it]"
          ]
        },
        {
          "output_type": "stream",
          "name": "stdout",
          "text": [
            "Processed and saved batch 537/664\n"
          ]
        },
        {
          "output_type": "stream",
          "name": "stderr",
          "text": [
            "\rProcessing batches:  81%|████████  | 537/664 [1:45:18<30:04, 14.21s/it]"
          ]
        },
        {
          "output_type": "stream",
          "name": "stdout",
          "text": [
            "Processed and saved batch 538/664\n"
          ]
        },
        {
          "output_type": "stream",
          "name": "stderr",
          "text": [
            "\rProcessing batches:  81%|████████  | 538/664 [1:45:21<22:47, 10.85s/it]"
          ]
        },
        {
          "output_type": "stream",
          "name": "stdout",
          "text": [
            "Processed and saved batch 539/664\n"
          ]
        },
        {
          "output_type": "stream",
          "name": "stderr",
          "text": [
            "\rProcessing batches:  81%|████████  | 539/664 [1:45:24<17:42,  8.50s/it]"
          ]
        },
        {
          "output_type": "stream",
          "name": "stdout",
          "text": [
            "Processed and saved batch 540/664\n"
          ]
        },
        {
          "output_type": "stream",
          "name": "stderr",
          "text": [
            "\rProcessing batches:  81%|████████▏ | 540/664 [1:45:28<14:09,  6.85s/it]"
          ]
        },
        {
          "output_type": "stream",
          "name": "stdout",
          "text": [
            "Processed and saved batch 541/664\n"
          ]
        },
        {
          "output_type": "stream",
          "name": "stderr",
          "text": [
            "\rProcessing batches:  81%|████████▏ | 541/664 [1:45:31<11:41,  5.70s/it]"
          ]
        },
        {
          "output_type": "stream",
          "name": "stdout",
          "text": [
            "Processed and saved batch 542/664\n"
          ]
        },
        {
          "output_type": "stream",
          "name": "stderr",
          "text": [
            "\rProcessing batches:  82%|████████▏ | 542/664 [1:45:34<09:56,  4.89s/it]"
          ]
        },
        {
          "output_type": "stream",
          "name": "stdout",
          "text": [
            "Processed and saved batch 543/664\n"
          ]
        },
        {
          "output_type": "stream",
          "name": "stderr",
          "text": [
            "\rProcessing batches:  82%|████████▏ | 543/664 [1:45:37<08:43,  4.33s/it]"
          ]
        },
        {
          "output_type": "stream",
          "name": "stdout",
          "text": [
            "Processed and saved batch 544/664\n"
          ]
        },
        {
          "output_type": "stream",
          "name": "stderr",
          "text": [
            "\rProcessing batches:  82%|████████▏ | 544/664 [1:45:40<07:51,  3.93s/it]"
          ]
        },
        {
          "output_type": "stream",
          "name": "stdout",
          "text": [
            "Processed and saved batch 545/664\n"
          ]
        },
        {
          "output_type": "stream",
          "name": "stderr",
          "text": [
            "\rProcessing batches:  82%|████████▏ | 545/664 [1:45:43<07:15,  3.66s/it]"
          ]
        },
        {
          "output_type": "stream",
          "name": "stdout",
          "text": [
            "Processed and saved batch 546/664\n"
          ]
        },
        {
          "output_type": "stream",
          "name": "stderr",
          "text": [
            "\rProcessing batches:  82%|████████▏ | 546/664 [1:45:46<06:48,  3.46s/it]"
          ]
        },
        {
          "output_type": "stream",
          "name": "stdout",
          "text": [
            "Failed to process image at http://assets.myntassets.com/assets/images/2024/NOVEMBER/9/sM1EN45y_ede0b3c3ce244d528e04db89b82cb57e.jpg: 503 Server Error: Service Unavailable for url: http://assets.myntassets.com/assets/images/2024/NOVEMBER/9/sM1EN45y_ede0b3c3ce244d528e04db89b82cb57e.jpg\n",
            "Failed to process image at http://assets.myntassets.com/assets/images/2024/OCTOBER/4/cxvbpRUo_b145bdb3e4424dad88926b05916e6969.jpg: 503 Server Error: Service Unavailable for url: http://assets.myntassets.com/assets/images/2024/OCTOBER/4/cxvbpRUo_b145bdb3e4424dad88926b05916e6969.jpg\n",
            "Failed to process image at http://assets.myntassets.com/assets/images/2024/OCTOBER/25/y2dpho8c_fc7a574409a044ad9210922dc96e47f0.jpg: 503 Server Error: Service Unavailable for url: http://assets.myntassets.com/assets/images/2024/OCTOBER/25/y2dpho8c_fc7a574409a044ad9210922dc96e47f0.jpg\n",
            "Failed to process image at http://assets.myntassets.com/assets/images/2024/NOVEMBER/18/yhOe85l4_46ae1aa4c84c42458325ffb9e74ef3e6.jpg: 503 Server Error: Service Unavailable for url: http://assets.myntassets.com/assets/images/2024/NOVEMBER/18/yhOe85l4_46ae1aa4c84c42458325ffb9e74ef3e6.jpg\n",
            "Processed and saved batch 547/664\n",
            "Failed to process image at http://assets.myntassets.com/assets/images/2024/OCTOBER/15/pgD7LdDu_69ed91daad374960aa9ab81b5de7cdea.jpg: 503 Server Error: Service Unavailable for url: http://assets.myntassets.com/assets/images/2024/OCTOBER/15/pgD7LdDu_69ed91daad374960aa9ab81b5de7cdea.jpg\n"
          ]
        },
        {
          "output_type": "stream",
          "name": "stderr",
          "text": [
            "\rProcessing batches:  82%|████████▏ | 547/664 [1:47:15<57:15, 29.36s/it]"
          ]
        },
        {
          "output_type": "stream",
          "name": "stdout",
          "text": [
            "Processed and saved batch 548/664\n"
          ]
        },
        {
          "output_type": "stream",
          "name": "stderr",
          "text": [
            "\rProcessing batches:  83%|████████▎ | 548/664 [1:47:18<41:28, 21.46s/it]"
          ]
        },
        {
          "output_type": "stream",
          "name": "stdout",
          "text": [
            "Failed to process image at http://assets.myntassets.com/assets/images/26965560/2024/9/17/1bcf2ada-9f13-4d06-b7a9-8e1f0cfd170e1726561884247-Sri-Jagdamba-Pearls-Dealer-Women-Embellished-Bracelet-Style--1.jpg: 503 Server Error: Service Unavailable for url: http://assets.myntassets.com/assets/images/26965560/2024/9/17/1bcf2ada-9f13-4d06-b7a9-8e1f0cfd170e1726561884247-Sri-Jagdamba-Pearls-Dealer-Women-Embellished-Bracelet-Style--1.jpg\n",
            "Failed to process image at http://assets.myntassets.com/assets/images/2024/NOVEMBER/20/ZuuAiaWw_796c6dd6529743c19edfa0de0dc4b0b5.jpg: 503 Server Error: Service Unavailable for url: http://assets.myntassets.com/assets/images/2024/NOVEMBER/20/ZuuAiaWw_796c6dd6529743c19edfa0de0dc4b0b5.jpg\n",
            "Failed to process image at http://assets.myntassets.com/assets/images/30495681/2024/8/14/1cc1b54f-324c-4171-a597-d9f13e67368b1723633804602-Fossil-Scarlette-Rose-Gold-Watch-ES5369-9361723633804255-1.jpg: 503 Server Error: Service Unavailable for url: http://assets.myntassets.com/assets/images/30495681/2024/8/14/1cc1b54f-324c-4171-a597-d9f13e67368b1723633804602-Fossil-Scarlette-Rose-Gold-Watch-ES5369-9361723633804255-1.jpg\n",
            "Failed to process image at http://assets.myntassets.com/assets/images/2024/NOVEMBER/21/rqZO44Ff_8228ef2514c54b10992d882497d4a1ed.jpg: 503 Server Error: Service Unavailable for url: http://assets.myntassets.com/assets/images/2024/NOVEMBER/21/rqZO44Ff_8228ef2514c54b10992d882497d4a1ed.jpg\n",
            "Failed to process image at http://assets.myntassets.com/assets/images/2024/OCTOBER/26/n8UJbX67_c5439d21b9ec4c748d8c512a2d9631f6.jpg: 503 Server Error: Service Unavailable for url: http://assets.myntassets.com/assets/images/2024/OCTOBER/26/n8UJbX67_c5439d21b9ec4c748d8c512a2d9631f6.jpg\n",
            "Failed to process image at http://assets.myntassets.com/assets/images/31130691/2024/10/7/7b7aa278-b63e-4842-8c63-6a1749446bd21728303949523-Invicta-Men-Dial--Stainless-Steel-Straps-Analogue-Watch-4760-1.jpg: 503 Server Error: Service Unavailable for url: http://assets.myntassets.com/assets/images/31130691/2024/10/7/7b7aa278-b63e-4842-8c63-6a1749446bd21728303949523-Invicta-Men-Dial--Stainless-Steel-Straps-Analogue-Watch-4760-1.jpg\n",
            "Failed to process image at http://assets.myntassets.com/assets/images/2024/NOVEMBER/12/GmPPkWIX_3c1de12c608442428cb44c2ba801a7e9.jpg: 503 Server Error: Service Unavailable for url: http://assets.myntassets.com/assets/images/2024/NOVEMBER/12/GmPPkWIX_3c1de12c608442428cb44c2ba801a7e9.jpg\n",
            "Failed to process image at http://assets.myntassets.com/assets/images/2024/NOVEMBER/8/AkYO6iRC_ccfa0f3ae40f43988b42c23e82a1219c.jpg: 503 Server Error: Service Unavailable for url: http://assets.myntassets.com/assets/images/2024/NOVEMBER/8/AkYO6iRC_ccfa0f3ae40f43988b42c23e82a1219c.jpg\n",
            "Failed to process image at http://assets.myntassets.com/assets/images/2024/OCTOBER/25/Joh3vC8e_9c7585054471456bab1dcdadf5845a80.jpg: 503 Server Error: Service Unavailable for url: http://assets.myntassets.com/assets/images/2024/OCTOBER/25/Joh3vC8e_9c7585054471456bab1dcdadf5845a80.jpg\n",
            "Failed to process image at http://assets.myntassets.com/assets/images/2024/NOVEMBER/7/aMv9Ckhd_b1f0e8bea74a4802886552578c5817ef.jpg: 503 Server Error: Service Unavailable for url: http://assets.myntassets.com/assets/images/2024/NOVEMBER/7/aMv9Ckhd_b1f0e8bea74a4802886552578c5817ef.jpg\n",
            "Failed to process image at http://assets.myntassets.com/assets/images/2024/SEPTEMBER/20/KEkqfDoY_b7a5cc5e5bb242fe9c0313eb6690a49d.jpg: 503 Server Error: Service Unavailable for url: http://assets.myntassets.com/assets/images/2024/SEPTEMBER/20/KEkqfDoY_b7a5cc5e5bb242fe9c0313eb6690a49d.jpg\n",
            "Failed to process image at http://assets.myntassets.com/assets/images/2024/NOVEMBER/15/ibz3jpMo_f41b207df8534440af7358ab6e33273a.jpg: 503 Server Error: Service Unavailable for url: http://assets.myntassets.com/assets/images/2024/NOVEMBER/15/ibz3jpMo_f41b207df8534440af7358ab6e33273a.jpg\n",
            "Failed to process image at http://assets.myntassets.com/assets/images/29967481/2024/9/5/25942135-60eb-48af-89d0-1c57ac00164d1725531588048-French-Connection-Women-Embellished-Dial--Stainless-Steel-Br-7.jpg: 503 Server Error: Service Unavailable for url: http://assets.myntassets.com/assets/images/29967481/2024/9/5/25942135-60eb-48af-89d0-1c57ac00164d1725531588048-French-Connection-Women-Embellished-Dial--Stainless-Steel-Br-7.jpg\n",
            "Failed to process image at http://assets.myntassets.com/assets/images/2024/NOVEMBER/13/VmXtsaZp_24a09699d14642e6a9375ebad6fd38b7.jpg: 503 Server Error: Service Unavailable for url: http://assets.myntassets.com/assets/images/2024/NOVEMBER/13/VmXtsaZp_24a09699d14642e6a9375ebad6fd38b7.jpg\n",
            "Failed to process image at http://assets.myntassets.com/assets/images/30707834/2024/10/21/a65e1b7e-3b21-466e-903e-ae1d922d5d331729513620286-Fastrack-Women-Analogue-Bracelet-Style-Watch-FV60053WM02W--6-1.jpg: 503 Server Error: Service Unavailable for url: http://assets.myntassets.com/assets/images/30707834/2024/10/21/a65e1b7e-3b21-466e-903e-ae1d922d5d331729513620286-Fastrack-Women-Analogue-Bracelet-Style-Watch-FV60053WM02W--6-1.jpg\n",
            "Failed to process image at http://assets.myntassets.com/assets/images/30045683/2024/7/26/6b90be8a-0a6c-4a74-9948-c9a7f2fc61551721983855412-Guess-Trend-Inner-Workings-Analog-Gold-Dial-Women-Watch---U1-1.jpg: 503 Server Error: Service Unavailable for url: http://assets.myntassets.com/assets/images/30045683/2024/7/26/6b90be8a-0a6c-4a74-9948-c9a7f2fc61551721983855412-Guess-Trend-Inner-Workings-Analog-Gold-Dial-Women-Watch---U1-1.jpg\n",
            "Failed to process image at http://assets.myntassets.com/assets/images/2024/OCTOBER/19/VBceUKQD_e9a3c7f0952c4c69bf3122f8c1e4f258.jpg: 503 Server Error: Service Unavailable for url: http://assets.myntassets.com/assets/images/2024/OCTOBER/19/VBceUKQD_e9a3c7f0952c4c69bf3122f8c1e4f258.jpg\n",
            "Failed to process image at http://assets.myntassets.com/assets/images/2024/OCTOBER/24/VhNFaD8P_d525c0aaff684214addea8369cf062cf.jpg: 503 Server Error: Service Unavailable for url: http://assets.myntassets.com/assets/images/2024/OCTOBER/24/VhNFaD8P_d525c0aaff684214addea8369cf062cf.jpg\n",
            "Failed to process image at http://assets.myntassets.com/assets/images/31609786/2024/11/18/d77e335c-e820-4a1d-8175-c3fb07a2e9621731934235856-GIORDANO-Women-Printed-Dial--Stainless-Steel-Bracelet-Style--1.jpg: 503 Server Error: Service Unavailable for url: http://assets.myntassets.com/assets/images/31609786/2024/11/18/d77e335c-e820-4a1d-8175-c3fb07a2e9621731934235856-GIORDANO-Women-Printed-Dial--Stainless-Steel-Bracelet-Style--1.jpg\n",
            "Failed to process image at http://assets.myntassets.com/assets/images/2024/NOVEMBER/12/StQkg39S_fc3cb51ce6994457831a3e384c3d161d.jpg: 503 Server Error: Service Unavailable for url: http://assets.myntassets.com/assets/images/2024/NOVEMBER/12/StQkg39S_fc3cb51ce6994457831a3e384c3d161d.jpg\n",
            "Failed to process image at http://assets.myntassets.com/assets/images/2024/NOVEMBER/7/cABKAkBY_c99974612d50491194fc3e730c3470c0.jpg: 503 Server Error: Service Unavailable for url: http://assets.myntassets.com/assets/images/2024/NOVEMBER/7/cABKAkBY_c99974612d50491194fc3e730c3470c0.jpg\n",
            "Failed to process image at http://assets.myntassets.com/assets/images/2024/NOVEMBER/19/4IAiBTGD_9b0f52fe429e4b37a0d289e2497e828e.jpg: 503 Server Error: Service Unavailable for url: http://assets.myntassets.com/assets/images/2024/NOVEMBER/19/4IAiBTGD_9b0f52fe429e4b37a0d289e2497e828e.jpg\n",
            "Failed to process image at http://assets.myntassets.com/assets/images/2024/NOVEMBER/13/bJ7pL6Bh_acb4c4d6c7fa4ab4b87a2fe5f5912950.jpg: 503 Server Error: Service Unavailable for url: http://assets.myntassets.com/assets/images/2024/NOVEMBER/13/bJ7pL6Bh_acb4c4d6c7fa4ab4b87a2fe5f5912950.jpg\n",
            "Processed and saved batch 549/664\n"
          ]
        },
        {
          "output_type": "stream",
          "name": "stderr",
          "text": [
            "\rProcessing batches:  83%|████████▎ | 549/664 [1:50:30<2:18:41, 72.36s/it]"
          ]
        },
        {
          "output_type": "stream",
          "name": "stdout",
          "text": [
            "Failed to process image at http://assets.myntassets.com/assets/images/2024/NOVEMBER/13/JIqAAELG_554e3436de364ce482d977ed02c92fc8.jpg: 503 Server Error: Service Unavailable for url: http://assets.myntassets.com/assets/images/2024/NOVEMBER/13/JIqAAELG_554e3436de364ce482d977ed02c92fc8.jpg\n",
            "Processed and saved batch 550/664\n"
          ]
        },
        {
          "output_type": "stream",
          "name": "stderr",
          "text": [
            "\rProcessing batches:  83%|████████▎ | 550/664 [1:50:33<1:37:57, 51.56s/it]"
          ]
        },
        {
          "output_type": "stream",
          "name": "stdout",
          "text": [
            "Processed and saved batch 551/664\n",
            "Failed to process image at http://assets.myntassets.com/assets/images/2024/OCTOBER/26/mC1YLWME_c73194aea04046e6be5dcbfb8c1282ed.jpg: 503 Server Error: Service Unavailable for url: http://assets.myntassets.com/assets/images/2024/OCTOBER/26/mC1YLWME_c73194aea04046e6be5dcbfb8c1282ed.jpg\n",
            "Failed to process image at http://assets.myntassets.com/assets/images/31024246/2024/10/24/6bd7d792-ff57-4a4f-8e95-2847514494611729762168531-Daniel-Wellington-Women-Dial--Braided-Straps-Analogue-Watch--1.jpg: 503 Server Error: Service Unavailable for url: http://assets.myntassets.com/assets/images/31024246/2024/10/24/6bd7d792-ff57-4a4f-8e95-2847514494611729762168531-Daniel-Wellington-Women-Dial--Braided-Straps-Analogue-Watch--1.jpg\n"
          ]
        },
        {
          "output_type": "stream",
          "name": "stderr",
          "text": [
            "\rProcessing batches:  83%|████████▎ | 551/664 [1:50:36<1:09:40, 36.99s/it]"
          ]
        },
        {
          "output_type": "stream",
          "name": "stdout",
          "text": [
            "Processed and saved batch 552/664\n",
            "Failed to process image at http://assets.myntassets.com/assets/images/2024/OCTOBER/7/9uWAYkpT_8434da6fb3a64ad7b2380719fd923a5e.jpg: 503 Server Error: Service Unavailable for url: http://assets.myntassets.com/assets/images/2024/OCTOBER/7/9uWAYkpT_8434da6fb3a64ad7b2380719fd923a5e.jpg\n",
            "Failed to process image at http://assets.myntassets.com/assets/images/2024/NOVEMBER/14/KgVbEs5i_18002c22aab84949bca3026467d81c4b.jpg: 503 Server Error: Service Unavailable for url: http://assets.myntassets.com/assets/images/2024/NOVEMBER/14/KgVbEs5i_18002c22aab84949bca3026467d81c4b.jpg\n"
          ]
        },
        {
          "output_type": "stream",
          "name": "stderr",
          "text": [
            "\rProcessing batches:  83%|████████▎ | 552/664 [1:50:39<50:01, 26.80s/it]  "
          ]
        },
        {
          "output_type": "stream",
          "name": "stdout",
          "text": [
            "Processed and saved batch 553/664\n"
          ]
        },
        {
          "output_type": "stream",
          "name": "stderr",
          "text": [
            "\rProcessing batches:  83%|████████▎ | 553/664 [1:50:42<36:22, 19.66s/it]"
          ]
        },
        {
          "output_type": "stream",
          "name": "stdout",
          "text": [
            "Processed and saved batch 554/664\n",
            "Failed to process image at http://assets.myntassets.com/assets/images/2024/NOVEMBER/18/exwRwSJe_b23348809a064a3ba7ac20021a1ebf4e.jpg: 503 Server Error: Service Unavailable for url: http://assets.myntassets.com/assets/images/2024/NOVEMBER/18/exwRwSJe_b23348809a064a3ba7ac20021a1ebf4e.jpg\n",
            "Failed to process image at http://assets.myntassets.com/assets/images/2024/NOVEMBER/13/i3YRUxru_80018c22040a4e10859699654f482ba3.jpg: 503 Server Error: Service Unavailable for url: http://assets.myntassets.com/assets/images/2024/NOVEMBER/13/i3YRUxru_80018c22040a4e10859699654f482ba3.jpg\n"
          ]
        },
        {
          "output_type": "stream",
          "name": "stderr",
          "text": [
            "\rProcessing batches:  83%|████████▎ | 554/664 [1:50:45<26:53, 14.67s/it]"
          ]
        },
        {
          "output_type": "stream",
          "name": "stdout",
          "text": [
            "Processed and saved batch 555/664\n"
          ]
        },
        {
          "output_type": "stream",
          "name": "stderr",
          "text": [
            "\rProcessing batches:  84%|████████▎ | 555/664 [1:50:48<20:17, 11.17s/it]"
          ]
        },
        {
          "output_type": "stream",
          "name": "stdout",
          "text": [
            "Processed and saved batch 556/664\n"
          ]
        },
        {
          "output_type": "stream",
          "name": "stderr",
          "text": [
            "\rProcessing batches:  84%|████████▎ | 556/664 [1:50:51<15:42,  8.72s/it]"
          ]
        },
        {
          "output_type": "stream",
          "name": "stdout",
          "text": [
            "Processed and saved batch 557/664\n"
          ]
        },
        {
          "output_type": "stream",
          "name": "stderr",
          "text": [
            "\rProcessing batches:  84%|████████▍ | 557/664 [1:50:54<12:30,  7.01s/it]"
          ]
        },
        {
          "output_type": "stream",
          "name": "stdout",
          "text": [
            "Processed and saved batch 558/664\n"
          ]
        },
        {
          "output_type": "stream",
          "name": "stderr",
          "text": [
            "\rProcessing batches:  84%|████████▍ | 558/664 [1:50:57<10:15,  5.81s/it]"
          ]
        },
        {
          "output_type": "stream",
          "name": "stdout",
          "text": [
            "Processed and saved batch 559/664\n"
          ]
        },
        {
          "output_type": "stream",
          "name": "stderr",
          "text": [
            "\rProcessing batches:  84%|████████▍ | 559/664 [1:51:00<08:41,  4.97s/it]"
          ]
        },
        {
          "output_type": "stream",
          "name": "stdout",
          "text": [
            "Processed and saved batch 560/664\n"
          ]
        },
        {
          "output_type": "stream",
          "name": "stderr",
          "text": [
            "\rProcessing batches:  84%|████████▍ | 560/664 [1:51:22<17:33, 10.13s/it]"
          ]
        },
        {
          "output_type": "stream",
          "name": "stdout",
          "text": [
            "Processed and saved batch 561/664\n"
          ]
        },
        {
          "output_type": "stream",
          "name": "stderr",
          "text": [
            "\rProcessing batches:  84%|████████▍ | 561/664 [1:51:25<13:43,  8.00s/it]"
          ]
        },
        {
          "output_type": "stream",
          "name": "stdout",
          "text": [
            "Processed and saved batch 562/664\n"
          ]
        },
        {
          "output_type": "stream",
          "name": "stderr",
          "text": [
            "\rProcessing batches:  85%|████████▍ | 562/664 [1:51:28<11:03,  6.50s/it]"
          ]
        },
        {
          "output_type": "stream",
          "name": "stdout",
          "text": [
            "Processed and saved batch 563/664\n"
          ]
        },
        {
          "output_type": "stream",
          "name": "stderr",
          "text": [
            "\rProcessing batches:  85%|████████▍ | 563/664 [1:51:31<09:10,  5.45s/it]"
          ]
        },
        {
          "output_type": "stream",
          "name": "stdout",
          "text": [
            "Processed and saved batch 564/664\n"
          ]
        },
        {
          "output_type": "stream",
          "name": "stderr",
          "text": [
            "\rProcessing batches:  85%|████████▍ | 564/664 [1:51:34<07:52,  4.72s/it]"
          ]
        },
        {
          "output_type": "stream",
          "name": "stdout",
          "text": [
            "Processed and saved batch 565/664\n"
          ]
        },
        {
          "output_type": "stream",
          "name": "stderr",
          "text": [
            "\rProcessing batches:  85%|████████▌ | 565/664 [1:51:37<06:56,  4.21s/it]"
          ]
        },
        {
          "output_type": "stream",
          "name": "stdout",
          "text": [
            "Processed and saved batch 566/664\n"
          ]
        },
        {
          "output_type": "stream",
          "name": "stderr",
          "text": [
            "\rProcessing batches:  85%|████████▌ | 566/664 [1:51:40<06:17,  3.85s/it]"
          ]
        },
        {
          "output_type": "stream",
          "name": "stdout",
          "text": [
            "Processed and saved batch 567/664\n"
          ]
        },
        {
          "output_type": "stream",
          "name": "stderr",
          "text": [
            "\rProcessing batches:  85%|████████▌ | 567/664 [1:51:43<05:48,  3.60s/it]"
          ]
        },
        {
          "output_type": "stream",
          "name": "stdout",
          "text": [
            "Processed and saved batch 568/664\n"
          ]
        },
        {
          "output_type": "stream",
          "name": "stderr",
          "text": [
            "\rProcessing batches:  86%|████████▌ | 568/664 [1:51:46<05:28,  3.42s/it]"
          ]
        },
        {
          "output_type": "stream",
          "name": "stdout",
          "text": [
            "Processed and saved batch 569/664\n"
          ]
        },
        {
          "output_type": "stream",
          "name": "stderr",
          "text": [
            "\rProcessing batches:  86%|████████▌ | 569/664 [1:51:49<05:13,  3.30s/it]"
          ]
        },
        {
          "output_type": "stream",
          "name": "stdout",
          "text": [
            "Processed and saved batch 570/664\n"
          ]
        },
        {
          "output_type": "stream",
          "name": "stderr",
          "text": [
            "\rProcessing batches:  86%|████████▌ | 570/664 [1:51:52<05:01,  3.21s/it]"
          ]
        },
        {
          "output_type": "stream",
          "name": "stdout",
          "text": [
            "Processed and saved batch 571/664\n"
          ]
        },
        {
          "output_type": "stream",
          "name": "stderr",
          "text": [
            "\rProcessing batches:  86%|████████▌ | 571/664 [1:51:55<04:53,  3.15s/it]"
          ]
        },
        {
          "output_type": "stream",
          "name": "stdout",
          "text": [
            "Processed and saved batch 572/664\n"
          ]
        },
        {
          "output_type": "stream",
          "name": "stderr",
          "text": [
            "\rProcessing batches:  86%|████████▌ | 572/664 [1:51:58<04:46,  3.11s/it]"
          ]
        },
        {
          "output_type": "stream",
          "name": "stdout",
          "text": [
            "Processed and saved batch 573/664\n"
          ]
        },
        {
          "output_type": "stream",
          "name": "stderr",
          "text": [
            "\rProcessing batches:  86%|████████▋ | 573/664 [1:52:01<04:40,  3.08s/it]"
          ]
        },
        {
          "output_type": "stream",
          "name": "stdout",
          "text": [
            "Processed and saved batch 574/664\n"
          ]
        },
        {
          "output_type": "stream",
          "name": "stderr",
          "text": [
            "\rProcessing batches:  86%|████████▋ | 574/664 [1:52:04<04:35,  3.06s/it]"
          ]
        },
        {
          "output_type": "stream",
          "name": "stdout",
          "text": [
            "Processed and saved batch 575/664\n"
          ]
        },
        {
          "output_type": "stream",
          "name": "stderr",
          "text": [
            "\rProcessing batches:  87%|████████▋ | 575/664 [1:52:07<04:31,  3.05s/it]"
          ]
        },
        {
          "output_type": "stream",
          "name": "stdout",
          "text": [
            "Processed and saved batch 576/664\n"
          ]
        },
        {
          "output_type": "stream",
          "name": "stderr",
          "text": [
            "\rProcessing batches:  87%|████████▋ | 576/664 [1:52:10<04:27,  3.04s/it]"
          ]
        },
        {
          "output_type": "stream",
          "name": "stdout",
          "text": [
            "Processed and saved batch 577/664\n"
          ]
        },
        {
          "output_type": "stream",
          "name": "stderr",
          "text": [
            "\rProcessing batches:  87%|████████▋ | 577/664 [1:52:13<04:23,  3.03s/it]"
          ]
        },
        {
          "output_type": "stream",
          "name": "stdout",
          "text": [
            "Processed and saved batch 578/664\n"
          ]
        },
        {
          "output_type": "stream",
          "name": "stderr",
          "text": [
            "\rProcessing batches:  87%|████████▋ | 578/664 [1:52:16<04:19,  3.02s/it]"
          ]
        },
        {
          "output_type": "stream",
          "name": "stdout",
          "text": [
            "Failed to process image at http://assets.myntassets.com/assets/images/2024/OCTOBER/19/WjaFaQjp_05baf021d58244649b3281dec91981de.jpg: 503 Server Error: Service Unavailable for url: http://assets.myntassets.com/assets/images/2024/OCTOBER/19/WjaFaQjp_05baf021d58244649b3281dec91981de.jpg\n",
            "Failed to process image at http://assets.myntassets.com/assets/images/2024/NOVEMBER/13/GXL4ql1q_dc1691ddeb7f422e9c93aecca18c6d4f.jpg: 503 Server Error: Service Unavailable for url: http://assets.myntassets.com/assets/images/2024/NOVEMBER/13/GXL4ql1q_dc1691ddeb7f422e9c93aecca18c6d4f.jpg\n",
            "Failed to process image at http://assets.myntassets.com/assets/images/2024/NOVEMBER/13/Sp5ZtA7Y_d0f8799faf954f59b5721becbc5f6d36.jpg: 503 Server Error: Service Unavailable for url: http://assets.myntassets.com/assets/images/2024/NOVEMBER/13/Sp5ZtA7Y_d0f8799faf954f59b5721becbc5f6d36.jpg\n",
            "Failed to process image at http://assets.myntassets.com/assets/images/2024/NOVEMBER/13/GG5rFVQm_0e5d28155c6c4f9ba5206f1f9a400781.jpg: 503 Server Error: Service Unavailable for url: http://assets.myntassets.com/assets/images/2024/NOVEMBER/13/GG5rFVQm_0e5d28155c6c4f9ba5206f1f9a400781.jpg\n",
            "Failed to process image at http://assets.myntassets.com/assets/images/2024/OCTOBER/18/k0QM87Sm_9240f2d20da341109c10cc52683a1650.jpg: 503 Server Error: Service Unavailable for url: http://assets.myntassets.com/assets/images/2024/OCTOBER/18/k0QM87Sm_9240f2d20da341109c10cc52683a1650.jpg\n",
            "Processed and saved batch 579/664\n"
          ]
        },
        {
          "output_type": "stream",
          "name": "stderr",
          "text": [
            "\rProcessing batches:  87%|████████▋ | 579/664 [1:52:39<12:37,  8.91s/it]"
          ]
        },
        {
          "output_type": "stream",
          "name": "stdout",
          "text": [
            "Processed and saved batch 580/664\n",
            "Failed to process image at http://assets.myntassets.com/assets/images/2024/OCTOBER/4/OB52fGTY_a5444b207f3048fca76ce33dd4944235.jpg: 503 Server Error: Service Unavailable for url: http://assets.myntassets.com/assets/images/2024/OCTOBER/4/OB52fGTY_a5444b207f3048fca76ce33dd4944235.jpg\n"
          ]
        },
        {
          "output_type": "stream",
          "name": "stderr",
          "text": [
            "\rProcessing batches:  87%|████████▋ | 580/664 [1:52:42<09:59,  7.14s/it]"
          ]
        },
        {
          "output_type": "stream",
          "name": "stdout",
          "text": [
            "Processed and saved batch 581/664\n"
          ]
        },
        {
          "output_type": "stream",
          "name": "stderr",
          "text": [
            "\rProcessing batches:  88%|████████▊ | 581/664 [1:52:45<08:09,  5.90s/it]"
          ]
        },
        {
          "output_type": "stream",
          "name": "stdout",
          "text": [
            "Processed and saved batch 582/664\n"
          ]
        },
        {
          "output_type": "stream",
          "name": "stderr",
          "text": [
            "\rProcessing batches:  88%|████████▊ | 582/664 [1:52:48<06:52,  5.04s/it]"
          ]
        },
        {
          "output_type": "stream",
          "name": "stdout",
          "text": [
            "Processed and saved batch 583/664\n"
          ]
        },
        {
          "output_type": "stream",
          "name": "stderr",
          "text": [
            "\rProcessing batches:  88%|████████▊ | 583/664 [1:52:51<05:58,  4.43s/it]"
          ]
        },
        {
          "output_type": "stream",
          "name": "stdout",
          "text": [
            "Processed and saved batch 584/664\n"
          ]
        },
        {
          "output_type": "stream",
          "name": "stderr",
          "text": [
            "\rProcessing batches:  88%|████████▊ | 584/664 [1:54:05<33:40, 25.26s/it]"
          ]
        },
        {
          "output_type": "stream",
          "name": "stdout",
          "text": [
            "Processed and saved batch 585/664\n"
          ]
        },
        {
          "output_type": "stream",
          "name": "stderr",
          "text": [
            "\rProcessing batches:  88%|████████▊ | 585/664 [1:54:15<27:35, 20.96s/it]"
          ]
        },
        {
          "output_type": "stream",
          "name": "stdout",
          "text": [
            "Processed and saved batch 586/664\n"
          ]
        },
        {
          "output_type": "stream",
          "name": "stderr",
          "text": [
            "\rProcessing batches:  88%|████████▊ | 586/664 [1:54:18<20:14, 15.57s/it]"
          ]
        },
        {
          "output_type": "stream",
          "name": "stdout",
          "text": [
            "Processed and saved batch 587/664\n"
          ]
        },
        {
          "output_type": "stream",
          "name": "stderr",
          "text": [
            "\rProcessing batches:  88%|████████▊ | 587/664 [1:54:22<15:08, 11.80s/it]"
          ]
        },
        {
          "output_type": "stream",
          "name": "stdout",
          "text": [
            "Processed and saved batch 588/664\n"
          ]
        },
        {
          "output_type": "stream",
          "name": "stderr",
          "text": [
            "\rProcessing batches:  89%|████████▊ | 588/664 [1:54:25<11:36,  9.17s/it]"
          ]
        },
        {
          "output_type": "stream",
          "name": "stdout",
          "text": [
            "Processed and saved batch 589/664\n"
          ]
        },
        {
          "output_type": "stream",
          "name": "stderr",
          "text": [
            "\rProcessing batches:  89%|████████▊ | 589/664 [1:54:28<09:09,  7.32s/it]"
          ]
        },
        {
          "output_type": "stream",
          "name": "stdout",
          "text": [
            "Processed and saved batch 590/664\n"
          ]
        },
        {
          "output_type": "stream",
          "name": "stderr",
          "text": [
            "\rProcessing batches:  89%|████████▉ | 590/664 [1:54:31<07:26,  6.03s/it]"
          ]
        },
        {
          "output_type": "stream",
          "name": "stdout",
          "text": [
            "Processed and saved batch 591/664\n"
          ]
        },
        {
          "output_type": "stream",
          "name": "stderr",
          "text": [
            "\rProcessing batches:  89%|████████▉ | 591/664 [1:54:34<06:13,  5.12s/it]"
          ]
        },
        {
          "output_type": "stream",
          "name": "stdout",
          "text": [
            "Processed and saved batch 592/664\n"
          ]
        },
        {
          "output_type": "stream",
          "name": "stderr",
          "text": [
            "\rProcessing batches:  89%|████████▉ | 592/664 [1:54:37<05:23,  4.49s/it]"
          ]
        },
        {
          "output_type": "stream",
          "name": "stdout",
          "text": [
            "Processed and saved batch 593/664\n"
          ]
        },
        {
          "output_type": "stream",
          "name": "stderr",
          "text": [
            "\rProcessing batches:  89%|████████▉ | 593/664 [1:54:40<04:55,  4.16s/it]"
          ]
        },
        {
          "output_type": "stream",
          "name": "stdout",
          "text": [
            "Processed and saved batch 594/664\n"
          ]
        },
        {
          "output_type": "stream",
          "name": "stderr",
          "text": [
            "\rProcessing batches:  89%|████████▉ | 594/664 [1:54:55<08:29,  7.28s/it]"
          ]
        },
        {
          "output_type": "stream",
          "name": "stdout",
          "text": [
            "Processed and saved batch 595/664\n"
          ]
        },
        {
          "output_type": "stream",
          "name": "stderr",
          "text": [
            "\rProcessing batches:  90%|████████▉ | 595/664 [1:55:33<19:04, 16.59s/it]"
          ]
        },
        {
          "output_type": "stream",
          "name": "stdout",
          "text": [
            "Processed and saved batch 596/664\n"
          ]
        },
        {
          "output_type": "stream",
          "name": "stderr",
          "text": [
            "\rProcessing batches:  90%|████████▉ | 596/664 [1:55:36<14:10, 12.51s/it]"
          ]
        },
        {
          "output_type": "stream",
          "name": "stdout",
          "text": [
            "Processed and saved batch 597/664\n"
          ]
        },
        {
          "output_type": "stream",
          "name": "stderr",
          "text": [
            "\rProcessing batches:  90%|████████▉ | 597/664 [1:55:39<10:47,  9.66s/it]"
          ]
        },
        {
          "output_type": "stream",
          "name": "stdout",
          "text": [
            "Processed and saved batch 598/664\n"
          ]
        },
        {
          "output_type": "stream",
          "name": "stderr",
          "text": [
            "\rProcessing batches:  90%|█████████ | 598/664 [1:55:42<08:26,  7.67s/it]"
          ]
        },
        {
          "output_type": "stream",
          "name": "stdout",
          "text": [
            "Processed and saved batch 599/664\n"
          ]
        },
        {
          "output_type": "stream",
          "name": "stderr",
          "text": [
            "\rProcessing batches:  90%|█████████ | 599/664 [1:55:45<06:47,  6.27s/it]"
          ]
        },
        {
          "output_type": "stream",
          "name": "stdout",
          "text": [
            "Processed and saved batch 600/664\n"
          ]
        },
        {
          "output_type": "stream",
          "name": "stderr",
          "text": [
            "\rProcessing batches:  90%|█████████ | 600/664 [1:56:17<14:58, 14.03s/it]"
          ]
        },
        {
          "output_type": "stream",
          "name": "stdout",
          "text": [
            "Processed and saved batch 601/664\n"
          ]
        },
        {
          "output_type": "stream",
          "name": "stderr",
          "text": [
            "\rProcessing batches:  91%|█████████ | 601/664 [1:56:31<14:46, 14.07s/it]"
          ]
        },
        {
          "output_type": "stream",
          "name": "stdout",
          "text": [
            "Processed and saved batch 602/664\n"
          ]
        },
        {
          "output_type": "stream",
          "name": "stderr",
          "text": [
            "\rProcessing batches:  91%|█████████ | 602/664 [1:56:50<16:02, 15.52s/it]"
          ]
        },
        {
          "output_type": "stream",
          "name": "stdout",
          "text": [
            "Processed and saved batch 603/664\n"
          ]
        },
        {
          "output_type": "stream",
          "name": "stderr",
          "text": [
            "\rProcessing batches:  91%|█████████ | 603/664 [1:56:53<11:57, 11.77s/it]"
          ]
        },
        {
          "output_type": "stream",
          "name": "stdout",
          "text": [
            "Processed and saved batch 604/664\n"
          ]
        },
        {
          "output_type": "stream",
          "name": "stderr",
          "text": [
            "\rProcessing batches:  91%|█████████ | 604/664 [1:56:56<09:08,  9.14s/it]"
          ]
        },
        {
          "output_type": "stream",
          "name": "stdout",
          "text": [
            "Processed and saved batch 605/664\n"
          ]
        },
        {
          "output_type": "stream",
          "name": "stderr",
          "text": [
            "\rProcessing batches:  91%|█████████ | 605/664 [1:57:01<07:35,  7.72s/it]"
          ]
        },
        {
          "output_type": "stream",
          "name": "stdout",
          "text": [
            "Processed and saved batch 606/664\n"
          ]
        },
        {
          "output_type": "stream",
          "name": "stderr",
          "text": [
            "\rProcessing batches:  91%|█████████▏| 606/664 [1:57:04<06:06,  6.32s/it]"
          ]
        },
        {
          "output_type": "stream",
          "name": "stdout",
          "text": [
            "Processed and saved batch 607/664\n"
          ]
        },
        {
          "output_type": "stream",
          "name": "stderr",
          "text": [
            "\rProcessing batches:  91%|█████████▏| 607/664 [1:57:11<06:11,  6.52s/it]"
          ]
        },
        {
          "output_type": "stream",
          "name": "stdout",
          "text": [
            "Processed and saved batch 608/664\n"
          ]
        },
        {
          "output_type": "stream",
          "name": "stderr",
          "text": [
            "\rProcessing batches:  92%|█████████▏| 608/664 [1:57:22<07:25,  7.96s/it]"
          ]
        },
        {
          "output_type": "stream",
          "name": "stdout",
          "text": [
            "Processed and saved batch 609/664\n"
          ]
        },
        {
          "output_type": "stream",
          "name": "stderr",
          "text": [
            "\rProcessing batches:  92%|█████████▏| 609/664 [1:57:49<12:26, 13.58s/it]"
          ]
        },
        {
          "output_type": "stream",
          "name": "stdout",
          "text": [
            "Processed and saved batch 610/664\n"
          ]
        },
        {
          "output_type": "stream",
          "name": "stderr",
          "text": [
            "\rProcessing batches:  92%|█████████▏| 610/664 [1:57:56<10:37, 11.80s/it]"
          ]
        },
        {
          "output_type": "stream",
          "name": "stdout",
          "text": [
            "Processed and saved batch 611/664\n"
          ]
        },
        {
          "output_type": "stream",
          "name": "stderr",
          "text": [
            "\rProcessing batches:  92%|█████████▏| 611/664 [1:58:37<18:01, 20.41s/it]"
          ]
        },
        {
          "output_type": "stream",
          "name": "stdout",
          "text": [
            "Processed and saved batch 612/664\n"
          ]
        },
        {
          "output_type": "stream",
          "name": "stderr",
          "text": [
            "\rProcessing batches:  92%|█████████▏| 612/664 [1:58:42<13:52, 16.01s/it]"
          ]
        },
        {
          "output_type": "stream",
          "name": "stdout",
          "text": [
            "Processed and saved batch 613/664\n"
          ]
        },
        {
          "output_type": "stream",
          "name": "stderr",
          "text": [
            "\rProcessing batches:  92%|█████████▏| 613/664 [1:58:45<10:17, 12.11s/it]"
          ]
        },
        {
          "output_type": "stream",
          "name": "stdout",
          "text": [
            "Processed and saved batch 614/664\n"
          ]
        },
        {
          "output_type": "stream",
          "name": "stderr",
          "text": [
            "\rProcessing batches:  92%|█████████▏| 614/664 [1:58:59<10:20, 12.41s/it]"
          ]
        },
        {
          "output_type": "stream",
          "name": "stdout",
          "text": [
            "Processed and saved batch 615/664\n"
          ]
        },
        {
          "output_type": "stream",
          "name": "stderr",
          "text": [
            "\rProcessing batches:  93%|█████████▎| 615/664 [1:59:02<07:49,  9.59s/it]"
          ]
        },
        {
          "output_type": "stream",
          "name": "stdout",
          "text": [
            "Processed and saved batch 616/664\n"
          ]
        },
        {
          "output_type": "stream",
          "name": "stderr",
          "text": [
            "\rProcessing batches:  93%|█████████▎| 616/664 [1:59:18<09:15, 11.57s/it]"
          ]
        },
        {
          "output_type": "stream",
          "name": "stdout",
          "text": [
            "Processed and saved batch 617/664\n"
          ]
        },
        {
          "output_type": "stream",
          "name": "stderr",
          "text": [
            "\rProcessing batches:  93%|█████████▎| 617/664 [1:59:30<09:15, 11.83s/it]"
          ]
        },
        {
          "output_type": "stream",
          "name": "stdout",
          "text": [
            "Processed and saved batch 618/664\n"
          ]
        },
        {
          "output_type": "stream",
          "name": "stderr",
          "text": [
            "\rProcessing batches:  93%|█████████▎| 618/664 [1:59:48<10:24, 13.57s/it]"
          ]
        },
        {
          "output_type": "stream",
          "name": "stdout",
          "text": [
            "Processed and saved batch 619/664\n"
          ]
        },
        {
          "output_type": "stream",
          "name": "stderr",
          "text": [
            "\rProcessing batches:  93%|█████████▎| 619/664 [1:59:51<07:48, 10.40s/it]"
          ]
        },
        {
          "output_type": "stream",
          "name": "stdout",
          "text": [
            "Processed and saved batch 620/664\n"
          ]
        },
        {
          "output_type": "stream",
          "name": "stderr",
          "text": [
            "\rProcessing batches:  93%|█████████▎| 620/664 [1:59:54<06:00,  8.19s/it]"
          ]
        },
        {
          "output_type": "stream",
          "name": "stdout",
          "text": [
            "Processed and saved batch 621/664\n"
          ]
        },
        {
          "output_type": "stream",
          "name": "stderr",
          "text": [
            "\rProcessing batches:  94%|█████████▎| 621/664 [1:59:57<04:45,  6.63s/it]"
          ]
        },
        {
          "output_type": "stream",
          "name": "stdout",
          "text": [
            "Processed and saved batch 622/664\n"
          ]
        },
        {
          "output_type": "stream",
          "name": "stderr",
          "text": [
            "\rProcessing batches:  94%|█████████▎| 622/664 [2:00:00<03:52,  5.55s/it]"
          ]
        },
        {
          "output_type": "stream",
          "name": "stdout",
          "text": [
            "Processed and saved batch 623/664\n"
          ]
        },
        {
          "output_type": "stream",
          "name": "stderr",
          "text": [
            "\rProcessing batches:  94%|█████████▍| 623/664 [2:00:03<03:16,  4.79s/it]"
          ]
        },
        {
          "output_type": "stream",
          "name": "stdout",
          "text": [
            "Processed and saved batch 624/664\n"
          ]
        },
        {
          "output_type": "stream",
          "name": "stderr",
          "text": [
            "\rProcessing batches:  94%|█████████▍| 624/664 [2:00:16<04:54,  7.35s/it]"
          ]
        },
        {
          "output_type": "stream",
          "name": "stdout",
          "text": [
            "Processed and saved batch 625/664\n"
          ]
        },
        {
          "output_type": "stream",
          "name": "stderr",
          "text": [
            "\rProcessing batches:  94%|█████████▍| 625/664 [2:00:45<08:56, 13.75s/it]"
          ]
        },
        {
          "output_type": "stream",
          "name": "stdout",
          "text": [
            "Processed and saved batch 626/664\n"
          ]
        },
        {
          "output_type": "stream",
          "name": "stderr",
          "text": [
            "\rProcessing batches:  94%|█████████▍| 626/664 [2:00:50<07:08, 11.28s/it]"
          ]
        },
        {
          "output_type": "stream",
          "name": "stdout",
          "text": [
            "Processed and saved batch 627/664\n"
          ]
        },
        {
          "output_type": "stream",
          "name": "stderr",
          "text": [
            "\rProcessing batches:  94%|█████████▍| 627/664 [2:01:31<12:21, 20.05s/it]"
          ]
        },
        {
          "output_type": "stream",
          "name": "stdout",
          "text": [
            "Processed and saved batch 628/664\n"
          ]
        },
        {
          "output_type": "stream",
          "name": "stderr",
          "text": [
            "\rProcessing batches:  95%|█████████▍| 628/664 [2:01:38<09:37, 16.05s/it]"
          ]
        },
        {
          "output_type": "stream",
          "name": "stdout",
          "text": [
            "Processed and saved batch 629/664\n"
          ]
        },
        {
          "output_type": "stream",
          "name": "stderr",
          "text": [
            "\rProcessing batches:  95%|█████████▍| 629/664 [2:01:41<07:04, 12.14s/it]"
          ]
        },
        {
          "output_type": "stream",
          "name": "stdout",
          "text": [
            "Failed to process image at https://image.hm.com/assets/hm/11/8c/118c8d5d77d5d35945cd2e2a469e01e1e57020bd.jpg: 404 Client Error: Not Found for url: https://image.hm.com/assets/hm/11/8c/118c8d5d77d5d35945cd2e2a469e01e1e57020bd.JPG\n",
            "Processed and saved batch 630/664\n"
          ]
        },
        {
          "output_type": "stream",
          "name": "stderr",
          "text": [
            "\rProcessing batches:  95%|█████████▍| 630/664 [2:01:50<06:26, 11.35s/it]"
          ]
        },
        {
          "output_type": "stream",
          "name": "stdout",
          "text": [
            "Processed and saved batch 631/664\n"
          ]
        },
        {
          "output_type": "stream",
          "name": "stderr",
          "text": [
            "\rProcessing batches:  95%|█████████▌| 631/664 [2:01:58<05:36, 10.21s/it]"
          ]
        },
        {
          "output_type": "stream",
          "name": "stdout",
          "text": [
            "Failed to process image at https://image.hm.com/assets/hm/39/0c/390ce917a4166af51bd2240c30144171a40c0fa2.jpg: 404 Client Error: Not Found for url: https://image.hm.com/assets/hm/39/0c/390ce917a4166af51bd2240c30144171a40c0fa2.JPG\n",
            "Failed to process image at https://image.hm.com/assets/hm/b4/57/b45789560a7ab1687fdd07343bdc9feb2057bfc7.jpg: 404 Client Error: Not Found for url: https://image.hm.com/assets/hm/b4/57/b45789560a7ab1687fdd07343bdc9feb2057bfc7.JPG\n",
            "Processed and saved batch 632/664\n"
          ]
        },
        {
          "output_type": "stream",
          "name": "stderr",
          "text": [
            "\rProcessing batches:  95%|█████████▌| 632/664 [2:02:18<07:08, 13.38s/it]"
          ]
        },
        {
          "output_type": "stream",
          "name": "stdout",
          "text": [
            "Processed and saved batch 633/664\n"
          ]
        },
        {
          "output_type": "stream",
          "name": "stderr",
          "text": [
            "\rProcessing batches:  95%|█████████▌| 633/664 [2:02:36<07:36, 14.73s/it]"
          ]
        },
        {
          "output_type": "stream",
          "name": "stdout",
          "text": [
            "Processed and saved batch 634/664\n"
          ]
        },
        {
          "output_type": "stream",
          "name": "stderr",
          "text": [
            "\rProcessing batches:  95%|█████████▌| 634/664 [2:02:44<06:17, 12.58s/it]"
          ]
        },
        {
          "output_type": "stream",
          "name": "stdout",
          "text": [
            "Processed and saved batch 635/664\n"
          ]
        },
        {
          "output_type": "stream",
          "name": "stderr",
          "text": [
            "\rProcessing batches:  96%|█████████▌| 635/664 [2:02:50<05:08, 10.62s/it]"
          ]
        },
        {
          "output_type": "stream",
          "name": "stdout",
          "text": [
            "Processed and saved batch 636/664\n"
          ]
        },
        {
          "output_type": "stream",
          "name": "stderr",
          "text": [
            "\rProcessing batches:  96%|█████████▌| 636/664 [2:02:53<03:53,  8.34s/it]"
          ]
        },
        {
          "output_type": "stream",
          "name": "stdout",
          "text": [
            "Processed and saved batch 637/664\n"
          ]
        },
        {
          "output_type": "stream",
          "name": "stderr",
          "text": [
            "\rProcessing batches:  96%|█████████▌| 637/664 [2:02:59<03:24,  7.57s/it]"
          ]
        },
        {
          "output_type": "stream",
          "name": "stdout",
          "text": [
            "Processed and saved batch 638/664\n"
          ]
        },
        {
          "output_type": "stream",
          "name": "stderr",
          "text": [
            "\rProcessing batches:  96%|█████████▌| 638/664 [2:03:05<03:03,  7.04s/it]"
          ]
        },
        {
          "output_type": "stream",
          "name": "stdout",
          "text": [
            "Processed and saved batch 639/664\n"
          ]
        },
        {
          "output_type": "stream",
          "name": "stderr",
          "text": [
            "\rProcessing batches:  96%|█████████▌| 639/664 [2:04:39<13:53, 33.32s/it]"
          ]
        },
        {
          "output_type": "stream",
          "name": "stdout",
          "text": [
            "Failed to process image at https://image.hm.com/assets/hm/34/d4/34d4b72ad44c670e1459e2d6084bc78c8e22a247.jpg: 404 Client Error: Not Found for url: https://image.hm.com/assets/hm/34/d4/34d4b72ad44c670e1459e2d6084bc78c8e22a247.JPG\n",
            "Failed to process image at https://image.hm.com/assets/hm/3b/07/3b0761ea60840031b43dcdda3998dcfb3efa39bc.jpg: 404 Client Error: Not Found for url: https://image.hm.com/assets/hm/3b/07/3b0761ea60840031b43dcdda3998dcfb3efa39bc.JPG\n",
            "Processed and saved batch 640/664\n"
          ]
        },
        {
          "output_type": "stream",
          "name": "stderr",
          "text": [
            "\rProcessing batches:  96%|█████████▋| 640/664 [2:06:56<25:45, 64.39s/it]"
          ]
        },
        {
          "output_type": "stream",
          "name": "stdout",
          "text": [
            "Processed and saved batch 641/664\n"
          ]
        },
        {
          "output_type": "stream",
          "name": "stderr",
          "text": [
            "\rProcessing batches:  97%|█████████▋| 641/664 [2:06:59<17:37, 45.98s/it]"
          ]
        },
        {
          "output_type": "stream",
          "name": "stdout",
          "text": [
            "Processed and saved batch 642/664\n"
          ]
        },
        {
          "output_type": "stream",
          "name": "stderr",
          "text": [
            "\rProcessing batches:  97%|█████████▋| 642/664 [2:07:02<12:07, 33.09s/it]"
          ]
        },
        {
          "output_type": "stream",
          "name": "stdout",
          "text": [
            "Processed and saved batch 643/664\n"
          ]
        },
        {
          "output_type": "stream",
          "name": "stderr",
          "text": [
            "\rProcessing batches:  97%|█████████▋| 643/664 [2:07:05<08:25, 24.06s/it]"
          ]
        },
        {
          "output_type": "stream",
          "name": "stdout",
          "text": [
            "Processed and saved batch 644/664\n"
          ]
        },
        {
          "output_type": "stream",
          "name": "stderr",
          "text": [
            "\rProcessing batches:  97%|█████████▋| 644/664 [2:07:08<05:54, 17.75s/it]"
          ]
        },
        {
          "output_type": "stream",
          "name": "stdout",
          "text": [
            "Processed and saved batch 645/664\n"
          ]
        },
        {
          "output_type": "stream",
          "name": "stderr",
          "text": [
            "\rProcessing batches:  97%|█████████▋| 645/664 [2:07:11<04:13, 13.33s/it]"
          ]
        },
        {
          "output_type": "stream",
          "name": "stdout",
          "text": [
            "Processed and saved batch 646/664\n"
          ]
        },
        {
          "output_type": "stream",
          "name": "stderr",
          "text": [
            "\rProcessing batches:  97%|█████████▋| 646/664 [2:07:14<03:04, 10.23s/it]"
          ]
        },
        {
          "output_type": "stream",
          "name": "stdout",
          "text": [
            "Processed and saved batch 647/664\n"
          ]
        },
        {
          "output_type": "stream",
          "name": "stderr",
          "text": [
            "\rProcessing batches:  97%|█████████▋| 647/664 [2:07:17<02:17,  8.07s/it]"
          ]
        },
        {
          "output_type": "stream",
          "name": "stdout",
          "text": [
            "Processed and saved batch 648/664\n"
          ]
        },
        {
          "output_type": "stream",
          "name": "stderr",
          "text": [
            "\rProcessing batches:  98%|█████████▊| 648/664 [2:07:20<01:44,  6.55s/it]"
          ]
        },
        {
          "output_type": "stream",
          "name": "stdout",
          "text": [
            "Processed and saved batch 649/664\n"
          ]
        },
        {
          "output_type": "stream",
          "name": "stderr",
          "text": [
            "\rProcessing batches:  98%|█████████▊| 649/664 [2:07:23<01:22,  5.49s/it]"
          ]
        },
        {
          "output_type": "stream",
          "name": "stdout",
          "text": [
            "Processed and saved batch 650/664\n"
          ]
        },
        {
          "output_type": "stream",
          "name": "stderr",
          "text": [
            "\rProcessing batches:  98%|█████████▊| 650/664 [2:07:26<01:06,  4.74s/it]"
          ]
        },
        {
          "output_type": "stream",
          "name": "stdout",
          "text": [
            "Processed and saved batch 651/664\n"
          ]
        },
        {
          "output_type": "stream",
          "name": "stderr",
          "text": [
            "\rProcessing batches:  98%|█████████▊| 651/664 [2:07:29<00:54,  4.22s/it]"
          ]
        },
        {
          "output_type": "stream",
          "name": "stdout",
          "text": [
            "Processed and saved batch 652/664\n"
          ]
        },
        {
          "output_type": "stream",
          "name": "stderr",
          "text": [
            "\rProcessing batches:  98%|█████████▊| 652/664 [2:07:32<00:46,  3.86s/it]"
          ]
        },
        {
          "output_type": "stream",
          "name": "stdout",
          "text": [
            "Processed and saved batch 653/664\n"
          ]
        },
        {
          "output_type": "stream",
          "name": "stderr",
          "text": [
            "\rProcessing batches:  98%|█████████▊| 653/664 [2:07:35<00:39,  3.60s/it]"
          ]
        },
        {
          "output_type": "stream",
          "name": "stdout",
          "text": [
            "Processed and saved batch 654/664\n"
          ]
        },
        {
          "output_type": "stream",
          "name": "stderr",
          "text": [
            "\rProcessing batches:  98%|█████████▊| 654/664 [2:07:38<00:34,  3.43s/it]"
          ]
        },
        {
          "output_type": "stream",
          "name": "stdout",
          "text": [
            "Processed and saved batch 655/664\n"
          ]
        },
        {
          "output_type": "stream",
          "name": "stderr",
          "text": [
            "\rProcessing batches:  99%|█████████▊| 655/664 [2:07:41<00:29,  3.30s/it]"
          ]
        },
        {
          "output_type": "stream",
          "name": "stdout",
          "text": [
            "Processed and saved batch 656/664\n"
          ]
        },
        {
          "output_type": "stream",
          "name": "stderr",
          "text": [
            "\rProcessing batches:  99%|█████████▉| 656/664 [2:07:44<00:25,  3.24s/it]"
          ]
        },
        {
          "output_type": "stream",
          "name": "stdout",
          "text": [
            "Processed and saved batch 657/664\n"
          ]
        },
        {
          "output_type": "stream",
          "name": "stderr",
          "text": [
            "\rProcessing batches:  99%|█████████▉| 657/664 [2:07:47<00:22,  3.17s/it]"
          ]
        },
        {
          "output_type": "stream",
          "name": "stdout",
          "text": [
            "Processed and saved batch 658/664\n"
          ]
        },
        {
          "output_type": "stream",
          "name": "stderr",
          "text": [
            "\rProcessing batches:  99%|█████████▉| 658/664 [2:07:50<00:18,  3.12s/it]"
          ]
        },
        {
          "output_type": "stream",
          "name": "stdout",
          "text": [
            "Processed and saved batch 659/664\n"
          ]
        },
        {
          "output_type": "stream",
          "name": "stderr",
          "text": [
            "\rProcessing batches:  99%|█████████▉| 659/664 [2:07:53<00:15,  3.09s/it]"
          ]
        },
        {
          "output_type": "stream",
          "name": "stdout",
          "text": [
            "Processed and saved batch 660/664\n"
          ]
        },
        {
          "output_type": "stream",
          "name": "stderr",
          "text": [
            "\rProcessing batches:  99%|█████████▉| 660/664 [2:07:56<00:12,  3.07s/it]"
          ]
        },
        {
          "output_type": "stream",
          "name": "stdout",
          "text": [
            "Processed and saved batch 661/664\n"
          ]
        },
        {
          "output_type": "stream",
          "name": "stderr",
          "text": [
            "\rProcessing batches: 100%|█████████▉| 661/664 [2:07:59<00:09,  3.05s/it]"
          ]
        },
        {
          "output_type": "stream",
          "name": "stdout",
          "text": [
            "Processed and saved batch 662/664\n"
          ]
        },
        {
          "output_type": "stream",
          "name": "stderr",
          "text": [
            "\rProcessing batches: 100%|█████████▉| 662/664 [2:08:14<00:12,  6.36s/it]"
          ]
        },
        {
          "output_type": "stream",
          "name": "stdout",
          "text": [
            "Processed and saved batch 663/664\n"
          ]
        },
        {
          "output_type": "stream",
          "name": "stderr",
          "text": [
            "\rProcessing batches: 100%|█████████▉| 663/664 [2:08:30<00:09,  9.50s/it]"
          ]
        },
        {
          "output_type": "stream",
          "name": "stdout",
          "text": [
            "Processed and saved batch 664/664\n"
          ]
        },
        {
          "output_type": "stream",
          "name": "stderr",
          "text": [
            "Processing batches: 100%|██████████| 664/664 [2:08:33<00:00, 11.62s/it]"
          ]
        },
        {
          "output_type": "stream",
          "name": "stdout",
          "text": [
            "Size of image_features column: 84952\n"
          ]
        },
        {
          "output_type": "stream",
          "name": "stderr",
          "text": [
            "\n"
          ]
        }
      ]
    },
    {
      "cell_type": "code",
      "source": [
        "from google.colab import files\n",
        "columns_to_save = ['distilbert_features', 'image_features']\n",
        "output_file = 'output.csv'\n",
        "df[columns_to_save].to_csv(output_file, index=True)\n",
        "\n",
        "# Download the file\n",
        "files.download(output_file)\n"
      ],
      "metadata": {
        "colab": {
          "base_uri": "https://localhost:8080/",
          "height": 34
        },
        "id": "4wJgJPyUDEAz",
        "outputId": "8f3869f8-a9b6-40fc-aa4f-9f7b2446cbf8"
      },
      "execution_count": 11,
      "outputs": [
        {
          "output_type": "display_data",
          "data": {
            "text/plain": [
              "<IPython.core.display.Javascript object>"
            ],
            "application/javascript": [
              "\n",
              "    async function download(id, filename, size) {\n",
              "      if (!google.colab.kernel.accessAllowed) {\n",
              "        return;\n",
              "      }\n",
              "      const div = document.createElement('div');\n",
              "      const label = document.createElement('label');\n",
              "      label.textContent = `Downloading \"${filename}\": `;\n",
              "      div.appendChild(label);\n",
              "      const progress = document.createElement('progress');\n",
              "      progress.max = size;\n",
              "      div.appendChild(progress);\n",
              "      document.body.appendChild(div);\n",
              "\n",
              "      const buffers = [];\n",
              "      let downloaded = 0;\n",
              "\n",
              "      const channel = await google.colab.kernel.comms.open(id);\n",
              "      // Send a message to notify the kernel that we're ready.\n",
              "      channel.send({})\n",
              "\n",
              "      for await (const message of channel.messages) {\n",
              "        // Send a message to notify the kernel that we're ready.\n",
              "        channel.send({})\n",
              "        if (message.buffers) {\n",
              "          for (const buffer of message.buffers) {\n",
              "            buffers.push(buffer);\n",
              "            downloaded += buffer.byteLength;\n",
              "            progress.value = downloaded;\n",
              "          }\n",
              "        }\n",
              "      }\n",
              "      const blob = new Blob(buffers, {type: 'application/binary'});\n",
              "      const a = document.createElement('a');\n",
              "      a.href = window.URL.createObjectURL(blob);\n",
              "      a.download = filename;\n",
              "      div.appendChild(a);\n",
              "      a.click();\n",
              "      div.remove();\n",
              "    }\n",
              "  "
            ]
          },
          "metadata": {}
        },
        {
          "output_type": "display_data",
          "data": {
            "text/plain": [
              "<IPython.core.display.Javascript object>"
            ],
            "application/javascript": [
              "download(\"download_b247f9a0-1893-48f6-8356-5b981eb2aae8\", \"output.csv\", 3093218541)"
            ]
          },
          "metadata": {}
        }
      ]
    },
    {
      "cell_type": "code",
      "source": [
        "df.head()"
      ],
      "metadata": {
        "colab": {
          "base_uri": "https://localhost:8080/",
          "height": 608
        },
        "id": "CDB8AM82nYeR",
        "outputId": "e186422b-68f5-40bd-a4b5-a59966319f4e"
      },
      "execution_count": 12,
      "outputs": [
        {
          "output_type": "execute_result",
          "data": {
            "text/plain": [
              "   Unnamed: 0                                        description  category_id  \\\n",
              "0           0  name stylish womens crepe wine color ethnic mo...           63   \n",
              "1           1  name woman printed viscose rayon anarkali kurt...           63   \n",
              "2           2  name new simple collection embroidered neck co...           63   \n",
              "3           3  name rash womens cotton green kurti fabric cot...           63   \n",
              "4           4  name woman woolen top pattern printed size un ...           63   \n",
              "\n",
              "                                          product_id  \\\n",
              "0  67366e67e01d2ca19fda979eb97c478ccd8c048df8ab42...   \n",
              "1  f9e6dc103f1c7d214abad01dd96ac7f5311bc6644242e6...   \n",
              "2  f0502b447d051f264ca0f2c57a16f5f6344e5544ead2e0...   \n",
              "3  88fa39611a66b15e05b8d38f44544c276e0a572c888b74...   \n",
              "4  6330d6991ec9b5d1fde92c0d363c2f38678ef4bc9f24bd...   \n",
              "\n",
              "                                             pdp_url    brand  \\\n",
              "0  https://www.meesho.com/stylish-womens-crepe-wi...  Generic   \n",
              "1  https://www.meesho.com/women-printed-viscose-r...  Generic   \n",
              "2  https://www.meesho.com/new-simple-collection-e...  Generic   \n",
              "3  https://www.meesho.com/rash-womens-cotton-gree...  Generic   \n",
              "4   https://www.meesho.com/women-woolen-top/p/7kk14r  Generic   \n",
              "\n",
              "                                       feature_image  department_id   mrp  \\\n",
              "0  https://images.meesho.com/images/products/2809...              2   999   \n",
              "1  https://images.meesho.com/images/products/1595...              2   799   \n",
              "2  https://images.meesho.com/images/products/4539...              2   599   \n",
              "3  https://images.meesho.com/images/products/4573...              2   799   \n",
              "4  https://images.meesho.com/images/products/4577...              2  1000   \n",
              "\n",
              "                                        product_name  \\\n",
              "0  stylish womens crepe wine color ethnic motif p...   \n",
              "1         woman printed viscose rayon anarkali kurti   \n",
              "2  new simple collection embroidered neck cotton ...   \n",
              "3                     rash womens cotton green kurti   \n",
              "4                                   woman woolen top   \n",
              "\n",
              "                                    feature_image_s3  channel_id  \\\n",
              "0  https://assets.stylumia.com/originals/2024/11/...         401   \n",
              "1  https://assets.stylumia.com/originals/2024/11/...         401   \n",
              "2  https://assets.stylumia.com/originals/2024/11/...         401   \n",
              "3  https://assets.stylumia.com/originals/2024/11/...         401   \n",
              "4  https://assets.stylumia.com/originals/2024/11/...         401   \n",
              "\n",
              "                                    style_attributes category_name  \\\n",
              "0            {'Supplier Information': 'SHYAMAL TEX'}        Kurtis   \n",
              "1            {'Supplier Information': 'KF Khushees'}        Kurtis   \n",
              "2           {'Supplier Information': 'Panchkudi@28'}        Kurtis   \n",
              "3  {'Supplier Information': 'JMJ ENTERPRISES JAIP...        Kurtis   \n",
              "4      {'Supplier Information': 'S.W.A.S..CREATION'}        Kurtis   \n",
              "\n",
              "  Retailer_name                                distilbert_features  \\\n",
              "0     Meesho IN  [-0.2062634825706482, -0.28366509079933167, -0...   \n",
              "1     Meesho IN  [-0.10604754090309143, -0.364780068397522, -0....   \n",
              "2     Meesho IN  [-0.23753990232944489, -0.2974393367767334, -0...   \n",
              "3     Meesho IN  [-0.12778538465499878, -0.43310534954071045, -...   \n",
              "4     Meesho IN  [-0.22102829813957214, -0.20607741177082062, -...   \n",
              "\n",
              "                                      image_features  \n",
              "0  [-2.5660862922668457, -2.6278738975524902, -3....  \n",
              "1  [-0.8438605666160583, -1.2032746076583862, -0....  \n",
              "2  [-1.7667704820632935, -2.0272176265716553, -3....  \n",
              "3  [0.3766767382621765, -1.9637521505355835, -2.9...  \n",
              "4  [-1.1793365478515625, -1.2634718418121338, -2....  "
            ],
            "text/html": [
              "\n",
              "  <div id=\"df-0112dc4b-966c-402f-9185-2ac39788bfc3\" class=\"colab-df-container\">\n",
              "    <div>\n",
              "<style scoped>\n",
              "    .dataframe tbody tr th:only-of-type {\n",
              "        vertical-align: middle;\n",
              "    }\n",
              "\n",
              "    .dataframe tbody tr th {\n",
              "        vertical-align: top;\n",
              "    }\n",
              "\n",
              "    .dataframe thead th {\n",
              "        text-align: right;\n",
              "    }\n",
              "</style>\n",
              "<table border=\"1\" class=\"dataframe\">\n",
              "  <thead>\n",
              "    <tr style=\"text-align: right;\">\n",
              "      <th></th>\n",
              "      <th>Unnamed: 0</th>\n",
              "      <th>description</th>\n",
              "      <th>category_id</th>\n",
              "      <th>product_id</th>\n",
              "      <th>pdp_url</th>\n",
              "      <th>brand</th>\n",
              "      <th>feature_image</th>\n",
              "      <th>department_id</th>\n",
              "      <th>mrp</th>\n",
              "      <th>product_name</th>\n",
              "      <th>feature_image_s3</th>\n",
              "      <th>channel_id</th>\n",
              "      <th>style_attributes</th>\n",
              "      <th>category_name</th>\n",
              "      <th>Retailer_name</th>\n",
              "      <th>distilbert_features</th>\n",
              "      <th>image_features</th>\n",
              "    </tr>\n",
              "  </thead>\n",
              "  <tbody>\n",
              "    <tr>\n",
              "      <th>0</th>\n",
              "      <td>0</td>\n",
              "      <td>name stylish womens crepe wine color ethnic mo...</td>\n",
              "      <td>63</td>\n",
              "      <td>67366e67e01d2ca19fda979eb97c478ccd8c048df8ab42...</td>\n",
              "      <td>https://www.meesho.com/stylish-womens-crepe-wi...</td>\n",
              "      <td>Generic</td>\n",
              "      <td>https://images.meesho.com/images/products/2809...</td>\n",
              "      <td>2</td>\n",
              "      <td>999</td>\n",
              "      <td>stylish womens crepe wine color ethnic motif p...</td>\n",
              "      <td>https://assets.stylumia.com/originals/2024/11/...</td>\n",
              "      <td>401</td>\n",
              "      <td>{'Supplier Information': 'SHYAMAL TEX'}</td>\n",
              "      <td>Kurtis</td>\n",
              "      <td>Meesho IN</td>\n",
              "      <td>[-0.2062634825706482, -0.28366509079933167, -0...</td>\n",
              "      <td>[-2.5660862922668457, -2.6278738975524902, -3....</td>\n",
              "    </tr>\n",
              "    <tr>\n",
              "      <th>1</th>\n",
              "      <td>1</td>\n",
              "      <td>name woman printed viscose rayon anarkali kurt...</td>\n",
              "      <td>63</td>\n",
              "      <td>f9e6dc103f1c7d214abad01dd96ac7f5311bc6644242e6...</td>\n",
              "      <td>https://www.meesho.com/women-printed-viscose-r...</td>\n",
              "      <td>Generic</td>\n",
              "      <td>https://images.meesho.com/images/products/1595...</td>\n",
              "      <td>2</td>\n",
              "      <td>799</td>\n",
              "      <td>woman printed viscose rayon anarkali kurti</td>\n",
              "      <td>https://assets.stylumia.com/originals/2024/11/...</td>\n",
              "      <td>401</td>\n",
              "      <td>{'Supplier Information': 'KF Khushees'}</td>\n",
              "      <td>Kurtis</td>\n",
              "      <td>Meesho IN</td>\n",
              "      <td>[-0.10604754090309143, -0.364780068397522, -0....</td>\n",
              "      <td>[-0.8438605666160583, -1.2032746076583862, -0....</td>\n",
              "    </tr>\n",
              "    <tr>\n",
              "      <th>2</th>\n",
              "      <td>2</td>\n",
              "      <td>name new simple collection embroidered neck co...</td>\n",
              "      <td>63</td>\n",
              "      <td>f0502b447d051f264ca0f2c57a16f5f6344e5544ead2e0...</td>\n",
              "      <td>https://www.meesho.com/new-simple-collection-e...</td>\n",
              "      <td>Generic</td>\n",
              "      <td>https://images.meesho.com/images/products/4539...</td>\n",
              "      <td>2</td>\n",
              "      <td>599</td>\n",
              "      <td>new simple collection embroidered neck cotton ...</td>\n",
              "      <td>https://assets.stylumia.com/originals/2024/11/...</td>\n",
              "      <td>401</td>\n",
              "      <td>{'Supplier Information': 'Panchkudi@28'}</td>\n",
              "      <td>Kurtis</td>\n",
              "      <td>Meesho IN</td>\n",
              "      <td>[-0.23753990232944489, -0.2974393367767334, -0...</td>\n",
              "      <td>[-1.7667704820632935, -2.0272176265716553, -3....</td>\n",
              "    </tr>\n",
              "    <tr>\n",
              "      <th>3</th>\n",
              "      <td>3</td>\n",
              "      <td>name rash womens cotton green kurti fabric cot...</td>\n",
              "      <td>63</td>\n",
              "      <td>88fa39611a66b15e05b8d38f44544c276e0a572c888b74...</td>\n",
              "      <td>https://www.meesho.com/rash-womens-cotton-gree...</td>\n",
              "      <td>Generic</td>\n",
              "      <td>https://images.meesho.com/images/products/4573...</td>\n",
              "      <td>2</td>\n",
              "      <td>799</td>\n",
              "      <td>rash womens cotton green kurti</td>\n",
              "      <td>https://assets.stylumia.com/originals/2024/11/...</td>\n",
              "      <td>401</td>\n",
              "      <td>{'Supplier Information': 'JMJ ENTERPRISES JAIP...</td>\n",
              "      <td>Kurtis</td>\n",
              "      <td>Meesho IN</td>\n",
              "      <td>[-0.12778538465499878, -0.43310534954071045, -...</td>\n",
              "      <td>[0.3766767382621765, -1.9637521505355835, -2.9...</td>\n",
              "    </tr>\n",
              "    <tr>\n",
              "      <th>4</th>\n",
              "      <td>4</td>\n",
              "      <td>name woman woolen top pattern printed size un ...</td>\n",
              "      <td>63</td>\n",
              "      <td>6330d6991ec9b5d1fde92c0d363c2f38678ef4bc9f24bd...</td>\n",
              "      <td>https://www.meesho.com/women-woolen-top/p/7kk14r</td>\n",
              "      <td>Generic</td>\n",
              "      <td>https://images.meesho.com/images/products/4577...</td>\n",
              "      <td>2</td>\n",
              "      <td>1000</td>\n",
              "      <td>woman woolen top</td>\n",
              "      <td>https://assets.stylumia.com/originals/2024/11/...</td>\n",
              "      <td>401</td>\n",
              "      <td>{'Supplier Information': 'S.W.A.S..CREATION'}</td>\n",
              "      <td>Kurtis</td>\n",
              "      <td>Meesho IN</td>\n",
              "      <td>[-0.22102829813957214, -0.20607741177082062, -...</td>\n",
              "      <td>[-1.1793365478515625, -1.2634718418121338, -2....</td>\n",
              "    </tr>\n",
              "  </tbody>\n",
              "</table>\n",
              "</div>\n",
              "    <div class=\"colab-df-buttons\">\n",
              "\n",
              "  <div class=\"colab-df-container\">\n",
              "    <button class=\"colab-df-convert\" onclick=\"convertToInteractive('df-0112dc4b-966c-402f-9185-2ac39788bfc3')\"\n",
              "            title=\"Convert this dataframe to an interactive table.\"\n",
              "            style=\"display:none;\">\n",
              "\n",
              "  <svg xmlns=\"http://www.w3.org/2000/svg\" height=\"24px\" viewBox=\"0 -960 960 960\">\n",
              "    <path d=\"M120-120v-720h720v720H120Zm60-500h600v-160H180v160Zm220 220h160v-160H400v160Zm0 220h160v-160H400v160ZM180-400h160v-160H180v160Zm440 0h160v-160H620v160ZM180-180h160v-160H180v160Zm440 0h160v-160H620v160Z\"/>\n",
              "  </svg>\n",
              "    </button>\n",
              "\n",
              "  <style>\n",
              "    .colab-df-container {\n",
              "      display:flex;\n",
              "      gap: 12px;\n",
              "    }\n",
              "\n",
              "    .colab-df-convert {\n",
              "      background-color: #E8F0FE;\n",
              "      border: none;\n",
              "      border-radius: 50%;\n",
              "      cursor: pointer;\n",
              "      display: none;\n",
              "      fill: #1967D2;\n",
              "      height: 32px;\n",
              "      padding: 0 0 0 0;\n",
              "      width: 32px;\n",
              "    }\n",
              "\n",
              "    .colab-df-convert:hover {\n",
              "      background-color: #E2EBFA;\n",
              "      box-shadow: 0px 1px 2px rgba(60, 64, 67, 0.3), 0px 1px 3px 1px rgba(60, 64, 67, 0.15);\n",
              "      fill: #174EA6;\n",
              "    }\n",
              "\n",
              "    .colab-df-buttons div {\n",
              "      margin-bottom: 4px;\n",
              "    }\n",
              "\n",
              "    [theme=dark] .colab-df-convert {\n",
              "      background-color: #3B4455;\n",
              "      fill: #D2E3FC;\n",
              "    }\n",
              "\n",
              "    [theme=dark] .colab-df-convert:hover {\n",
              "      background-color: #434B5C;\n",
              "      box-shadow: 0px 1px 3px 1px rgba(0, 0, 0, 0.15);\n",
              "      filter: drop-shadow(0px 1px 2px rgba(0, 0, 0, 0.3));\n",
              "      fill: #FFFFFF;\n",
              "    }\n",
              "  </style>\n",
              "\n",
              "    <script>\n",
              "      const buttonEl =\n",
              "        document.querySelector('#df-0112dc4b-966c-402f-9185-2ac39788bfc3 button.colab-df-convert');\n",
              "      buttonEl.style.display =\n",
              "        google.colab.kernel.accessAllowed ? 'block' : 'none';\n",
              "\n",
              "      async function convertToInteractive(key) {\n",
              "        const element = document.querySelector('#df-0112dc4b-966c-402f-9185-2ac39788bfc3');\n",
              "        const dataTable =\n",
              "          await google.colab.kernel.invokeFunction('convertToInteractive',\n",
              "                                                    [key], {});\n",
              "        if (!dataTable) return;\n",
              "\n",
              "        const docLinkHtml = 'Like what you see? Visit the ' +\n",
              "          '<a target=\"_blank\" href=https://colab.research.google.com/notebooks/data_table.ipynb>data table notebook</a>'\n",
              "          + ' to learn more about interactive tables.';\n",
              "        element.innerHTML = '';\n",
              "        dataTable['output_type'] = 'display_data';\n",
              "        await google.colab.output.renderOutput(dataTable, element);\n",
              "        const docLink = document.createElement('div');\n",
              "        docLink.innerHTML = docLinkHtml;\n",
              "        element.appendChild(docLink);\n",
              "      }\n",
              "    </script>\n",
              "  </div>\n",
              "\n",
              "\n",
              "<div id=\"df-6f380de8-a783-44e7-b2e4-f8a2be6a9e0c\">\n",
              "  <button class=\"colab-df-quickchart\" onclick=\"quickchart('df-6f380de8-a783-44e7-b2e4-f8a2be6a9e0c')\"\n",
              "            title=\"Suggest charts\"\n",
              "            style=\"display:none;\">\n",
              "\n",
              "<svg xmlns=\"http://www.w3.org/2000/svg\" height=\"24px\"viewBox=\"0 0 24 24\"\n",
              "     width=\"24px\">\n",
              "    <g>\n",
              "        <path d=\"M19 3H5c-1.1 0-2 .9-2 2v14c0 1.1.9 2 2 2h14c1.1 0 2-.9 2-2V5c0-1.1-.9-2-2-2zM9 17H7v-7h2v7zm4 0h-2V7h2v10zm4 0h-2v-4h2v4z\"/>\n",
              "    </g>\n",
              "</svg>\n",
              "  </button>\n",
              "\n",
              "<style>\n",
              "  .colab-df-quickchart {\n",
              "      --bg-color: #E8F0FE;\n",
              "      --fill-color: #1967D2;\n",
              "      --hover-bg-color: #E2EBFA;\n",
              "      --hover-fill-color: #174EA6;\n",
              "      --disabled-fill-color: #AAA;\n",
              "      --disabled-bg-color: #DDD;\n",
              "  }\n",
              "\n",
              "  [theme=dark] .colab-df-quickchart {\n",
              "      --bg-color: #3B4455;\n",
              "      --fill-color: #D2E3FC;\n",
              "      --hover-bg-color: #434B5C;\n",
              "      --hover-fill-color: #FFFFFF;\n",
              "      --disabled-bg-color: #3B4455;\n",
              "      --disabled-fill-color: #666;\n",
              "  }\n",
              "\n",
              "  .colab-df-quickchart {\n",
              "    background-color: var(--bg-color);\n",
              "    border: none;\n",
              "    border-radius: 50%;\n",
              "    cursor: pointer;\n",
              "    display: none;\n",
              "    fill: var(--fill-color);\n",
              "    height: 32px;\n",
              "    padding: 0;\n",
              "    width: 32px;\n",
              "  }\n",
              "\n",
              "  .colab-df-quickchart:hover {\n",
              "    background-color: var(--hover-bg-color);\n",
              "    box-shadow: 0 1px 2px rgba(60, 64, 67, 0.3), 0 1px 3px 1px rgba(60, 64, 67, 0.15);\n",
              "    fill: var(--button-hover-fill-color);\n",
              "  }\n",
              "\n",
              "  .colab-df-quickchart-complete:disabled,\n",
              "  .colab-df-quickchart-complete:disabled:hover {\n",
              "    background-color: var(--disabled-bg-color);\n",
              "    fill: var(--disabled-fill-color);\n",
              "    box-shadow: none;\n",
              "  }\n",
              "\n",
              "  .colab-df-spinner {\n",
              "    border: 2px solid var(--fill-color);\n",
              "    border-color: transparent;\n",
              "    border-bottom-color: var(--fill-color);\n",
              "    animation:\n",
              "      spin 1s steps(1) infinite;\n",
              "  }\n",
              "\n",
              "  @keyframes spin {\n",
              "    0% {\n",
              "      border-color: transparent;\n",
              "      border-bottom-color: var(--fill-color);\n",
              "      border-left-color: var(--fill-color);\n",
              "    }\n",
              "    20% {\n",
              "      border-color: transparent;\n",
              "      border-left-color: var(--fill-color);\n",
              "      border-top-color: var(--fill-color);\n",
              "    }\n",
              "    30% {\n",
              "      border-color: transparent;\n",
              "      border-left-color: var(--fill-color);\n",
              "      border-top-color: var(--fill-color);\n",
              "      border-right-color: var(--fill-color);\n",
              "    }\n",
              "    40% {\n",
              "      border-color: transparent;\n",
              "      border-right-color: var(--fill-color);\n",
              "      border-top-color: var(--fill-color);\n",
              "    }\n",
              "    60% {\n",
              "      border-color: transparent;\n",
              "      border-right-color: var(--fill-color);\n",
              "    }\n",
              "    80% {\n",
              "      border-color: transparent;\n",
              "      border-right-color: var(--fill-color);\n",
              "      border-bottom-color: var(--fill-color);\n",
              "    }\n",
              "    90% {\n",
              "      border-color: transparent;\n",
              "      border-bottom-color: var(--fill-color);\n",
              "    }\n",
              "  }\n",
              "</style>\n",
              "\n",
              "  <script>\n",
              "    async function quickchart(key) {\n",
              "      const quickchartButtonEl =\n",
              "        document.querySelector('#' + key + ' button');\n",
              "      quickchartButtonEl.disabled = true;  // To prevent multiple clicks.\n",
              "      quickchartButtonEl.classList.add('colab-df-spinner');\n",
              "      try {\n",
              "        const charts = await google.colab.kernel.invokeFunction(\n",
              "            'suggestCharts', [key], {});\n",
              "      } catch (error) {\n",
              "        console.error('Error during call to suggestCharts:', error);\n",
              "      }\n",
              "      quickchartButtonEl.classList.remove('colab-df-spinner');\n",
              "      quickchartButtonEl.classList.add('colab-df-quickchart-complete');\n",
              "    }\n",
              "    (() => {\n",
              "      let quickchartButtonEl =\n",
              "        document.querySelector('#df-6f380de8-a783-44e7-b2e4-f8a2be6a9e0c button');\n",
              "      quickchartButtonEl.style.display =\n",
              "        google.colab.kernel.accessAllowed ? 'block' : 'none';\n",
              "    })();\n",
              "  </script>\n",
              "</div>\n",
              "\n",
              "    </div>\n",
              "  </div>\n"
            ],
            "application/vnd.google.colaboratory.intrinsic+json": {
              "type": "dataframe",
              "variable_name": "df",
              "summary": "{\n  \"name\": \"df\",\n  \"rows\": 84952,\n  \"fields\": [\n    {\n      \"column\": \"Unnamed: 0\",\n      \"properties\": {\n        \"dtype\": \"number\",\n        \"std\": 24523,\n        \"min\": 0,\n        \"max\": 84951,\n        \"num_unique_values\": 84952,\n        \"samples\": [\n          29993,\n          52739,\n          69659\n        ],\n        \"semantic_type\": \"\",\n        \"description\": \"\"\n      }\n    },\n    {\n      \"column\": \"description\",\n      \"properties\": {\n        \"dtype\": \"string\",\n        \"num_unique_values\": 77714,\n        \"samples\": [\n          \"790% cotton 180% polyester 30% viscose composition black color sz2407109795046570 goodssn denim material natural waist line straight leg pocket raw hem ripped zipper washed detail regular fit machine wash dry clean care instruction short length casual style nonstretch fabric unlined body\",\n          \"experience epitome timeless elegance exquisite wristwatch crafted meticulous attention detail rose goldtoned case mesh bracelet exude refined charm complement ensemble striking black dial feature bold arabic numeral luminous hand ensuring effortless timetelling glance timepiece merely accessory statement impeccable style sophistication designed withstand rigour daily wear watch testament enduring quality elevate look embrace essence timeless sophistication captivating wristwatch calendar 4 november 2024 date first available 242 part number rose gold band colour watch included component b0dlwvfchf asin black dial colour 4 x 1 x 26 cm 300 g product dimension mesh band special feature womens department analog limited retailrist manufacturer rose gold case material quartz movement product sold amazon please review manufacturer website warranty information product sold another party please contact seller directly warranty information product may also able find warranty information manufacturer website warranty mt242 item model number mt242 model number wristwatch generic name retailrist packer generic brand round case shape metal band material magnetic clasp clasp 40 x 10 x 260 millimeter item dimension lxwxh india country origin 300 g item weight stylish design elegant timepiece feature sleek rose goldtone case stylish mesh bracelet perfect occasion clear visibility watch boast black dial large easytoread arabic numeral contrasting white hand optimal visibility durable construction crafted highquality material watch built withstand daily wear tear adjustable fit mesh bracelet easily adjusted fit wrist size ensuring comfortable secure fit water resistance waterresistant design watch withstand splash brief immersion water making suitable everyday wear\",\n          \"100% polyester composition long sleeve sleeve length shirt collar neckline navywhite color regular sleeve sm2408203528258520 goodssn fabric material shirt button front detail regular fit dry clean hand wash care instruction length plain striped work style nonstretch fabric single breasted placket semisheer sheer\"\n        ],\n        \"semantic_type\": \"\",\n        \"description\": \"\"\n      }\n    },\n    {\n      \"column\": \"category_id\",\n      \"properties\": {\n        \"dtype\": \"number\",\n        \"std\": 31,\n        \"min\": 30,\n        \"max\": 122,\n        \"num_unique_values\": 10,\n        \"samples\": [\n          120,\n          30,\n          88\n        ],\n        \"semantic_type\": \"\",\n        \"description\": \"\"\n      }\n    },\n    {\n      \"column\": \"product_id\",\n      \"properties\": {\n        \"dtype\": \"string\",\n        \"num_unique_values\": 80516,\n        \"samples\": [\n          \"6f2555f03bfeef84fca1fa5b19b7dd5d95e3e0c88f6bc435974638c1dd7d2b10\",\n          \"2199c4ce344d9ce5ffc46fae4e100a4e300c211b5d970b8d91885e27a57e26f2\",\n          \"0d48b82f4249ac64f19a2a941272f3ea8a1e2bcca18169138fa4966cef31ecc5\"\n        ],\n        \"semantic_type\": \"\",\n        \"description\": \"\"\n      }\n    },\n    {\n      \"column\": \"pdp_url\",\n      \"properties\": {\n        \"dtype\": \"string\",\n        \"num_unique_values\": 80433,\n        \"samples\": [\n          \"https://www.amazon.in/Mont-Neo-Womens-Stainless-9008T-M3314/dp/B0DGQQJH1C/ref=sr_1_12234?dib=eyJ2IjoiMSJ9.VBFloNP6ZkCko6CZLdxlA2JeKV0D9eZ2_LqCZJXEJTgzQB6AI3BRneSnTZa_i7bafGetTI6P31AF04wjJGF_HFpMEgGxYiCEENSyYFnPauIqLdv5j7oL0K0viv2rmmZAM07GnWPGZK9aJCQBCP_wNGSnyX5DgtxeN1x72krywh8WJgQcKdEJq1lg-DEdoUI6Z5prdhjJoXdB54lKGZVnS4SVQLw8Rxruij5zzZjcf1X2-qcPfTgrlHb7rPePcfli2UEMa1l_udcj5OBl4JljVVxDJUkggR8AGqyXS_rRlXs.5tbfHv8aHnnIbFWPHHvs-pi2zG1BBHqIEeMGZmWRDCg&dib_tag=se&qid=1732281943&rnid=2563505031&s=watch&sr=1-12234\",\n          \"https://www.meesho.com/blue-gown-new/p/7868z6\",\n          \"https://us.shein.com/SHEIN-Frenchy-Women-Thread-Embroidery-Heart-Print-Casual-Daily-Wear-Short-Sleeve-T-Shirt-Summer-T-Shirt-Women-T-Shirts-Tea-Party-Attire-Embroidered-Top-T-Shirt-Summer-Tops-p-40103623-cat-1738.html\"\n        ],\n        \"semantic_type\": \"\",\n        \"description\": \"\"\n      }\n    },\n    {\n      \"column\": \"brand\",\n      \"properties\": {\n        \"dtype\": \"category\",\n        \"num_unique_values\": 1501,\n        \"samples\": [\n          \"NYALKARAN_ENTERPRISE\",\n          \"Vlone\",\n          \"Ekana Label\"\n        ],\n        \"semantic_type\": \"\",\n        \"description\": \"\"\n      }\n    },\n    {\n      \"column\": \"feature_image\",\n      \"properties\": {\n        \"dtype\": \"string\",\n        \"num_unique_values\": 78961,\n        \"samples\": [\n          \"http://assets.myntassets.com/assets/images/30988442/2024/9/18/06bf21f0-7fb8-41c2-b1b6-e0053d4b1cc71726659555199-SKAN-LIFESTYLE-Men-Colourblocked-Sneakers-4741726659555011-1.jpg\",\n          \"https://img.ltwebstatic.com/images3_pi/2024/04/29/db/17143725731437a747c519c009cd05beb23eb5fa03.jpg\",\n          \"https://api.cq6bn590y3-fabindiao1-p1-public.model-t.cc.commerce.ondemand.com/medias/20193293-01.jpg?context=bWFzdGVyfGltYWdlc3wyMjI2NTR8aW1hZ2UvanBlZ3xhR1ZrTDJoaE1pODJPREU0TlRnMk5qY3pNVFUxTUM4eU1ERTVNekk1TTE4d01TNXFjR2N8MzZjM2MyNGM0ZTA3YzcwNTYzMzczNTYwM2I0ODcyMGQzYTlkNmNlY2RmYzhhM2I3YzUwYzcyZmNjNmQxZTExYQ\"\n        ],\n        \"semantic_type\": \"\",\n        \"description\": \"\"\n      }\n    },\n    {\n      \"column\": \"department_id\",\n      \"properties\": {\n        \"dtype\": \"number\",\n        \"std\": 0,\n        \"min\": 1,\n        \"max\": 5,\n        \"num_unique_values\": 4,\n        \"samples\": [\n          1,\n          5,\n          2\n        ],\n        \"semantic_type\": \"\",\n        \"description\": \"\"\n      }\n    },\n    {\n      \"column\": \"mrp\",\n      \"properties\": {\n        \"dtype\": \"number\",\n        \"std\": 9040,\n        \"min\": 50,\n        \"max\": 338851,\n        \"num_unique_values\": 7587,\n        \"samples\": [\n          2083,\n          1555,\n          4263\n        ],\n        \"semantic_type\": \"\",\n        \"description\": \"\"\n      }\n    },\n    {\n      \"column\": \"product_name\",\n      \"properties\": {\n        \"dtype\": \"string\",\n        \"num_unique_values\": 62578,\n        \"samples\": [\n          \"purple banarasi woven tassel saree unstitched blouse\",\n          \"manfinity homme men button pocket patched shirt\",\n          \"shein sxy solid color halter neck sexy sleeveless denim dress summer\"\n        ],\n        \"semantic_type\": \"\",\n        \"description\": \"\"\n      }\n    },\n    {\n      \"column\": \"feature_image_s3\",\n      \"properties\": {\n        \"dtype\": \"string\",\n        \"num_unique_values\": 78970,\n        \"samples\": [\n          \"https://assets.stylumia.com/originals/2024/10/67/a1554fe128c90cf963910a98e2ddcaf5579397f26777518b44dbc03916a1b46c.jpg\",\n          \"https://assets.stylumia.com/originals/2024/10/49/085e9df2094799cddb449fcdd2bb8a4ad2018362509f1b0fd1a505490b6a320b.jpg\",\n          \"https://assets.stylumia.com/originals/2024/11/67/6b4c770329f69f04429fedcf6cb3e8785dac7333316785c79b4ff8ce3a15f258.jpg\"\n        ],\n        \"semantic_type\": \"\",\n        \"description\": \"\"\n      }\n    },\n    {\n      \"column\": \"channel_id\",\n      \"properties\": {\n        \"dtype\": \"number\",\n        \"std\": 148,\n        \"min\": 8,\n        \"max\": 401,\n        \"num_unique_values\": 11,\n        \"samples\": [\n          161,\n          401,\n          67\n        ],\n        \"semantic_type\": \"\",\n        \"description\": \"\"\n      }\n    },\n    {\n      \"column\": \"style_attributes\",\n      \"properties\": {\n        \"dtype\": \"string\",\n        \"num_unique_values\": 65591,\n        \"samples\": [\n          \"{'Supplier Information': 'Shyama Fashion'}\",\n          \"{'Supplier Information': 'ASHIQ GARMENTS'}\",\n          \"{'Supplier Information': 'MERUNA TEXTILE'}\"\n        ],\n        \"semantic_type\": \"\",\n        \"description\": \"\"\n      }\n    },\n    {\n      \"column\": \"category_name\",\n      \"properties\": {\n        \"dtype\": \"category\",\n        \"num_unique_values\": 10,\n        \"samples\": [\n          \"Watches\",\n          \"Dresses\",\n          \"Sarees\"\n        ],\n        \"semantic_type\": \"\",\n        \"description\": \"\"\n      }\n    },\n    {\n      \"column\": \"Retailer_name\",\n      \"properties\": {\n        \"dtype\": \"category\",\n        \"num_unique_values\": 11,\n        \"samples\": [\n          \"H&M US\",\n          \"Meesho IN\",\n          \"Amazon IN\"\n        ],\n        \"semantic_type\": \"\",\n        \"description\": \"\"\n      }\n    },\n    {\n      \"column\": \"distilbert_features\",\n      \"properties\": {\n        \"dtype\": \"string\",\n        \"num_unique_values\": 77679,\n        \"samples\": [\n          \"[-0.04513378441333771, -0.4621993899345398, -0.07531435787677765, -0.004398355260491371, 0.11291269958019257, 0.022634433582425117, 0.06654529273509979, 0.05081340670585632, -0.1273680031299591, -0.28876793384552, -0.021996069699525833, 0.08373088389635086, 0.12118866294622421, 0.18829096853733063, -0.2609691023826599, 0.2702306807041168, -0.09782268851995468, 0.21609410643577576, 0.2587445378303528, 0.1823767125606537, 0.1620531678199768, -0.6176218390464783, 0.10022389888763428, -0.0998140424489975, 0.11487779021263123, -0.0419277548789978, 0.042576245963573456, -0.1564999669790268, 0.17986100912094116, 0.19574597477912903, 0.18128278851509094, 0.13736973702907562, 0.20381011068820953, -0.5080346465110779, 0.3423551917076111, -0.1826389729976654, 0.37885797023773193, -0.17672087252140045, -0.01092592254281044, 0.03315812349319458, -0.04548625275492668, 0.20401659607887268, 0.346280574798584, -0.2423582673072815, 0.21657995879650116, -0.1702965795993805, -2.6153197288513184, 0.17464867234230042, -0.36977946758270264, -0.3077455461025238, 0.1213485449552536, -0.287661075592041, -0.2528342604637146, 0.13044366240501404, 0.288906991481781, 0.3879189193248749, 0.11328278481960297, 0.3149091303348541, -0.054229702800512314, -0.14660945534706116, 0.07727350294589996, -0.06658254563808441, -0.1592731922864914, 0.03613455966114998, -0.007582457736134529, 0.16479109227657318, -0.24880170822143555, 0.16037212312221527, -0.526521623134613, 0.49386176466941833, -0.22164632380008698, 0.06193976104259491, 0.2846786379814148, -0.23559965193271637, 0.1529494971036911, -0.13825806975364685, 0.007219881750643253, 0.07256203889846802, 0.09000276029109955, 0.04535307735204697, 0.09068088233470917, 0.28505393862724304, 0.23739093542099, 0.1725785732269287, -0.05385682359337807, 0.46601787209510803, -0.11829647421836853, 0.09579344838857651, 0.4794800579547882, 0.48210057616233826, 0.05269623175263405, 0.16227871179580688, 0.35957199335098267, 0.2803579568862915, 0.22497856616973877, -0.391997754573822, -0.2347693294286728, 0.0767718032002449, 0.5125133991241455, 0.032173097133636475, 0.06440751254558563, 0.07077711820602417, 0.1893082559108734, -0.2990982234477997, 0.09991387277841568, -0.036061760038137436, -0.18998339772224426, -0.05097206309437752, 0.13716870546340942, -1.53097665309906, 0.32337358593940735, 0.265251487493515, -0.07448158413171768, -0.3651442527770996, -0.37802669405937195, 0.14629241824150085, 0.29689398407936096, 0.36272531747817993, 0.09515911340713501, 0.35100626945495605, -0.239312082529068, 0.32891029119491577, 0.025745809078216553, -0.04973025619983673, -0.02113763429224491, 0.4064983129501343, -0.127130925655365, 0.22252467274665833, 0.4460643529891968, 0.23924338817596436, 0.035477496683597565, 0.369219571352005, -0.44551143050193787, 0.0515829436480999, -0.04842205345630646, 0.3093145191669464, 0.19655688107013702, 0.11771422624588013, 0.09171910583972931, -0.07863856852054596, -0.38589373230934143, -0.0677579715847969, -1.9093308448791504, -0.013880761340260506, 0.4126952290534973, -0.10663915425539017, 0.04987993463873863, 0.35699695348739624, -0.3551902770996094, 0.09872681647539139, 0.14201587438583374, -0.2613745927810669, -0.05116521939635277, -0.006599042564630508, -0.16250647604465485, 0.036489762365818024, -0.11714663356542587, -0.2519625425338745, 0.05154148489236832, -0.02164195105433464, -0.006359122693538666, 0.20949913561344147, -0.1403859704732895, 0.0872090756893158, 0.05171028897166252, 0.12170398235321045, 0.09088046848773956, -0.014295767992734909, -0.12327927350997925, 0.0607827790081501, 0.14134222269058228, 0.05140348896384239, 0.25160089135169983, -0.08060694485902786, 0.3246329128742218, 0.12286242842674255, -0.17635729908943176, 0.3412790894508362, -0.0714922621846199, -0.1495043784379959, -0.5500030517578125, 0.49675869941711426, 0.2064627856016159, 0.06059935316443443, -0.01349702849984169, 0.009245626628398895, 0.3601553738117218, 0.07057710736989975, -0.01912299543619156, 0.035315945744514465, -0.10096332430839539, -0.15910294651985168, 0.00709080696105957, 0.13311667740345, 0.2674747407436371, 0.29012569785118103, 0.017014969140291214, -0.06739991903305054, -0.04722550883889198, 0.10620950162410736, -0.028468089178204536, -0.04270133748650551, 0.022695641964673996, -0.09783165156841278, -0.4175405204296112, 2.7005820274353027, 0.30741363763809204, -0.003571748733520508, 0.4105759859085083, 0.216066375374794, 0.2757178246974945, -0.14099346101284027, -0.05014536529779434, -0.10376983135938644, 0.24109475314617157, -0.026615256443619728, 0.40694060921669006, -0.15867102146148682, 0.23559805750846863, -0.04827788472175598, 0.26596423983573914, -0.09126920998096466, -0.0356106273829937, 0.23344464600086212, -0.2988136410713196, 0.3166772127151489, -0.052116069942712784, -0.2007577270269394, -0.027408983558416367, -0.825050413608551, 0.22203873097896576, -0.3882967233657837, -0.16634714603424072, 0.130985289812088, -0.27116310596466064, -0.07912025600671768, 0.15662363171577454, -0.08461321890354156, 0.22979894280433655, -0.13243861496448517, 0.0472053661942482, -0.01454965677112341, 0.12340929359197617, -0.15046587586402893, -0.3896164894104004, 0.0227523110806942, 0.2072218954563141, -0.0178539976477623, 0.13103124499320984, -0.22392503917217255, 0.20580092072486877, 0.047072410583496094, 0.10749652981758118, -0.10143107175827026, -0.04745206609368324, 0.1806628704071045, 0.21626988053321838, 0.04041646048426628, -0.0752238929271698, -0.11961138248443604, -0.14309939742088318, -0.05801796913146973, 0.24278861284255981, -0.03599163889884949, -0.5237124562263489, -0.04650375247001648, -0.04655645787715912, 0.04195258021354675, 0.07487395405769348, -0.16554784774780273, -0.024669896811246872, 0.1551983654499054, -0.6444007158279419, -2.1469860076904297, -0.03127624839544296, -0.14663267135620117, 0.37379342317581177, 0.03047776035964489, 0.11713892221450806, -0.018280766904354095, 0.1696595400571823, 0.265208899974823, 0.41024482250213623, 0.18700772523880005, 0.05829620361328125, -0.013527043163776398, -0.029963921755552292, -0.0856960117816925, 0.18971669673919678, -0.06146056950092316, -0.06434168666601181, 0.21311825513839722, -0.15624600648880005, 0.018802635371685028, 0.12186484038829803, -0.13901199400424957, 0.0888940840959549, -0.051943883299827576, 0.10468984395265579, -0.4561922550201416, -0.17122198641300201, 0.05038147419691086, 0.176283061504364, -0.06464485079050064, -0.14825306832790375, 0.08664896339178085, -0.09778878837823868, -0.42414069175720215, -4.278989315032959, 0.15747542679309845, -0.12521260976791382, -0.13138426840305328, -0.025123093277215958, -0.27270156145095825, 0.4226885735988617, -0.056799281388521194, -0.046279020607471466, 0.005872086621820927, 0.03187532722949982, 0.1640990972518921, 0.14655467867851257, -0.0027121722232550383, 0.11345966160297394, 0.5281820893287659, 0.3222354054450989, -0.10455475747585297, 0.25138333439826965, 0.11149768531322479, 0.05978677421808243, 0.004718463867902756, 0.06112342327833176, 0.025637419894337654, -0.051389776170253754, 0.14336101710796356, -0.5804442763328552, 0.10349868983030319, 0.02660559117794037, -0.36869391798973083, -0.02001439779996872, -0.4124966263771057, -0.12315969169139862, 0.16625654697418213, -0.11454658210277557, -0.38637298345565796, 0.04006664454936981, 0.16903945803642273, 0.3195609450340271, 0.09437699615955353, 0.044697266072034836, 0.5132293701171875, -0.02762574702501297, 0.18377685546875, 0.6077601909637451, 0.1439610719680786, 0.42430150508880615, -0.2661847770214081, -0.022948764264583588, 0.09989705681800842, -0.024308595806360245, -0.3413544297218323, 0.8998313546180725, -0.320967435836792, 0.12891100347042084, 0.055855199694633484, 0.3026556372642517, 0.18375229835510254, -0.1254398375749588, -0.02396714687347412, 0.21192382276058197, -0.24953202903270721, -0.08263720571994781, -0.23474660515785217, -0.026423431932926178, -0.3197295367717743, 0.12790443003177643, -0.37064245343208313, 0.040706731379032135, 0.14606600999832153, -0.1106746718287468, 0.11419674754142761, 0.15029093623161316, -0.8795153498649597, 0.042406126856803894, -0.22293534874916077, 0.15685054659843445, -0.07283028960227966, 0.13852599263191223, 0.17713594436645508, -0.40187156200408936, -0.065154530107975, -0.035956010222435, 0.5448347926139832, -0.44349801540374756, 0.2533295452594757, 0.04383242130279541, -0.017642101272940636, -0.46427926421165466, 0.2921347916126251, 0.10152306407690048, 0.41031014919281006, -0.12545333802700043, -0.31969398260116577, 0.002735789865255356, -0.1412072479724884, 0.2907184064388275, -0.5979984998703003, 0.09501005709171295, -0.41163012385368347, 0.014596618711948395, -0.18443173170089722, -0.12486372888088226, -0.5659090280532837, -0.08354336768388748, -0.08675005286931992, -0.3925318419933319, 0.2135748714208603, 0.3574323058128357, -0.024932928383350372, 0.25984498858451843, -0.2064628303050995, 0.001447331509552896, -0.04952116310596466, 0.5842368602752686, -0.03364775702357292, -0.28997090458869934, 0.032396864145994186, 0.06101355701684952, 0.009565621614456177, 0.38728123903274536, 0.19406147301197052, -0.04295231029391289, -0.0503976009786129, -0.22128185629844666, 0.0313347764313221, 0.02607399970293045, -0.24108032882213593, -0.39227738976478577, 0.058086272329092026, 0.05735641345381737, -0.19564126431941986, -0.34765657782554626, -0.3752690553665161, -0.06442916393280029, -0.07875914126634598, -0.2584173381328583, 0.007752946577966213, 0.22965802252292633, -0.2014162242412567, 0.2679149806499481, 0.11235658824443817, -0.12872205674648285, 0.1712093949317932, 0.14642663300037384, 0.6061320304870605, -0.00544893741607666, -0.007608480751514435, -0.08831141889095306, 0.26799410581588745, 0.06706532835960388, -0.2966043949127197, -0.14075016975402832, -0.37003257870674133, 0.02036897838115692, -0.039193786680698395, 0.05305676907300949, 0.16939285397529602, -0.13395380973815918, -0.33390718698501587, 0.269395649433136, 0.08128274232149124, -1.5619325637817383, 0.4302031993865967, -0.005857594311237335, 0.021908864378929138, -0.08142875134944916, -0.2949948310852051, -0.21966604888439178, 0.15976950526237488, 0.2108704298734665, -0.027990221977233887, -0.16619747877120972, -0.3944999873638153, 0.270195335149765, 0.3417105972766876, 0.2390170842409134, -0.16496174037456512, -0.2737717032432556, 0.08730750530958176, 0.11746218055486679, -0.23984295129776, -0.2367512285709381, 0.4455276131629944, 0.010413600131869316, -0.11711816489696503, -0.06487478315830231, -0.06077162176370621, -0.20910723507404327, 0.39445191621780396, 0.09065273404121399, 0.13099165260791779, 0.11417447775602341, -0.2484426498413086, -0.43872082233428955, -0.17645397782325745, 0.21535223722457886, 0.520875096321106, 0.04899061098694801, 0.04046265035867691, 0.0038446560502052307, 0.4420911371707916, -0.2901259660720825, 0.27457189559936523, 0.09225201606750488, 0.09015105664730072, 0.3159481883049011, 0.10682442039251328, -0.47024694085121155, 0.09705796837806702, 0.1083870604634285, -0.16337817907333374, 0.31825414299964905, -0.15419124066829681, -0.25240299105644226, -0.31692418456077576, -0.40240463614463806, 0.02599862590432167, -0.02250894159078598, 0.017107952386140823, -0.005183029919862747, -0.17727434635162354, 0.2338024377822876, 0.07537777721881866, -0.07664092630147934, 0.3633330464363098, -0.009412778541445732, -0.5601722598075867, 0.22987744212150574, 0.26389530301094055, 0.022029507905244827, -0.11913704872131348, 0.20825469493865967, -0.050204649567604065, -0.2860698401927948, 0.3119521141052246, -0.4803958833217621, 0.06070759892463684, 0.3658323884010315, 0.033250562846660614, -0.08177819103002548, -0.22708278894424438, -0.26065415143966675, -0.4550153613090515, -0.5909832119941711, 0.2546263039112091, -0.1330074667930603, -0.04381691664457321, -0.03823108226060867, 0.2836507260799408, 0.18560558557510376, -0.0825362280011177, -0.0954410508275032, -0.5066028833389282, 0.05334995687007904, 0.3861491084098816, 0.1073814257979393, -0.04668131098151207, -0.19335125386714935, 0.3676157593727112, -0.137132465839386, 0.2672440707683563, -0.34865903854370117, 0.06424306333065033, 0.020011138170957565, 0.2284458875656128, 0.1395852416753769, 0.09667769074440002, -0.041450124233961105, -0.01636892557144165, -0.1517390012741089, 0.29169756174087524, 0.0994570255279541, -0.19792482256889343, 0.0005544945597648621, 0.21304729580879211, -0.1762743890285492, -0.33556708693504333, -0.005697481334209442, 0.048318296670913696, 1.12321937084198, -0.07993438839912415, 0.21705076098442078, 0.20544040203094482, 0.3455408811569214, 0.2163582444190979, 0.07009267807006836, -0.13584983348846436, -0.4880748689174652, 0.41704654693603516, 0.26814156770706177, -0.11667047441005707, -0.19345958530902863, -0.07081947475671768, -0.003937862813472748, 0.31342583894729614, -0.07989613711833954, -0.19793866574764252, -0.2740986943244934, 0.12661778926849365, -0.20450016856193542, 0.12107478082180023, 0.25161558389663696, 0.1667662262916565, 0.15354281663894653, 0.018723169341683388, 0.28103068470954895, -0.3031769394874573, 0.032891977578401566, 0.30032262206077576, 0.05639156326651573, 0.11705705523490906, 0.25341805815696716, 0.32300499081611633, 0.0036379098892211914, -0.04922427982091904, 0.08468957990407944, -0.15856678783893585, -0.08166924864053726, 0.03955570235848427, 0.35854044556617737, -0.3177284598350525, 0.3084666132926941, -0.16801799833774567, -0.17218929529190063, 0.5569910407066345, -0.25936707854270935, -0.3739912807941437, 0.24190931022167206, 0.1195572018623352, 0.1959453523159027, -0.08489445596933365, -0.12139669805765152, -0.12484891712665558, -0.18535485863685608, 0.2721248269081116, -0.10492917150259018, -0.2067161351442337, -0.23871970176696777, 0.6411707401275635, 0.02883659303188324, 0.4215901494026184, 0.5046678781509399, -0.2583591639995575, 0.1746007353067398, 0.08884616196155548, -0.3426530659198761, 0.14392709732055664, 0.195007786154747, -0.3102572560310364, -0.011029860004782677, -0.18375414609909058, 0.2146659642457962, 0.1291431188583374, 0.13009248673915863, 0.10106925666332245, 0.4189932644367218, -0.09940334409475327, -0.27328991889953613, -1.456071138381958, 0.11940425634384155, -0.055618349462747574, -0.05656875669956207, -0.04748610034584999, 0.09362351149320602, 0.12523840367794037, -0.15889720618724823, -0.12416352331638336, -0.2651498019695282, 0.42350760102272034, 0.03424865007400513, 0.4441205561161041, -0.03372596576809883, 0.16670173406600952, -0.034364841878414154, 0.006138073280453682, -0.16573689877986908, -0.05939925089478493, -0.057425547391176224, 0.30201256275177, 0.23074378073215485, -0.1480061560869217, -0.28476908802986145, -0.4267643690109253, 0.050770122557878494, -0.028108395636081696, -0.29245197772979736, 0.36704543232917786, 0.06166844069957733, 0.0002525895833969116, 0.07190771400928497, -0.32943910360336304, -0.043490953743457794, 0.09725367277860641, -0.21719606220722198, 0.013186141848564148, -0.040341850370168686, -0.08328884094953537, 0.07182542979717255, -0.22907136380672455, 0.19283799827098846, 0.21839535236358643, 0.18054692447185516, -0.18560214340686798, 0.14686839282512665, 0.2451276332139969, -0.1646817922592163, 0.5573250651359558, -0.23246602714061737, 0.04729504883289337, -0.15481853485107422, 0.0824444442987442, 0.22152653336524963, 0.02617918699979782, 0.0861920416355133, 0.05190057307481766, 0.08384237438440323, -0.1871161162853241, -0.4584976136684418, -0.3177146315574646, 0.03524693846702576, -0.13446375727653503, 0.018610406666994095, 0.3383942246437073, 0.05324217304587364, -0.1897462010383606, 0.08114638924598694, 0.08595961332321167, -0.1021641194820404, 0.06405016779899597, -0.33779993653297424, 0.29193946719169617, 0.02260531857609749, 0.1409662961959839, -0.048501912504434586, 0.2925646901130676, 0.2566854953765869, 0.07864242047071457, 0.34124499559402466, 0.19100970029830933, -0.011831860989332199, -0.3124169111251831, -0.1398490071296692, 0.36617493629455566, -4.30649995803833, -0.06433051079511642, -0.25367921590805054, -0.07415234297513962, -0.21645799279212952, -0.4133889675140381, 0.14133068919181824, -0.586254358291626, 0.1658836305141449, -0.14847692847251892, 0.222141832113266, -0.013950306922197342, -0.1864762008190155, 0.008173598907887936, -0.07344318926334381, 0.1603330373764038]\",\n          \"[-0.31278711557388306, 0.01579093374311924, 0.01371176540851593, -0.1585787683725357, 0.01479663047939539, -0.1166604608297348, 0.3958740830421448, -0.1482897251844406, -0.18313804268836975, -0.3598311245441437, -0.0035277381539344788, -0.1651722639799118, 0.19965007901191711, 0.3476302921772003, -0.2470366358757019, 0.3044680655002594, -0.06184899061918259, 0.2897127866744995, 0.20342309772968292, 0.06956765055656433, 0.2415374219417572, -0.42017415165901184, 0.38748008012771606, -0.03206709772348404, 0.06210169568657875, 0.1886853724718094, 0.11423470824956894, 0.0191228948533535, 0.022578880190849304, 0.32413533329963684, 0.0267665795981884, 0.17819705605506897, 0.03613834083080292, -0.41560983657836914, 0.015109721571207047, -0.1424686163663864, 0.3317529559135437, -0.17814165353775024, 0.11233903467655182, 0.17743638157844543, 0.04311468079686165, -0.032546963542699814, 0.4686405658721924, 0.01225348375737667, 0.048893123865127563, -0.19171763956546783, -3.463073968887329, -0.09861716628074646, -0.19705818593502045, -0.37634825706481934, 0.2313612550497055, -0.18518346548080444, -0.11596605181694031, 0.12086551636457443, 0.4124860167503357, 0.42317813634872437, -0.11782225966453552, 0.3621656000614166, -0.20248134434223175, -0.2839087247848511, 0.012613886967301369, 0.10306955873966217, -0.27239102125167847, -0.10688893496990204, -0.12112939357757568, 0.03292228654026985, -0.09286431968212128, 0.09745190292596817, -0.3859235644340515, 0.5251296162605286, -0.36178889870643616, -0.11100100725889206, 0.4042048454284668, 0.16896334290504456, 0.05923471599817276, -0.15372706949710846, -0.07937624305486679, 0.23598936200141907, 0.060840096324682236, -0.04963689669966698, 0.16459466516971588, 0.045480649918317795, 0.11200442910194397, -0.034356728196144104, -0.010063176974654198, 0.30391979217529297, -0.0809379294514656, -0.011589962989091873, 0.10433243960142136, 0.4065508246421814, 0.11597893387079239, -0.2786431610584259, 0.16145674884319305, 0.26358047127723694, -0.03871403634548187, -0.10271114110946655, -0.19626188278198242, 0.18038910627365112, 0.3230209946632385, 0.17444446682929993, 0.25719714164733887, 0.3207980990409851, 0.1443149745464325, -0.5425107479095459, 0.23806774616241455, 0.011530579999089241, -0.23383788764476776, -0.08364371955394745, 0.06691020727157593, -1.6431721448898315, 0.27886369824409485, 0.08467752486467361, -0.4270980656147003, -0.3924338221549988, 0.046538129448890686, 0.011251439340412617, 0.08592937141656876, 0.24216561019420624, -0.006746206432580948, 0.011818182654678822, 0.18479563295841217, 0.1345958113670349, -0.13285984098911285, -0.046974338591098785, -0.15846766531467438, 0.43058672547340393, -0.12166596949100494, -0.35665610432624817, 0.4749232530593872, 0.5449321269989014, 0.15622533857822418, 0.23601707816123962, -0.34852322936058044, 0.06523458659648895, -0.2631978988647461, 0.24231523275375366, 0.33308902382850647, -0.0019732005894184113, -0.03595789521932602, 0.1029287800192833, -0.23510926961898804, -0.323684960603714, -2.0020642280578613, 0.04665571451187134, 0.47286802530288696, 0.20483756065368652, 0.13464169204235077, 0.38771629333496094, -0.07834817469120026, -0.004864967428147793, 0.21710756421089172, -0.3561859428882599, -0.2663825452327728, -0.030093777924776077, -0.1921001374721527, 0.10574087500572205, -0.1785181313753128, -0.04436274245381355, 0.20369207859039307, -0.0674152597784996, -0.012887172400951385, 0.08209429681301117, -0.011368917301297188, 0.057964324951171875, -0.1374962031841278, 0.21580560505390167, 0.07613495737314224, 0.2228701263666153, -0.1667027622461319, -0.21746622025966644, -0.066502645611763, 0.42510849237442017, 0.569071888923645, -0.027668148279190063, 0.22468921542167664, 0.17200705409049988, -0.06986404955387115, 0.3229048550128937, -0.09150537103414536, -0.05813877284526825, -0.22367781400680542, 0.3560182750225067, -0.004580400884151459, 0.022856466472148895, 0.019986875355243683, 0.0684097409248352, 0.37109971046447754, -0.01904442347586155, -0.15126721560955048, -0.2344440370798111, -0.35182949900627136, -0.260322242975235, 0.2928697168827057, 0.06185135990381241, 0.5512711405754089, 0.3630762994289398, -0.027994727715849876, -0.009451225399971008, -0.06943273544311523, 0.05129436030983925, -0.1457986980676651, 0.03933237865567207, 0.10717973113059998, 0.24140779674053192, -0.4199683666229248, 2.6520204544067383, 0.15019124746322632, 0.030485279858112335, 0.4618588387966156, 0.15933707356452942, 0.09941847622394562, -0.20347270369529724, -0.053177058696746826, 0.08629589527845383, 0.02058832161128521, 0.08889845013618469, 0.13118407130241394, -0.1116083413362503, -0.05467156320810318, -0.07753445953130722, 0.1994243860244751, 0.15822458267211914, -0.21611014008522034, 0.2764803469181061, -0.2705872058868408, 0.16974252462387085, -0.17049852013587952, -0.3354682922363281, -0.03790488839149475, -1.1403087377548218, 0.23771370947360992, -0.2503437399864197, 0.07293463498353958, -0.12420620024204254, -0.3669910430908203, -0.08451427519321442, 0.04781961441040039, 0.03210645914077759, -0.014671962708234787, -0.1312694251537323, -0.19612285494804382, 0.09352871030569077, 0.06821239739656448, -0.14410518109798431, 0.08908884227275848, 0.1995829939842224, 0.14980590343475342, -0.3401646316051483, -0.07514990866184235, -0.15784896910190582, 0.3419414460659027, 0.45906054973602295, 0.1979762613773346, -0.17112098634243011, 0.3806815445423126, -0.08854041248559952, 0.19500882923603058, -0.02071666345000267, -0.1919870227575302, -0.3138837218284607, -0.23624102771282196, -0.22613438963890076, 0.30756860971450806, 0.0648287907242775, -0.37880250811576843, -0.19490328431129456, 0.2495163232088089, -0.1680508553981781, 0.013576553203165531, 0.03616098687052727, -0.1007879227399826, 0.24683906137943268, -0.6668533086776733, -1.801756739616394, 0.04922855272889137, -0.20713505148887634, 0.33468902111053467, -0.10821929574012756, 0.16076110303401947, -0.09235984086990356, 0.19969233870506287, 0.4207887053489685, 0.10445193201303482, 0.258024126291275, 0.14472129940986633, -0.06793297082185745, -0.06425319612026215, -0.48270970582962036, 0.38563480973243713, 0.2183704525232315, -0.24353045225143433, 0.07301092147827148, -0.347836434841156, -0.15746459364891052, 0.10606276988983154, -0.23137740790843964, -0.022586185485124588, 0.020496197044849396, -0.02268669754266739, -0.45301923155784607, -0.4935324788093567, 0.09909968823194504, 0.29874590039253235, 0.008521176874637604, 0.10702212154865265, 0.3594083786010742, -0.1825348287820816, -0.2852906882762909, -4.097314834594727, 0.07974229753017426, -0.004708770662546158, -0.560041606426239, -0.08164405822753906, 0.045412495732307434, 0.4149395227432251, 0.1630130261182785, -0.23651166260242462, -0.20579636096954346, 0.3960730731487274, 0.011438840068876743, 0.23160423338413239, 0.0888790562748909, 0.18072131276130676, 0.19114206731319427, 0.41956084966659546, 0.0584188736975193, 0.12489644438028336, 0.33928143978118896, -0.15369945764541626, -0.2728811204433441, 0.2558026909828186, -0.04315318167209625, 0.26178818941116333, -0.00497598759829998, -0.7352606058120728, -0.08761248737573624, 0.10833200067281723, -0.2876400351524353, -0.08528641611337662, -0.3831265866756439, -0.09854818880558014, 0.30245962738990784, -0.3451976776123047, -0.28291571140289307, 0.015479709953069687, 0.12068793922662735, 0.5901791453361511, -0.030359234660863876, 0.11184588074684143, 0.41846445202827454, 0.13388513028621674, 0.16630667448043823, 0.6739208698272705, -0.08003440499305725, 0.2959127426147461, 0.1319655478000641, -0.06425216048955917, 0.18740272521972656, -0.08667881786823273, -0.2568633556365967, 1.1058320999145508, -0.10201214998960495, 0.014533404260873795, -0.046061404049396515, 0.3583453893661499, 0.037597108632326126, -0.17190168797969818, 0.11591724306344986, 0.36988365650177, -0.3805004358291626, 0.11335091292858124, -0.029568050056695938, 0.05401469022035599, -0.3304876685142517, 0.4752153158187866, -0.05264405161142349, -0.441508412361145, 0.10771703720092773, -0.21658965945243835, 0.3655078411102295, -0.15142479538917542, -0.6415687799453735, 0.005644187331199646, -0.1963610053062439, 0.05500476062297821, 0.04593239724636078, 0.06589914858341217, 0.4220048785209656, -0.3508794903755188, -0.06264431774616241, -0.01354566216468811, 0.5094324946403503, -0.33184167742729187, 0.2179897278547287, -0.09527325630187988, -0.0674535408616066, -0.6549035906791687, -0.03824864327907562, -0.0961507111787796, 0.03522678464651108, 0.11824534088373184, -0.02439749613404274, 0.1243363618850708, -0.2110125720500946, 0.4686075448989868, -0.7109619379043579, 0.046321429312229156, -0.4779786169528961, -0.037669748067855835, -0.27263739705085754, 0.0034035183489322662, -0.06831515580415726, -0.15925219655036926, -0.30882528424263, -0.24216443300247192, 0.2049526423215866, 0.1812106966972351, 0.11995187401771545, -0.13743281364440918, 0.07654423266649246, -0.12820440530776978, 0.2972554564476013, 0.9403367042541504, -0.2748927175998688, -0.153377503156662, 0.2702167332172394, 0.12888522446155548, -0.0995197519659996, 0.18052121996879578, -0.0821768119931221, -0.11639848351478577, 0.16196531057357788, -0.3579956889152527, -0.038176193833351135, 0.058492351323366165, -0.11738140881061554, -0.3845900297164917, -0.10884474962949753, 0.14427286386489868, 0.09015694260597229, -0.40411415696144104, -0.25164949893951416, 0.07506219297647476, -0.15330733358860016, -0.15772032737731934, -0.05767522752285004, 0.15885084867477417, 0.00875367596745491, 0.4517466723918915, -0.037040986120700836, -0.3098289966583252, 0.017872393131256104, 0.1333513855934143, 0.4505314528942108, 0.1128494068980217, 0.09376589953899384, -0.1383301317691803, 0.19871193170547485, -0.3196026682853699, -0.24084866046905518, 0.011979727074503899, -0.49401044845581055, 0.27225321531295776, 0.30099809169769287, 0.0006786566227674484, 0.08269760012626648, -0.059459805488586426, -0.27461951971054077, 0.15795603394508362, 0.09108049422502518, -1.7488765716552734, 0.36344605684280396, 0.0018414966762065887, 0.2487594187259674, -0.27342867851257324, -0.2882896661758423, -0.06375817954540253, 0.26517266035079956, 0.3505312502384186, 0.142797589302063, 0.05769110471010208, -0.4170210659503937, 0.06451095640659332, 0.20977620780467987, -0.0692606270313263, -0.20579129457473755, -0.10779428482055664, 0.11492843925952911, 0.10583967715501785, -0.08927921205759048, -0.37810370326042175, 0.7085973620414734, -0.07781189680099487, 0.07349517941474915, 0.041043721139431, -0.07662582397460938, 0.09314397722482681, 0.3017733097076416, 0.07746348530054092, 0.3325408697128296, 0.11601368337869644, -0.32925963401794434, -0.1931183636188507, -0.17197996377944946, 0.5197121500968933, 0.2477594017982483, -0.06901818513870239, -0.14379368722438812, 0.18923397362232208, 0.2995428144931793, -0.2378787100315094, 0.5574371814727783, 0.47417551279067993, 0.07629653811454773, 0.5010225176811218, 0.12626636028289795, -0.41933557391166687, 0.048868730664253235, -0.05022869631648064, -0.1980627179145813, 0.24780502915382385, 0.12428910285234451, 0.07227003574371338, -0.3011774718761444, -0.18875250220298767, -0.09240731596946716, -0.29861190915107727, 0.1640586405992508, 0.11340455710887909, -0.12622442841529846, 0.34666240215301514, -0.29876047372817993, -0.02692337892949581, 0.23101843893527985, -0.02698141522705555, -0.4336041212081909, 0.0863371416926384, -0.01671173796057701, -0.1375284343957901, -0.10306854546070099, 0.33114513754844666, -0.29589247703552246, -0.45421984791755676, 0.371843159198761, -0.014801666140556335, -0.2885875701904297, 0.369651198387146, 0.17645996809005737, -0.01813873089849949, -0.37369439005851746, -0.029961075633764267, -0.683996856212616, -0.436897873878479, 0.20900262892246246, -0.11477718502283096, -0.020294250920414925, -0.04603835195302963, 0.18944858014583588, -0.021007943898439407, -0.1500420868396759, 0.026334229856729507, -0.5114580988883972, 0.011553818359971046, -0.013691075146198273, 0.1926720142364502, -0.016442932188510895, -0.21589022874832153, 0.03092009201645851, -0.2163240611553192, 0.2997351586818695, -0.18193718791007996, 0.14099907875061035, 0.24418751895427704, 0.2339058220386505, -0.047256432473659515, 0.07857047021389008, 0.21828511357307434, -0.13598306477069855, -0.00522078201174736, 0.13595980405807495, 0.10499545186758041, -0.4014381468296051, -0.0046174488961696625, 0.28276678919792175, 0.19821786880493164, -0.33482056856155396, 0.018538784235715866, 0.06304825097322464, 1.2131528854370117, 0.13837479054927826, 0.14413738250732422, 0.10791633278131485, 0.31765860319137573, 0.01226864755153656, -0.24133513867855072, -0.05560341104865074, -0.19031961262226105, 0.2811462879180908, -0.0811186358332634, -0.12236964702606201, -0.0878237783908844, 0.011251209303736687, 0.24679327011108398, 0.35646873712539673, -0.10099340975284576, -0.19239404797554016, -0.3840128183364868, 0.04844781756401062, -0.2390139400959015, 0.10639482736587524, 0.14335700869560242, -0.2396412491798401, -0.0019021406769752502, 0.09029976278543472, 0.13974042236804962, -0.22479122877120972, 0.1017286628484726, 0.10975494980812073, -0.14692717790603638, 0.2670398950576782, 0.5690760612487793, 0.24010883271694183, -0.11491717398166656, -0.22539401054382324, -0.10761512815952301, -0.1447717398405075, -0.05096515268087387, 0.22726063430309296, 0.12078645080327988, -0.14081577956676483, 0.5662609338760376, 0.09408631920814514, 0.09805887937545776, 0.44956809282302856, -0.019484270364046097, -0.49486789107322693, 0.2126842737197876, 0.48460355401039124, -0.10617886483669281, -0.0318831130862236, -0.19822105765342712, -0.1696484237909317, -0.1697026491165161, 0.0018108650110661983, -0.4599670469760895, -0.27752646803855896, -0.0749017521739006, 0.4430253207683563, -0.05568592995405197, 0.3570607602596283, 0.6451273560523987, -0.3231419622898102, 0.18213868141174316, 0.04549378156661987, -0.29662469029426575, 0.2817332446575165, 0.27402645349502563, -0.1785108596086502, 0.20988675951957703, 0.26547062397003174, 0.22735907137393951, 0.1757577657699585, 0.29630935192108154, 0.17241589725017548, 0.3975509703159332, 0.027910370379686356, 0.005048826336860657, -1.7374778985977173, 0.16144010424613953, 0.20760147273540497, 0.23750081658363342, 0.19520491361618042, 0.047984056174755096, 0.02548902854323387, -0.03039340116083622, -0.08771663904190063, -0.08983869850635529, 0.3903249204158783, 0.25429829955101013, 0.3121521770954132, -0.032697100192308426, -0.00583912618458271, 0.21639983355998993, 0.13050970435142517, -0.18006190657615662, -0.20371589064598083, 0.1786169707775116, 0.38284167647361755, 0.2737363874912262, -0.10459060966968536, -0.052460357546806335, -0.30874598026275635, 0.24661694467067719, 0.258362352848053, -0.14856989681720734, 0.3015984892845154, 0.3130010962486267, -0.07986648380756378, 0.1031721830368042, -0.026793554425239563, 0.08154464513063431, 0.172242671251297, -0.3090737462043762, -0.10280045121908188, -0.20347900688648224, -0.037597861140966415, 0.0863356664776802, -0.5218473076820374, 0.3307032287120819, -0.08723132312297821, 0.3430871367454529, -0.28515467047691345, 0.2336045205593109, 0.3403356075286865, -0.20269858837127686, 0.5241339802742004, -0.2713997960090637, 0.008716385811567307, -0.4488923251628876, 0.18987366557121277, 0.22121310234069824, -0.14571285247802734, -0.0740506649017334, -0.05037055164575577, -0.04583311453461647, 0.03053557127714157, -0.3419053554534912, -0.5266417264938354, 0.1262756586074829, 0.013987615704536438, 0.25397488474845886, 0.04985330253839493, -0.40862300992012024, -0.5627312660217285, 0.0738983154296875, -0.24608957767486572, -0.3162699341773987, -0.026118382811546326, -0.41795051097869873, -0.022769322618842125, 0.051815275102853775, 0.31934988498687744, -0.0346858985722065, 0.36243003606796265, 0.2748081386089325, 0.19601042568683624, 0.5598094463348389, -0.034160297363996506, -0.06405501067638397, -0.20202668011188507, -0.05279945209622383, 0.17437463998794556, -4.4545440673828125, -0.09913462400436401, -0.298943430185318, -0.03605866804718971, -0.10485976189374924, -0.25585830211639404, 0.05459346994757652, -0.4285169541835785, 0.07448361068964005, -0.04837002605199814, 0.14762043952941895, -0.273074746131897, -0.16159309446811676, -0.031002666801214218, 0.23819440603256226, -0.17540840804576874]\",\n          \"[-0.05185035988688469, -0.4638708531856537, -0.007215328514575958, -0.06746033579111099, 0.18211884796619415, -0.0035504288971424103, 0.0469149686396122, 0.06153493374586105, -0.15168380737304688, -0.30537083745002747, -0.05193457752466202, 0.04793413728475571, 0.09458217024803162, 0.2966405749320984, -0.23346984386444092, 0.23763155937194824, -0.088639996945858, 0.2769877314567566, 0.27728551626205444, 0.12203482538461685, 0.1648690402507782, -0.6937786936759949, 0.08610562235116959, 0.07783286273479462, 0.05071104317903519, -0.12824112176895142, 0.12469308823347092, -0.07373460382223129, 0.3754684329032898, 0.12362547963857651, 0.20780883729457855, 0.23331347107887268, 0.08817596733570099, -0.4757749140262604, 0.4323856234550476, -0.10188551247119904, 0.36689886450767517, -0.12305132299661636, -0.19990786910057068, 0.032821521162986755, -0.09750504791736603, 0.1638413369655609, 0.4869057834148407, -0.228445902466774, 0.12812864780426025, -0.11922038346529007, -2.698647975921631, 0.18776476383209229, -0.500767171382904, -0.3449224829673767, 0.09843604266643524, -0.27053841948509216, -0.1047004759311676, 0.13750094175338745, 0.4057730436325073, 0.5428693890571594, 0.09324443340301514, 0.27205193042755127, 0.0291338749229908, -0.06478499621152878, -0.07477238774299622, -0.02891167253255844, -0.22018428146839142, 0.06369000673294067, 0.030133772641420364, 0.24286195635795593, -0.31197091937065125, 0.11383537948131561, -0.3771745264530182, 0.6386303305625916, -0.1654500812292099, 0.016816850751638412, 0.32812628149986267, -0.014584511518478394, 0.13222722709178925, -0.12182694673538208, -0.0022718862164765596, -0.02321203239262104, 0.04463798925280571, 0.053569868206977844, 0.03701136261224747, 0.3885440230369568, 0.3231275677680969, 0.30704689025878906, 0.06432951241731644, 0.6066246628761292, -0.3115188777446747, 0.14569520950317383, 0.4259134829044342, 0.42104265093803406, 0.03445066511631012, 0.21570250391960144, 0.41511207818984985, 0.3265923857688904, 0.3171790540218353, -0.511797308921814, -0.13185328245162964, 0.06943090260028839, 0.6083245873451233, -8.395034819841385e-05, 0.1183665543794632, 0.14996403455734253, 0.1509324312210083, -0.29215842485427856, 0.17375147342681885, 0.0024328771978616714, -0.23578345775604248, -0.1414327472448349, 0.06697186827659607, -1.6327846050262451, 0.3375631868839264, 0.18596506118774414, -0.10712086409330368, -0.40465572476387024, -0.5577229261398315, 0.11920984089374542, 0.1050763949751854, 0.3982660472393036, 0.02520911768078804, 0.4080031216144562, -0.13780730962753296, 0.33665725588798523, 0.024366365745663643, 0.029367299750447273, -0.10527899116277695, 0.5332568883895874, -0.10641833394765854, 0.38633036613464355, 0.3710385859012604, 0.3649127781391144, 0.2292049527168274, 0.4034036695957184, -0.45060527324676514, -0.01448173075914383, -0.07728724926710129, 0.34897348284721375, 0.020521681755781174, 0.06639856100082397, 0.14864324033260345, -0.0994725450873375, -0.5065854787826538, -0.1937762200832367, -2.0406787395477295, 0.06243343651294708, 0.42580506205558777, -0.11250756680965424, 0.17831546068191528, 0.29273754358291626, -0.3811224699020386, -0.07180081307888031, 0.19453302025794983, -0.19216063618659973, -0.1600213348865509, -0.04402856528759003, -0.17405100166797638, 0.014461543411016464, -0.07646798342466354, -0.2190314680337906, 0.13005998730659485, 0.03473975881934166, -0.022811759263277054, 0.1905989646911621, -0.05834631621837616, -0.052947934716939926, 0.017906945198774338, 0.11334061622619629, 0.17281414568424225, 0.11370475590229034, -0.07549070566892624, 0.18123415112495422, 0.106629878282547, 0.03343358263373375, 0.3044539988040924, -0.15888282656669617, 0.3078242540359497, 0.1764593869447708, -0.16377264261245728, 0.34858283400535583, -0.0938563346862793, -0.21202436089515686, -0.5785102844238281, 0.5313444137573242, 0.20506837964057922, 0.19526506960391998, 0.07283231616020203, -0.0916166752576828, 0.3854934871196747, -0.013035854324698448, -0.033094972372055054, -0.034513942897319794, -0.13817791640758514, -0.1661737561225891, 0.014958556741476059, 0.01666097715497017, 0.2863975763320923, 0.26281502842903137, 0.10106179118156433, -0.11815956234931946, -0.07474758476018906, 0.21771305799484253, 0.014421327039599419, 0.06475065648555756, -0.19371388852596283, -0.1389807015657425, -0.2601063847541809, 2.923313856124878, 0.33034393191337585, -0.1081172451376915, 0.3934807777404785, 0.13147102296352386, 0.3637409210205078, -0.18557007610797882, -0.058329254388809204, -0.05727043375372887, 0.21298812329769135, -0.14341938495635986, 0.339539498090744, -0.0688592791557312, 0.2909121811389923, -0.14778132736682892, 0.4095139801502228, -0.09030836075544357, -0.09842969477176666, 0.3284074068069458, -0.33044683933258057, 0.2618773877620697, -0.06443655490875244, -0.2771398425102234, 0.0015621297061443329, -0.8100013136863708, 0.20445339381694794, -0.39675241708755493, -0.24567386507987976, 0.08650749921798706, -0.2854998707771301, -0.024857167154550552, 0.14835414290428162, -0.003168828785419464, 0.23617330193519592, -0.11556363105773926, 0.0670028105378151, 0.09123698621988297, 0.1610882431268692, -0.2699631452560425, -0.4091642498970032, 0.09079572558403015, 0.1561845988035202, -0.0696946382522583, 0.20130527019500732, -0.18221470713615417, 0.15557852387428284, -0.0955374464392662, 0.1300237476825714, -0.09240152686834335, -0.14549967646598816, 0.10633759945631027, 0.04983488842844963, 0.019333939999341965, -0.14106006920337677, -0.11039729416370392, -0.24904221296310425, -0.17503109574317932, 0.29705509543418884, -0.07847759872674942, -0.5967174768447876, -0.165380597114563, -0.019634976983070374, -0.09581182897090912, 0.11054056882858276, -0.08027562499046326, -0.009302910417318344, 0.04806135594844818, -0.544468879699707, -2.379051685333252, -0.00883239135146141, -0.21587441861629486, 0.4115350842475891, 0.15694522857666016, -0.01428784430027008, 0.018979772925376892, 0.1682528704404831, 0.25817322731018066, 0.46471965312957764, 0.1815442442893982, 0.007976138032972813, 0.07512082159519196, -0.09885597974061966, -0.07423064112663269, 0.12879127264022827, -0.041847001761198044, -0.03168904408812523, 0.22062093019485474, -0.31887659430503845, -0.02844284102320671, 0.0850040465593338, -0.10358171910047531, 0.07372565567493439, -0.16176840662956238, 0.1030709519982338, -0.5383533835411072, -0.2676149010658264, 0.10596515238285065, 0.0939558893442154, -0.10956170409917831, -0.2864968180656433, 0.13539113104343414, -0.1737324446439743, -0.5218953490257263, -3.979851484298706, 0.04764578491449356, -0.15285666286945343, -0.12042165547609329, 0.09517006576061249, -0.32800471782684326, 0.5143972039222717, -0.006701933220028877, -0.10614681243896484, 0.06065533310174942, 0.05339188128709793, 0.10267417132854462, 0.2066154181957245, 0.11260788887739182, 0.17957204580307007, 0.7074276804924011, 0.5161865949630737, -0.12374885380268097, 0.3045014441013336, 0.16686446964740753, 0.1595636010169983, 0.004754733294248581, -0.08400636166334152, -0.061212144792079926, -0.04057401046156883, 0.08636578172445297, -0.7513170838356018, 0.10845720022916794, -0.1129654124379158, -0.32753434777259827, -0.1512472927570343, -0.5670686960220337, -0.1619236022233963, 0.170472651720047, -0.11202985048294067, -0.3977718949317932, -0.11193318665027618, 0.22419926524162292, 0.27081578969955444, 0.1464451253414154, 0.11245326697826385, 0.6128333210945129, -0.0009087696671485901, 0.19726502895355225, 0.6252883672714233, 0.09002655744552612, 0.33574479818344116, -0.26173388957977295, -0.02035500481724739, 0.07786376774311066, -0.006135111674666405, -0.25522929430007935, 0.9684561491012573, -0.34019047021865845, -0.028282292187213898, 0.005952253006398678, 0.4170932173728943, 0.21199123561382294, -0.1744043529033661, 0.0985930934548378, 0.06602951139211655, -0.10856496542692184, -0.20957422256469727, -0.3109045624732971, -0.0670742467045784, -0.22099247574806213, 0.10547596216201782, -0.4998604953289032, -0.01924818381667137, -0.017113719135522842, -0.19477085769176483, 0.12552131712436676, 0.2530907690525055, -0.8843722939491272, -0.07508781552314758, -0.3276641368865967, 0.21457743644714355, -0.23970316350460052, 0.18183985352516174, 0.21384823322296143, -0.3567044138908386, -0.1690811961889267, -0.0518171489238739, 0.526232123374939, -0.3142756521701813, 0.29194971919059753, 0.01833638921380043, -0.14882001280784607, -0.49168503284454346, 0.14416511356830597, 0.11397521942853928, 0.34319502115249634, -0.1303478479385376, -0.26500675082206726, 0.014321988448500633, -0.12207827717065811, 0.30293819308280945, -0.639240562915802, 0.10183998197317123, -0.4904135763645172, -0.19759099185466766, -0.1928391456604004, -0.16292360424995422, -0.5869163274765015, -0.050132084637880325, -0.14316251873970032, -0.31235989928245544, 0.18846584856510162, 0.34882652759552, 0.10176397860050201, 0.3233306407928467, -0.1962575614452362, 0.07701638340950012, 0.07103437185287476, 0.6640300154685974, -0.018475456163287163, -0.32050633430480957, 0.16067224740982056, 0.056699275970458984, -0.0195777490735054, 0.4458869397640228, 0.16544285416603088, -0.02420707792043686, -0.047254323959350586, -0.2123958170413971, 0.01352204941213131, 0.037591975182294846, -0.16128166019916534, -0.5310633182525635, -0.045357514172792435, 0.10748495161533356, -0.136365607380867, -0.3585715591907501, -0.4608868956565857, -0.1549145132303238, -0.10944931209087372, -0.24958163499832153, 0.05465634539723396, 0.2667481005191803, -0.1673230677843094, 0.3807150721549988, 0.1507463902235031, -0.20635753870010376, 0.11610370129346848, 0.10911338776350021, 0.5957319736480713, 0.06282325088977814, 0.0034926384687423706, -0.09376056492328644, 0.20269499719142914, 0.12984132766723633, -0.2514692544937134, -0.2896501421928406, -0.34385043382644653, -0.061320412904024124, -0.2235972285270691, 0.17836841940879822, 0.2068806290626526, -0.0515717938542366, -0.43813180923461914, 0.2555670142173767, 0.2135881781578064, -1.6451581716537476, 0.47133877873420715, 0.019401662051677704, 0.06704021245241165, -0.07209838181734085, -0.2674352526664734, -0.2923029661178589, 0.23939573764801025, 0.34600400924682617, -0.01995006576180458, -0.28149518370628357, -0.3454287648200989, 0.4044233560562134, 0.35906317830085754, 0.24209845066070557, -0.14103607833385468, -0.2817712426185608, 0.05769536644220352, 0.12638916075229645, -0.24625271558761597, -0.34441277384757996, 0.4372585117816925, -0.027353433892130852, -0.1293332725763321, -0.030165305361151695, -0.11517192423343658, -0.1476985067129135, 0.29564976692199707, 0.22822044789791107, 0.1741006225347519, 0.13793769478797913, -0.23935750126838684, -0.41043147444725037, -0.19878455996513367, 0.3422609269618988, 0.4668010473251343, 0.059275683015584946, -0.08293294161558151, -0.011704104021191597, 0.5089926719665527, -0.4617540240287781, 0.3523750603199005, -0.010519076138734818, 0.07057327032089233, 0.25997477769851685, 0.18043625354766846, -0.46190640330314636, 0.1455284059047699, 0.09860504418611526, -0.10744564235210419, 0.34911176562309265, -0.11929358541965485, -0.4393681585788727, -0.17745862901210785, -0.38547638058662415, 0.1025180071592331, 0.12580177187919617, -0.06497032940387726, -0.02625688910484314, -0.290555477142334, 0.414776474237442, -0.003435622900724411, -0.24209921061992645, 0.3871777653694153, 0.10768182575702667, -0.6029309630393982, 0.07651929557323456, 0.26603439450263977, 0.05485574156045914, 0.009776024147868156, 0.22177666425704956, 0.061834950000047684, -0.28907105326652527, 0.3820118308067322, -0.5110951066017151, 0.02757118083536625, 0.43961262702941895, 0.04321349784731865, -0.108852818608284, -0.12477992475032806, -0.3396681547164917, -0.4592151641845703, -0.7102092504501343, 0.32457491755485535, -0.13251665234565735, -0.08698100596666336, -0.16344478726387024, 0.14974291622638702, 0.1909453272819519, -0.056088462471961975, -0.2325742095708847, -0.5488202571868896, 0.15160304307937622, 0.38912057876586914, 0.21693527698516846, -0.03596245497465134, -0.1817457675933838, 0.37301886081695557, -0.13853682577610016, 0.18341678380966187, -0.36834317445755005, 0.1776413917541504, 0.16150525212287903, 0.17260712385177612, 0.1437048763036728, 0.10188578069210052, 0.01075395941734314, -0.1152888685464859, -0.22709952294826508, 0.3538496792316437, 0.029450975358486176, -0.25745847821235657, 0.0918816328048706, 0.24891617894172668, -0.17789870500564575, -0.4129597246646881, 0.07743973284959793, 0.07164434343576431, 1.1524972915649414, -0.008614519611001015, 0.1278446614742279, 0.2079678773880005, 0.12681543827056885, 0.2554887533187866, 0.0635984018445015, -0.08863476663827896, -0.6705288290977478, 0.4856180250644684, 0.343332976102829, -0.06988115608692169, -0.2280854433774948, -0.024937434121966362, 0.017782174050807953, 0.3451727330684662, -0.15359210968017578, -0.27938196063041687, -0.12401750683784485, 0.08684137463569641, -0.2924344837665558, 0.24484848976135254, 0.189165398478508, 0.20094266533851624, 0.05876946449279785, -0.018703673034906387, 0.284368097782135, -0.21739551424980164, 0.18796630203723907, 0.25543367862701416, 0.06354615092277527, 0.06797096133232117, 0.3205847144126892, 0.2879432439804077, -0.07528315484523773, 0.002378419041633606, 0.0979657992720604, -0.2348402887582779, -0.06150439381599426, -0.02298806980252266, 0.3497035801410675, -0.3174719214439392, 0.34454235434532166, -0.2483971118927002, -0.22314918041229248, 0.7894228100776672, -0.400312602519989, -0.4294351637363434, 0.15028351545333862, 0.11822950839996338, 0.09896384924650192, -0.16180148720741272, -0.24992448091506958, 0.020605575293302536, -0.09239249676465988, 0.2775077223777771, -0.044480886310338974, -0.15393950045108795, -0.3415108025074005, 0.5913771390914917, 0.1627638339996338, 0.44861528277397156, 0.5966356992721558, -0.24312441051006317, 0.13056185841560364, 0.10506989806890488, -0.37220650911331177, 0.2340714931488037, 0.13638834655284882, -0.2458290308713913, -0.0009530652314424515, -0.16533735394477844, 0.4529688060283661, 0.0926215872168541, 0.03630683571100235, 0.14958316087722778, 0.5517187118530273, -0.1331253945827484, -0.2793537378311157, -1.575178861618042, 0.11699138581752777, -0.04496580362319946, 0.06462502479553223, 0.022535892203450203, 0.0979851707816124, 0.10896067321300507, -0.13659752905368805, -0.21005958318710327, -0.3158080577850342, 0.5006614923477173, 0.04887550324201584, 0.5037204623222351, -0.06182664632797241, 0.34088170528411865, -0.011500585824251175, 0.03343486785888672, -0.2967206537723541, 0.046435289084911346, -0.10167950391769409, 0.15527266263961792, 0.32449033856391907, -0.143466055393219, -0.3197191059589386, -0.3732339143753052, 0.053671132773160934, -0.17284344136714935, -0.315127968788147, 0.39009350538253784, 0.20097436010837555, -0.0016476325690746307, 0.03161168843507767, -0.2617449164390564, -0.12586736679077148, 0.18703532218933105, -0.27732208371162415, 0.09365890175104141, 0.06705601513385773, -0.10020878165960312, 0.09655871987342834, -0.23145903646945953, 0.26237422227859497, 0.22866791486740112, 0.2503398656845093, -0.1503571718931198, 0.14190427958965302, 0.23280678689479828, -0.20191188156604767, 0.6942052841186523, -0.3195512592792511, 0.10128597915172577, -0.15711621940135956, 0.07318319380283356, 0.2545228600502014, -0.11753903329372406, 0.10617825388908386, 0.10671823471784592, 0.03449481725692749, -0.13009920716285706, -0.43424299359321594, -0.30670732259750366, 0.005156762897968292, -0.12689384818077087, 0.09363308548927307, 0.33497753739356995, 0.142752006649971, -0.12660762667655945, 0.14956744015216827, 0.19321133196353912, 0.036601144820451736, 0.08648276329040527, -0.24283409118652344, 0.4369221329689026, 0.061762142926454544, 0.25960850715637207, -0.10505259037017822, 0.38978826999664307, 0.18675091862678528, 0.051656849682331085, 0.213729590177536, 0.15780290961265564, -0.014452346600592136, -0.29913416504859924, -0.0883510410785675, 0.35162684321403503, -4.774632453918457, -0.21817705035209656, -0.3199447691440582, -0.06894069910049438, -0.22282028198242188, -0.4329451620578766, 0.15207789838314056, -0.6200048923492432, 0.1066804751753807, -0.23097622394561768, 0.2531948387622833, -0.004236243665218353, -0.2090575098991394, 0.056325484067201614, -0.19671523571014404, 0.23848339915275574]\"\n        ],\n        \"semantic_type\": \"\",\n        \"description\": \"\"\n      }\n    },\n    {\n      \"column\": \"image_features\",\n      \"properties\": {\n        \"dtype\": \"object\",\n        \"semantic_type\": \"\",\n        \"description\": \"\"\n      }\n    }\n  ]\n}"
            }
          },
          "metadata": {},
          "execution_count": 12
        }
      ]
    },
    {
      "cell_type": "code",
      "source": [
        "empty_rows = df[df['image_features'].apply(lambda x: len(x) == 0)]\n",
        "print(f\"Rows with empty image_features:\\n{empty_rows}\")"
      ],
      "metadata": {
        "colab": {
          "base_uri": "https://localhost:8080/"
        },
        "id": "NchHOHEKryph",
        "outputId": "4506920f-41db-495f-c921-2afe70fb7b13"
      },
      "execution_count": 21,
      "outputs": [
        {
          "output_type": "stream",
          "name": "stdout",
          "text": [
            "Rows with empty image_features:\n",
            "       Unnamed: 0                                        description  \\\n",
            "128           128  name lucknow womens designer straight georgett...   \n",
            "129           129  name printed kurti fabric green blue fabric co...   \n",
            "130           130  name woman rayon anarkali kurta fabric rayon s...   \n",
            "131           131  name woman stylish kurti nyra cut kurti george...   \n",
            "132           132  name cotton kantha pattern kurta womens fabric...   \n",
            "...           ...                                                ...   \n",
            "81880       81880  shirt stretch weave grandad collar french fron...   \n",
            "81881       81881  shirt stretch weave grandad collar french fron...   \n",
            "81934       81934  regularfit shirt woven fabric easyiron finish ...   \n",
            "81936       81936  regularfit shirt woven fabric easyiron finish ...   \n",
            "81938       81938  slimfit easyiron shirt woven fabric fitted sil...   \n",
            "\n",
            "       category_id                                         product_id  \\\n",
            "128             63  95912cb674761767f08182079be17350e47c88b9d4b47b...   \n",
            "129             63  401141876ac135c965ad3e31a2f95f0546fdb5ff581f3e...   \n",
            "130             63  5eb028ec53c14fda259398561bf45f83155a9f4cc917b3...   \n",
            "131             63  84aa3af162667197627a553b4491d29f51fac8cb9f8140...   \n",
            "132             63  af88bba1416148c5e99e701103be92ad2e6f8d997386bb...   \n",
            "...            ...                                                ...   \n",
            "81880           91  6c044569102e9cfbb54102cb024fc36b0ccfaa450d73fc...   \n",
            "81881           91  749857c9e94d6fe006b72916001aa3105bcf0bd353d4fe...   \n",
            "81934           91  6e5ced0d9302e549ca437e08e6c6af612e7be6ff3216e5...   \n",
            "81936           91  01fcec92ed896ac4ef0e6d3d157ac9f2873be14e3cad08...   \n",
            "81938           91  0e3624aa86c7a55be8fd2108fbfbc2c0066c07c058977f...   \n",
            "\n",
            "                                                 pdp_url    brand  \\\n",
            "128    https://www.meesho.com/lucknow-womens-designer...  Generic   \n",
            "129    https://www.meesho.com/printed-kurti-fabric-gr...  Generic   \n",
            "130    https://www.meesho.com/women-rayon-anarkali-ku...  Generic   \n",
            "131    https://www.meesho.com/women-stylish-kurti-nyr...  Generic   \n",
            "132    https://www.meesho.com/cotton-kantha-pattern-k...  Generic   \n",
            "...                                                  ...      ...   \n",
            "81880  https://www2.hm.com/en_us/productpage.12407830...      H&M   \n",
            "81881  https://www2.hm.com/en_us/productpage.12407830...      H&M   \n",
            "81934  https://www2.hm.com/en_us/productpage.12439330...      H&M   \n",
            "81936  https://www2.hm.com/en_us/productpage.12439330...      H&M   \n",
            "81938  https://www2.hm.com/en_us/productpage.12428120...      H&M   \n",
            "\n",
            "                                           feature_image  department_id   mrp  \\\n",
            "128    https://images.meesho.com/images/products/2823...              2   749   \n",
            "129    https://images.meesho.com/images/products/4555...              2   399   \n",
            "130    https://images.meesho.com/images/products/3843...              2  2199   \n",
            "131    https://images.meesho.com/images/products/3134...              2  2599   \n",
            "132    https://images.meesho.com/images/products/3346...              2   999   \n",
            "...                                                  ...            ...   ...   \n",
            "81880  https://image.hm.com/assets/hm/34/d4/34d4b72ad...              1  2110   \n",
            "81881  https://image.hm.com/assets/hm/3b/07/3b0761ea6...              1  2110   \n",
            "81934  https://image.hm.com/assets/hm/11/8c/118c8d5d7...              1  2110   \n",
            "81936  https://image.hm.com/assets/hm/39/0c/390ce917a...              1  2110   \n",
            "81938  https://image.hm.com/assets/hm/b4/57/b45789560...              1  2110   \n",
            "\n",
            "                                            product_name  \\\n",
            "128    lucknow womens designer straight georgette han...   \n",
            "129                      printed kurti fabric green blue   \n",
            "130                           woman rayon anarkali kurta   \n",
            "131    woman stylish kurti nyra cut kurti georgette k...   \n",
            "132                   cotton kantha pattern kurta womens   \n",
            "...                                                  ...   \n",
            "81880                             slim fit grandad shirt   \n",
            "81881                             slim fit grandad shirt   \n",
            "81934                         regular fit easyiron shirt   \n",
            "81936                         regular fit easyiron shirt   \n",
            "81938                            slim fit easyiron shirt   \n",
            "\n",
            "                                        feature_image_s3  channel_id  \\\n",
            "128    https://assets.stylumia.com/originals/2024/11/...         401   \n",
            "129    https://assets.stylumia.com/originals/2024/11/...         401   \n",
            "130    https://assets.stylumia.com/originals/2024/11/...         401   \n",
            "131    https://assets.stylumia.com/originals/2024/11/...         401   \n",
            "132    https://assets.stylumia.com/originals/2024/11/...         401   \n",
            "...                                                  ...         ...   \n",
            "81880  https://assets.stylumia.com/originals/2024/09/...         161   \n",
            "81881  https://assets.stylumia.com/originals/2024/09/...         161   \n",
            "81934  https://assets.stylumia.com/originals/2024/07/...         161   \n",
            "81936  https://assets.stylumia.com/originals/2024/07/...         161   \n",
            "81938  https://assets.stylumia.com/originals/2024/07/...         161   \n",
            "\n",
            "                                        style_attributes category_name  \\\n",
            "128      {'Supplier Information': 'Lucknowi chikan hub'}        Kurtis   \n",
            "129    {'Supplier Information': 'NR FASHION COLLECTION'}        Kurtis   \n",
            "130                {'Supplier Information': 'Pooja fab'}        Kurtis   \n",
            "131                      {'Supplier Information': '2X2'}        Kurtis   \n",
            "132                {'Supplier Information': 'RAAMRATAN'}        Kurtis   \n",
            "...                                                  ...           ...   \n",
            "81880  {'Fit': 'Slim fit', 'Care instructions': 'Only...        Shirts   \n",
            "81881  {'Fit': 'Slim fit', 'Care instructions': 'Only...        Shirts   \n",
            "81934  {'Fit': 'Regular fit', 'Care instructions': 'O...        Shirts   \n",
            "81936  {'Fit': 'Regular fit', 'Care instructions': 'O...        Shirts   \n",
            "81938  {'Fit': 'Slim fit', 'Care instructions': 'Only...        Shirts   \n",
            "\n",
            "      Retailer_name                                distilbert_features  \\\n",
            "128       Meesho IN  [-0.014163456857204437, -0.3960501253604889, -...   \n",
            "129       Meesho IN  [0.04089677333831787, -0.421761691570282, 0.02...   \n",
            "130       Meesho IN  [-0.00793352723121643, -0.4312613308429718, -0...   \n",
            "131       Meesho IN  [-0.19576658308506012, -0.2544068992137909, -0...   \n",
            "132       Meesho IN  [-0.11923646181821823, -0.2300240397453308, -0...   \n",
            "...             ...                                                ...   \n",
            "81880        H&M US  [-0.09814992547035217, -0.3917207717895508, -0...   \n",
            "81881        H&M US  [-0.10057622194290161, -0.39345094561576843, -...   \n",
            "81934        H&M US  [-0.24552008509635925, -0.28872525691986084, -...   \n",
            "81936        H&M US  [-0.25822514295578003, -0.29080718755722046, -...   \n",
            "81938        H&M US  [-0.17756465077400208, -0.2675389051437378, -0...   \n",
            "\n",
            "      image_features  \n",
            "128               []  \n",
            "129               []  \n",
            "130               []  \n",
            "131               []  \n",
            "132               []  \n",
            "...              ...  \n",
            "81880             []  \n",
            "81881             []  \n",
            "81934             []  \n",
            "81936             []  \n",
            "81938             []  \n",
            "\n",
            "[1159 rows x 17 columns]\n"
          ]
        }
      ]
    },
    {
      "cell_type": "code",
      "source": [],
      "metadata": {
        "id": "pgYMThTHsZOW"
      },
      "execution_count": null,
      "outputs": []
    }
  ]
}